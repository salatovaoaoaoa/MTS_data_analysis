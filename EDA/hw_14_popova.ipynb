{
 "cells": [
  {
   "cell_type": "code",
   "execution_count": 1,
   "id": "6b984403",
   "metadata": {},
   "outputs": [
    {
     "data": {
      "application/javascript": "IPython.notebook.set_autosave_interval(60000)"
     },
     "metadata": {},
     "output_type": "display_data"
    },
    {
     "name": "stdout",
     "output_type": "stream",
     "text": [
      "Autosaving every 60 seconds\n"
     ]
    }
   ],
   "source": [
    "%autosave 60"
   ]
  },
  {
   "cell_type": "markdown",
   "id": "8cef55d3",
   "metadata": {},
   "source": [
    "# Домашнее задание EDA | МТС Тета\n",
    "-----\n",
    "- Нужно провести EDA любого датасета на ваше усмотрение в специально подготовленном ipynb\n",
    "- В этом ноутбуке будут блоки под разные типы графиков\n",
    "- Нужно выбрать такой датасет, который позволит построить каждый из этих графиков корректно\n",
    "- В ноутбуке так же будет дополнительное поле для графика на ваш выбор. В нем должен быть график, который не был построен ранее в ноутбуке (другой тип графика)\n",
    "- Ноутбук должен отбегать в режиме run all, а так же сохранять все изображения шаблонным образом, как заложено в ноутбуке\n",
    "- Для каждого графика должны быть написаны выводы\n",
    "- __Вместе с ноутбуком нужно сдать сохраненные изображения (проверьте корректность их сохранения перед отправкой ДЗ)__\n",
    "- изображения должны быть в формате png или jpeg. Не сохраняйте изображения в html (так делает plotly)\n",
    "____\n",
    "**Критерии оценки**\n",
    "- Вы построили все основные графики без критических ошибок – 8 баллов\n",
    "- Вы выполнили пункт 1, а так же построили дополнительный график - 10 баллов\n",
    "- Доп. баллы выставляются за победу в tinder игре – подробности будут позже. Но чтобы в ней победить, ваш график должен оказаться самым красивым. \n",
    "- Доп. Баллы получат топ 10 человек итогового рейтинга. \n",
    "---\n",
    "- Максимум 10 баллов (и +5 дополнительных)\n",
    "- 1-4 балла: незачет\n",
    "- 5-6 баллов: 3, незачет\n",
    "- 7-8 баллов: 4, зачет\n",
    "- 9-10 баллов: 5, зачет"
   ]
  },
  {
   "cell_type": "markdown",
   "id": "314efbe6",
   "metadata": {},
   "source": [
    "kde plot"
   ]
  },
  {
   "cell_type": "markdown",
   "id": "309f3bec",
   "metadata": {},
   "source": [
    "## подготовка"
   ]
  },
  {
   "cell_type": "code",
   "execution_count": 2,
   "id": "c63c8fa2",
   "metadata": {},
   "outputs": [],
   "source": [
    "import os\n",
    "import pandas as pd\n",
    "import kaggle\n",
    "import plotly.express as px\n",
    "import plotly.graph_objects as go\n",
    "import plotly.figure_factory as ff"
   ]
  },
  {
   "cell_type": "code",
   "execution_count": 3,
   "id": "a718aaba",
   "metadata": {},
   "outputs": [],
   "source": [
    "# подставьте ваше имя и фамилию в эту переменную как в примере, (например Максим_Шаланкин)\n",
    "image_name_prefix = 'Татьяна_Попова'\n",
    "\n",
    "# можно поменять, а можно оставить - сюда будут сохраняться изображения\n",
    "path_to_save_images = 'im'"
   ]
  },
  {
   "cell_type": "code",
   "execution_count": 4,
   "id": "b29731b8",
   "metadata": {},
   "outputs": [],
   "source": [
    "os.makedirs(path_to_save_images, exist_ok=True)"
   ]
  },
  {
   "cell_type": "code",
   "execution_count": null,
   "id": "024396c4",
   "metadata": {},
   "outputs": [
    {
     "ename": "NameError",
     "evalue": "name 'kaggle' is not defined",
     "output_type": "error",
     "traceback": [
      "\u001b[0;31m---------------------------------------------------------------------------\u001b[0m",
      "\u001b[0;31mNameError\u001b[0m                                 Traceback (most recent call last)",
      "Cell \u001b[0;32mIn[1], line 2\u001b[0m\n\u001b[1;32m      1\u001b[0m \u001b[38;5;66;03m# Скачивание датасета\u001b[39;00m\n\u001b[0;32m----> 2\u001b[0m \u001b[43mkaggle\u001b[49m\u001b[38;5;241m.\u001b[39mapi\u001b[38;5;241m.\u001b[39mdataset_download_files(\u001b[38;5;124m'\u001b[39m\u001b[38;5;124matharvasoundankar/chocolate-sales\u001b[39m\u001b[38;5;124m'\u001b[39m, path\u001b[38;5;241m=\u001b[39m\u001b[38;5;124m'\u001b[39m\u001b[38;5;124madidas_sales_data\u001b[39m\u001b[38;5;124m'\u001b[39m, unzip\u001b[38;5;241m=\u001b[39m\u001b[38;5;28;01mTrue\u001b[39;00m)\n",
      "\u001b[0;31mNameError\u001b[0m: name 'kaggle' is not defined"
     ]
    }
   ],
   "source": [
    "# Скачивание датасета\n",
    "kaggle.api.dataset_download_files('atharvasoundankar/chocolate-sales', path='chocolate_sales_data', unzip=True)"
   ]
  },
  {
   "cell_type": "code",
   "execution_count": 6,
   "id": "8e15295d",
   "metadata": {},
   "outputs": [],
   "source": [
    "data_path = '/Users/tatianasalamatova/reps/MTS_data_analysis/EDA/chocolate_sales_data/Chocolate Sales.csv'\n",
    "\n",
    "# Чтение данных в DataFrame\n",
    "data = pd.read_csv(data_path)"
   ]
  },
  {
   "cell_type": "code",
   "execution_count": 7,
   "id": "5a67c122",
   "metadata": {},
   "outputs": [],
   "source": [
    "# приведу колонки к нужному формату\n",
    "data['Amount'] = data['Amount'].replace({'\\\\$': '', ',': '', ' ': ''}, regex=True).astype(float)\n",
    "data['Date'] = pd.to_datetime(data['Date'], format='%d-%b-%y')\n",
    "\n",
    "# сгруппирую данные по стране и дате, суммирую по Amount\n",
    "df_grouped = data.groupby(['Date', 'Country'])['Amount'].sum().reset_index()\n",
    "\n",
    "# добавила кумулятивную сумму для каждой страны\n",
    "df_grouped['Cumamount'] = df_grouped.groupby('Country')['Amount'].cumsum()"
   ]
  },
  {
   "cell_type": "markdown",
   "id": "e0420da5",
   "metadata": {},
   "source": [
    "# Основные характеристики данных"
   ]
  },
  {
   "cell_type": "code",
   "execution_count": 8,
   "id": "b1b527fe",
   "metadata": {},
   "outputs": [
    {
     "data": {
      "text/html": [
       "<div>\n",
       "<style scoped>\n",
       "    .dataframe tbody tr th:only-of-type {\n",
       "        vertical-align: middle;\n",
       "    }\n",
       "\n",
       "    .dataframe tbody tr th {\n",
       "        vertical-align: top;\n",
       "    }\n",
       "\n",
       "    .dataframe thead th {\n",
       "        text-align: right;\n",
       "    }\n",
       "</style>\n",
       "<table border=\"1\" class=\"dataframe\">\n",
       "  <thead>\n",
       "    <tr style=\"text-align: right;\">\n",
       "      <th></th>\n",
       "      <th>Sales Person</th>\n",
       "      <th>Country</th>\n",
       "      <th>Product</th>\n",
       "      <th>Date</th>\n",
       "      <th>Amount</th>\n",
       "      <th>Boxes Shipped</th>\n",
       "    </tr>\n",
       "  </thead>\n",
       "  <tbody>\n",
       "    <tr>\n",
       "      <th>0</th>\n",
       "      <td>Jehu Rudeforth</td>\n",
       "      <td>UK</td>\n",
       "      <td>Mint Chip Choco</td>\n",
       "      <td>2022-01-04</td>\n",
       "      <td>5320.0</td>\n",
       "      <td>180</td>\n",
       "    </tr>\n",
       "    <tr>\n",
       "      <th>1</th>\n",
       "      <td>Van Tuxwell</td>\n",
       "      <td>India</td>\n",
       "      <td>85% Dark Bars</td>\n",
       "      <td>2022-08-01</td>\n",
       "      <td>7896.0</td>\n",
       "      <td>94</td>\n",
       "    </tr>\n",
       "    <tr>\n",
       "      <th>2</th>\n",
       "      <td>Gigi Bohling</td>\n",
       "      <td>India</td>\n",
       "      <td>Peanut Butter Cubes</td>\n",
       "      <td>2022-07-07</td>\n",
       "      <td>4501.0</td>\n",
       "      <td>91</td>\n",
       "    </tr>\n",
       "    <tr>\n",
       "      <th>3</th>\n",
       "      <td>Jan Morforth</td>\n",
       "      <td>Australia</td>\n",
       "      <td>Peanut Butter Cubes</td>\n",
       "      <td>2022-04-27</td>\n",
       "      <td>12726.0</td>\n",
       "      <td>342</td>\n",
       "    </tr>\n",
       "    <tr>\n",
       "      <th>4</th>\n",
       "      <td>Jehu Rudeforth</td>\n",
       "      <td>UK</td>\n",
       "      <td>Peanut Butter Cubes</td>\n",
       "      <td>2022-02-24</td>\n",
       "      <td>13685.0</td>\n",
       "      <td>184</td>\n",
       "    </tr>\n",
       "  </tbody>\n",
       "</table>\n",
       "</div>"
      ],
      "text/plain": [
       "     Sales Person    Country              Product       Date   Amount  \\\n",
       "0  Jehu Rudeforth         UK      Mint Chip Choco 2022-01-04   5320.0   \n",
       "1     Van Tuxwell      India        85% Dark Bars 2022-08-01   7896.0   \n",
       "2    Gigi Bohling      India  Peanut Butter Cubes 2022-07-07   4501.0   \n",
       "3    Jan Morforth  Australia  Peanut Butter Cubes 2022-04-27  12726.0   \n",
       "4  Jehu Rudeforth         UK  Peanut Butter Cubes 2022-02-24  13685.0   \n",
       "\n",
       "   Boxes Shipped  \n",
       "0            180  \n",
       "1             94  \n",
       "2             91  \n",
       "3            342  \n",
       "4            184  "
      ]
     },
     "execution_count": 8,
     "metadata": {},
     "output_type": "execute_result"
    }
   ],
   "source": [
    "data.head()"
   ]
  },
  {
   "cell_type": "code",
   "execution_count": 9,
   "id": "4297140b",
   "metadata": {},
   "outputs": [
    {
     "data": {
      "text/html": [
       "<div>\n",
       "<style scoped>\n",
       "    .dataframe tbody tr th:only-of-type {\n",
       "        vertical-align: middle;\n",
       "    }\n",
       "\n",
       "    .dataframe tbody tr th {\n",
       "        vertical-align: top;\n",
       "    }\n",
       "\n",
       "    .dataframe thead th {\n",
       "        text-align: right;\n",
       "    }\n",
       "</style>\n",
       "<table border=\"1\" class=\"dataframe\">\n",
       "  <thead>\n",
       "    <tr style=\"text-align: right;\">\n",
       "      <th></th>\n",
       "      <th>Date</th>\n",
       "      <th>Amount</th>\n",
       "      <th>Boxes Shipped</th>\n",
       "    </tr>\n",
       "  </thead>\n",
       "  <tbody>\n",
       "    <tr>\n",
       "      <th>count</th>\n",
       "      <td>1094</td>\n",
       "      <td>1094.000000</td>\n",
       "      <td>1094.000000</td>\n",
       "    </tr>\n",
       "    <tr>\n",
       "      <th>mean</th>\n",
       "      <td>2022-05-03 09:04:56.160877568</td>\n",
       "      <td>5652.308044</td>\n",
       "      <td>161.797989</td>\n",
       "    </tr>\n",
       "    <tr>\n",
       "      <th>min</th>\n",
       "      <td>2022-01-03 00:00:00</td>\n",
       "      <td>7.000000</td>\n",
       "      <td>1.000000</td>\n",
       "    </tr>\n",
       "    <tr>\n",
       "      <th>25%</th>\n",
       "      <td>2022-03-02 00:00:00</td>\n",
       "      <td>2390.500000</td>\n",
       "      <td>70.000000</td>\n",
       "    </tr>\n",
       "    <tr>\n",
       "      <th>50%</th>\n",
       "      <td>2022-05-11 00:00:00</td>\n",
       "      <td>4868.500000</td>\n",
       "      <td>135.000000</td>\n",
       "    </tr>\n",
       "    <tr>\n",
       "      <th>75%</th>\n",
       "      <td>2022-07-04 00:00:00</td>\n",
       "      <td>8027.250000</td>\n",
       "      <td>228.750000</td>\n",
       "    </tr>\n",
       "    <tr>\n",
       "      <th>max</th>\n",
       "      <td>2022-08-31 00:00:00</td>\n",
       "      <td>22050.000000</td>\n",
       "      <td>709.000000</td>\n",
       "    </tr>\n",
       "    <tr>\n",
       "      <th>std</th>\n",
       "      <td>NaN</td>\n",
       "      <td>4102.442014</td>\n",
       "      <td>121.544145</td>\n",
       "    </tr>\n",
       "  </tbody>\n",
       "</table>\n",
       "</div>"
      ],
      "text/plain": [
       "                                Date        Amount  Boxes Shipped\n",
       "count                           1094   1094.000000    1094.000000\n",
       "mean   2022-05-03 09:04:56.160877568   5652.308044     161.797989\n",
       "min              2022-01-03 00:00:00      7.000000       1.000000\n",
       "25%              2022-03-02 00:00:00   2390.500000      70.000000\n",
       "50%              2022-05-11 00:00:00   4868.500000     135.000000\n",
       "75%              2022-07-04 00:00:00   8027.250000     228.750000\n",
       "max              2022-08-31 00:00:00  22050.000000     709.000000\n",
       "std                              NaN   4102.442014     121.544145"
      ]
     },
     "execution_count": 9,
     "metadata": {},
     "output_type": "execute_result"
    }
   ],
   "source": [
    "data.describe()"
   ]
  },
  {
   "cell_type": "code",
   "execution_count": 10,
   "id": "46617bdc",
   "metadata": {},
   "outputs": [
    {
     "name": "stdout",
     "output_type": "stream",
     "text": [
      "<class 'pandas.core.frame.DataFrame'>\n",
      "RangeIndex: 1094 entries, 0 to 1093\n",
      "Data columns (total 6 columns):\n",
      " #   Column         Non-Null Count  Dtype         \n",
      "---  ------         --------------  -----         \n",
      " 0   Sales Person   1094 non-null   object        \n",
      " 1   Country        1094 non-null   object        \n",
      " 2   Product        1094 non-null   object        \n",
      " 3   Date           1094 non-null   datetime64[ns]\n",
      " 4   Amount         1094 non-null   float64       \n",
      " 5   Boxes Shipped  1094 non-null   int64         \n",
      "dtypes: datetime64[ns](1), float64(1), int64(1), object(3)\n",
      "memory usage: 51.4+ KB\n"
     ]
    }
   ],
   "source": [
    "data.info()"
   ]
  },
  {
   "cell_type": "code",
   "execution_count": 11,
   "id": "ff77e140",
   "metadata": {},
   "outputs": [
    {
     "data": {
      "application/vnd.plotly.v1+json": {
       "config": {
        "plotlyServerURL": "https://plot.ly"
       },
       "data": [
        {
         "hovertemplate": "Country=Australia<br>Date=%{x}<br>Cumamount=%{y}<extra></extra>",
         "legendgroup": "Australia",
         "line": {
          "color": "#636efa",
          "dash": "solid",
          "shape": "spline",
          "width": 3
         },
         "marker": {
          "symbol": "circle"
         },
         "mode": "lines",
         "name": "Australia",
         "orientation": "v",
         "showlegend": true,
         "type": "scatter",
         "x": [
          "2022-01-03T00:00:00.000000000",
          "2022-01-04T00:00:00.000000000",
          "2022-01-05T00:00:00.000000000",
          "2022-01-07T00:00:00.000000000",
          "2022-01-10T00:00:00.000000000",
          "2022-01-11T00:00:00.000000000",
          "2022-01-12T00:00:00.000000000",
          "2022-01-13T00:00:00.000000000",
          "2022-01-14T00:00:00.000000000",
          "2022-01-17T00:00:00.000000000",
          "2022-01-18T00:00:00.000000000",
          "2022-01-19T00:00:00.000000000",
          "2022-01-25T00:00:00.000000000",
          "2022-01-26T00:00:00.000000000",
          "2022-01-28T00:00:00.000000000",
          "2022-01-31T00:00:00.000000000",
          "2022-02-07T00:00:00.000000000",
          "2022-02-08T00:00:00.000000000",
          "2022-02-10T00:00:00.000000000",
          "2022-02-11T00:00:00.000000000",
          "2022-02-14T00:00:00.000000000",
          "2022-02-15T00:00:00.000000000",
          "2022-02-17T00:00:00.000000000",
          "2022-02-18T00:00:00.000000000",
          "2022-02-21T00:00:00.000000000",
          "2022-02-22T00:00:00.000000000",
          "2022-02-24T00:00:00.000000000",
          "2022-02-25T00:00:00.000000000",
          "2022-02-28T00:00:00.000000000",
          "2022-03-02T00:00:00.000000000",
          "2022-03-03T00:00:00.000000000",
          "2022-03-04T00:00:00.000000000",
          "2022-03-07T00:00:00.000000000",
          "2022-03-09T00:00:00.000000000",
          "2022-03-14T00:00:00.000000000",
          "2022-03-15T00:00:00.000000000",
          "2022-03-17T00:00:00.000000000",
          "2022-03-18T00:00:00.000000000",
          "2022-03-21T00:00:00.000000000",
          "2022-03-22T00:00:00.000000000",
          "2022-03-23T00:00:00.000000000",
          "2022-03-24T00:00:00.000000000",
          "2022-03-25T00:00:00.000000000",
          "2022-03-30T00:00:00.000000000",
          "2022-04-01T00:00:00.000000000",
          "2022-04-05T00:00:00.000000000",
          "2022-04-06T00:00:00.000000000",
          "2022-04-08T00:00:00.000000000",
          "2022-04-12T00:00:00.000000000",
          "2022-04-13T00:00:00.000000000",
          "2022-04-14T00:00:00.000000000",
          "2022-04-15T00:00:00.000000000",
          "2022-04-20T00:00:00.000000000",
          "2022-04-22T00:00:00.000000000",
          "2022-04-25T00:00:00.000000000",
          "2022-04-26T00:00:00.000000000",
          "2022-04-27T00:00:00.000000000",
          "2022-04-29T00:00:00.000000000",
          "2022-05-02T00:00:00.000000000",
          "2022-05-04T00:00:00.000000000",
          "2022-05-05T00:00:00.000000000",
          "2022-05-06T00:00:00.000000000",
          "2022-05-09T00:00:00.000000000",
          "2022-05-10T00:00:00.000000000",
          "2022-05-11T00:00:00.000000000",
          "2022-05-12T00:00:00.000000000",
          "2022-05-13T00:00:00.000000000",
          "2022-05-16T00:00:00.000000000",
          "2022-05-17T00:00:00.000000000",
          "2022-05-19T00:00:00.000000000",
          "2022-05-25T00:00:00.000000000",
          "2022-05-27T00:00:00.000000000",
          "2022-05-30T00:00:00.000000000",
          "2022-06-02T00:00:00.000000000",
          "2022-06-06T00:00:00.000000000",
          "2022-06-07T00:00:00.000000000",
          "2022-06-09T00:00:00.000000000",
          "2022-06-14T00:00:00.000000000",
          "2022-06-15T00:00:00.000000000",
          "2022-06-16T00:00:00.000000000",
          "2022-06-20T00:00:00.000000000",
          "2022-06-21T00:00:00.000000000",
          "2022-06-23T00:00:00.000000000",
          "2022-06-24T00:00:00.000000000",
          "2022-06-27T00:00:00.000000000",
          "2022-06-28T00:00:00.000000000",
          "2022-06-29T00:00:00.000000000",
          "2022-06-30T00:00:00.000000000",
          "2022-07-04T00:00:00.000000000",
          "2022-07-05T00:00:00.000000000",
          "2022-07-07T00:00:00.000000000",
          "2022-07-08T00:00:00.000000000",
          "2022-07-12T00:00:00.000000000",
          "2022-07-13T00:00:00.000000000",
          "2022-07-15T00:00:00.000000000",
          "2022-07-19T00:00:00.000000000",
          "2022-07-25T00:00:00.000000000",
          "2022-07-27T00:00:00.000000000",
          "2022-07-28T00:00:00.000000000",
          "2022-07-29T00:00:00.000000000",
          "2022-08-01T00:00:00.000000000",
          "2022-08-02T00:00:00.000000000",
          "2022-08-03T00:00:00.000000000",
          "2022-08-04T00:00:00.000000000",
          "2022-08-09T00:00:00.000000000",
          "2022-08-10T00:00:00.000000000",
          "2022-08-11T00:00:00.000000000",
          "2022-08-17T00:00:00.000000000",
          "2022-08-18T00:00:00.000000000",
          "2022-08-19T00:00:00.000000000",
          "2022-08-22T00:00:00.000000000",
          "2022-08-23T00:00:00.000000000",
          "2022-08-24T00:00:00.000000000",
          "2022-08-25T00:00:00.000000000",
          "2022-08-26T00:00:00.000000000"
         ],
         "xaxis": "x",
         "y": {
          "bdata": "AAAAAABCrUAAAAAAwA3SQAAAAADAr95AAAAAAEDA4kAAAAAAIDPmQAAAAADg9exAAAAAAIDX70AAAAAAQDfzQAAAAADgr/VAAAAAAKB9+0AAAAAAcKH8QAAAAACwUf5AAAAAADj3AUEAAAAA0JAFQQAAAACIiQZBAAAAALjfBkEAAAAA0JYHQQAAAACwhQhBAAAAAECPCUEAAAAAMBEKQQAAAAAorAxBAAAAALhoDUEAAAAAUIkNQQAAAAB44Q1BAAAAACQ8EEEAAAAApI8RQQAAAAA8CxJBAAAAABSvEkEAAAAA9CYTQQAAAAAMYxRBAAAAAMTWFEEAAAAAXCgVQQAAAACcfRZBAAAAAJSGFkEAAAAAoH8XQQAAAACE7xdBAAAAAOACGEEAAAAARIAZQQAAAADM6hlBAAAAANQZGkEAAAAAoGEbQQAAAADAkRtBAAAAAKBBHEEAAAAA0D8dQQAAAACssR1BAAAAAIDpHkEAAAAAPPMeQQAAAAAclR9BAAAAADYDIEEAAAAAEBAgQQAAAADsHyBBAAAAAFpxIEEAAAAAhqUgQQAAAAC8sCBBAAAAAEwLIUEAAAAARmQhQQAAAACyxyFBAAAAAMpNIkEAAAAAHHwiQQAAAAAshiJBAAAAAEa7IkEAAAAA6MAiQQAAAACG8SJBAAAAAKQeI0EAAAAAnOsjQQAAAAAOZiRBAAAAAG5xJEEAAAAAjLMkQQAAAADGJiVBAAAAAFJDJUEAAAAAGHElQQAAAAB60yVBAAAAAJoYJkEAAAAARjsmQQAAAABEfiZBAAAAALyfJkEAAAAAxA0nQQAAAABYKCdBAAAAAGJaJ0EAAAAAsGYnQQAAAADW7CdBAAAAAMYoKEEAAAAAUI8oQQAAAACG4ChBAAAAANYnKUEAAAAA/pQpQQAAAABswylBAAAAAAiLKkEAAAAArkwrQQAAAAB48CtBAAAAABb+K0EAAAAAZJYsQQAAAAAQnSxBAAAAAKAhLUEAAAAA7kItQQAAAACkQy1BAAAAABB9LUEAAAAAPEsuQQAAAAB8Xi5BAAAAAByLLkEAAAAAiB8vQQAAAADOZS9BAAAAAITWL0EAAAAAdO8vQQAAAAAG8i9BAAAAAABFMEEAAAAAPk4wQQAAAADMUTBBAAAAADh2MEEAAAAAjrEwQQAAAACn4TBBAAAAAMEPMUEAAAAAzDExQQAAAADbRDFBAAAAANdaMUE=",
          "dtype": "f8"
         },
         "yaxis": "y"
        },
        {
         "hovertemplate": "Country=Canada<br>Date=%{x}<br>Cumamount=%{y}<extra></extra>",
         "legendgroup": "Canada",
         "line": {
          "color": "#EF553B",
          "dash": "solid",
          "shape": "spline",
          "width": 3
         },
         "marker": {
          "symbol": "circle"
         },
         "mode": "lines",
         "name": "Canada",
         "orientation": "v",
         "showlegend": true,
         "type": "scatter",
         "x": [
          "2022-01-03T00:00:00.000000000",
          "2022-01-04T00:00:00.000000000",
          "2022-01-10T00:00:00.000000000",
          "2022-01-11T00:00:00.000000000",
          "2022-01-13T00:00:00.000000000",
          "2022-01-14T00:00:00.000000000",
          "2022-01-17T00:00:00.000000000",
          "2022-01-18T00:00:00.000000000",
          "2022-01-19T00:00:00.000000000",
          "2022-01-24T00:00:00.000000000",
          "2022-01-25T00:00:00.000000000",
          "2022-01-28T00:00:00.000000000",
          "2022-01-31T00:00:00.000000000",
          "2022-02-01T00:00:00.000000000",
          "2022-02-03T00:00:00.000000000",
          "2022-02-08T00:00:00.000000000",
          "2022-02-09T00:00:00.000000000",
          "2022-02-10T00:00:00.000000000",
          "2022-02-14T00:00:00.000000000",
          "2022-02-16T00:00:00.000000000",
          "2022-02-17T00:00:00.000000000",
          "2022-02-21T00:00:00.000000000",
          "2022-02-22T00:00:00.000000000",
          "2022-02-23T00:00:00.000000000",
          "2022-02-24T00:00:00.000000000",
          "2022-02-28T00:00:00.000000000",
          "2022-03-02T00:00:00.000000000",
          "2022-03-03T00:00:00.000000000",
          "2022-03-04T00:00:00.000000000",
          "2022-03-07T00:00:00.000000000",
          "2022-03-08T00:00:00.000000000",
          "2022-03-10T00:00:00.000000000",
          "2022-03-15T00:00:00.000000000",
          "2022-03-16T00:00:00.000000000",
          "2022-03-17T00:00:00.000000000",
          "2022-03-21T00:00:00.000000000",
          "2022-03-22T00:00:00.000000000",
          "2022-03-23T00:00:00.000000000",
          "2022-03-24T00:00:00.000000000",
          "2022-03-29T00:00:00.000000000",
          "2022-04-01T00:00:00.000000000",
          "2022-04-04T00:00:00.000000000",
          "2022-04-05T00:00:00.000000000",
          "2022-04-06T00:00:00.000000000",
          "2022-04-08T00:00:00.000000000",
          "2022-04-13T00:00:00.000000000",
          "2022-04-18T00:00:00.000000000",
          "2022-04-20T00:00:00.000000000",
          "2022-04-22T00:00:00.000000000",
          "2022-04-26T00:00:00.000000000",
          "2022-04-27T00:00:00.000000000",
          "2022-05-02T00:00:00.000000000",
          "2022-05-06T00:00:00.000000000",
          "2022-05-09T00:00:00.000000000",
          "2022-05-10T00:00:00.000000000",
          "2022-05-11T00:00:00.000000000",
          "2022-05-12T00:00:00.000000000",
          "2022-05-13T00:00:00.000000000",
          "2022-05-17T00:00:00.000000000",
          "2022-05-18T00:00:00.000000000",
          "2022-05-19T00:00:00.000000000",
          "2022-05-26T00:00:00.000000000",
          "2022-06-02T00:00:00.000000000",
          "2022-06-07T00:00:00.000000000",
          "2022-06-10T00:00:00.000000000",
          "2022-06-14T00:00:00.000000000",
          "2022-06-15T00:00:00.000000000",
          "2022-06-16T00:00:00.000000000",
          "2022-06-20T00:00:00.000000000",
          "2022-06-23T00:00:00.000000000",
          "2022-06-24T00:00:00.000000000",
          "2022-06-27T00:00:00.000000000",
          "2022-06-30T00:00:00.000000000",
          "2022-07-01T00:00:00.000000000",
          "2022-07-04T00:00:00.000000000",
          "2022-07-05T00:00:00.000000000",
          "2022-07-06T00:00:00.000000000",
          "2022-07-07T00:00:00.000000000",
          "2022-07-08T00:00:00.000000000",
          "2022-07-11T00:00:00.000000000",
          "2022-07-12T00:00:00.000000000",
          "2022-07-13T00:00:00.000000000",
          "2022-07-15T00:00:00.000000000",
          "2022-07-19T00:00:00.000000000",
          "2022-07-20T00:00:00.000000000",
          "2022-07-21T00:00:00.000000000",
          "2022-07-25T00:00:00.000000000",
          "2022-07-26T00:00:00.000000000",
          "2022-07-27T00:00:00.000000000",
          "2022-07-28T00:00:00.000000000",
          "2022-08-01T00:00:00.000000000",
          "2022-08-02T00:00:00.000000000",
          "2022-08-03T00:00:00.000000000",
          "2022-08-04T00:00:00.000000000",
          "2022-08-05T00:00:00.000000000",
          "2022-08-08T00:00:00.000000000",
          "2022-08-09T00:00:00.000000000",
          "2022-08-10T00:00:00.000000000",
          "2022-08-11T00:00:00.000000000",
          "2022-08-12T00:00:00.000000000",
          "2022-08-15T00:00:00.000000000",
          "2022-08-18T00:00:00.000000000",
          "2022-08-19T00:00:00.000000000",
          "2022-08-22T00:00:00.000000000",
          "2022-08-24T00:00:00.000000000",
          "2022-08-25T00:00:00.000000000"
         ],
         "xaxis": "x",
         "y": {
          "bdata": "AAAAAADdxEAAAAAAgGXVQAAAAAAAzt1AAAAAAOB35UAAAAAAYCzyQAAAAABgS/NAAAAAACBC9EAAAAAAcMD2QAAAAADA3/lAAAAAALCK/EAAAAAA4Kv9QAAAAACYqwBBAAAAAOiTAUEAAAAAEMwCQQAAAADYIgRBAAAAAPhuBEEAAAAAOKEFQQAAAACYAAZBAAAAANj5CEEAAAAA4O8KQQAAAAA4DQ5BAAAAAFDuDkEAAAAACAcPQQAAAADoMQ9BAAAAAJgfEEEAAAAA1P4QQQAAAAC8ghFBAAAAAJR6EkEAAAAA+IATQQAAAABMKRRBAAAAAMjxFEEAAAAAnAMVQQAAAAC4ChVBAAAAAPCkFUEAAAAAoFIWQQAAAACE5RZBAAAAABTsFkEAAAAA+CMXQQAAAAD8SBhBAAAAANjkGEEAAAAAePUYQQAAAAD8NhlBAAAAAGycGkEAAAAAcLcaQQAAAADw5xtBAAAAAKQyHEEAAAAAGJQcQQAAAADE4BxBAAAAADyVHUEAAAAArM0dQQAAAACAVh5BAAAAAOB9HkEAAAAAJIkeQQAAAABQkx5BAAAAAJgbH0EAAAAAKJkfQQAAAABqWCBBAAAAAOCEIEEAAAAA0LkgQQAAAAC6VSFBAAAAAAasIUEAAAAACMQhQQAAAAD0IyJBAAAAAG6VIkEAAAAARrsiQQAAAABS/iJBAAAAAJokI0EAAAAA8jgjQQAAAABmPyNBAAAAAJxtI0EAAAAAKhkkQQAAAABEMiRBAAAAAKhtJEEAAAAAQKokQQAAAAAyISVBAAAAAOylJUEAAAAApsElQQAAAAAaoSZBAAAAACCqJkEAAAAAmC0nQQAAAADQeidBAAAAANiiJ0EAAAAAbBgoQQAAAAD+ZyhBAAAAAAKDKEEAAAAA9qgoQQAAAACG7ihBAAAAAALzKEEAAAAA6j4pQQAAAAAkSSlBAAAAAL4GKkEAAAAAuIIqQQAAAACupCpBAAAAAB66KkEAAAAAvOMqQQAAAACW/ipBAAAAALo0K0EAAAAAeEgrQQAAAADwhStBAAAAAGrNK0EAAAAAkA0sQQAAAABWOyxBAAAAACpNLEEAAAAA1sosQQAAAAASSC1BAAAAAKZiLUE=",
          "dtype": "f8"
         },
         "yaxis": "y"
        },
        {
         "hovertemplate": "Country=UK<br>Date=%{x}<br>Cumamount=%{y}<extra></extra>",
         "legendgroup": "UK",
         "line": {
          "color": "#00cc96",
          "dash": "solid",
          "shape": "spline",
          "width": 3
         },
         "marker": {
          "symbol": "circle"
         },
         "mode": "lines",
         "name": "UK",
         "orientation": "v",
         "showlegend": true,
         "type": "scatter",
         "x": [
          "2022-01-03T00:00:00.000000000",
          "2022-01-04T00:00:00.000000000",
          "2022-01-05T00:00:00.000000000",
          "2022-01-10T00:00:00.000000000",
          "2022-01-12T00:00:00.000000000",
          "2022-01-13T00:00:00.000000000",
          "2022-01-14T00:00:00.000000000",
          "2022-01-17T00:00:00.000000000",
          "2022-01-19T00:00:00.000000000",
          "2022-01-21T00:00:00.000000000",
          "2022-01-25T00:00:00.000000000",
          "2022-01-26T00:00:00.000000000",
          "2022-01-27T00:00:00.000000000",
          "2022-01-28T00:00:00.000000000",
          "2022-01-31T00:00:00.000000000",
          "2022-02-01T00:00:00.000000000",
          "2022-02-03T00:00:00.000000000",
          "2022-02-07T00:00:00.000000000",
          "2022-02-09T00:00:00.000000000",
          "2022-02-11T00:00:00.000000000",
          "2022-02-16T00:00:00.000000000",
          "2022-02-17T00:00:00.000000000",
          "2022-02-21T00:00:00.000000000",
          "2022-02-24T00:00:00.000000000",
          "2022-03-01T00:00:00.000000000",
          "2022-03-02T00:00:00.000000000",
          "2022-03-04T00:00:00.000000000",
          "2022-03-07T00:00:00.000000000",
          "2022-03-08T00:00:00.000000000",
          "2022-03-11T00:00:00.000000000",
          "2022-03-14T00:00:00.000000000",
          "2022-03-16T00:00:00.000000000",
          "2022-03-17T00:00:00.000000000",
          "2022-03-22T00:00:00.000000000",
          "2022-03-24T00:00:00.000000000",
          "2022-03-29T00:00:00.000000000",
          "2022-03-31T00:00:00.000000000",
          "2022-04-04T00:00:00.000000000",
          "2022-04-06T00:00:00.000000000",
          "2022-04-08T00:00:00.000000000",
          "2022-04-12T00:00:00.000000000",
          "2022-04-13T00:00:00.000000000",
          "2022-04-14T00:00:00.000000000",
          "2022-04-15T00:00:00.000000000",
          "2022-04-20T00:00:00.000000000",
          "2022-04-22T00:00:00.000000000",
          "2022-04-26T00:00:00.000000000",
          "2022-04-27T00:00:00.000000000",
          "2022-04-29T00:00:00.000000000",
          "2022-05-03T00:00:00.000000000",
          "2022-05-04T00:00:00.000000000",
          "2022-05-11T00:00:00.000000000",
          "2022-05-12T00:00:00.000000000",
          "2022-05-13T00:00:00.000000000",
          "2022-05-16T00:00:00.000000000",
          "2022-05-17T00:00:00.000000000",
          "2022-05-18T00:00:00.000000000",
          "2022-05-20T00:00:00.000000000",
          "2022-05-23T00:00:00.000000000",
          "2022-05-24T00:00:00.000000000",
          "2022-05-25T00:00:00.000000000",
          "2022-05-26T00:00:00.000000000",
          "2022-05-27T00:00:00.000000000",
          "2022-05-30T00:00:00.000000000",
          "2022-05-31T00:00:00.000000000",
          "2022-06-02T00:00:00.000000000",
          "2022-06-06T00:00:00.000000000",
          "2022-06-07T00:00:00.000000000",
          "2022-06-08T00:00:00.000000000",
          "2022-06-10T00:00:00.000000000",
          "2022-06-14T00:00:00.000000000",
          "2022-06-15T00:00:00.000000000",
          "2022-06-20T00:00:00.000000000",
          "2022-06-21T00:00:00.000000000",
          "2022-06-22T00:00:00.000000000",
          "2022-06-23T00:00:00.000000000",
          "2022-06-24T00:00:00.000000000",
          "2022-06-27T00:00:00.000000000",
          "2022-06-28T00:00:00.000000000",
          "2022-06-29T00:00:00.000000000",
          "2022-06-30T00:00:00.000000000",
          "2022-07-05T00:00:00.000000000",
          "2022-07-06T00:00:00.000000000",
          "2022-07-07T00:00:00.000000000",
          "2022-07-11T00:00:00.000000000",
          "2022-07-12T00:00:00.000000000",
          "2022-07-14T00:00:00.000000000",
          "2022-07-18T00:00:00.000000000",
          "2022-07-19T00:00:00.000000000",
          "2022-07-21T00:00:00.000000000",
          "2022-07-25T00:00:00.000000000",
          "2022-07-28T00:00:00.000000000",
          "2022-08-01T00:00:00.000000000",
          "2022-08-02T00:00:00.000000000",
          "2022-08-03T00:00:00.000000000",
          "2022-08-10T00:00:00.000000000",
          "2022-08-11T00:00:00.000000000",
          "2022-08-12T00:00:00.000000000",
          "2022-08-17T00:00:00.000000000",
          "2022-08-18T00:00:00.000000000",
          "2022-08-22T00:00:00.000000000",
          "2022-08-24T00:00:00.000000000",
          "2022-08-25T00:00:00.000000000",
          "2022-08-26T00:00:00.000000000",
          "2022-08-30T00:00:00.000000000"
         ],
         "xaxis": "x",
         "y": {
          "bdata": "AAAAAEAI1kAAAAAAQDrbQAAAAAAgxeFAAAAAAADA7UAAAAAAICjwQAAAAADQcPZAAAAAAKAu+EAAAAAA0Lz4QAAAAABgL/pAAAAAAPC//kAAAAAAQI8CQQAAAAC41gNBAAAAAPDSBEEAAAAA8G8GQQAAAACYAwdBAAAAALgzB0EAAAAA2BIIQQAAAABY8glBAAAAAHBACkEAAAAAcAAMQQAAAACIbA9BAAAAAOQ9EEEAAAAA+MQQQQAAAADMmhFBAAAAAEyFEkEAAAAAYAUTQQAAAAB4QRRBAAAAAHTqFEEAAAAALB8VQQAAAABwKhVBAAAAAFxZFUEAAAAAwCAWQQAAAABwshZBAAAAACS+FkEAAAAANFsXQQAAAADc5xdBAAAAAIQLGEEAAAAAYEEZQQAAAACcjRlBAAAAAHj/GUEAAAAA+GQaQQAAAACEnRpBAAAAAHj0GkEAAAAAYHQcQQAAAABgkBxBAAAAAFRXHUEAAAAA3F8dQQAAAADgUx5BAAAAAFiDHkEAAAAA6D8fQQAAAAC0hB9BAAAAALTmH0EAAAAA9DkgQQAAAABsESFBAAAAAOh+IUEAAAAAfMohQQAAAAD05CFBAAAAAJQ0IkEAAAAAuEAiQQAAAABk2iJBAAAAAJbtIkEAAAAAeBQjQQAAAAA2LyNBAAAAAGavI0EAAAAAmPojQQAAAAB0ESRBAAAAAGS9JEEAAAAAegglQQAAAABkVyVBAAAAACqvJUEAAAAAhMYlQQAAAACCJSZBAAAAAGgvJkEAAAAA+DUmQQAAAAC2eiZBAAAAAIT6JkEAAAAA4k8nQQAAAABQoSdBAAAAAHQWKEEAAAAAzFcpQQAAAAByWCpBAAAAAMCAKkEAAAAA4MwqQQAAAAD0FCtBAAAAAKyPK0EAAAAALrkrQQAAAABEzCtBAAAAAKAeLEEAAAAAamAsQQAAAADUlixBAAAAACjBLEEAAAAADD8tQQAAAAB8Wy1BAAAAAKhzLUEAAAAA4jMuQQAAAAAufC5BAAAAAGSxLkEAAAAAYgkvQQAAAADYNS9BAAAAAFBQL0EAAAAAInsvQQAAAABKmy9BAAAAAPy/L0EAAAAAugUwQQAAAACQDDBB",
          "dtype": "f8"
         },
         "yaxis": "y"
        },
        {
         "hovertemplate": "Country=USA<br>Date=%{x}<br>Cumamount=%{y}<extra></extra>",
         "legendgroup": "USA",
         "line": {
          "color": "#ab63fa",
          "dash": "solid",
          "shape": "spline",
          "width": 3
         },
         "marker": {
          "symbol": "circle"
         },
         "mode": "lines",
         "name": "USA",
         "orientation": "v",
         "showlegend": true,
         "type": "scatter",
         "x": [
          "2022-01-03T00:00:00.000000000",
          "2022-01-04T00:00:00.000000000",
          "2022-01-12T00:00:00.000000000",
          "2022-01-13T00:00:00.000000000",
          "2022-01-14T00:00:00.000000000",
          "2022-01-18T00:00:00.000000000",
          "2022-01-21T00:00:00.000000000",
          "2022-01-26T00:00:00.000000000",
          "2022-01-27T00:00:00.000000000",
          "2022-01-28T00:00:00.000000000",
          "2022-02-01T00:00:00.000000000",
          "2022-02-03T00:00:00.000000000",
          "2022-02-07T00:00:00.000000000",
          "2022-02-11T00:00:00.000000000",
          "2022-02-14T00:00:00.000000000",
          "2022-02-15T00:00:00.000000000",
          "2022-02-16T00:00:00.000000000",
          "2022-02-17T00:00:00.000000000",
          "2022-02-21T00:00:00.000000000",
          "2022-02-23T00:00:00.000000000",
          "2022-02-25T00:00:00.000000000",
          "2022-02-28T00:00:00.000000000",
          "2022-03-02T00:00:00.000000000",
          "2022-03-04T00:00:00.000000000",
          "2022-03-07T00:00:00.000000000",
          "2022-03-09T00:00:00.000000000",
          "2022-03-10T00:00:00.000000000",
          "2022-03-11T00:00:00.000000000",
          "2022-03-15T00:00:00.000000000",
          "2022-03-18T00:00:00.000000000",
          "2022-03-21T00:00:00.000000000",
          "2022-03-22T00:00:00.000000000",
          "2022-03-23T00:00:00.000000000",
          "2022-03-24T00:00:00.000000000",
          "2022-03-28T00:00:00.000000000",
          "2022-03-29T00:00:00.000000000",
          "2022-04-05T00:00:00.000000000",
          "2022-04-08T00:00:00.000000000",
          "2022-04-12T00:00:00.000000000",
          "2022-04-13T00:00:00.000000000",
          "2022-04-14T00:00:00.000000000",
          "2022-04-15T00:00:00.000000000",
          "2022-04-18T00:00:00.000000000",
          "2022-04-19T00:00:00.000000000",
          "2022-04-25T00:00:00.000000000",
          "2022-04-28T00:00:00.000000000",
          "2022-04-29T00:00:00.000000000",
          "2022-05-02T00:00:00.000000000",
          "2022-05-03T00:00:00.000000000",
          "2022-05-04T00:00:00.000000000",
          "2022-05-05T00:00:00.000000000",
          "2022-05-09T00:00:00.000000000",
          "2022-05-10T00:00:00.000000000",
          "2022-05-11T00:00:00.000000000",
          "2022-05-12T00:00:00.000000000",
          "2022-05-16T00:00:00.000000000",
          "2022-05-19T00:00:00.000000000",
          "2022-05-20T00:00:00.000000000",
          "2022-05-23T00:00:00.000000000",
          "2022-05-24T00:00:00.000000000",
          "2022-05-25T00:00:00.000000000",
          "2022-05-30T00:00:00.000000000",
          "2022-05-31T00:00:00.000000000",
          "2022-06-02T00:00:00.000000000",
          "2022-06-06T00:00:00.000000000",
          "2022-06-07T00:00:00.000000000",
          "2022-06-09T00:00:00.000000000",
          "2022-06-10T00:00:00.000000000",
          "2022-06-13T00:00:00.000000000",
          "2022-06-14T00:00:00.000000000",
          "2022-06-15T00:00:00.000000000",
          "2022-06-16T00:00:00.000000000",
          "2022-06-20T00:00:00.000000000",
          "2022-06-22T00:00:00.000000000",
          "2022-06-23T00:00:00.000000000",
          "2022-06-27T00:00:00.000000000",
          "2022-06-29T00:00:00.000000000",
          "2022-06-30T00:00:00.000000000",
          "2022-07-04T00:00:00.000000000",
          "2022-07-05T00:00:00.000000000",
          "2022-07-07T00:00:00.000000000",
          "2022-07-11T00:00:00.000000000",
          "2022-07-13T00:00:00.000000000",
          "2022-07-15T00:00:00.000000000",
          "2022-07-18T00:00:00.000000000",
          "2022-07-21T00:00:00.000000000",
          "2022-07-22T00:00:00.000000000",
          "2022-07-25T00:00:00.000000000",
          "2022-07-26T00:00:00.000000000",
          "2022-07-27T00:00:00.000000000",
          "2022-07-28T00:00:00.000000000",
          "2022-08-03T00:00:00.000000000",
          "2022-08-08T00:00:00.000000000",
          "2022-08-09T00:00:00.000000000",
          "2022-08-10T00:00:00.000000000",
          "2022-08-11T00:00:00.000000000",
          "2022-08-12T00:00:00.000000000",
          "2022-08-15T00:00:00.000000000",
          "2022-08-16T00:00:00.000000000",
          "2022-08-18T00:00:00.000000000",
          "2022-08-22T00:00:00.000000000",
          "2022-08-23T00:00:00.000000000",
          "2022-08-24T00:00:00.000000000",
          "2022-08-25T00:00:00.000000000"
         ],
         "xaxis": "x",
         "y": {
          "bdata": "AAAAAADaqkAAAAAAAATUQAAAAAAArNRAAAAAAEAu3kAAAAAAoJbjQAAAAACgSuhAAAAAAECU7UAAAAAAgNvwQAAAAABADPVAAAAAAEBv+kAAAAAA8Or8QAAAAAAwWf1AAAAAAIgAAEEAAAAA4BMCQQAAAAC4MgJBAAAAANgbBEEAAAAAOA0HQQAAAABQywdBAAAAAHj4CUEAAAAAkCMKQQAAAACATQtBAAAAAJApDEEAAAAACMUNQQAAAABgFA9BAAAAAGgdEEEAAAAA2HgQQQAAAAC0shBBAAAAAByjEUEAAAAAoCMSQQAAAABsrhJBAAAAALCuE0EAAAAAkBEUQQAAAABAchRBAAAAAHSWFEEAAAAAUNcUQQAAAAAoCxVBAAAAAIjFFUEAAAAAVHoWQQAAAABcCxdBAAAAAEgMGEEAAAAAaPIYQQAAAAA04hpBAAAAAIgoG0EAAAAA4CocQQAAAACMNB1BAAAAAKxIHUEAAAAA4EkdQQAAAAAEzR1BAAAAABQ5HkEAAAAAlA4fQQAAAACEgh9BAAAAAPDCH0EAAAAALOUfQQAAAADcKiBBAAAAAAoDIUEAAAAAdFUhQQAAAADEhyFBAAAAANqhIUEAAAAA1OwhQQAAAADeAiJBAAAAAErkIkEAAAAAbAkjQQAAAADEaiNBAAAAADh4I0EAAAAAGsIjQQAAAADkHyRBAAAAAEI2JEEAAAAAJmckQQAAAACcdyRBAAAAAEC4JEEAAAAAAD8lQQAAAAC4QiVBAAAAAFSFJUEAAAAAGoklQQAAAABCtyVBAAAAAETrJUEAAAAAzPMlQQAAAABm9yZBAAAAAMghJ0EAAAAA1lInQQAAAAAEFihBAAAAAKQ0KEEAAAAAJFsoQQAAAACsjShBAAAAAIzwKEEAAAAAKnwpQQAAAADQISpBAAAAAJp4KkEAAAAA8q8qQQAAAACUJStBAAAAADbaK0EAAAAAwtorQQAAAAC23StBAAAAAJL7K0EAAAAA6g8sQQAAAABcmCxBAAAAAN7WLEEAAAAA2vosQQAAAACaHy1BAAAAAFQULkEAAAAArIouQQAAAACU6y5BAAAAAPg0L0EAAAAAqpgvQQ==",
          "dtype": "f8"
         },
         "yaxis": "y"
        },
        {
         "hovertemplate": "Country=India<br>Date=%{x}<br>Cumamount=%{y}<extra></extra>",
         "legendgroup": "India",
         "line": {
          "color": "#FFA15A",
          "dash": "solid",
          "shape": "spline",
          "width": 3
         },
         "marker": {
          "symbol": "circle"
         },
         "mode": "lines",
         "name": "India",
         "orientation": "v",
         "showlegend": true,
         "type": "scatter",
         "x": [
          "2022-01-04T00:00:00.000000000",
          "2022-01-05T00:00:00.000000000",
          "2022-01-07T00:00:00.000000000",
          "2022-01-10T00:00:00.000000000",
          "2022-01-12T00:00:00.000000000",
          "2022-01-13T00:00:00.000000000",
          "2022-01-17T00:00:00.000000000",
          "2022-01-18T00:00:00.000000000",
          "2022-01-24T00:00:00.000000000",
          "2022-01-26T00:00:00.000000000",
          "2022-01-27T00:00:00.000000000",
          "2022-01-28T00:00:00.000000000",
          "2022-01-31T00:00:00.000000000",
          "2022-02-01T00:00:00.000000000",
          "2022-02-07T00:00:00.000000000",
          "2022-02-09T00:00:00.000000000",
          "2022-02-11T00:00:00.000000000",
          "2022-02-14T00:00:00.000000000",
          "2022-02-16T00:00:00.000000000",
          "2022-02-22T00:00:00.000000000",
          "2022-02-23T00:00:00.000000000",
          "2022-02-24T00:00:00.000000000",
          "2022-02-25T00:00:00.000000000",
          "2022-03-02T00:00:00.000000000",
          "2022-03-03T00:00:00.000000000",
          "2022-03-07T00:00:00.000000000",
          "2022-03-08T00:00:00.000000000",
          "2022-03-11T00:00:00.000000000",
          "2022-03-14T00:00:00.000000000",
          "2022-03-15T00:00:00.000000000",
          "2022-03-16T00:00:00.000000000",
          "2022-03-18T00:00:00.000000000",
          "2022-03-22T00:00:00.000000000",
          "2022-03-23T00:00:00.000000000",
          "2022-03-30T00:00:00.000000000",
          "2022-04-04T00:00:00.000000000",
          "2022-04-05T00:00:00.000000000",
          "2022-04-11T00:00:00.000000000",
          "2022-04-12T00:00:00.000000000",
          "2022-04-13T00:00:00.000000000",
          "2022-04-14T00:00:00.000000000",
          "2022-04-15T00:00:00.000000000",
          "2022-04-19T00:00:00.000000000",
          "2022-04-21T00:00:00.000000000",
          "2022-04-29T00:00:00.000000000",
          "2022-05-02T00:00:00.000000000",
          "2022-05-04T00:00:00.000000000",
          "2022-05-06T00:00:00.000000000",
          "2022-05-09T00:00:00.000000000",
          "2022-05-12T00:00:00.000000000",
          "2022-05-13T00:00:00.000000000",
          "2022-05-16T00:00:00.000000000",
          "2022-05-23T00:00:00.000000000",
          "2022-05-24T00:00:00.000000000",
          "2022-05-25T00:00:00.000000000",
          "2022-05-27T00:00:00.000000000",
          "2022-05-30T00:00:00.000000000",
          "2022-05-31T00:00:00.000000000",
          "2022-06-01T00:00:00.000000000",
          "2022-06-03T00:00:00.000000000",
          "2022-06-06T00:00:00.000000000",
          "2022-06-07T00:00:00.000000000",
          "2022-06-08T00:00:00.000000000",
          "2022-06-09T00:00:00.000000000",
          "2022-06-10T00:00:00.000000000",
          "2022-06-14T00:00:00.000000000",
          "2022-06-15T00:00:00.000000000",
          "2022-06-16T00:00:00.000000000",
          "2022-06-20T00:00:00.000000000",
          "2022-06-21T00:00:00.000000000",
          "2022-06-22T00:00:00.000000000",
          "2022-06-23T00:00:00.000000000",
          "2022-06-27T00:00:00.000000000",
          "2022-06-28T00:00:00.000000000",
          "2022-06-30T00:00:00.000000000",
          "2022-07-04T00:00:00.000000000",
          "2022-07-05T00:00:00.000000000",
          "2022-07-06T00:00:00.000000000",
          "2022-07-07T00:00:00.000000000",
          "2022-07-08T00:00:00.000000000",
          "2022-07-11T00:00:00.000000000",
          "2022-07-15T00:00:00.000000000",
          "2022-07-19T00:00:00.000000000",
          "2022-07-21T00:00:00.000000000",
          "2022-07-22T00:00:00.000000000",
          "2022-07-26T00:00:00.000000000",
          "2022-07-27T00:00:00.000000000",
          "2022-07-28T00:00:00.000000000",
          "2022-07-29T00:00:00.000000000",
          "2022-08-01T00:00:00.000000000",
          "2022-08-02T00:00:00.000000000",
          "2022-08-03T00:00:00.000000000",
          "2022-08-04T00:00:00.000000000",
          "2022-08-08T00:00:00.000000000",
          "2022-08-09T00:00:00.000000000",
          "2022-08-10T00:00:00.000000000",
          "2022-08-12T00:00:00.000000000",
          "2022-08-15T00:00:00.000000000",
          "2022-08-18T00:00:00.000000000",
          "2022-08-22T00:00:00.000000000",
          "2022-08-24T00:00:00.000000000",
          "2022-08-25T00:00:00.000000000",
          "2022-08-30T00:00:00.000000000",
          "2022-08-31T00:00:00.000000000"
         ],
         "xaxis": "x",
         "y": {
          "bdata": "AAAAAIAw1kAAAAAAwKvYQAAAAACAUdpAAAAAAOBT4EAAAAAAgPLjQAAAAAAgvuhAAAAAAIDc7EAAAAAAAO3uQAAAAABQb/JAAAAAANBs90AAAAAAsN3+QAAAAADAuf9AAAAAADCCAUEAAAAAMM8BQQAAAADYCgNBAAAAALilA0EAAAAAcFQFQQAAAAD4VQVBAAAAAPilBkEAAAAAqJwIQQAAAADAYQlBAAAAAKDjCkEAAAAAsL8LQQAAAADI9AxBAAAAAKDzDUEAAAAAAG8OQQAAAABkOhBBAAAAACyAEEEAAAAAdJsRQQAAAAAYuRFBAAAAAKwEEkEAAAAAKDMSQQAAAACE2RJBAAAAAJitE0EAAAAAXLwTQQAAAAAsABRBAAAAAETMFEEAAAAAoCwVQQAAAAAA7hVBAAAAAMxfF0EAAAAAMCcYQQAAAAAEBBlBAAAAAFiFGkEAAAAAXNEaQQAAAAB45hpBAAAAANwTG0EAAAAAWM4bQQAAAACcgRxBAAAAABwtHUEAAAAAOHodQQAAAACsLx5BAAAAAKSIH0EAAAAAJj8gQQAAAAAaVyBBAAAAAEp8IEEAAAAAAPsgQQAAAABodCFBAAAAAJLBIUEAAAAAEsUhQQAAAABK/SFBAAAAAAZUIkEAAAAAhp0iQQAAAACI9CJBAAAAADJFI0EAAAAAbmcjQQAAAACimSNBAAAAANQcJEEAAAAAqIkkQQAAAADCoiRBAAAAAAy+JEEAAAAALNIkQQAAAAAUECVBAAAAADazJUEAAAAANMUlQQAAAACMCiZBAAAAAKbnJkEAAAAAxFonQQAAAACM3ydBAAAAAORjKEEAAAAALpQoQQAAAADMqChBAAAAAHCKKUEAAAAAqpspQQAAAACqbSpBAAAAAMbBKkEAAAAALMgqQQAAAACy4ipBAAAAALgcK0EAAAAAJGQrQQAAAAASDSxBAAAAAKgOLEEAAAAAwqUsQQAAAAC2Ay1BAAAAAKAoLUEAAAAAABsuQQAAAADeQi5BAAAAANRdLkEAAAAAIr4uQQAAAACO8C5BAAAAAColL0EAAAAAIkMvQQAAAABgby9BAAAAAHS+L0EAAAAAUOovQQ==",
          "dtype": "f8"
         },
         "yaxis": "y"
        },
        {
         "hovertemplate": "Country=New Zealand<br>Date=%{x}<br>Cumamount=%{y}<extra></extra>",
         "legendgroup": "New Zealand",
         "line": {
          "color": "#19d3f3",
          "dash": "solid",
          "shape": "spline",
          "width": 3
         },
         "marker": {
          "symbol": "circle"
         },
         "mode": "lines",
         "name": "New Zealand",
         "orientation": "v",
         "showlegend": true,
         "type": "scatter",
         "x": [
          "2022-01-04T00:00:00.000000000",
          "2022-01-05T00:00:00.000000000",
          "2022-01-10T00:00:00.000000000",
          "2022-01-11T00:00:00.000000000",
          "2022-01-12T00:00:00.000000000",
          "2022-01-13T00:00:00.000000000",
          "2022-01-14T00:00:00.000000000",
          "2022-01-17T00:00:00.000000000",
          "2022-01-18T00:00:00.000000000",
          "2022-01-20T00:00:00.000000000",
          "2022-01-21T00:00:00.000000000",
          "2022-01-25T00:00:00.000000000",
          "2022-01-26T00:00:00.000000000",
          "2022-01-27T00:00:00.000000000",
          "2022-01-28T00:00:00.000000000",
          "2022-01-31T00:00:00.000000000",
          "2022-02-01T00:00:00.000000000",
          "2022-02-07T00:00:00.000000000",
          "2022-02-10T00:00:00.000000000",
          "2022-02-11T00:00:00.000000000",
          "2022-02-14T00:00:00.000000000",
          "2022-02-15T00:00:00.000000000",
          "2022-02-16T00:00:00.000000000",
          "2022-02-17T00:00:00.000000000",
          "2022-02-21T00:00:00.000000000",
          "2022-02-22T00:00:00.000000000",
          "2022-02-23T00:00:00.000000000",
          "2022-02-24T00:00:00.000000000",
          "2022-02-25T00:00:00.000000000",
          "2022-03-01T00:00:00.000000000",
          "2022-03-02T00:00:00.000000000",
          "2022-03-04T00:00:00.000000000",
          "2022-03-09T00:00:00.000000000",
          "2022-03-10T00:00:00.000000000",
          "2022-03-11T00:00:00.000000000",
          "2022-03-15T00:00:00.000000000",
          "2022-03-16T00:00:00.000000000",
          "2022-03-22T00:00:00.000000000",
          "2022-03-24T00:00:00.000000000",
          "2022-03-25T00:00:00.000000000",
          "2022-03-28T00:00:00.000000000",
          "2022-03-29T00:00:00.000000000",
          "2022-04-01T00:00:00.000000000",
          "2022-04-04T00:00:00.000000000",
          "2022-04-05T00:00:00.000000000",
          "2022-04-08T00:00:00.000000000",
          "2022-04-12T00:00:00.000000000",
          "2022-04-13T00:00:00.000000000",
          "2022-04-14T00:00:00.000000000",
          "2022-04-18T00:00:00.000000000",
          "2022-04-19T00:00:00.000000000",
          "2022-04-20T00:00:00.000000000",
          "2022-04-22T00:00:00.000000000",
          "2022-04-25T00:00:00.000000000",
          "2022-04-26T00:00:00.000000000",
          "2022-05-04T00:00:00.000000000",
          "2022-05-06T00:00:00.000000000",
          "2022-05-09T00:00:00.000000000",
          "2022-05-12T00:00:00.000000000",
          "2022-05-13T00:00:00.000000000",
          "2022-05-16T00:00:00.000000000",
          "2022-05-18T00:00:00.000000000",
          "2022-05-19T00:00:00.000000000",
          "2022-05-20T00:00:00.000000000",
          "2022-05-23T00:00:00.000000000",
          "2022-05-24T00:00:00.000000000",
          "2022-05-25T00:00:00.000000000",
          "2022-05-30T00:00:00.000000000",
          "2022-06-03T00:00:00.000000000",
          "2022-06-06T00:00:00.000000000",
          "2022-06-07T00:00:00.000000000",
          "2022-06-09T00:00:00.000000000",
          "2022-06-10T00:00:00.000000000",
          "2022-06-13T00:00:00.000000000",
          "2022-06-14T00:00:00.000000000",
          "2022-06-15T00:00:00.000000000",
          "2022-06-17T00:00:00.000000000",
          "2022-06-20T00:00:00.000000000",
          "2022-06-23T00:00:00.000000000",
          "2022-06-27T00:00:00.000000000",
          "2022-06-28T00:00:00.000000000",
          "2022-06-29T00:00:00.000000000",
          "2022-06-30T00:00:00.000000000",
          "2022-07-01T00:00:00.000000000",
          "2022-07-05T00:00:00.000000000",
          "2022-07-07T00:00:00.000000000",
          "2022-07-08T00:00:00.000000000",
          "2022-07-11T00:00:00.000000000",
          "2022-07-12T00:00:00.000000000",
          "2022-07-15T00:00:00.000000000",
          "2022-07-21T00:00:00.000000000",
          "2022-07-28T00:00:00.000000000",
          "2022-07-29T00:00:00.000000000",
          "2022-08-01T00:00:00.000000000",
          "2022-08-02T00:00:00.000000000",
          "2022-08-03T00:00:00.000000000",
          "2022-08-04T00:00:00.000000000",
          "2022-08-08T00:00:00.000000000",
          "2022-08-09T00:00:00.000000000",
          "2022-08-11T00:00:00.000000000",
          "2022-08-17T00:00:00.000000000",
          "2022-08-19T00:00:00.000000000",
          "2022-08-22T00:00:00.000000000",
          "2022-08-24T00:00:00.000000000",
          "2022-08-25T00:00:00.000000000",
          "2022-08-26T00:00:00.000000000",
          "2022-08-30T00:00:00.000000000"
         ],
         "xaxis": "x",
         "y": {
          "bdata": "AAAAAADYt0AAAAAAgAbGQAAAAACAWc9AAAAAAACw00AAAAAAwDDZQAAAAABAnt5AAAAAAGD34kAAAAAAgL3kQAAAAACA1O5AAAAAACCQ8kAAAAAAIO7zQAAAAABAuvdAAAAAAICD+EAAAAAA4AT7QAAAAADgRvxAAAAAAIBk/kAAAAAAyNAAQQAAAACgVwNBAAAAAEgOBEEAAAAAkDQEQQAAAACIsAVBAAAAAAjFBkEAAAAAyAgIQQAAAABo5wlBAAAAAKiwCkEAAAAAEPgMQQAAAABASg5BAAAAAFD1DkEAAAAAaFgPQQAAAADQ+w9BAAAAAGznEEEAAAAAbEIRQQAAAADQWhFBAAAAAIxSEkEAAAAA8DgUQQAAAACc4BRBAAAAAAgoFUEAAAAA+L4VQQAAAABMnxZBAAAAALzQFkEAAAAALGQXQQAAAABkKBhBAAAAACgpGEEAAAAAeCYZQQAAAAB4vBpBAAAAALDRGkEAAAAAzNEaQQAAAAAg3BtBAAAAAHA/HEEAAAAAXLQcQQAAAAD8UB1BAAAAAFSPHUEAAAAARMsdQQAAAAAAhB5BAAAAAFyeHkEAAAAA6KUeQQAAAAB8zh5BAAAAAGy5H0EAAAAA7gYgQQAAAAB6KiBBAAAAAJJqIEEAAAAAAsYgQQAAAACo2CBBAAAAAN4+IUEAAAAARk8hQQAAAABy0CFBAAAAAPQOIkEAAAAAeBgiQQAAAAAaJSJBAAAAALptIkEAAAAAkn4iQQAAAACkoCJBAAAAAKAKI0EAAAAAtBMjQQAAAAAsIyRBAAAAAArlJEEAAAAAXAUlQQAAAADaDCVBAAAAAMZzJUEAAAAAYpMlQQAAAAAIOSZBAAAAAFRlJkEAAAAA5C8nQQAAAADqkydBAAAAABLeJ0EAAAAAkCsoQQAAAADwbihBAAAAADT/KEEAAAAA6C0pQQAAAAB2aSlBAAAAANJ1KUEAAAAAjIMpQQAAAAAUtilBAAAAAJ4cKkEAAAAA4CsqQQAAAAAOeCpBAAAAACy6KkEAAAAAIjArQQAAAAD+cCtBAAAAACJ2K0EAAAAAbJgrQQAAAACI8ytBAAAAANxHLEEAAAAAFlIsQQAAAADslyxBAAAAAKSpLEEAAAAAJAEtQQ==",
          "dtype": "f8"
         },
         "yaxis": "y"
        }
       ],
       "layout": {
        "legend": {
         "title": {
          "text": "Country"
         },
         "tracegroupgap": 0
        },
        "template": {
         "data": {
          "bar": [
           {
            "error_x": {
             "color": "#f2f5fa"
            },
            "error_y": {
             "color": "#f2f5fa"
            },
            "marker": {
             "line": {
              "color": "rgb(17,17,17)",
              "width": 0.5
             },
             "pattern": {
              "fillmode": "overlay",
              "size": 10,
              "solidity": 0.2
             }
            },
            "type": "bar"
           }
          ],
          "barpolar": [
           {
            "marker": {
             "line": {
              "color": "rgb(17,17,17)",
              "width": 0.5
             },
             "pattern": {
              "fillmode": "overlay",
              "size": 10,
              "solidity": 0.2
             }
            },
            "type": "barpolar"
           }
          ],
          "carpet": [
           {
            "aaxis": {
             "endlinecolor": "#A2B1C6",
             "gridcolor": "#506784",
             "linecolor": "#506784",
             "minorgridcolor": "#506784",
             "startlinecolor": "#A2B1C6"
            },
            "baxis": {
             "endlinecolor": "#A2B1C6",
             "gridcolor": "#506784",
             "linecolor": "#506784",
             "minorgridcolor": "#506784",
             "startlinecolor": "#A2B1C6"
            },
            "type": "carpet"
           }
          ],
          "choropleth": [
           {
            "colorbar": {
             "outlinewidth": 0,
             "ticks": ""
            },
            "type": "choropleth"
           }
          ],
          "contour": [
           {
            "colorbar": {
             "outlinewidth": 0,
             "ticks": ""
            },
            "colorscale": [
             [
              0,
              "#0d0887"
             ],
             [
              0.1111111111111111,
              "#46039f"
             ],
             [
              0.2222222222222222,
              "#7201a8"
             ],
             [
              0.3333333333333333,
              "#9c179e"
             ],
             [
              0.4444444444444444,
              "#bd3786"
             ],
             [
              0.5555555555555556,
              "#d8576b"
             ],
             [
              0.6666666666666666,
              "#ed7953"
             ],
             [
              0.7777777777777778,
              "#fb9f3a"
             ],
             [
              0.8888888888888888,
              "#fdca26"
             ],
             [
              1,
              "#f0f921"
             ]
            ],
            "type": "contour"
           }
          ],
          "contourcarpet": [
           {
            "colorbar": {
             "outlinewidth": 0,
             "ticks": ""
            },
            "type": "contourcarpet"
           }
          ],
          "heatmap": [
           {
            "colorbar": {
             "outlinewidth": 0,
             "ticks": ""
            },
            "colorscale": [
             [
              0,
              "#0d0887"
             ],
             [
              0.1111111111111111,
              "#46039f"
             ],
             [
              0.2222222222222222,
              "#7201a8"
             ],
             [
              0.3333333333333333,
              "#9c179e"
             ],
             [
              0.4444444444444444,
              "#bd3786"
             ],
             [
              0.5555555555555556,
              "#d8576b"
             ],
             [
              0.6666666666666666,
              "#ed7953"
             ],
             [
              0.7777777777777778,
              "#fb9f3a"
             ],
             [
              0.8888888888888888,
              "#fdca26"
             ],
             [
              1,
              "#f0f921"
             ]
            ],
            "type": "heatmap"
           }
          ],
          "histogram": [
           {
            "marker": {
             "pattern": {
              "fillmode": "overlay",
              "size": 10,
              "solidity": 0.2
             }
            },
            "type": "histogram"
           }
          ],
          "histogram2d": [
           {
            "colorbar": {
             "outlinewidth": 0,
             "ticks": ""
            },
            "colorscale": [
             [
              0,
              "#0d0887"
             ],
             [
              0.1111111111111111,
              "#46039f"
             ],
             [
              0.2222222222222222,
              "#7201a8"
             ],
             [
              0.3333333333333333,
              "#9c179e"
             ],
             [
              0.4444444444444444,
              "#bd3786"
             ],
             [
              0.5555555555555556,
              "#d8576b"
             ],
             [
              0.6666666666666666,
              "#ed7953"
             ],
             [
              0.7777777777777778,
              "#fb9f3a"
             ],
             [
              0.8888888888888888,
              "#fdca26"
             ],
             [
              1,
              "#f0f921"
             ]
            ],
            "type": "histogram2d"
           }
          ],
          "histogram2dcontour": [
           {
            "colorbar": {
             "outlinewidth": 0,
             "ticks": ""
            },
            "colorscale": [
             [
              0,
              "#0d0887"
             ],
             [
              0.1111111111111111,
              "#46039f"
             ],
             [
              0.2222222222222222,
              "#7201a8"
             ],
             [
              0.3333333333333333,
              "#9c179e"
             ],
             [
              0.4444444444444444,
              "#bd3786"
             ],
             [
              0.5555555555555556,
              "#d8576b"
             ],
             [
              0.6666666666666666,
              "#ed7953"
             ],
             [
              0.7777777777777778,
              "#fb9f3a"
             ],
             [
              0.8888888888888888,
              "#fdca26"
             ],
             [
              1,
              "#f0f921"
             ]
            ],
            "type": "histogram2dcontour"
           }
          ],
          "mesh3d": [
           {
            "colorbar": {
             "outlinewidth": 0,
             "ticks": ""
            },
            "type": "mesh3d"
           }
          ],
          "parcoords": [
           {
            "line": {
             "colorbar": {
              "outlinewidth": 0,
              "ticks": ""
             }
            },
            "type": "parcoords"
           }
          ],
          "pie": [
           {
            "automargin": true,
            "type": "pie"
           }
          ],
          "scatter": [
           {
            "marker": {
             "line": {
              "color": "#283442"
             }
            },
            "type": "scatter"
           }
          ],
          "scatter3d": [
           {
            "line": {
             "colorbar": {
              "outlinewidth": 0,
              "ticks": ""
             }
            },
            "marker": {
             "colorbar": {
              "outlinewidth": 0,
              "ticks": ""
             }
            },
            "type": "scatter3d"
           }
          ],
          "scattercarpet": [
           {
            "marker": {
             "colorbar": {
              "outlinewidth": 0,
              "ticks": ""
             }
            },
            "type": "scattercarpet"
           }
          ],
          "scattergeo": [
           {
            "marker": {
             "colorbar": {
              "outlinewidth": 0,
              "ticks": ""
             }
            },
            "type": "scattergeo"
           }
          ],
          "scattergl": [
           {
            "marker": {
             "line": {
              "color": "#283442"
             }
            },
            "type": "scattergl"
           }
          ],
          "scattermap": [
           {
            "marker": {
             "colorbar": {
              "outlinewidth": 0,
              "ticks": ""
             }
            },
            "type": "scattermap"
           }
          ],
          "scattermapbox": [
           {
            "marker": {
             "colorbar": {
              "outlinewidth": 0,
              "ticks": ""
             }
            },
            "type": "scattermapbox"
           }
          ],
          "scatterpolar": [
           {
            "marker": {
             "colorbar": {
              "outlinewidth": 0,
              "ticks": ""
             }
            },
            "type": "scatterpolar"
           }
          ],
          "scatterpolargl": [
           {
            "marker": {
             "colorbar": {
              "outlinewidth": 0,
              "ticks": ""
             }
            },
            "type": "scatterpolargl"
           }
          ],
          "scatterternary": [
           {
            "marker": {
             "colorbar": {
              "outlinewidth": 0,
              "ticks": ""
             }
            },
            "type": "scatterternary"
           }
          ],
          "surface": [
           {
            "colorbar": {
             "outlinewidth": 0,
             "ticks": ""
            },
            "colorscale": [
             [
              0,
              "#0d0887"
             ],
             [
              0.1111111111111111,
              "#46039f"
             ],
             [
              0.2222222222222222,
              "#7201a8"
             ],
             [
              0.3333333333333333,
              "#9c179e"
             ],
             [
              0.4444444444444444,
              "#bd3786"
             ],
             [
              0.5555555555555556,
              "#d8576b"
             ],
             [
              0.6666666666666666,
              "#ed7953"
             ],
             [
              0.7777777777777778,
              "#fb9f3a"
             ],
             [
              0.8888888888888888,
              "#fdca26"
             ],
             [
              1,
              "#f0f921"
             ]
            ],
            "type": "surface"
           }
          ],
          "table": [
           {
            "cells": {
             "fill": {
              "color": "#506784"
             },
             "line": {
              "color": "rgb(17,17,17)"
             }
            },
            "header": {
             "fill": {
              "color": "#2a3f5f"
             },
             "line": {
              "color": "rgb(17,17,17)"
             }
            },
            "type": "table"
           }
          ]
         },
         "layout": {
          "annotationdefaults": {
           "arrowcolor": "#f2f5fa",
           "arrowhead": 0,
           "arrowwidth": 1
          },
          "autotypenumbers": "strict",
          "coloraxis": {
           "colorbar": {
            "outlinewidth": 0,
            "ticks": ""
           }
          },
          "colorscale": {
           "diverging": [
            [
             0,
             "#8e0152"
            ],
            [
             0.1,
             "#c51b7d"
            ],
            [
             0.2,
             "#de77ae"
            ],
            [
             0.3,
             "#f1b6da"
            ],
            [
             0.4,
             "#fde0ef"
            ],
            [
             0.5,
             "#f7f7f7"
            ],
            [
             0.6,
             "#e6f5d0"
            ],
            [
             0.7,
             "#b8e186"
            ],
            [
             0.8,
             "#7fbc41"
            ],
            [
             0.9,
             "#4d9221"
            ],
            [
             1,
             "#276419"
            ]
           ],
           "sequential": [
            [
             0,
             "#0d0887"
            ],
            [
             0.1111111111111111,
             "#46039f"
            ],
            [
             0.2222222222222222,
             "#7201a8"
            ],
            [
             0.3333333333333333,
             "#9c179e"
            ],
            [
             0.4444444444444444,
             "#bd3786"
            ],
            [
             0.5555555555555556,
             "#d8576b"
            ],
            [
             0.6666666666666666,
             "#ed7953"
            ],
            [
             0.7777777777777778,
             "#fb9f3a"
            ],
            [
             0.8888888888888888,
             "#fdca26"
            ],
            [
             1,
             "#f0f921"
            ]
           ],
           "sequentialminus": [
            [
             0,
             "#0d0887"
            ],
            [
             0.1111111111111111,
             "#46039f"
            ],
            [
             0.2222222222222222,
             "#7201a8"
            ],
            [
             0.3333333333333333,
             "#9c179e"
            ],
            [
             0.4444444444444444,
             "#bd3786"
            ],
            [
             0.5555555555555556,
             "#d8576b"
            ],
            [
             0.6666666666666666,
             "#ed7953"
            ],
            [
             0.7777777777777778,
             "#fb9f3a"
            ],
            [
             0.8888888888888888,
             "#fdca26"
            ],
            [
             1,
             "#f0f921"
            ]
           ]
          },
          "colorway": [
           "#636efa",
           "#EF553B",
           "#00cc96",
           "#ab63fa",
           "#FFA15A",
           "#19d3f3",
           "#FF6692",
           "#B6E880",
           "#FF97FF",
           "#FECB52"
          ],
          "font": {
           "color": "#f2f5fa"
          },
          "geo": {
           "bgcolor": "rgb(17,17,17)",
           "lakecolor": "rgb(17,17,17)",
           "landcolor": "rgb(17,17,17)",
           "showlakes": true,
           "showland": true,
           "subunitcolor": "#506784"
          },
          "hoverlabel": {
           "align": "left"
          },
          "hovermode": "closest",
          "mapbox": {
           "style": "dark"
          },
          "paper_bgcolor": "rgb(17,17,17)",
          "plot_bgcolor": "rgb(17,17,17)",
          "polar": {
           "angularaxis": {
            "gridcolor": "#506784",
            "linecolor": "#506784",
            "ticks": ""
           },
           "bgcolor": "rgb(17,17,17)",
           "radialaxis": {
            "gridcolor": "#506784",
            "linecolor": "#506784",
            "ticks": ""
           }
          },
          "scene": {
           "xaxis": {
            "backgroundcolor": "rgb(17,17,17)",
            "gridcolor": "#506784",
            "gridwidth": 2,
            "linecolor": "#506784",
            "showbackground": true,
            "ticks": "",
            "zerolinecolor": "#C8D4E3"
           },
           "yaxis": {
            "backgroundcolor": "rgb(17,17,17)",
            "gridcolor": "#506784",
            "gridwidth": 2,
            "linecolor": "#506784",
            "showbackground": true,
            "ticks": "",
            "zerolinecolor": "#C8D4E3"
           },
           "zaxis": {
            "backgroundcolor": "rgb(17,17,17)",
            "gridcolor": "#506784",
            "gridwidth": 2,
            "linecolor": "#506784",
            "showbackground": true,
            "ticks": "",
            "zerolinecolor": "#C8D4E3"
           }
          },
          "shapedefaults": {
           "line": {
            "color": "#f2f5fa"
           }
          },
          "sliderdefaults": {
           "bgcolor": "#C8D4E3",
           "bordercolor": "rgb(17,17,17)",
           "borderwidth": 1,
           "tickwidth": 0
          },
          "ternary": {
           "aaxis": {
            "gridcolor": "#506784",
            "linecolor": "#506784",
            "ticks": ""
           },
           "baxis": {
            "gridcolor": "#506784",
            "linecolor": "#506784",
            "ticks": ""
           },
           "bgcolor": "rgb(17,17,17)",
           "caxis": {
            "gridcolor": "#506784",
            "linecolor": "#506784",
            "ticks": ""
           }
          },
          "title": {
           "x": 0.05
          },
          "updatemenudefaults": {
           "bgcolor": "#506784",
           "borderwidth": 0
          },
          "xaxis": {
           "automargin": true,
           "gridcolor": "#283442",
           "linecolor": "#506784",
           "ticks": "",
           "title": {
            "standoff": 15
           },
           "zerolinecolor": "#283442",
           "zerolinewidth": 2
          },
          "yaxis": {
           "automargin": true,
           "gridcolor": "#283442",
           "linecolor": "#506784",
           "ticks": "",
           "title": {
            "standoff": 15
           },
           "zerolinecolor": "#283442",
           "zerolinewidth": 2
          }
         }
        },
        "title": {
         "text": "Кумулятивная сумма дохода по странам"
        },
        "xaxis": {
         "anchor": "y",
         "domain": [
          0,
          1
         ],
         "tickangle": 45,
         "tickformat": "%d-%b-%y",
         "title": {
          "text": "Дата"
         }
        },
        "yaxis": {
         "anchor": "x",
         "domain": [
          0,
          1
         ],
         "title": {
          "text": "Кумулятивная сумма дохода"
         }
        }
       }
      }
     },
     "metadata": {},
     "output_type": "display_data"
    }
   ],
   "source": [
    "fig1 = px.line(df_grouped, \n",
    "               x='Date', \n",
    "               y='Cumamount', \n",
    "               color='Country', \n",
    "               title=\"Кумулятивная сумма дохода по странам\",\n",
    "               markers=False, \n",
    "               line_shape=\"spline\")\n",
    "\n",
    "fig1.update_traces(line=dict(width=3))\n",
    "\n",
    "fig1.update_layout(\n",
    "    template=\"plotly_dark\", \n",
    "    xaxis_title=\"Дата\", \n",
    "    yaxis_title=\"Кумулятивная сумма дохода\",\n",
    "    xaxis=dict(tickformat='%d-%b-%y', tickangle=45)\n",
    ")\n",
    "\n",
    "fig1.show()"
   ]
  },
  {
   "cell_type": "markdown",
   "id": "5e370284",
   "metadata": {},
   "source": [
    "Этот график прикольный с точки зрения его полноты, но показывать такое не очень, потому что тяжело читать линии. То есть он хорош, на мой взгляд, как дашборд (чтобы можно было призумить, где нам удобно). А если статичный, то вот так:"
   ]
  },
  {
   "cell_type": "code",
   "execution_count": 12,
   "id": "bf8dc9fe",
   "metadata": {},
   "outputs": [
    {
     "data": {
      "application/vnd.plotly.v1+json": {
       "config": {
        "plotlyServerURL": "https://plot.ly"
       },
       "data": [
        {
         "hovertemplate": "Country=Australia<br>Date=%{x}<br>Cumamount=%{y}<extra></extra>",
         "legendgroup": "Australia",
         "line": {
          "color": "#636efa",
          "dash": "solid",
          "shape": "spline",
          "width": 4
         },
         "marker": {
          "symbol": "circle"
         },
         "mode": "lines+markers",
         "name": "Australia",
         "orientation": "v",
         "showlegend": true,
         "type": "scatter",
         "x": [
          "2022-01-04T00:00:00.000000000",
          "2022-01-05T00:00:00.000000000",
          "2022-01-07T00:00:00.000000000",
          "2022-01-10T00:00:00.000000000",
          "2022-01-11T00:00:00.000000000",
          "2022-01-12T00:00:00.000000000",
          "2022-01-13T00:00:00.000000000",
          "2022-01-14T00:00:00.000000000",
          "2022-01-17T00:00:00.000000000",
          "2022-01-18T00:00:00.000000000",
          "2022-01-19T00:00:00.000000000",
          "2022-01-25T00:00:00.000000000"
         ],
         "xaxis": "x",
         "y": {
          "bdata": "AAAAAMAN0kAAAAAAwK/eQAAAAABAwOJAAAAAACAz5kAAAAAA4PXsQAAAAACA1+9AAAAAAEA380AAAAAA4K/1QAAAAACgfftAAAAAAHCh/EAAAAAAsFH+QAAAAAA49wFB",
          "dtype": "f8"
         },
         "yaxis": "y"
        },
        {
         "hovertemplate": "Country=Canada<br>Date=%{x}<br>Cumamount=%{y}<extra></extra>",
         "legendgroup": "Canada",
         "line": {
          "color": "#EF553B",
          "dash": "solid",
          "shape": "spline",
          "width": 4
         },
         "marker": {
          "symbol": "circle"
         },
         "mode": "lines+markers",
         "name": "Canada",
         "orientation": "v",
         "showlegend": true,
         "type": "scatter",
         "x": [
          "2022-01-04T00:00:00.000000000",
          "2022-01-10T00:00:00.000000000",
          "2022-01-11T00:00:00.000000000",
          "2022-01-13T00:00:00.000000000",
          "2022-01-14T00:00:00.000000000",
          "2022-01-17T00:00:00.000000000",
          "2022-01-18T00:00:00.000000000",
          "2022-01-19T00:00:00.000000000",
          "2022-01-24T00:00:00.000000000",
          "2022-01-25T00:00:00.000000000"
         ],
         "xaxis": "x",
         "y": {
          "bdata": "AAAAAIBl1UAAAAAAAM7dQAAAAADgd+VAAAAAAGAs8kAAAAAAYEvzQAAAAAAgQvRAAAAAAHDA9kAAAAAAwN/5QAAAAACwivxAAAAAAOCr/UA=",
          "dtype": "f8"
         },
         "yaxis": "y"
        },
        {
         "hovertemplate": "Country=India<br>Date=%{x}<br>Cumamount=%{y}<extra></extra>",
         "legendgroup": "India",
         "line": {
          "color": "#00cc96",
          "dash": "solid",
          "shape": "spline",
          "width": 4
         },
         "marker": {
          "symbol": "circle"
         },
         "mode": "lines+markers",
         "name": "India",
         "orientation": "v",
         "showlegend": true,
         "type": "scatter",
         "x": [
          "2022-01-04T00:00:00.000000000",
          "2022-01-05T00:00:00.000000000",
          "2022-01-07T00:00:00.000000000",
          "2022-01-10T00:00:00.000000000",
          "2022-01-12T00:00:00.000000000",
          "2022-01-13T00:00:00.000000000",
          "2022-01-17T00:00:00.000000000",
          "2022-01-18T00:00:00.000000000",
          "2022-01-24T00:00:00.000000000"
         ],
         "xaxis": "x",
         "y": {
          "bdata": "AAAAAIAw1kAAAAAAwKvYQAAAAACAUdpAAAAAAOBT4EAAAAAAgPLjQAAAAAAgvuhAAAAAAIDc7EAAAAAAAO3uQAAAAABQb/JA",
          "dtype": "f8"
         },
         "yaxis": "y"
        },
        {
         "hovertemplate": "Country=New Zealand<br>Date=%{x}<br>Cumamount=%{y}<extra></extra>",
         "legendgroup": "New Zealand",
         "line": {
          "color": "#ab63fa",
          "dash": "solid",
          "shape": "spline",
          "width": 4
         },
         "marker": {
          "symbol": "circle"
         },
         "mode": "lines+markers",
         "name": "New Zealand",
         "orientation": "v",
         "showlegend": true,
         "type": "scatter",
         "x": [
          "2022-01-04T00:00:00.000000000",
          "2022-01-05T00:00:00.000000000",
          "2022-01-10T00:00:00.000000000",
          "2022-01-11T00:00:00.000000000",
          "2022-01-12T00:00:00.000000000",
          "2022-01-13T00:00:00.000000000",
          "2022-01-14T00:00:00.000000000",
          "2022-01-17T00:00:00.000000000",
          "2022-01-18T00:00:00.000000000",
          "2022-01-20T00:00:00.000000000",
          "2022-01-21T00:00:00.000000000",
          "2022-01-25T00:00:00.000000000"
         ],
         "xaxis": "x",
         "y": {
          "bdata": "AAAAAADYt0AAAAAAgAbGQAAAAACAWc9AAAAAAACw00AAAAAAwDDZQAAAAABAnt5AAAAAAGD34kAAAAAAgL3kQAAAAACA1O5AAAAAACCQ8kAAAAAAIO7zQAAAAABAuvdA",
          "dtype": "f8"
         },
         "yaxis": "y"
        },
        {
         "hovertemplate": "Country=UK<br>Date=%{x}<br>Cumamount=%{y}<extra></extra>",
         "legendgroup": "UK",
         "line": {
          "color": "#FFA15A",
          "dash": "solid",
          "shape": "spline",
          "width": 4
         },
         "marker": {
          "symbol": "circle"
         },
         "mode": "lines+markers",
         "name": "UK",
         "orientation": "v",
         "showlegend": true,
         "type": "scatter",
         "x": [
          "2022-01-04T00:00:00.000000000",
          "2022-01-05T00:00:00.000000000",
          "2022-01-10T00:00:00.000000000",
          "2022-01-12T00:00:00.000000000",
          "2022-01-13T00:00:00.000000000",
          "2022-01-14T00:00:00.000000000",
          "2022-01-17T00:00:00.000000000",
          "2022-01-19T00:00:00.000000000",
          "2022-01-21T00:00:00.000000000",
          "2022-01-25T00:00:00.000000000"
         ],
         "xaxis": "x",
         "y": {
          "bdata": "AAAAAEA620AAAAAAIMXhQAAAAAAAwO1AAAAAACAo8EAAAAAA0HD2QAAAAACgLvhAAAAAANC8+EAAAAAAYC/6QAAAAADwv/5AAAAAAECPAkE=",
          "dtype": "f8"
         },
         "yaxis": "y"
        },
        {
         "hovertemplate": "Country=USA<br>Date=%{x}<br>Cumamount=%{y}<extra></extra>",
         "legendgroup": "USA",
         "line": {
          "color": "#19d3f3",
          "dash": "solid",
          "shape": "spline",
          "width": 4
         },
         "marker": {
          "symbol": "circle"
         },
         "mode": "lines+markers",
         "name": "USA",
         "orientation": "v",
         "showlegend": true,
         "type": "scatter",
         "x": [
          "2022-01-04T00:00:00.000000000",
          "2022-01-12T00:00:00.000000000",
          "2022-01-13T00:00:00.000000000",
          "2022-01-14T00:00:00.000000000",
          "2022-01-18T00:00:00.000000000",
          "2022-01-21T00:00:00.000000000"
         ],
         "xaxis": "x",
         "y": {
          "bdata": "AAAAAAAE1EAAAAAAAKzUQAAAAABALt5AAAAAAKCW40AAAAAAoEroQAAAAABAlO1A",
          "dtype": "f8"
         },
         "yaxis": "y"
        }
       ],
       "layout": {
        "legend": {
         "title": {
          "text": "Country"
         },
         "tracegroupgap": 0
        },
        "template": {
         "data": {
          "bar": [
           {
            "error_x": {
             "color": "#f2f5fa"
            },
            "error_y": {
             "color": "#f2f5fa"
            },
            "marker": {
             "line": {
              "color": "rgb(17,17,17)",
              "width": 0.5
             },
             "pattern": {
              "fillmode": "overlay",
              "size": 10,
              "solidity": 0.2
             }
            },
            "type": "bar"
           }
          ],
          "barpolar": [
           {
            "marker": {
             "line": {
              "color": "rgb(17,17,17)",
              "width": 0.5
             },
             "pattern": {
              "fillmode": "overlay",
              "size": 10,
              "solidity": 0.2
             }
            },
            "type": "barpolar"
           }
          ],
          "carpet": [
           {
            "aaxis": {
             "endlinecolor": "#A2B1C6",
             "gridcolor": "#506784",
             "linecolor": "#506784",
             "minorgridcolor": "#506784",
             "startlinecolor": "#A2B1C6"
            },
            "baxis": {
             "endlinecolor": "#A2B1C6",
             "gridcolor": "#506784",
             "linecolor": "#506784",
             "minorgridcolor": "#506784",
             "startlinecolor": "#A2B1C6"
            },
            "type": "carpet"
           }
          ],
          "choropleth": [
           {
            "colorbar": {
             "outlinewidth": 0,
             "ticks": ""
            },
            "type": "choropleth"
           }
          ],
          "contour": [
           {
            "colorbar": {
             "outlinewidth": 0,
             "ticks": ""
            },
            "colorscale": [
             [
              0,
              "#0d0887"
             ],
             [
              0.1111111111111111,
              "#46039f"
             ],
             [
              0.2222222222222222,
              "#7201a8"
             ],
             [
              0.3333333333333333,
              "#9c179e"
             ],
             [
              0.4444444444444444,
              "#bd3786"
             ],
             [
              0.5555555555555556,
              "#d8576b"
             ],
             [
              0.6666666666666666,
              "#ed7953"
             ],
             [
              0.7777777777777778,
              "#fb9f3a"
             ],
             [
              0.8888888888888888,
              "#fdca26"
             ],
             [
              1,
              "#f0f921"
             ]
            ],
            "type": "contour"
           }
          ],
          "contourcarpet": [
           {
            "colorbar": {
             "outlinewidth": 0,
             "ticks": ""
            },
            "type": "contourcarpet"
           }
          ],
          "heatmap": [
           {
            "colorbar": {
             "outlinewidth": 0,
             "ticks": ""
            },
            "colorscale": [
             [
              0,
              "#0d0887"
             ],
             [
              0.1111111111111111,
              "#46039f"
             ],
             [
              0.2222222222222222,
              "#7201a8"
             ],
             [
              0.3333333333333333,
              "#9c179e"
             ],
             [
              0.4444444444444444,
              "#bd3786"
             ],
             [
              0.5555555555555556,
              "#d8576b"
             ],
             [
              0.6666666666666666,
              "#ed7953"
             ],
             [
              0.7777777777777778,
              "#fb9f3a"
             ],
             [
              0.8888888888888888,
              "#fdca26"
             ],
             [
              1,
              "#f0f921"
             ]
            ],
            "type": "heatmap"
           }
          ],
          "histogram": [
           {
            "marker": {
             "pattern": {
              "fillmode": "overlay",
              "size": 10,
              "solidity": 0.2
             }
            },
            "type": "histogram"
           }
          ],
          "histogram2d": [
           {
            "colorbar": {
             "outlinewidth": 0,
             "ticks": ""
            },
            "colorscale": [
             [
              0,
              "#0d0887"
             ],
             [
              0.1111111111111111,
              "#46039f"
             ],
             [
              0.2222222222222222,
              "#7201a8"
             ],
             [
              0.3333333333333333,
              "#9c179e"
             ],
             [
              0.4444444444444444,
              "#bd3786"
             ],
             [
              0.5555555555555556,
              "#d8576b"
             ],
             [
              0.6666666666666666,
              "#ed7953"
             ],
             [
              0.7777777777777778,
              "#fb9f3a"
             ],
             [
              0.8888888888888888,
              "#fdca26"
             ],
             [
              1,
              "#f0f921"
             ]
            ],
            "type": "histogram2d"
           }
          ],
          "histogram2dcontour": [
           {
            "colorbar": {
             "outlinewidth": 0,
             "ticks": ""
            },
            "colorscale": [
             [
              0,
              "#0d0887"
             ],
             [
              0.1111111111111111,
              "#46039f"
             ],
             [
              0.2222222222222222,
              "#7201a8"
             ],
             [
              0.3333333333333333,
              "#9c179e"
             ],
             [
              0.4444444444444444,
              "#bd3786"
             ],
             [
              0.5555555555555556,
              "#d8576b"
             ],
             [
              0.6666666666666666,
              "#ed7953"
             ],
             [
              0.7777777777777778,
              "#fb9f3a"
             ],
             [
              0.8888888888888888,
              "#fdca26"
             ],
             [
              1,
              "#f0f921"
             ]
            ],
            "type": "histogram2dcontour"
           }
          ],
          "mesh3d": [
           {
            "colorbar": {
             "outlinewidth": 0,
             "ticks": ""
            },
            "type": "mesh3d"
           }
          ],
          "parcoords": [
           {
            "line": {
             "colorbar": {
              "outlinewidth": 0,
              "ticks": ""
             }
            },
            "type": "parcoords"
           }
          ],
          "pie": [
           {
            "automargin": true,
            "type": "pie"
           }
          ],
          "scatter": [
           {
            "marker": {
             "line": {
              "color": "#283442"
             }
            },
            "type": "scatter"
           }
          ],
          "scatter3d": [
           {
            "line": {
             "colorbar": {
              "outlinewidth": 0,
              "ticks": ""
             }
            },
            "marker": {
             "colorbar": {
              "outlinewidth": 0,
              "ticks": ""
             }
            },
            "type": "scatter3d"
           }
          ],
          "scattercarpet": [
           {
            "marker": {
             "colorbar": {
              "outlinewidth": 0,
              "ticks": ""
             }
            },
            "type": "scattercarpet"
           }
          ],
          "scattergeo": [
           {
            "marker": {
             "colorbar": {
              "outlinewidth": 0,
              "ticks": ""
             }
            },
            "type": "scattergeo"
           }
          ],
          "scattergl": [
           {
            "marker": {
             "line": {
              "color": "#283442"
             }
            },
            "type": "scattergl"
           }
          ],
          "scattermap": [
           {
            "marker": {
             "colorbar": {
              "outlinewidth": 0,
              "ticks": ""
             }
            },
            "type": "scattermap"
           }
          ],
          "scattermapbox": [
           {
            "marker": {
             "colorbar": {
              "outlinewidth": 0,
              "ticks": ""
             }
            },
            "type": "scattermapbox"
           }
          ],
          "scatterpolar": [
           {
            "marker": {
             "colorbar": {
              "outlinewidth": 0,
              "ticks": ""
             }
            },
            "type": "scatterpolar"
           }
          ],
          "scatterpolargl": [
           {
            "marker": {
             "colorbar": {
              "outlinewidth": 0,
              "ticks": ""
             }
            },
            "type": "scatterpolargl"
           }
          ],
          "scatterternary": [
           {
            "marker": {
             "colorbar": {
              "outlinewidth": 0,
              "ticks": ""
             }
            },
            "type": "scatterternary"
           }
          ],
          "surface": [
           {
            "colorbar": {
             "outlinewidth": 0,
             "ticks": ""
            },
            "colorscale": [
             [
              0,
              "#0d0887"
             ],
             [
              0.1111111111111111,
              "#46039f"
             ],
             [
              0.2222222222222222,
              "#7201a8"
             ],
             [
              0.3333333333333333,
              "#9c179e"
             ],
             [
              0.4444444444444444,
              "#bd3786"
             ],
             [
              0.5555555555555556,
              "#d8576b"
             ],
             [
              0.6666666666666666,
              "#ed7953"
             ],
             [
              0.7777777777777778,
              "#fb9f3a"
             ],
             [
              0.8888888888888888,
              "#fdca26"
             ],
             [
              1,
              "#f0f921"
             ]
            ],
            "type": "surface"
           }
          ],
          "table": [
           {
            "cells": {
             "fill": {
              "color": "#506784"
             },
             "line": {
              "color": "rgb(17,17,17)"
             }
            },
            "header": {
             "fill": {
              "color": "#2a3f5f"
             },
             "line": {
              "color": "rgb(17,17,17)"
             }
            },
            "type": "table"
           }
          ]
         },
         "layout": {
          "annotationdefaults": {
           "arrowcolor": "#f2f5fa",
           "arrowhead": 0,
           "arrowwidth": 1
          },
          "autotypenumbers": "strict",
          "coloraxis": {
           "colorbar": {
            "outlinewidth": 0,
            "ticks": ""
           }
          },
          "colorscale": {
           "diverging": [
            [
             0,
             "#8e0152"
            ],
            [
             0.1,
             "#c51b7d"
            ],
            [
             0.2,
             "#de77ae"
            ],
            [
             0.3,
             "#f1b6da"
            ],
            [
             0.4,
             "#fde0ef"
            ],
            [
             0.5,
             "#f7f7f7"
            ],
            [
             0.6,
             "#e6f5d0"
            ],
            [
             0.7,
             "#b8e186"
            ],
            [
             0.8,
             "#7fbc41"
            ],
            [
             0.9,
             "#4d9221"
            ],
            [
             1,
             "#276419"
            ]
           ],
           "sequential": [
            [
             0,
             "#0d0887"
            ],
            [
             0.1111111111111111,
             "#46039f"
            ],
            [
             0.2222222222222222,
             "#7201a8"
            ],
            [
             0.3333333333333333,
             "#9c179e"
            ],
            [
             0.4444444444444444,
             "#bd3786"
            ],
            [
             0.5555555555555556,
             "#d8576b"
            ],
            [
             0.6666666666666666,
             "#ed7953"
            ],
            [
             0.7777777777777778,
             "#fb9f3a"
            ],
            [
             0.8888888888888888,
             "#fdca26"
            ],
            [
             1,
             "#f0f921"
            ]
           ],
           "sequentialminus": [
            [
             0,
             "#0d0887"
            ],
            [
             0.1111111111111111,
             "#46039f"
            ],
            [
             0.2222222222222222,
             "#7201a8"
            ],
            [
             0.3333333333333333,
             "#9c179e"
            ],
            [
             0.4444444444444444,
             "#bd3786"
            ],
            [
             0.5555555555555556,
             "#d8576b"
            ],
            [
             0.6666666666666666,
             "#ed7953"
            ],
            [
             0.7777777777777778,
             "#fb9f3a"
            ],
            [
             0.8888888888888888,
             "#fdca26"
            ],
            [
             1,
             "#f0f921"
            ]
           ]
          },
          "colorway": [
           "#636efa",
           "#EF553B",
           "#00cc96",
           "#ab63fa",
           "#FFA15A",
           "#19d3f3",
           "#FF6692",
           "#B6E880",
           "#FF97FF",
           "#FECB52"
          ],
          "font": {
           "color": "#f2f5fa"
          },
          "geo": {
           "bgcolor": "rgb(17,17,17)",
           "lakecolor": "rgb(17,17,17)",
           "landcolor": "rgb(17,17,17)",
           "showlakes": true,
           "showland": true,
           "subunitcolor": "#506784"
          },
          "hoverlabel": {
           "align": "left"
          },
          "hovermode": "closest",
          "mapbox": {
           "style": "dark"
          },
          "paper_bgcolor": "rgb(17,17,17)",
          "plot_bgcolor": "rgb(17,17,17)",
          "polar": {
           "angularaxis": {
            "gridcolor": "#506784",
            "linecolor": "#506784",
            "ticks": ""
           },
           "bgcolor": "rgb(17,17,17)",
           "radialaxis": {
            "gridcolor": "#506784",
            "linecolor": "#506784",
            "ticks": ""
           }
          },
          "scene": {
           "xaxis": {
            "backgroundcolor": "rgb(17,17,17)",
            "gridcolor": "#506784",
            "gridwidth": 2,
            "linecolor": "#506784",
            "showbackground": true,
            "ticks": "",
            "zerolinecolor": "#C8D4E3"
           },
           "yaxis": {
            "backgroundcolor": "rgb(17,17,17)",
            "gridcolor": "#506784",
            "gridwidth": 2,
            "linecolor": "#506784",
            "showbackground": true,
            "ticks": "",
            "zerolinecolor": "#C8D4E3"
           },
           "zaxis": {
            "backgroundcolor": "rgb(17,17,17)",
            "gridcolor": "#506784",
            "gridwidth": 2,
            "linecolor": "#506784",
            "showbackground": true,
            "ticks": "",
            "zerolinecolor": "#C8D4E3"
           }
          },
          "shapedefaults": {
           "line": {
            "color": "#f2f5fa"
           }
          },
          "sliderdefaults": {
           "bgcolor": "#C8D4E3",
           "bordercolor": "rgb(17,17,17)",
           "borderwidth": 1,
           "tickwidth": 0
          },
          "ternary": {
           "aaxis": {
            "gridcolor": "#506784",
            "linecolor": "#506784",
            "ticks": ""
           },
           "baxis": {
            "gridcolor": "#506784",
            "linecolor": "#506784",
            "ticks": ""
           },
           "bgcolor": "rgb(17,17,17)",
           "caxis": {
            "gridcolor": "#506784",
            "linecolor": "#506784",
            "ticks": ""
           }
          },
          "title": {
           "x": 0.05
          },
          "updatemenudefaults": {
           "bgcolor": "#506784",
           "borderwidth": 0
          },
          "xaxis": {
           "automargin": true,
           "gridcolor": "#283442",
           "linecolor": "#506784",
           "ticks": "",
           "title": {
            "standoff": 15
           },
           "zerolinecolor": "#283442",
           "zerolinewidth": 2
          },
          "yaxis": {
           "automargin": true,
           "gridcolor": "#283442",
           "linecolor": "#506784",
           "ticks": "",
           "title": {
            "standoff": 15
           },
           "zerolinecolor": "#283442",
           "zerolinewidth": 2
          }
         }
        },
        "title": {
         "text": "Кумулятивная сумма дохода по странам (Диапазон дат)"
        },
        "xaxis": {
         "anchor": "y",
         "domain": [
          0,
          1
         ],
         "range": [
          "2022-01-04",
          "2022-01-20"
         ],
         "tickangle": 45,
         "tickformat": "%d-%b-%y",
         "title": {
          "text": "Дата"
         }
        },
        "yaxis": {
         "anchor": "x",
         "domain": [
          0,
          1
         ],
         "title": {
          "text": "Кумулятивная сумма дохода"
         }
        }
       }
      }
     },
     "metadata": {},
     "output_type": "display_data"
    }
   ],
   "source": [
    "df_filtered = df_grouped[(df_grouped['Date'] >= '2022-01-04') & (df_grouped['Date'] <= '2022-01-25')]\n",
    "\n",
    "fig1 = px.line(df_filtered, \n",
    "               x='Date', \n",
    "               y='Cumamount', \n",
    "               color='Country', \n",
    "               title=\"Кумулятивная сумма дохода по странам (Диапазон дат)\",\n",
    "               line_shape=\"spline\",\n",
    "               markers=True, \n",
    "               )\n",
    "\n",
    "fig1.update_traces(line=dict(width=4))\n",
    "\n",
    "\n",
    "fig1.update_layout(\n",
    "    template=\"plotly_dark\", \n",
    "    xaxis_title=\"Дата\", \n",
    "    yaxis_title=\"Кумулятивная сумма дохода\",\n",
    "    xaxis=dict(\n",
    "        tickformat='%d-%b-%y', \n",
    "        tickangle=45, \n",
    "        range=['2022-01-04', '2022-01-20']  # Ограничение оси X\n",
    "    )\n",
    ")\n",
    "\n",
    "fig1.show()\n",
    "\n",
    "file_path = f\"{path_to_save_images}/{image_name_prefix}_image_1.png\"\n",
    "\n",
    "fig1.write_image(file_path, scale=4)"
   ]
  },
  {
   "cell_type": "markdown",
   "id": "939493e0",
   "metadata": {},
   "source": [
    "# Вывод - Анализ динамики кумулятивного дохода от продаж сладостей по странам\n",
    "\n",
    "На представленном графике показано как накапливался доход с продаж сладостей в шести разных странах (Австралия, Канада, Великобритания, США, Индия, Новая Зеландия) в период с 4 января 2022 года по 20 января 2022 года. Это позволяет оценить краткосрочные тенденции и выявить лидеров рынка.\n",
    "\n",
    "Поскольку это кумулятивная сумма, то видно стабильный возрастающий тренд в течение 16 дней, что говорит о постоянном увеличении дохода. Однако темпы роста различаются.\n",
    "\n",
    "* В первую половину периода (до 10.01) лишь Великобритания демонстрирует заметный прирост продаж, что указывает на высокую активность потребителей или успешную маркетинговую кампанию. Австралия постепенно тоже набирает обороты, однако темпы ее роста не такие быстрые.\n",
    "\n",
    "* После 10 января наблюдается резкий скачок кумулятивного дохода во всех странах, что может быть связано с сезонными факторами, праздничными распродажами или другими внешними воздействиями. Наиболее выражен он у Австралии, а наименее - у Индии. Но Австралия в отличие от других стран после 10 января не сбавляет темпы и ее доход растет вплоть до указанной даты - 20 января. В то время как у других стран он прирост то замедляется, то увеличивается.\n",
    "\n",
    "В итоге Австралия выделяется стабильно высокими темпами роста на протяжении всего периода, что может быть обусловлено эффективной стратегией продаж, высоким спросом на продукцию или другими конкурентными преимуществами.\n",
    "\n",
    "Также отмечу, что динамика продаж подвержена колебаниям, что указывает на влияние внешних факторов.\n",
    "\n",
    "* Также отмечу, что у некоторых стран нет данных за те даты, которые есть у других стран. Поэтому я беру данные до 25 января, а потом обрезаю саму ось"
   ]
  },
  {
   "cell_type": "markdown",
   "id": "f8c5428a",
   "metadata": {},
   "source": [
    "## (2) (bar plot или stacked bar plot)"
   ]
  },
  {
   "cell_type": "code",
   "execution_count": 13,
   "id": "445a9995",
   "metadata": {},
   "outputs": [
    {
     "data": {
      "application/vnd.plotly.v1+json": {
       "config": {
        "plotlyServerURL": "https://plot.ly"
       },
       "data": [
        {
         "hovertemplate": "Country=%{x}<br>Amount=%{y}<extra></extra>",
         "legendgroup": "Australia",
         "marker": {
          "color": "#636efa",
          "pattern": {
           "shape": ""
          }
         },
         "name": "Australia",
         "orientation": "v",
         "showlegend": true,
         "textposition": "outside",
         "texttemplate": "%{y}",
         "type": "bar",
         "x": [
          "Australia"
         ],
         "xaxis": "x",
         "y": {
          "bdata": "AAAAANdaMUE=",
          "dtype": "f8"
         },
         "yaxis": "y"
        },
        {
         "hovertemplate": "Country=%{x}<br>Amount=%{y}<extra></extra>",
         "legendgroup": "UK",
         "marker": {
          "color": "#EF553B",
          "pattern": {
           "shape": ""
          }
         },
         "name": "UK",
         "orientation": "v",
         "showlegend": true,
         "textposition": "outside",
         "texttemplate": "%{y}",
         "type": "bar",
         "x": [
          "UK"
         ],
         "xaxis": "x",
         "y": {
          "bdata": "AAAAAJAMMEE=",
          "dtype": "f8"
         },
         "yaxis": "y"
        },
        {
         "hovertemplate": "Country=%{x}<br>Amount=%{y}<extra></extra>",
         "legendgroup": "India",
         "marker": {
          "color": "#00cc96",
          "pattern": {
           "shape": ""
          }
         },
         "name": "India",
         "orientation": "v",
         "showlegend": true,
         "textposition": "outside",
         "texttemplate": "%{y}",
         "type": "bar",
         "x": [
          "India"
         ],
         "xaxis": "x",
         "y": {
          "bdata": "AAAAAFDqL0E=",
          "dtype": "f8"
         },
         "yaxis": "y"
        },
        {
         "hovertemplate": "Country=%{x}<br>Amount=%{y}<extra></extra>",
         "legendgroup": "USA",
         "marker": {
          "color": "#ab63fa",
          "pattern": {
           "shape": ""
          }
         },
         "name": "USA",
         "orientation": "v",
         "showlegend": true,
         "textposition": "outside",
         "texttemplate": "%{y}",
         "type": "bar",
         "x": [
          "USA"
         ],
         "xaxis": "x",
         "y": {
          "bdata": "AAAAAKqYL0E=",
          "dtype": "f8"
         },
         "yaxis": "y"
        },
        {
         "hovertemplate": "Country=%{x}<br>Amount=%{y}<extra></extra>",
         "legendgroup": "Canada",
         "marker": {
          "color": "#FFA15A",
          "pattern": {
           "shape": ""
          }
         },
         "name": "Canada",
         "orientation": "v",
         "showlegend": true,
         "textposition": "outside",
         "texttemplate": "%{y}",
         "type": "bar",
         "x": [
          "Canada"
         ],
         "xaxis": "x",
         "y": {
          "bdata": "AAAAAKZiLUE=",
          "dtype": "f8"
         },
         "yaxis": "y"
        },
        {
         "hovertemplate": "Country=%{x}<br>Amount=%{y}<extra></extra>",
         "legendgroup": "New Zealand",
         "marker": {
          "color": "#19d3f3",
          "pattern": {
           "shape": ""
          }
         },
         "name": "New Zealand",
         "orientation": "v",
         "showlegend": true,
         "textposition": "outside",
         "texttemplate": "%{y}",
         "type": "bar",
         "x": [
          "New Zealand"
         ],
         "xaxis": "x",
         "y": {
          "bdata": "AAAAACQBLUE=",
          "dtype": "f8"
         },
         "yaxis": "y"
        }
       ],
       "layout": {
        "barmode": "relative",
        "height": 600,
        "legend": {
         "title": {
          "text": "Country"
         },
         "tracegroupgap": 0
        },
        "template": {
         "data": {
          "bar": [
           {
            "error_x": {
             "color": "#f2f5fa"
            },
            "error_y": {
             "color": "#f2f5fa"
            },
            "marker": {
             "line": {
              "color": "rgb(17,17,17)",
              "width": 0.5
             },
             "pattern": {
              "fillmode": "overlay",
              "size": 10,
              "solidity": 0.2
             }
            },
            "type": "bar"
           }
          ],
          "barpolar": [
           {
            "marker": {
             "line": {
              "color": "rgb(17,17,17)",
              "width": 0.5
             },
             "pattern": {
              "fillmode": "overlay",
              "size": 10,
              "solidity": 0.2
             }
            },
            "type": "barpolar"
           }
          ],
          "carpet": [
           {
            "aaxis": {
             "endlinecolor": "#A2B1C6",
             "gridcolor": "#506784",
             "linecolor": "#506784",
             "minorgridcolor": "#506784",
             "startlinecolor": "#A2B1C6"
            },
            "baxis": {
             "endlinecolor": "#A2B1C6",
             "gridcolor": "#506784",
             "linecolor": "#506784",
             "minorgridcolor": "#506784",
             "startlinecolor": "#A2B1C6"
            },
            "type": "carpet"
           }
          ],
          "choropleth": [
           {
            "colorbar": {
             "outlinewidth": 0,
             "ticks": ""
            },
            "type": "choropleth"
           }
          ],
          "contour": [
           {
            "colorbar": {
             "outlinewidth": 0,
             "ticks": ""
            },
            "colorscale": [
             [
              0,
              "#0d0887"
             ],
             [
              0.1111111111111111,
              "#46039f"
             ],
             [
              0.2222222222222222,
              "#7201a8"
             ],
             [
              0.3333333333333333,
              "#9c179e"
             ],
             [
              0.4444444444444444,
              "#bd3786"
             ],
             [
              0.5555555555555556,
              "#d8576b"
             ],
             [
              0.6666666666666666,
              "#ed7953"
             ],
             [
              0.7777777777777778,
              "#fb9f3a"
             ],
             [
              0.8888888888888888,
              "#fdca26"
             ],
             [
              1,
              "#f0f921"
             ]
            ],
            "type": "contour"
           }
          ],
          "contourcarpet": [
           {
            "colorbar": {
             "outlinewidth": 0,
             "ticks": ""
            },
            "type": "contourcarpet"
           }
          ],
          "heatmap": [
           {
            "colorbar": {
             "outlinewidth": 0,
             "ticks": ""
            },
            "colorscale": [
             [
              0,
              "#0d0887"
             ],
             [
              0.1111111111111111,
              "#46039f"
             ],
             [
              0.2222222222222222,
              "#7201a8"
             ],
             [
              0.3333333333333333,
              "#9c179e"
             ],
             [
              0.4444444444444444,
              "#bd3786"
             ],
             [
              0.5555555555555556,
              "#d8576b"
             ],
             [
              0.6666666666666666,
              "#ed7953"
             ],
             [
              0.7777777777777778,
              "#fb9f3a"
             ],
             [
              0.8888888888888888,
              "#fdca26"
             ],
             [
              1,
              "#f0f921"
             ]
            ],
            "type": "heatmap"
           }
          ],
          "histogram": [
           {
            "marker": {
             "pattern": {
              "fillmode": "overlay",
              "size": 10,
              "solidity": 0.2
             }
            },
            "type": "histogram"
           }
          ],
          "histogram2d": [
           {
            "colorbar": {
             "outlinewidth": 0,
             "ticks": ""
            },
            "colorscale": [
             [
              0,
              "#0d0887"
             ],
             [
              0.1111111111111111,
              "#46039f"
             ],
             [
              0.2222222222222222,
              "#7201a8"
             ],
             [
              0.3333333333333333,
              "#9c179e"
             ],
             [
              0.4444444444444444,
              "#bd3786"
             ],
             [
              0.5555555555555556,
              "#d8576b"
             ],
             [
              0.6666666666666666,
              "#ed7953"
             ],
             [
              0.7777777777777778,
              "#fb9f3a"
             ],
             [
              0.8888888888888888,
              "#fdca26"
             ],
             [
              1,
              "#f0f921"
             ]
            ],
            "type": "histogram2d"
           }
          ],
          "histogram2dcontour": [
           {
            "colorbar": {
             "outlinewidth": 0,
             "ticks": ""
            },
            "colorscale": [
             [
              0,
              "#0d0887"
             ],
             [
              0.1111111111111111,
              "#46039f"
             ],
             [
              0.2222222222222222,
              "#7201a8"
             ],
             [
              0.3333333333333333,
              "#9c179e"
             ],
             [
              0.4444444444444444,
              "#bd3786"
             ],
             [
              0.5555555555555556,
              "#d8576b"
             ],
             [
              0.6666666666666666,
              "#ed7953"
             ],
             [
              0.7777777777777778,
              "#fb9f3a"
             ],
             [
              0.8888888888888888,
              "#fdca26"
             ],
             [
              1,
              "#f0f921"
             ]
            ],
            "type": "histogram2dcontour"
           }
          ],
          "mesh3d": [
           {
            "colorbar": {
             "outlinewidth": 0,
             "ticks": ""
            },
            "type": "mesh3d"
           }
          ],
          "parcoords": [
           {
            "line": {
             "colorbar": {
              "outlinewidth": 0,
              "ticks": ""
             }
            },
            "type": "parcoords"
           }
          ],
          "pie": [
           {
            "automargin": true,
            "type": "pie"
           }
          ],
          "scatter": [
           {
            "marker": {
             "line": {
              "color": "#283442"
             }
            },
            "type": "scatter"
           }
          ],
          "scatter3d": [
           {
            "line": {
             "colorbar": {
              "outlinewidth": 0,
              "ticks": ""
             }
            },
            "marker": {
             "colorbar": {
              "outlinewidth": 0,
              "ticks": ""
             }
            },
            "type": "scatter3d"
           }
          ],
          "scattercarpet": [
           {
            "marker": {
             "colorbar": {
              "outlinewidth": 0,
              "ticks": ""
             }
            },
            "type": "scattercarpet"
           }
          ],
          "scattergeo": [
           {
            "marker": {
             "colorbar": {
              "outlinewidth": 0,
              "ticks": ""
             }
            },
            "type": "scattergeo"
           }
          ],
          "scattergl": [
           {
            "marker": {
             "line": {
              "color": "#283442"
             }
            },
            "type": "scattergl"
           }
          ],
          "scattermap": [
           {
            "marker": {
             "colorbar": {
              "outlinewidth": 0,
              "ticks": ""
             }
            },
            "type": "scattermap"
           }
          ],
          "scattermapbox": [
           {
            "marker": {
             "colorbar": {
              "outlinewidth": 0,
              "ticks": ""
             }
            },
            "type": "scattermapbox"
           }
          ],
          "scatterpolar": [
           {
            "marker": {
             "colorbar": {
              "outlinewidth": 0,
              "ticks": ""
             }
            },
            "type": "scatterpolar"
           }
          ],
          "scatterpolargl": [
           {
            "marker": {
             "colorbar": {
              "outlinewidth": 0,
              "ticks": ""
             }
            },
            "type": "scatterpolargl"
           }
          ],
          "scatterternary": [
           {
            "marker": {
             "colorbar": {
              "outlinewidth": 0,
              "ticks": ""
             }
            },
            "type": "scatterternary"
           }
          ],
          "surface": [
           {
            "colorbar": {
             "outlinewidth": 0,
             "ticks": ""
            },
            "colorscale": [
             [
              0,
              "#0d0887"
             ],
             [
              0.1111111111111111,
              "#46039f"
             ],
             [
              0.2222222222222222,
              "#7201a8"
             ],
             [
              0.3333333333333333,
              "#9c179e"
             ],
             [
              0.4444444444444444,
              "#bd3786"
             ],
             [
              0.5555555555555556,
              "#d8576b"
             ],
             [
              0.6666666666666666,
              "#ed7953"
             ],
             [
              0.7777777777777778,
              "#fb9f3a"
             ],
             [
              0.8888888888888888,
              "#fdca26"
             ],
             [
              1,
              "#f0f921"
             ]
            ],
            "type": "surface"
           }
          ],
          "table": [
           {
            "cells": {
             "fill": {
              "color": "#506784"
             },
             "line": {
              "color": "rgb(17,17,17)"
             }
            },
            "header": {
             "fill": {
              "color": "#2a3f5f"
             },
             "line": {
              "color": "rgb(17,17,17)"
             }
            },
            "type": "table"
           }
          ]
         },
         "layout": {
          "annotationdefaults": {
           "arrowcolor": "#f2f5fa",
           "arrowhead": 0,
           "arrowwidth": 1
          },
          "autotypenumbers": "strict",
          "coloraxis": {
           "colorbar": {
            "outlinewidth": 0,
            "ticks": ""
           }
          },
          "colorscale": {
           "diverging": [
            [
             0,
             "#8e0152"
            ],
            [
             0.1,
             "#c51b7d"
            ],
            [
             0.2,
             "#de77ae"
            ],
            [
             0.3,
             "#f1b6da"
            ],
            [
             0.4,
             "#fde0ef"
            ],
            [
             0.5,
             "#f7f7f7"
            ],
            [
             0.6,
             "#e6f5d0"
            ],
            [
             0.7,
             "#b8e186"
            ],
            [
             0.8,
             "#7fbc41"
            ],
            [
             0.9,
             "#4d9221"
            ],
            [
             1,
             "#276419"
            ]
           ],
           "sequential": [
            [
             0,
             "#0d0887"
            ],
            [
             0.1111111111111111,
             "#46039f"
            ],
            [
             0.2222222222222222,
             "#7201a8"
            ],
            [
             0.3333333333333333,
             "#9c179e"
            ],
            [
             0.4444444444444444,
             "#bd3786"
            ],
            [
             0.5555555555555556,
             "#d8576b"
            ],
            [
             0.6666666666666666,
             "#ed7953"
            ],
            [
             0.7777777777777778,
             "#fb9f3a"
            ],
            [
             0.8888888888888888,
             "#fdca26"
            ],
            [
             1,
             "#f0f921"
            ]
           ],
           "sequentialminus": [
            [
             0,
             "#0d0887"
            ],
            [
             0.1111111111111111,
             "#46039f"
            ],
            [
             0.2222222222222222,
             "#7201a8"
            ],
            [
             0.3333333333333333,
             "#9c179e"
            ],
            [
             0.4444444444444444,
             "#bd3786"
            ],
            [
             0.5555555555555556,
             "#d8576b"
            ],
            [
             0.6666666666666666,
             "#ed7953"
            ],
            [
             0.7777777777777778,
             "#fb9f3a"
            ],
            [
             0.8888888888888888,
             "#fdca26"
            ],
            [
             1,
             "#f0f921"
            ]
           ]
          },
          "colorway": [
           "#636efa",
           "#EF553B",
           "#00cc96",
           "#ab63fa",
           "#FFA15A",
           "#19d3f3",
           "#FF6692",
           "#B6E880",
           "#FF97FF",
           "#FECB52"
          ],
          "font": {
           "color": "#f2f5fa"
          },
          "geo": {
           "bgcolor": "rgb(17,17,17)",
           "lakecolor": "rgb(17,17,17)",
           "landcolor": "rgb(17,17,17)",
           "showlakes": true,
           "showland": true,
           "subunitcolor": "#506784"
          },
          "hoverlabel": {
           "align": "left"
          },
          "hovermode": "closest",
          "mapbox": {
           "style": "dark"
          },
          "paper_bgcolor": "rgb(17,17,17)",
          "plot_bgcolor": "rgb(17,17,17)",
          "polar": {
           "angularaxis": {
            "gridcolor": "#506784",
            "linecolor": "#506784",
            "ticks": ""
           },
           "bgcolor": "rgb(17,17,17)",
           "radialaxis": {
            "gridcolor": "#506784",
            "linecolor": "#506784",
            "ticks": ""
           }
          },
          "scene": {
           "xaxis": {
            "backgroundcolor": "rgb(17,17,17)",
            "gridcolor": "#506784",
            "gridwidth": 2,
            "linecolor": "#506784",
            "showbackground": true,
            "ticks": "",
            "zerolinecolor": "#C8D4E3"
           },
           "yaxis": {
            "backgroundcolor": "rgb(17,17,17)",
            "gridcolor": "#506784",
            "gridwidth": 2,
            "linecolor": "#506784",
            "showbackground": true,
            "ticks": "",
            "zerolinecolor": "#C8D4E3"
           },
           "zaxis": {
            "backgroundcolor": "rgb(17,17,17)",
            "gridcolor": "#506784",
            "gridwidth": 2,
            "linecolor": "#506784",
            "showbackground": true,
            "ticks": "",
            "zerolinecolor": "#C8D4E3"
           }
          },
          "shapedefaults": {
           "line": {
            "color": "#f2f5fa"
           }
          },
          "sliderdefaults": {
           "bgcolor": "#C8D4E3",
           "bordercolor": "rgb(17,17,17)",
           "borderwidth": 1,
           "tickwidth": 0
          },
          "ternary": {
           "aaxis": {
            "gridcolor": "#506784",
            "linecolor": "#506784",
            "ticks": ""
           },
           "baxis": {
            "gridcolor": "#506784",
            "linecolor": "#506784",
            "ticks": ""
           },
           "bgcolor": "rgb(17,17,17)",
           "caxis": {
            "gridcolor": "#506784",
            "linecolor": "#506784",
            "ticks": ""
           }
          },
          "title": {
           "x": 0.05
          },
          "updatemenudefaults": {
           "bgcolor": "#506784",
           "borderwidth": 0
          },
          "xaxis": {
           "automargin": true,
           "gridcolor": "#283442",
           "linecolor": "#506784",
           "ticks": "",
           "title": {
            "standoff": 15
           },
           "zerolinecolor": "#283442",
           "zerolinewidth": 2
          },
          "yaxis": {
           "automargin": true,
           "gridcolor": "#283442",
           "linecolor": "#506784",
           "ticks": "",
           "title": {
            "standoff": 15
           },
           "zerolinecolor": "#283442",
           "zerolinewidth": 2
          }
         }
        },
        "title": {
         "text": "Сумма продаж по странам"
        },
        "width": 1000,
        "xaxis": {
         "anchor": "y",
         "categoryarray": [
          "Australia",
          "UK",
          "India",
          "USA",
          "Canada",
          "New Zealand"
         ],
         "categoryorder": "array",
         "domain": [
          0,
          1
         ],
         "title": {
          "text": "Страна"
         }
        },
        "yaxis": {
         "anchor": "x",
         "domain": [
          0,
          1
         ],
         "title": {
          "text": "Сумма продаж"
         }
        }
       }
      }
     },
     "metadata": {},
     "output_type": "display_data"
    }
   ],
   "source": [
    "country_sales = data.groupby('Country')['Amount'].sum().reset_index()\n",
    "\n",
    "country_sales = country_sales.sort_values(by='Amount', ascending=False)\n",
    "\n",
    "fig2 = px.bar(country_sales, x='Country', y='Amount',\n",
    "              title=\"Сумма продаж по странам\", color='Country',\n",
    "              height=600,\n",
    "              width=1000)\n",
    "\n",
    "fig2.update_traces(texttemplate='%{y}', textposition='outside')\n",
    "\n",
    "fig2.update_layout(template=\"plotly_dark\", xaxis_title=\"Страна\", yaxis_title=\"Сумма продаж\")\n",
    "\n",
    "fig2.show()\n",
    "\n",
    "file_path = f\"{path_to_save_images}/{image_name_prefix}_image_2.png\"\n",
    "\n",
    "fig2.write_image(file_path, scale=4)"
   ]
  },
  {
   "cell_type": "markdown",
   "id": "d82fb259",
   "metadata": {},
   "source": [
    "# Выводы\n",
    "\n",
    "Итак, я получила общую сумму продаж за весь период для каждой страны. Как можно было предсказать по line plot - в лидерах Австралия, страна заработала 1,14 млн долларов. Великобритания и Индия делят почетное второе место, заработав около 1.05 млн долларов. Немного, но не сильно от них отстали USA. А вот Канада и Новая Зеландия - расслабились и продали заметно меньше, чем другие страны."
   ]
  },
  {
   "cell_type": "markdown",
   "id": "33e86855",
   "metadata": {},
   "source": [
    "##  (3) kde plot"
   ]
  },
  {
   "cell_type": "code",
   "execution_count": 14,
   "id": "e49da976",
   "metadata": {},
   "outputs": [
    {
     "data": {
      "application/vnd.plotly.v1+json": {
       "config": {
        "plotlyServerURL": "https://plot.ly"
       },
       "data": [
        {
         "autobinx": false,
         "histnorm": "probability density",
         "legendgroup": "UK",
         "marker": {
          "color": "#0D0887"
         },
         "name": "UK",
         "opacity": 0.7,
         "type": "histogram",
         "x": {
          "bdata": "AAAAAADItEAAAAAAgLrKQAAAAACAuspAAAAAAABgskAAAAAAAPSQQAAAAAAAdqdAAAAAAABPyEAAAAAAALe6QAAAAAAAuqRAAAAAAAAKtkAAAAAAAEifQAAAAAAAdbJAAAAAAAAsuEAAAAAAAGfJQAAAAAAAWbJAAAAAAAApt0AAAAAAAP6xQAAAAAAAec9AAAAAAACnsEAAAAAAAB+2QAAAAAAA1KFAAAAAAAB2vkAAAAAAAF2/QAAAAAAAuqtAAAAAAACztEAAAAAAAJGyQAAAAAAANsJAAAAAAAB/w0AAAAAAAC/CQAAAAAAAKIJAAAAAAADtsEAAAAAAAEa8QAAAAAAAS7lAAAAAAADPy0AAAAAAwIvSQAAAAAAAirlAAAAAAABptUAAAAAAAIBvQAAAAAAALc1AAAAAAAC9tUAAAAAAAHiqQAAAAAAAzJNAAAAAAAAzsUAAAAAAAK6wQAAAAAAAarpAAAAAAAAgZEAAAAAAANCZQAAAAAAAgLhAAAAAAIBuwUAAAAAAAAClQAAAAAAAcKxAAAAAAAAQmEAAAAAAAECTQAAAAACAV8VAAAAAAIACwEAAAAAAAH2wQAAAAAAAQIpAAAAAAACcwUAAAAAAAH61QAAAAAAAq7ZAAAAAAIAfxUAAAAAAAFKiQAAAAAAARqxAAAAAAADWq0AAAAAAAN27QAAAAAAA8qtAAAAAAIAbxkAAAAAAAPC4QAAAAACAZcxAAAAAAABImEAAAAAAAJSjQAAAAAAAiqlAAAAAAICfwUAAAAAAAKCeQAAAAAAAVJVAAAAAAAA1u0AAAAAAAFyqQAAAAAAAlrZAAAAAAAAYrUAAAAAAANigQAAAAAAANJZAAAAAAIB3xEAAAAAAALG/QAAAAAAAHMVAAAAAAAD6skAAAAAAgHPFQAAAAAAA2sNAAAAAAAA8q0AAAAAAAGqjQAAAAAAAABxAAAAAAACEp0AAAAAAAJLHQAAAAAAAAMxAAAAAAABAWkAAAAAAAIyVQAAAAAAA3KZAAAAAAACgwEAAAAAAAPTAQAAAAAAAm7pAAAAAAADGoUAAAAAAANyWQAAAAAAA9L5AAAAAAIAvwUAAAAAAAJHCQAAAAAAAdqBAAAAAAAAYnUAAAAAAAIitQAAAAACApsFAAAAAAAAMkkAAAAAAAFqnQAAAAAAAvbxAAAAAAADxzUAAAAAAAGbLQAAAAAAAtJJAAAAAAABcmkAAAAAAAIBRQAAAAAAAFqNAAAAAAICHwEAAAAAAAFibQAAAAACAzMJAAAAAAAD3sUAAAAAAgDrAQAAAAAAAO7ZAAAAAAAAsv0AAAAAAAL6qQAAAAAAARLlAAAAAAAA6r0AAAAAAAGK1QAAAAAAAaJ5AAAAAAAB+rEAAAAAAAHGzQAAAAAAALKhAAAAAAACCtEAAAAAAALynQAAAAAAAFbVAAAAAAAAlyEAAAAAAgK3IQAAAAAAAFqNAAAAAAACTvEAAAAAAAFa/QAAAAAAA6MNAAAAAAADku0AAAAAAAI+2QAAAAAAAaIdAAAAAAAB+tUAAAAAAAE+4QAAAAAAAZqtAAAAAAAAmzUAAAAAAgF3AQAAAAAAAcHxAAAAAAACOqEAAAAAAAMyaQAAAAAAAeKpAAAAAAADQckAAAAAAgEDCQAAAAAAAUM1AAAAAAAB6tkAAAAAAAGCiQAAAAAAAAJxAAAAAAIDNx0AAAAAAAPKkQAAAAAAAZMhAAAAAAEBC0kAAAAAAABqiQAAAAAAA08NAAAAAAAAQgUAAAAAAAIajQAAAAACA4MRAAAAAAACItkAAAAAAADCuQAAAAAAAZqtAAAAAAAAImkAAAAAAAAjDQAAAAAAAaI5AAAAAAAAIs0AAAAAAAEy+QAAAAAAAiIZAAAAAAIDGwEA=",
          "dtype": "f8"
         },
         "xaxis": "x",
         "xbins": {
          "end": 18991,
          "size": 1000,
          "start": 7
         },
         "yaxis": "y"
        },
        {
         "autobinx": false,
         "histnorm": "probability density",
         "legendgroup": "India",
         "marker": {
          "color": "#47039F"
         },
         "name": "India",
         "opacity": 0.7,
         "type": "histogram",
         "x": {
          "bdata": "AAAAAADYvkAAAAAAAJWxQAAAAAAAALVAAAAAAAAAZUAAAAAAABajQAAAAAAAo7hAAAAAAAAesUAAAAAAAHu0QAAAAAAAOqFAAAAAAADKt0AAAAAAgAfEQAAAAACAHcJAAAAAAAAluEAAAAAAAH2wQAAAAAAA1rRAAAAAAABgwkAAAAAAAEyeQAAAAAAATcVAAAAAAADAfUAAAAAAALC6QAAAAAAAcrFAAAAAAEB200AAAAAAAO+zQAAAAAAA2qNAAAAAAADCqUAAAAAAgLrDQAAAAAAACbFAAAAAAADYp0AAAAAAgBXEQAAAAAAAXJpAAAAAAABZuUAAAAAAAC6kQAAAAAAAu7JAAAAAAAA2uUAAAAAAAIC/QAAAAAAAp7dAAAAAAAAgq0AAAAAAAIaqQAAAAAAAqq9AAAAAAAAclUAAAAAAgB7HQAAAAAAA1KFAAAAAAAAAfEAAAAAAAJ6kQAAAAABALtBAAAAAAAA2uUAAAAAAAK2yQAAAAAAAZKhAAAAAAABrv0AAAAAAANiXQAAAAAAAwKZAAAAAAAB3xUAAAAAAAOi6QAAAAAAA9KBAAAAAAACYskAAAAAAAJGyQAAAAAAAIKtAAAAAAAAgZEAAAAAAACCkQAAAAAAAhJ5AAAAAAACYmUAAAAAAALKmQAAAAAAAnL9AAAAAAAAQmEAAAAAAAGDJQAAAAAAAVqFAAAAAAADutUAAAAAAAPKrQAAAAAAASqtAAAAAAAAwjkAAAAAAANiuQAAAAACAE8hAAAAAAABHs0AAAAAAABe4QAAAAAAAc7ZAAAAAAAAftkAAAAAAgGfBQAAAAAAAYIJAAAAAAADvs0AAAAAAAKOxQAAAAAAAbKZAAAAAAAD4rUAAAAAAgCHBQAAAAAAAUK1AAAAAAABltkAAAAAAAG65QAAAAACAiNVAAAAAAADao0AAAAAAAIOyQAAAAAAAPqdAAAAAAAAQcUAAAAAAABHGQAAAAAAAGrlAAAAAAMDf0kAAAAAAALi4QAAAAAAAcIxAAAAAAABMoEAAAAAAAFXKQAAAAAAAQKNAAAAAAACIjUAAAAAAAPSwQAAAAAAAWKtAAAAAAADmrkAAAAAAAKCwQAAAAACAgspAAAAAAACmuUAAAAAAgF/KQAAAAAAApJ1AAAAAAIDGx0AAAAAAAHijQAAAAAAA2qpAAAAAAAA0nUAAAAAAACyYQAAAAACAn8FAAAAAAADGwUAAAAAAAABVQAAAAAAAO71AAAAAAAB0lEAAAAAAgMzCQAAAAAAAt7pAAAAAAAAWqkAAAAAAgM/KQAAAAAAAHqFAAAAAAABgaUAAAAAAAICIQAAAAAAA8rtAAAAAAABwrEAAAAAAAGy9QAAAAAAA4JVAAAAAAACc0UAAAAAAAMCNQAAAAAAATLdAAAAAAABYlEAAAAAAAFOwQAAAAAAAHLxAAAAAAIBixEAAAAAAAP7PQAAAAAAAqrFAAAAAAAAhskAAAAAAAHbAQAAAAAAAB8VAAAAAAICKwUAAAAAAgCrEQAAAAAAAyqBAAAAAAADElUAAAAAAAOqmQAAAAACANcNAAAAAAABguUAAAAAAAJiSQAAAAAAAuqtAAAAAAAB9x0AAAAAAAP6hQAAAAAAA979AAAAAAAARxkAAAAAAAP6/QAAAAACAQc5AAAAAAIDAxUAAAAAAAJiJQAAAAAAAADxAAAAAAABcs0AAAAAAAFScQAAAAAAABsdAAAAAAADFykAAAAAAAAmxQAAAAAAAxcNAAAAAAIDJwUAAAAAAAIBIQAAAAAAAMJBAAAAAAAD1vEAAAAAAANu/QAAAAAAATqNAAAAAAADQckAAAAAAAHHDQAAAAAAAsJNAAAAAAABQfUAAAAAAAHB8QAAAAAAAgsRAAAAAAACOsUAAAAAAAMCNQAAAAACAy8RAAAAAAIBIwEAAAAAAAPSnQAAAAAAATKBAAAAAAADTs0A=",
          "dtype": "f8"
         },
         "xaxis": "x",
         "xbins": {
          "end": 22050,
          "size": 1000,
          "start": 28
         },
         "yaxis": "y"
        },
        {
         "autobinx": false,
         "histnorm": "probability density",
         "legendgroup": "Australia",
         "marker": {
          "color": "#9C179E"
         },
         "name": "Australia",
         "opacity": 0.7,
         "type": "histogram",
         "x": {
          "bdata": "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",
          "dtype": "f8"
         },
         "xaxis": "x",
         "xbins": {
          "end": 19453,
          "size": 1000,
          "start": 63
         },
         "yaxis": "y"
        },
        {
         "autobinx": false,
         "histnorm": "probability density",
         "legendgroup": "New Zealand",
         "marker": {
          "color": "#D8576B"
         },
         "name": "New Zealand",
         "opacity": 0.7,
         "type": "histogram",
         "x": {
          "bdata": "AAAAAAAsr0AAAAAAAABlQAAAAACAXcBAAAAAAACKwkAAAAAAAMWzQAAAAAAA6JpAAAAAAABgYkAAAAAAAMirQAAAAAAA4KVAAAAAAAD4jUAAAAAAAIBPQAAAAAAAQb9AAAAAAACASEAAAAAAAIBfQAAAAAAAZJhAAAAAAADWu0AAAAAAAHDFQAAAAAAAjJxAAAAAAIAlwEAAAAAAAFqgQAAAAAAAuI9AAAAAAICNyUAAAAAAAG7CQAAAAAAARrVAAAAAAAAQf0AAAAAAAES5QAAAAAAAVqhAAAAAAAAokkAAAAAAAHCVQAAAAAAAxqhAAAAAAADTs0AAAAAAADC+QAAAAAAAJbFAAAAAAABooEAAAAAAADa5QAAAAAAAksBAAAAAAADHxkAAAAAAAEK9QAAAAAAAtrVAAAAAAADgxUAAAAAAgPDAQAAAAAAAXKpAAAAAAADIi0AAAAAAANO6QAAAAAAACJNAAAAAAAANsEAAAAAAAAXCQAAAAAAAZbZAAAAAAADYsEAAAAAAABitQAAAAAAA98FAAAAAAIAXx0AAAAAAAMG0QAAAAAAAOIVAAAAAAABKpEAAAAAAAFq3QAAAAAAACbFAAAAAAADWtEAAAAAAAEezQAAAAAAAlMNAAAAAAABcqkAAAAAAANuxQAAAAAAA6dFAAAAAAABmu0AAAAAAAMaxQAAAAAAAx71AAAAAAACWxkAAAAAAANSvQAAAAAAAXJpAAAAAAACcr0AAAAAAADm6QAAAAAAAKLlAAAAAAACmokAAAAAAgHXBQAAAAAAAQs1AAAAAAACgl0AAAAAAAOrNQAAAAACA985AAAAAAAAIk0AAAAAAAAmxQAAAAAAAkJRAAAAAAACFtUAAAAAAACmwQAAAAAAAILRAAAAAAABGpUAAAAAAALHBQAAAAAAAaKdAAAAAAABIwUAAAAAAADW0QAAAAAAAlLNAAAAAAACOsUAAAAAAACipQAAAAAAALbZAAAAAAAAcnEAAAAAAAJyRQAAAAAAAkIRAAAAAAABitUAAAAAAALW3QAAAAAAASbZAAAAAAAAkk0AAAAAAACG5QAAAAAAA6b9AAAAAAAAHvEAAAAAAANSYQAAAAAAAsINAAAAAAAAivkAAAAAAABa6QAAAAAAAPLtAAAAAAIDExEAAAAAAABe/QAAAAAAAGrlAAAAAAAC4mEAAAAAAAM2xQAAAAAAAirJAAAAAAADeqUAAAAAAANjAQAAAAAAAwKZAAAAAAEAG00AAAAAAADKzQAAAAACA+sFAAAAAAAA4lUAAAAAAABbKQAAAAAAAbrlAAAAAAABEmUAAAAAAACPFQAAAAAAA8sRAAAAAAAC4mEAAAAAAAICfQAAAAAAApL1AAAAAAADghUAAAAAAAOyyQAAAAAAAP7xAAAAAAACgfkAAAAAAAOiDQAAAAAAABsBAAAAAAABttEAAAAAAAOawQAAAAAAA3sJAAAAAAADVtkAAAAAAAD+8QAAAAAAAABxAAAAAAAAskUAAAAAAAPW8QAAAAAAA1JFAAAAAAAD4rUAAAAAAADB3QAAAAAAAFKBAAAAAAADgtUAAAAAAALioQAAAAAAAHLVAAAAAAAAsr0AAAAAAAC/JQAAAAAAAN8BAAAAAAABUrEAAAAAAALm9QAAAAAAAFcVAAAAAAAC4oUAAAAAAACa2QAAAAAAA9JdAAAAAAIASw0AAAAAAAFKyQAAAAAAAg8lAAAAAAIDNwEAAAAAAADu9QAAAAAAAaqpAAAAAAAC4n0AAAAAAAJ+5QAAAAAAAXKNAAAAAAACAT0AAAAAAgH3NQAAAAAAAMH5AAAAAAACHyEAAAAAAAMa/QA==",
          "dtype": "f8"
         },
         "xaxis": "x",
         "xbins": {
          "end": 19481,
          "size": 1000,
          "start": 7
         },
         "yaxis": "y"
        },
        {
         "autobinx": false,
         "histnorm": "probability density",
         "legendgroup": "USA",
         "marker": {
          "color": "#FB9F3A"
         },
         "name": "USA",
         "opacity": 0.7,
         "type": "histogram",
         "x": {
          "bdata": "AAAAAADurEAAAAAAAJKnQAAAAAAAzJNAAAAAAACRskAAAAAAAHKvQAAAAACAt8JAAAAAAABQjUAAAAAAgM7MQAAAAAAAhrpAAAAAAIAEw0AAAAAAAOfMQAAAAACApsFAAAAAAIAMyEAAAAAAAOiTQAAAAAAAq71AAAAAAIDowkAAAAAAAFTMQAAAAACAq8VAAAAAAACwg0AAAAAAAKCQQAAAAACAmcZAAAAAAADAlkAAAAAAADewQAAAAAAAdr5AAAAAAIDp0EAAAAAAAIB4QAAAAAAAIcJAAAAAAIBnwUAAAAAAALHBQAAAAAAAlchAAAAAAIAmxUAAAAAAABBxQAAAAAAA48ZAAAAAAABkr0AAAAAAAICIQAAAAAAA27FAAAAAAIBZwUAAAAAAALCKQAAAAAAAoHdAAAAAAAAxtUAAAAAAAPChQAAAAAAAgFFAAAAAAAA8m0AAAAAAAFikQAAAAAAA27FAAAAAAAB1yUAAAAAAAGfCQAAAAAAAJbFAAAAAAACQpEAAAAAAALi4QAAAAAAAGJZAAAAAAAAivkAAAAAAANm1QAAAAAAAjJVAAAAAAAAMmUAAAAAAADa5QAAAAAAAXqZAAAAAAABHw0AAAAAAANiOQAAAAAAASrtAAAAAAICV0EAAAAAAABqiQAAAAAAAoI5AAAAAAAAKpkAAAAAAAGinQAAAAAAABLtAAAAAAACFtUAAAAAAgLTPQAAAAAAAJKNAAAAAAICoxEAAAAAAAIS3QAAAAAAAIJtAAAAAAAB8uUAAAAAAAJe0QAAAAACAQc5AAAAAAAAeoUAAAAAAACm+QAAAAAAAIJtAAAAAAAAAXEAAAAAAAJLOQAAAAAAA7cdAAAAAAAB8okAAAAAAAKy0QAAAAAAAjJVAAAAAAAAaokAAAAAAAIK7QAAAAAAA4JxAAAAAAAC4n0AAAAAAANy2QAAAAACA7MhAAAAAAACYokAAAAAAABaqQAAAAAAAAbpAAAAAAACnwEAAAAAAADrIQAAAAAAALK9AAAAAAAA+vkAAAAAAAHG6QAAAAAAASIhAAAAAAAAGrkAAAAAAgGTAQAAAAAAA3K1AAAAAAIDdw0AAAAAAABS3QAAAAACA7stAAAAAAAA1y0AAAAAAAIvAQAAAAAAAQFNAAAAAAADyq0AAAAAAAEG/QAAAAAAAx71AAAAAAABtxEAAAAAAACy4QAAAAABABNBAAAAAAADMo0AAAAAAADaiQAAAAAAAlbFAAAAAAAD1tUAAAAAAAC6kQAAAAAAAwrJAAAAAAADQskAAAAAAAIe4QAAAAAAAlLNAAAAAAAAQeEAAAAAAAB6xQAAAAAAArLRAAAAAAACkpkAAAAAAAEO0QAAAAACAeMJAAAAAAAC1t0AAAAAAAPbDQAAAAAAAKJJAAAAAAIBozUAAAAAAAGCyQAAAAACAXsxAAAAAAACfwkAAAAAAAPCfQAAAAAAAuMhAAAAAAAD0sEAAAAAAAIBxQAAAAAAAgH9AAAAAAADAnUAAAAAAAHanQAAAAAAAwHZAAAAAAADyu0AAAAAAADy0QAAAAAAAIItAAAAAAABfu0AAAAAAAHiaQAAAAAAAIJRAAAAAAADQokAAAAAAACCbQAAAAAAA/LxAAAAAAADupUAAAAAAADStQAAAAAAAFJBAAAAAAADGoUAAAAAAQA7RQAAAAACAz8NAAAAAAAAouUAAAAAAAMKiQAAAAAAAo7FAAAAAAADAfUAAAAAAAOypQAAAAAAAIr5AAAAAAIChy0AAAAAAAHagQAAAAAAA2qpAAAAAAADwsUAAAAAAADu2QAAAAAAAqIVAAAAAAAAaokAAAAAAADB+QAAAAAAARrVAAAAAAACQhEAAAAAAAMS8QAAAAACAAsdAAAAAAAAAhUAAAAAAAJ+5QA==",
          "dtype": "f8"
         },
         "xaxis": "x",
         "xbins": {
          "end": 17465,
          "size": 1000,
          "start": 70
         },
         "yaxis": "y"
        },
        {
         "autobinx": false,
         "histnorm": "probability density",
         "legendgroup": "Canada",
         "marker": {
          "color": "#F0F921"
         },
         "name": "Canada",
         "opacity": 0.7,
         "type": "histogram",
         "x": {
          "bdata": "AAAAAACIlkAAAAAAAMavQAAAAACAL8FAAAAAAADQmUAAAAAAAOagQAAAAAAArbJAAAAAAACyvUAAAAAAAAGzQAAAAAAAkHtAAAAAAEBm0EAAAAAAAAKoQAAAAAAACINAAAAAAACAr0AAAAAAAPK7QAAAAAAAzqZAAAAAAACqv0AAAAAAgFfFQAAAAAAAhJdAAAAAAADgnEAAAAAAALCKQAAAAAAA3rJAAAAAAAAqrEAAAAAAAFS1QAAAAAAAkqdAAAAAAAAjvEAAAAAAABqpQAAAAAAAiqlAAAAAAABooEAAAAAAAFCWQAAAAAAALqtAAAAAAIAdwkAAAAAAAJ6kQAAAAAAArbJAAAAAAIBDykAAAAAAgPfAQAAAAAAA3qJAAAAAAAC+o0AAAAAAAPuwQAAAAAAAcHxAAAAAAABQnUAAAAAAgADEQAAAAACA5MNAAAAAAAAUoEAAAAAAAEB6QAAAAAAASM9AAAAAAIB3xEAAAAAAAGGwQAAAAAAAuLhAAAAAAAAmvUAAAAAAACDLQAAAAAAAIJRAAAAAAAAIo0AAAAAAgNTAQAAAAACA58tAAAAAAACQq0AAAAAAAM+0QAAAAAAA1L9AAAAAAADyq0AAAAAAAM+7QAAAAAAAqbNAAAAAAABMvkAAAAAAAMikQAAAAAAABsBAAAAAAABAk0AAAAAAgELFQAAAAAAAWJtAAAAAAAAsqEAAAAAAAOCsQAAAAAAAWIRAAAAAAABslkAAAAAAAJXIQAAAAAAAErtAAAAAAACgkEAAAAAAAPrCQAAAAACAgsNAAAAAAABqqkAAAAAAgKLCQAAAAACA8sNAAAAAAACPxkAAAAAAAGTBQAAAAAAAFsNAAAAAAABQvUAAAAAAAFibQAAAAACAXc5AAAAAAABax0AAAAAAANinQAAAAAAAbL1AAAAAAAC6q0AAAAAAAEBzQAAAAAAA4KVAAAAAAADMk0AAAAAAAHClQAAAAAAAo7FAAAAAAADjtkAAAAAAAKCnQAAAAAAA+rJAAAAAAAAMkkAAAAAAACKuQAAAAAAABJtAAAAAAADGuEAAAAAAAD3CQAAAAAAAuIhAAAAAAABOw0AAAAAAAF24QAAAAAAAu7lAAAAAAAAwfkAAAAAAAHSUQAAAAAAAeJpAAAAAAAAJwUAAAAAAgLrKQAAAAAAAo79AAAAAAACWtkAAAAAAAP6hQAAAAAAA1KFAAAAAAAAivkAAAAAAANCJQAAAAAAABrdAAAAAAACUqkAAAAAAALioQAAAAAAAxq9AAAAAAABHw0AAAAAAAAu0QAAAAAAA1JFAAAAAAABGpUAAAAAAADu2QAAAAACAbMVAAAAAAADDsEAAAAAAAEyeQAAAAAAABKtAAAAAAAATskAAAAAAAIBvQAAAAAAAQGpAAAAAAABwlUAAAAAAAIi9QAAAAAAAXbhAAAAAAABHs0AAAAAAAGqqQAAAAACAT9BAAAAAAABavkAAAAAAANe5QAAAAACALspAAAAAAIDVzEAAAAAAAPG2QAAAAACARMhAAAAAAAB/s0AAAAAAAOizQAAAAAAAsr1AAAAAAADaqkAAAAAAADSdQAAAAAAAJKpAAAAAAAAuxEAAAAAAAOyyQAAAAAAAEI9AAAAAAAB2sEAAAAAAAACsQAAAAACAYMhAAAAAAADVtkAAAAAAADS2QAAAAAAAC8RAAAAAAAAks0AAAAAAAPu3QAAAAAAApbtAAAAAAACwo0AAAAAAAMK5QAAAAAAAiIZAAAAAAACckUAAAAAAAHi6QAAAAAAAOKxAAAAAAADft0AAAAAAABylQAAAAAAA/7ZAAAAAAIAawUAAAAAAAKe3QAAAAACAlcBAAAAAAADwgUA=",
          "dtype": "f8"
         },
         "xaxis": "x",
         "xbins": {
          "end": 16793,
          "size": 1000,
          "start": 210
         },
         "yaxis": "y"
        },
        {
         "legendgroup": "UK",
         "marker": {
          "color": "#0D0887"
         },
         "mode": "lines",
         "name": "UK",
         "showlegend": false,
         "type": "scatter",
         "x": [
          7,
          44.968,
          82.936,
          120.904,
          158.872,
          196.84,
          234.808,
          272.776,
          310.744,
          348.712,
          386.68,
          424.648,
          462.616,
          500.584,
          538.552,
          576.52,
          614.488,
          652.456,
          690.424,
          728.392,
          766.36,
          804.328,
          842.296,
          880.264,
          918.232,
          956.2,
          994.168,
          1032.136,
          1070.104,
          1108.072,
          1146.04,
          1184.008,
          1221.976,
          1259.944,
          1297.912,
          1335.88,
          1373.848,
          1411.816,
          1449.784,
          1487.752,
          1525.72,
          1563.688,
          1601.656,
          1639.624,
          1677.592,
          1715.56,
          1753.528,
          1791.496,
          1829.464,
          1867.432,
          1905.4,
          1943.368,
          1981.336,
          2019.304,
          2057.272,
          2095.24,
          2133.208,
          2171.176,
          2209.144,
          2247.112,
          2285.08,
          2323.048,
          2361.016,
          2398.984,
          2436.952,
          2474.92,
          2512.888,
          2550.856,
          2588.824,
          2626.792,
          2664.76,
          2702.728,
          2740.696,
          2778.664,
          2816.632,
          2854.6,
          2892.568,
          2930.536,
          2968.504,
          3006.472,
          3044.44,
          3082.408,
          3120.376,
          3158.344,
          3196.312,
          3234.28,
          3272.248,
          3310.216,
          3348.184,
          3386.152,
          3424.12,
          3462.088,
          3500.056,
          3538.024,
          3575.992,
          3613.96,
          3651.928,
          3689.896,
          3727.864,
          3765.832,
          3803.8,
          3841.768,
          3879.736,
          3917.704,
          3955.672,
          3993.64,
          4031.608,
          4069.576,
          4107.544,
          4145.512,
          4183.48,
          4221.448,
          4259.416,
          4297.384,
          4335.352,
          4373.32,
          4411.288,
          4449.256,
          4487.224,
          4525.192,
          4563.16,
          4601.128,
          4639.096,
          4677.064,
          4715.032,
          4753,
          4790.968,
          4828.936,
          4866.904,
          4904.872,
          4942.84,
          4980.808,
          5018.776,
          5056.744,
          5094.712,
          5132.68,
          5170.648,
          5208.616,
          5246.584,
          5284.552,
          5322.52,
          5360.488,
          5398.456,
          5436.424,
          5474.392,
          5512.36,
          5550.328,
          5588.296,
          5626.264,
          5664.232,
          5702.2,
          5740.168,
          5778.136,
          5816.104,
          5854.072,
          5892.04,
          5930.008,
          5967.976,
          6005.944,
          6043.912,
          6081.88,
          6119.848,
          6157.816,
          6195.784,
          6233.752,
          6271.72,
          6309.688,
          6347.656,
          6385.624,
          6423.592,
          6461.56,
          6499.528,
          6537.496,
          6575.464,
          6613.432,
          6651.4,
          6689.368,
          6727.336,
          6765.304,
          6803.272,
          6841.24,
          6879.208,
          6917.176,
          6955.144,
          6993.112,
          7031.08,
          7069.048,
          7107.016,
          7144.984,
          7182.952,
          7220.92,
          7258.888,
          7296.856,
          7334.824,
          7372.792,
          7410.76,
          7448.728,
          7486.696,
          7524.664,
          7562.632,
          7600.6,
          7638.568,
          7676.536,
          7714.504,
          7752.472,
          7790.44,
          7828.408,
          7866.376,
          7904.344,
          7942.312,
          7980.28,
          8018.248,
          8056.216,
          8094.184,
          8132.152,
          8170.12,
          8208.088,
          8246.056,
          8284.024,
          8321.992,
          8359.96,
          8397.928,
          8435.896,
          8473.864,
          8511.832,
          8549.8,
          8587.768,
          8625.736,
          8663.704,
          8701.672,
          8739.64,
          8777.608,
          8815.576,
          8853.544,
          8891.512,
          8929.48,
          8967.448,
          9005.416,
          9043.384,
          9081.352,
          9119.32,
          9157.288,
          9195.256,
          9233.224,
          9271.192,
          9309.16,
          9347.128,
          9385.096,
          9423.064,
          9461.032,
          9499,
          9536.968,
          9574.936,
          9612.904,
          9650.872,
          9688.84,
          9726.808,
          9764.776,
          9802.744,
          9840.712,
          9878.68,
          9916.648,
          9954.616,
          9992.584,
          10030.552,
          10068.52,
          10106.488,
          10144.456,
          10182.424,
          10220.392,
          10258.36,
          10296.328,
          10334.296,
          10372.264,
          10410.232,
          10448.2,
          10486.168,
          10524.136,
          10562.104,
          10600.072,
          10638.04,
          10676.008,
          10713.976,
          10751.944,
          10789.912,
          10827.88,
          10865.848,
          10903.816,
          10941.784,
          10979.752,
          11017.72,
          11055.688,
          11093.656,
          11131.624,
          11169.592,
          11207.56,
          11245.528,
          11283.496,
          11321.464,
          11359.432,
          11397.4,
          11435.368,
          11473.336,
          11511.304,
          11549.272,
          11587.24,
          11625.208,
          11663.176,
          11701.144,
          11739.112,
          11777.08,
          11815.048,
          11853.016,
          11890.984,
          11928.952,
          11966.92,
          12004.888,
          12042.856,
          12080.824,
          12118.792,
          12156.76,
          12194.728,
          12232.696,
          12270.664,
          12308.632,
          12346.6,
          12384.568,
          12422.536,
          12460.504,
          12498.472,
          12536.44,
          12574.408,
          12612.376,
          12650.344,
          12688.312,
          12726.28,
          12764.248,
          12802.216,
          12840.184,
          12878.152,
          12916.12,
          12954.088,
          12992.056,
          13030.024,
          13067.992,
          13105.96,
          13143.928,
          13181.896,
          13219.864,
          13257.832,
          13295.8,
          13333.768,
          13371.736,
          13409.704,
          13447.672,
          13485.64,
          13523.608,
          13561.576,
          13599.544,
          13637.512,
          13675.48,
          13713.448,
          13751.416,
          13789.384,
          13827.352,
          13865.32,
          13903.288,
          13941.256,
          13979.224,
          14017.192,
          14055.16,
          14093.128,
          14131.096,
          14169.064,
          14207.032,
          14245,
          14282.968,
          14320.936,
          14358.904,
          14396.872,
          14434.84,
          14472.808,
          14510.776,
          14548.744,
          14586.712,
          14624.68,
          14662.648,
          14700.616,
          14738.584,
          14776.552,
          14814.52,
          14852.488,
          14890.456,
          14928.424,
          14966.392,
          15004.36,
          15042.328,
          15080.296,
          15118.264,
          15156.232,
          15194.2,
          15232.168,
          15270.136,
          15308.104,
          15346.072,
          15384.04,
          15422.008,
          15459.976,
          15497.944,
          15535.912,
          15573.88,
          15611.848,
          15649.816,
          15687.784,
          15725.752,
          15763.72,
          15801.688,
          15839.656,
          15877.624,
          15915.592,
          15953.56,
          15991.528,
          16029.496,
          16067.464,
          16105.432,
          16143.4,
          16181.368,
          16219.336,
          16257.304,
          16295.272,
          16333.24,
          16371.208,
          16409.176,
          16447.144,
          16485.112,
          16523.08,
          16561.048,
          16599.016,
          16636.984,
          16674.952,
          16712.92,
          16750.888,
          16788.856,
          16826.824,
          16864.792,
          16902.76,
          16940.728,
          16978.696,
          17016.664,
          17054.632,
          17092.6,
          17130.568,
          17168.536,
          17206.504,
          17244.472,
          17282.44,
          17320.408,
          17358.376,
          17396.344,
          17434.312,
          17472.28,
          17510.248,
          17548.216,
          17586.184,
          17624.152,
          17662.12,
          17700.088,
          17738.056,
          17776.024,
          17813.992,
          17851.96,
          17889.928,
          17927.896,
          17965.864,
          18003.832,
          18041.8,
          18079.768,
          18117.736,
          18155.704,
          18193.672,
          18231.64,
          18269.608,
          18307.576,
          18345.544,
          18383.512,
          18421.48,
          18459.448,
          18497.416,
          18535.384,
          18573.352,
          18611.32,
          18649.288,
          18687.256,
          18725.224,
          18763.192,
          18801.16,
          18839.128,
          18877.096,
          18915.064,
          18953.032
         ],
         "xaxis": "x",
         "y": {
          "bdata": "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",
          "dtype": "f8"
         },
         "yaxis": "y"
        },
        {
         "legendgroup": "India",
         "marker": {
          "color": "#47039F"
         },
         "mode": "lines",
         "name": "India",
         "showlegend": false,
         "type": "scatter",
         "x": [
          28,
          72.044,
          116.088,
          160.132,
          204.176,
          248.22,
          292.264,
          336.308,
          380.352,
          424.396,
          468.44,
          512.4839999999999,
          556.528,
          600.572,
          644.616,
          688.66,
          732.704,
          776.748,
          820.792,
          864.836,
          908.88,
          952.924,
          996.968,
          1041.012,
          1085.056,
          1129.1,
          1173.144,
          1217.188,
          1261.232,
          1305.276,
          1349.32,
          1393.364,
          1437.408,
          1481.452,
          1525.496,
          1569.54,
          1613.584,
          1657.628,
          1701.672,
          1745.716,
          1789.76,
          1833.804,
          1877.848,
          1921.892,
          1965.936,
          2009.98,
          2054.024,
          2098.068,
          2142.112,
          2186.156,
          2230.2,
          2274.244,
          2318.288,
          2362.332,
          2406.376,
          2450.42,
          2494.464,
          2538.508,
          2582.552,
          2626.596,
          2670.64,
          2714.684,
          2758.728,
          2802.772,
          2846.816,
          2890.86,
          2934.904,
          2978.948,
          3022.992,
          3067.036,
          3111.08,
          3155.124,
          3199.168,
          3243.212,
          3287.256,
          3331.3,
          3375.344,
          3419.388,
          3463.432,
          3507.476,
          3551.52,
          3595.564,
          3639.608,
          3683.652,
          3727.696,
          3771.74,
          3815.784,
          3859.828,
          3903.872,
          3947.916,
          3991.96,
          4036.004,
          4080.048,
          4124.092,
          4168.136,
          4212.18,
          4256.224,
          4300.268,
          4344.312,
          4388.356,
          4432.4,
          4476.444,
          4520.488,
          4564.532,
          4608.576,
          4652.62,
          4696.664,
          4740.708,
          4784.752,
          4828.796,
          4872.84,
          4916.884,
          4960.928,
          5004.972,
          5049.016,
          5093.06,
          5137.104,
          5181.148,
          5225.192,
          5269.236,
          5313.28,
          5357.324,
          5401.368,
          5445.412,
          5489.456,
          5533.5,
          5577.544,
          5621.588,
          5665.632,
          5709.676,
          5753.72,
          5797.764,
          5841.808,
          5885.852,
          5929.896,
          5973.94,
          6017.984,
          6062.028,
          6106.072,
          6150.116,
          6194.16,
          6238.204,
          6282.248,
          6326.292,
          6370.336,
          6414.38,
          6458.424,
          6502.468,
          6546.512,
          6590.556,
          6634.6,
          6678.644,
          6722.688,
          6766.732,
          6810.776,
          6854.82,
          6898.864,
          6942.908,
          6986.952,
          7030.996,
          7075.04,
          7119.084,
          7163.128,
          7207.172,
          7251.216,
          7295.26,
          7339.304,
          7383.348,
          7427.392,
          7471.436,
          7515.48,
          7559.524,
          7603.568,
          7647.612,
          7691.656,
          7735.7,
          7779.744,
          7823.788,
          7867.832,
          7911.876,
          7955.92,
          7999.964,
          8044.008,
          8088.052,
          8132.096,
          8176.14,
          8220.184,
          8264.228,
          8308.272,
          8352.316,
          8396.36,
          8440.404,
          8484.448,
          8528.492,
          8572.536,
          8616.58,
          8660.624,
          8704.668,
          8748.712,
          8792.756,
          8836.8,
          8880.844,
          8924.888,
          8968.932,
          9012.976,
          9057.02,
          9101.064,
          9145.108,
          9189.152,
          9233.196,
          9277.24,
          9321.284,
          9365.328,
          9409.372,
          9453.416,
          9497.46,
          9541.504,
          9585.548,
          9629.592,
          9673.636,
          9717.68,
          9761.724,
          9805.768,
          9849.812,
          9893.856,
          9937.9,
          9981.944,
          10025.988,
          10070.032,
          10114.076,
          10158.12,
          10202.164,
          10246.208,
          10290.252,
          10334.296,
          10378.34,
          10422.384,
          10466.428,
          10510.472,
          10554.516,
          10598.56,
          10642.604,
          10686.648,
          10730.692,
          10774.736,
          10818.78,
          10862.824,
          10906.868,
          10950.912,
          10994.956,
          11039,
          11083.044,
          11127.088,
          11171.132,
          11215.176,
          11259.22,
          11303.264,
          11347.308,
          11391.352,
          11435.396,
          11479.44,
          11523.484,
          11567.528,
          11611.572,
          11655.616,
          11699.66,
          11743.704,
          11787.748,
          11831.792,
          11875.836,
          11919.88,
          11963.924,
          12007.968,
          12052.012,
          12096.056,
          12140.1,
          12184.144,
          12228.188,
          12272.232,
          12316.276,
          12360.32,
          12404.364,
          12448.408,
          12492.452,
          12536.496,
          12580.54,
          12624.584,
          12668.628,
          12712.672,
          12756.716,
          12800.76,
          12844.804,
          12888.848,
          12932.892,
          12976.936,
          13020.98,
          13065.024,
          13109.068,
          13153.112,
          13197.156,
          13241.2,
          13285.244,
          13329.288,
          13373.332,
          13417.376,
          13461.42,
          13505.464,
          13549.508,
          13593.552,
          13637.596,
          13681.64,
          13725.684,
          13769.728,
          13813.772,
          13857.816,
          13901.86,
          13945.904,
          13989.948,
          14033.992,
          14078.036,
          14122.08,
          14166.124,
          14210.168,
          14254.212,
          14298.256,
          14342.3,
          14386.344,
          14430.388,
          14474.432,
          14518.476,
          14562.52,
          14606.564,
          14650.608,
          14694.652,
          14738.696,
          14782.74,
          14826.784,
          14870.828,
          14914.872,
          14958.916,
          15002.96,
          15047.004,
          15091.048,
          15135.092,
          15179.136,
          15223.18,
          15267.224,
          15311.268,
          15355.312,
          15399.356,
          15443.4,
          15487.444,
          15531.488,
          15575.532,
          15619.576,
          15663.62,
          15707.664,
          15751.708,
          15795.752,
          15839.796,
          15883.84,
          15927.884,
          15971.928,
          16015.972,
          16060.016,
          16104.06,
          16148.104,
          16192.148,
          16236.192,
          16280.236,
          16324.28,
          16368.324,
          16412.368,
          16456.412,
          16500.456,
          16544.5,
          16588.544,
          16632.588,
          16676.632,
          16720.676,
          16764.72,
          16808.764,
          16852.808,
          16896.852,
          16940.896,
          16984.94,
          17028.984,
          17073.028,
          17117.072,
          17161.116,
          17205.16,
          17249.204,
          17293.248,
          17337.292,
          17381.336,
          17425.38,
          17469.424,
          17513.468,
          17557.512,
          17601.556,
          17645.6,
          17689.644,
          17733.688,
          17777.732,
          17821.776,
          17865.82,
          17909.864,
          17953.908,
          17997.952,
          18041.996,
          18086.04,
          18130.084,
          18174.128,
          18218.172,
          18262.216,
          18306.26,
          18350.304,
          18394.348,
          18438.392,
          18482.436,
          18526.48,
          18570.524,
          18614.568,
          18658.612,
          18702.656,
          18746.7,
          18790.744,
          18834.788,
          18878.832,
          18922.876,
          18966.92,
          19010.964,
          19055.008,
          19099.052,
          19143.096,
          19187.14,
          19231.184,
          19275.228,
          19319.272,
          19363.316,
          19407.36,
          19451.404,
          19495.448,
          19539.492,
          19583.536,
          19627.58,
          19671.624,
          19715.668,
          19759.712,
          19803.756,
          19847.8,
          19891.844,
          19935.888,
          19979.932,
          20023.976,
          20068.02,
          20112.064,
          20156.108,
          20200.152,
          20244.196,
          20288.24,
          20332.284,
          20376.328,
          20420.372,
          20464.416,
          20508.46,
          20552.504,
          20596.548,
          20640.592,
          20684.636,
          20728.68,
          20772.724,
          20816.768,
          20860.812,
          20904.856,
          20948.9,
          20992.944,
          21036.988,
          21081.032,
          21125.076,
          21169.12,
          21213.164,
          21257.208,
          21301.252,
          21345.296,
          21389.34,
          21433.384,
          21477.428,
          21521.472,
          21565.516,
          21609.56,
          21653.604,
          21697.648,
          21741.692,
          21785.736,
          21829.78,
          21873.824,
          21917.868,
          21961.912,
          22005.956
         ],
         "xaxis": "x",
         "y": {
          "bdata": "FU0EaEhLDD/gVugxHvEMPxHVVUbwlg0/5bKBfZw8Dj+DJlioAOIOP9Hpy6L6hg8/dC0EM7QVED+K9joNlGcQP61UwBQMuRA/2HKIpwsKET/DalNVgloRP/wRBehfqhE/dbO/a5T5ET/j87o2EEgSP3V+0PDDlRI/onu4mqDiEj9XP/CUly4TP9wLRqaaeRM/RjsFApzDEz8Hmr5NjgwUP9E4qaZkVBQ/VnmYphKbFD/WmYRojOAUPyWDo4zGJBU/Jh4QPLZnFT9W9f4rUakVPzlnf6CN6RU/OSvJbmIoFj93Zhb/xmUWP04GC06zoRY/7ouq7R/cFj+F5d0FBhUXPwJfi1RfTBc/GB1DLSaCFz91+IJ4VbYXP5DtlLLo6Bc/cq4L6tsZGD9UNeG9K0kYP/6EO1vVdhg/uQjcetaiGD93RT5eLc0YP+THaszY9Rg/aWuDDtgcGT9DQw7sKkIZPyySBKfRZRk/c1ur98yHGT8lLjsIHqgZP7LbXHDGxhk/I9SAMMjjGT9K4xatJf8ZPzIIrKnhGBo/TRL0Q/8wGj+rocTugUcaPxQNB21tXBo/U5amzMVvGj9eL4Bhj4EaP+rrWMDOkRo/tgvguYigGj/AV8FVwq0aP61TzM2AuRo/bYk0icnDGj/S8+4XoswaP7hJMC4Q1Bo/9aIPoBnaGj+4plBdxN4aP60lWG0W4ho/i7NN6xXkGj9XgmwCyeQaPyBxheo15Bo/quuz5GLiGj9s50Y4Vt8aP9713i8W2xo/ohPCFqnVGj9IimU2Fc8aP4XrLdRgxxo/IuBkL5K+Gj9WOWR/r7QaPwpt9fG+qRo/BWDkqcadGj8WIsS9zJAaP7oC5DbXgho/Gi5zEOxzGj8zz9A2EWQaPw2FBodMUxo/cNJqzqNBGj8ACmnKHC8aP/EcbCi9Gxo/AprphYoHGj+1F4pwivIZP7M5bGbC3Bk/33h/1jfGGT9y1fMg8K4ZP2ueu5fwlhk/O4Icfz5+GT/dK00O32QZP4rBHHDXShk/9bGhwywwGT/EV+0c5BQZPycawoUC+Rg/+9JJ/ozcGD+uZ8p9iL8YP+yoVvP5oRg/v7V5RuaDGD84SdtXUmUYP6GD2wFDRhg/cewkGb0mGD/2lDNtxQYYP4xt0Mhg5hc/9QqA8pPFFz93PuSsY6QXP48NELfUghc/xbfNzOtgFz/InNamrT4XP0v0/PoeHBc/yWVHfET5Fj/gp/7aItYWP2JmrcS+shY/nMAS5ByPFj/+wgfhQWsWP2FKWGAyRxY/7suPA/MiFj8JgLpoiP4VPzh2Gyr32RU/6xXY3UO1FT/PkZkVc5AVP2HNJF6JaxU/WjDpPotGFT9Z3IY5fSEVP6avTMlj/BQ/GneuYkPXFD+hprNyILIUP2jkXl7/jBQ/hKgOguRnFD+hJ9cw1EIUP4e01bPSHRQ/Hbx9SeT4Ez9ldd8kDdQTP5ZY6GxRrxM/82qdO7WKEz+1Z0+dPGYTP1HNyI/rQRM/9dR1AcYdEz/7W4bQz/kSP8XKCcoM1hI/SwkFqYCyEj/4mYIVL48SPxT8nKMbbBI/p4KD0klJEj+P2XkLvSYSP2yA0qB4BBI/yZPkzH/iET99TP2w1cARP0uwTVR9nxE/iwDVonl+ET+VhkhszV0RP6px+WJ7PRE/7ou5GoYdET8roL8H8P0QP0d7jH273hA/rYbRreq/ED/xCFqnf6EQP3Ip+FR8gxA/sOF2fOJlED8gE5K9s0gQP1oD9pDxKxA/S4hHR50PED9KbGwQcOcPP5/HM6OFsA8/j7057Xx6Dz+yTOg9V0UPP2AKTowVEQ8/qbfOdbjdDj9d0fc8QKsOP6+je8iseQ4/VlVVov1IDj9mRhj3MRkOPwoCbZVI6g0/f+K97T+8DT+MZRUSFo8NPy0HMLbIYg0/rFHDL1U3DT/lpft2uAwNP2MRMifv4gw/81jbf/W5DD8uLLFlx5EMP5VEFmRgagw/j/61rrtDDD+YxV8j1B0MP6N2Hkyk+As/tqWLYSbUCz9PfF5NVLALP+CtNa0njQs/msmb1ZlqCz/X9kTVo0gLP+/yhHg+Jws/uO77TGIGCz93snilB+YKP6g3Dp4mxgo/QbBaILemCj+bvf3nsIcKPwFiO4cLaQo/ZgLJa75KCj/CmcHjwCwKP/0KviIKDwo/ZEsOR5HxCT937g9fTdQJPyRrnm41twk/3kOZdECaCT/eDXxwZX0JP8cpBGibYAk/R9bfbNlDCT+bIGKiFicJP1ATN0NKCgk/a2QTp2vtCD9FyFpIctAIP9D2t8lVswg/Fl2h+w2WCD+QZ8XhkngIP4BGWbjcWgg/SAxF+eM8CD+aBShhoR4IPy81MPQNAAg/Geu/AiPhBz+yhdwt2sEHPxeHYWstogc/Sk7zCReCBz/g7qy0kWEHPzDVhHaYQAc/0B9kvSYfBz8U2uxcOP0GP0WM65DJ2gY/o+hw/9a3Bj+zs5C6XZQGP/Nmw0FbcAY/CnHogs1LBj9PZOfasiYGP03U7hUKAQY/YhpQb9LaBT8Ms/eQC7QFPyJlgpK1jAU/puPv99BkBT97H/SvXjwFP+IA6RFgEwU/W8Zi29bpBD+RyWktxb8EP6zsXIktlQQ/EnKAzRJqBD8zfD0xeD4EP3PpFkFhEgQ/z7FY2tHlAz9LVocmzrgDP1lVlZZaiwM/mvHk3XtdAz8G6hztNi8DPzIJ1+yQAAM/Rq4vOI/RAj9Coj1XN6ICP+mxefmOcgI/RJwd8JtCAj+D8YEoZBICP/J7gqbt4QE/Hr7wfj6xAT9w9BvSXIABPwLfdcZOTwE/L2FbgxoeAT/wwAcsxuwAP4T/uNpXuwA/EGgLnNWJAD+GCpJqRVgAP6VksSqtJgA/qACCTSXq/z75kPAW94b/PmSQVMnaI/8+R+imNNvA/j6CB/jbAl7+PgWE4fBb+/0+vzSnT/CY/T7aBwl8yTb9PmiOxZ7w1Pw+3O7Lg25z/D6/qxqZSxL8Pp9tR+6Psfs+zcuqNENR+z6k5CnAbPH6Pux9logTkvo+PlmdKz4z+j7zcTnv8tT5Pg33ocQ3d/k+mAeoSxIa+T67g3jWh734PgOrtW2dYfg+LMHb1FcG+D6HkOOOu6v3PmBaFePMUfc+up3+4Y/49j7BEX1qCKD2Ph1E0S46SPY+W3uruSjx9T74yiVz15r1Pq2vnqVJRfU+SQ5ogoLw9D4zDj8mhZz0Ps/9gZ1USfQ+tzwa6PP28z6+BxH9ZaXzPlH3xs2tVPM+dQTHSM4E8z5a+S5cyrXyPrVQqPekZ/I+aqvtDWEa8j5CL9qVAc7xPjZRAYuJgvE+wbrO7fs38T63Jy/DW+7wPttAxBOspfA+3pam6u9d8D7i97lTKhfwPjnCMrO8ou8+55BBBh4Z7z7pxDehfpHuPtq7Q3HkC+4+Wp1NSVWI7T6sVZja1gbtPjif9Kxuh+w+hvWaFiIK7D7pCsIz9o7rPsLgB97vFes+4PTDoxOf6j4QFFm/ZSrqPjJFnQ7qt+k+w/RtCqRH6T5PA4a+ltnoPtylqsHEbeg+1iJDLjAE6D7+Y26b2pznPhkZqBbFN+c+IsYNHvDU5j5ikFKbW3TmPgH5bt8GFuY+cfUXn/C55T4X/gbwFmDlPgrFGkd3COU+GVJWdw6z5D4WQ8Kx2F/kPtrwMYbRDuQ+hDjs5PO/4z6isDUhOnPjPjQjuPSdKOM+nEXBgxjg4j7D21BiopniPju+7JkzVeI+E6EvsMMS4j5K/AWuSdLhPtkciye8k+E+/ix3RBFX4T668g3JPhzhPrkZfR864+A+Rx+YYfir4D5gYt9ibnbgPpNwv7qQQuA+MWv1zlMQ4D54nQq8V7/fPiX9XRMaYd8+XnaewtYF3z7nKDTYda3ePi75OWbfV94+qLHulfsE3j7dj3K6srTdPkSjsmLtZt0+HphlapQb3T4R7v8JkdLcPm8wiOXMi9w+noU2GjJH3D5OyM1KqwTcPg9Zn6ojxNs+PuEtB4eF2z65WmbQwUjbPqLLaR/BDds+WkHlu3LU2j6Ep/gfxZzaPqUZsHqnZto+HTsWsQky2j5c7+hd3P7ZPix8/M8Qzdk+eKVbB5mc2T4GrjWxZ23ZPsNSrSJwP9k+g86dUqYS2T5fsWzS/ubYPpzfAMZuvNg+T1L42uuS2D5FQTc/bGrYPvUp7JbmQtg+FLMk8lEc2D6wuw/CpfbXPsnxCM7Z0dc+2h2KKOat1z4Y5R0kw4rXPs0eb0hpaNc+IvqOR9FG1z6gIYvz8yXXPnHDazTKBdc+WfSv/kzm1j41R11KdcfWPnywtQo8qdY+5OmkJpqL1j6VifRxiG7WPpjoU6f/UdY+f8c+Y/g11j49Z8sfaxrWPv2HZjFQ/9U+NnmBxJ/k1T4HHjTcUcrVPmiI0lFesNU+UpVz1byW1T5PzGPvZH3VPrytfQJOZNU+Q55eT29L1T4SuW34vzLVPuUOqAY3GtU+LTUkb8sB1T6Xij0ZdOnUPg9CVuUn0dQ+IRgetN241D5nmUpujKDUPqsMrQwriNQ+NnORoLBv1D6TnFFcFFfUPpMJB5xNPtQ+zEZG7lMl1D49hM4cHwzUPlN7GDWn8tM+yS6wkOTY0z7CtUXdz77TPg4UYiRipNM+Ehuu0pSJ0z7ybLq+YW7TPur9OC/DUtM+LtGZ4LM20z5xLf4JLxrTPuwbd2Ew/dI+sbKFH7Tf0j4caNUBt8HSPlt6Kk02o9I+8EmAzi+E0j7tYVXboWTSPvvCJFGLRNI+nt8NlOsj0j5wia6MwgLSPrjUM6UQ4dE+ha+oxda+0T6djYpPFpzRPjYYrhjReNE+8ER/ZQlV0T74jqniwTDRPrBENp79C9E+AvIvAMDm0D7V4NrCDMHQPnlzk+rnmtA+tMBjvVV00D6eUmK6Wk3QPm467JD7JdA+t6KZL3r8zz5T9sqISKzPPlIiz0NsW88+noxkke8Jzz49rMur3LfOPtZXecY9Zc4+2Mt0/hwSzj6FWX9LhL7NPm+WIXJ9as0+dpS39hEWzT7pIZMRS8HMPv5eSKQxbMw+QRg2MM4WzD53W1jOKMHLPsOmcChJa8s+eeyLczYVyz4Sdutr977KPsV+UlKSaMo+HzO36gwSyj5poVJ8bLvJPtsdCNO1ZMk+NqsZQu0NyT7GKxyoFrfIPkR2G3Q1YMg+cfPbq0wJyD4qISXzXrLHPmtL/pNuW8c+zPfEh30Exz7p7QKBja3GPhR26PWfVsY+2llOK7b/xT77bCJA0ajFPnLiIDnyUcU+OXq8DBr7xD5rnRevSaTEPt3S8B2CTcQ+zoZlbMT2wz4S927OEaDDPg==",
          "dtype": "f8"
         },
         "yaxis": "y"
        },
        {
         "legendgroup": "Australia",
         "marker": {
          "color": "#9C179E"
         },
         "mode": "lines",
         "name": "Australia",
         "showlegend": false,
         "type": "scatter",
         "x": [
          63,
          101.78,
          140.56,
          179.34,
          218.12,
          256.9,
          295.68,
          334.46,
          373.24,
          412.02,
          450.8,
          489.58,
          528.36,
          567.14,
          605.92,
          644.7,
          683.48,
          722.26,
          761.04,
          799.82,
          838.6,
          877.38,
          916.16,
          954.94,
          993.72,
          1032.5,
          1071.28,
          1110.06,
          1148.84,
          1187.62,
          1226.4,
          1265.18,
          1303.96,
          1342.74,
          1381.52,
          1420.3,
          1459.08,
          1497.86,
          1536.64,
          1575.42,
          1614.2,
          1652.98,
          1691.76,
          1730.54,
          1769.32,
          1808.1,
          1846.88,
          1885.66,
          1924.44,
          1963.22,
          2002,
          2040.78,
          2079.56,
          2118.34,
          2157.12,
          2195.9,
          2234.68,
          2273.46,
          2312.24,
          2351.02,
          2389.8,
          2428.58,
          2467.36,
          2506.14,
          2544.92,
          2583.7,
          2622.48,
          2661.26,
          2700.04,
          2738.82,
          2777.6,
          2816.38,
          2855.16,
          2893.94,
          2932.72,
          2971.5,
          3010.28,
          3049.06,
          3087.84,
          3126.62,
          3165.4,
          3204.18,
          3242.96,
          3281.74,
          3320.52,
          3359.3,
          3398.08,
          3436.86,
          3475.64,
          3514.42,
          3553.2,
          3591.98,
          3630.76,
          3669.54,
          3708.32,
          3747.1,
          3785.88,
          3824.66,
          3863.44,
          3902.22,
          3941,
          3979.78,
          4018.56,
          4057.34,
          4096.12,
          4134.9,
          4173.68,
          4212.46,
          4251.24,
          4290.02,
          4328.8,
          4367.58,
          4406.36,
          4445.14,
          4483.92,
          4522.7,
          4561.48,
          4600.26,
          4639.04,
          4677.82,
          4716.6,
          4755.38,
          4794.16,
          4832.94,
          4871.72,
          4910.5,
          4949.28,
          4988.06,
          5026.84,
          5065.62,
          5104.4,
          5143.18,
          5181.96,
          5220.74,
          5259.52,
          5298.3,
          5337.08,
          5375.86,
          5414.64,
          5453.42,
          5492.2,
          5530.98,
          5569.76,
          5608.54,
          5647.32,
          5686.1,
          5724.88,
          5763.66,
          5802.44,
          5841.22,
          5880,
          5918.78,
          5957.56,
          5996.34,
          6035.12,
          6073.9,
          6112.68,
          6151.46,
          6190.24,
          6229.02,
          6267.8,
          6306.58,
          6345.36,
          6384.14,
          6422.92,
          6461.7,
          6500.48,
          6539.26,
          6578.04,
          6616.82,
          6655.6,
          6694.38,
          6733.16,
          6771.94,
          6810.72,
          6849.5,
          6888.28,
          6927.06,
          6965.84,
          7004.62,
          7043.4,
          7082.18,
          7120.96,
          7159.74,
          7198.52,
          7237.3,
          7276.08,
          7314.86,
          7353.64,
          7392.42,
          7431.2,
          7469.98,
          7508.76,
          7547.54,
          7586.32,
          7625.1,
          7663.88,
          7702.66,
          7741.44,
          7780.22,
          7819,
          7857.78,
          7896.56,
          7935.34,
          7974.12,
          8012.9,
          8051.68,
          8090.46,
          8129.24,
          8168.02,
          8206.8,
          8245.58,
          8284.36,
          8323.14,
          8361.92,
          8400.7,
          8439.48,
          8478.26,
          8517.04,
          8555.82,
          8594.6,
          8633.38,
          8672.16,
          8710.94,
          8749.72,
          8788.5,
          8827.28,
          8866.06,
          8904.84,
          8943.62,
          8982.4,
          9021.18,
          9059.96,
          9098.74,
          9137.52,
          9176.3,
          9215.08,
          9253.86,
          9292.64,
          9331.42,
          9370.2,
          9408.98,
          9447.76,
          9486.54,
          9525.32,
          9564.1,
          9602.88,
          9641.66,
          9680.44,
          9719.22,
          9758,
          9796.78,
          9835.56,
          9874.34,
          9913.12,
          9951.9,
          9990.68,
          10029.46,
          10068.24,
          10107.02,
          10145.8,
          10184.58,
          10223.36,
          10262.14,
          10300.92,
          10339.7,
          10378.48,
          10417.26,
          10456.04,
          10494.82,
          10533.6,
          10572.38,
          10611.16,
          10649.94,
          10688.72,
          10727.5,
          10766.28,
          10805.06,
          10843.84,
          10882.62,
          10921.4,
          10960.18,
          10998.96,
          11037.74,
          11076.52,
          11115.3,
          11154.08,
          11192.86,
          11231.64,
          11270.42,
          11309.2,
          11347.98,
          11386.76,
          11425.54,
          11464.32,
          11503.1,
          11541.88,
          11580.66,
          11619.44,
          11658.22,
          11697,
          11735.78,
          11774.56,
          11813.34,
          11852.12,
          11890.9,
          11929.68,
          11968.46,
          12007.24,
          12046.02,
          12084.8,
          12123.58,
          12162.36,
          12201.14,
          12239.92,
          12278.7,
          12317.48,
          12356.26,
          12395.04,
          12433.82,
          12472.6,
          12511.38,
          12550.16,
          12588.94,
          12627.72,
          12666.5,
          12705.28,
          12744.06,
          12782.84,
          12821.62,
          12860.4,
          12899.18,
          12937.96,
          12976.74,
          13015.52,
          13054.3,
          13093.08,
          13131.86,
          13170.64,
          13209.42,
          13248.2,
          13286.98,
          13325.76,
          13364.54,
          13403.32,
          13442.1,
          13480.88,
          13519.66,
          13558.44,
          13597.22,
          13636,
          13674.78,
          13713.56,
          13752.34,
          13791.12,
          13829.9,
          13868.68,
          13907.46,
          13946.24,
          13985.02,
          14023.8,
          14062.58,
          14101.36,
          14140.14,
          14178.92,
          14217.7,
          14256.48,
          14295.26,
          14334.04,
          14372.82,
          14411.6,
          14450.38,
          14489.16,
          14527.94,
          14566.72,
          14605.5,
          14644.28,
          14683.06,
          14721.84,
          14760.62,
          14799.4,
          14838.18,
          14876.96,
          14915.74,
          14954.52,
          14993.3,
          15032.08,
          15070.86,
          15109.64,
          15148.42,
          15187.2,
          15225.98,
          15264.76,
          15303.54,
          15342.32,
          15381.1,
          15419.88,
          15458.66,
          15497.44,
          15536.22,
          15575,
          15613.78,
          15652.56,
          15691.34,
          15730.12,
          15768.9,
          15807.68,
          15846.46,
          15885.24,
          15924.02,
          15962.8,
          16001.58,
          16040.36,
          16079.14,
          16117.92,
          16156.7,
          16195.48,
          16234.26,
          16273.04,
          16311.82,
          16350.6,
          16389.379999999997,
          16428.16,
          16466.94,
          16505.72,
          16544.5,
          16583.28,
          16622.06,
          16660.84,
          16699.62,
          16738.4,
          16777.18,
          16815.96,
          16854.74,
          16893.52,
          16932.3,
          16971.08,
          17009.86,
          17048.64,
          17087.42,
          17126.2,
          17164.98,
          17203.76,
          17242.54,
          17281.32,
          17320.1,
          17358.88,
          17397.66,
          17436.44,
          17475.22,
          17514,
          17552.78,
          17591.56,
          17630.34,
          17669.12,
          17707.9,
          17746.68,
          17785.46,
          17824.24,
          17863.02,
          17901.8,
          17940.58,
          17979.36,
          18018.14,
          18056.92,
          18095.7,
          18134.48,
          18173.26,
          18212.04,
          18250.82,
          18289.6,
          18328.38,
          18367.16,
          18405.94,
          18444.72,
          18483.5,
          18522.28,
          18561.06,
          18599.84,
          18638.62,
          18677.4,
          18716.18,
          18754.96,
          18793.74,
          18832.52,
          18871.3,
          18910.08,
          18948.86,
          18987.64,
          19026.42,
          19065.2,
          19103.98,
          19142.76,
          19181.54,
          19220.32,
          19259.1,
          19297.88,
          19336.66,
          19375.44,
          19414.22
         ],
         "xaxis": "x",
         "y": {
          "bdata": "v4WsHJhjCj8LfGFOzfUKP48BlhN/hws/LvXUaJIYDD+rMP4g7agMP1EBJ/d1OA0/XfcNnxTHDT/HegjUsVQOP6EkU2Y34Q4/s56wRpBsDz8uvkWQqPYPP2VUUsi2PxA/gQn+5maDED/pf7GFXMYQP2puniWQCBE/nara5/pJET9bXquMlooRP7a+4HFdyhE/0zlHkEoJEj/fyjR4WUcSPyLROk2GhBI/HWgGwc3AEj8yy3oNLfwSPznJEu6hNhM/x6qXmCpwEz+UMz21xagTP5uLM1Zy4BM/ueLA7i8XFD8TgvVJ/kwUPza7DYHdgRQ/NbqV8c21FD9yrWMz0OgUP435fA7lGhU/X0r7cA1MFT+GQgZlSnwVPw5R9gadqxU/69G0ewbaFT/SEm3nhwcWP3kioWQiNBY/Ani0+9ZfFj/egv2apooWP0cWbg+StBY/qWLh/ZndFj/t1xzdvgUXP9HTj/AALRc/NnbcQ2BTFz/DVTKn3HgXP50ggqx1nRc/sXqPpSrBFz91puSi+uMXP129qXPkBRg/nnJfpuYmGD/bk3uK/0YYPwu54zItZhg/7d1AeW2EGD8j8yQCvqEYPxPb+UEcvhg/vr6vgoXZGD/nNB/q9vMYP3ReEoFtDRk/htzmOuYlGT+GZbn9XT0ZP+e9CqvRUxk/qfnMKD5pGT85LsdqoH0ZPwwiPXz1kBk/dBHIiTqjGT/lTU3rbLQZP/ZO/y2KxBk/xMNVHpDTGT/xTOnRfOEZPzLEH7FO7hk/1FaWgAT6GT8tNjdqnQQaP9hA6QUZDho/0MLIYXcWGj9aQtkJuR0aP8A/IQ/fIxo/6dUhDusoGj+wRp003ywaP9isoEa+Lxo/vkvGoosxGj9AQqdFSzIaP4u8dMwBMho/xR+ydrQwGj91EAsnaS4aP8yaQWMmKxo/EC8yU/MmGj/Yiey+1yEaP/UD4gvcGxo//SIrOQkVGj8TmefaaA0aPzktvRQFBRo/jkV7k+j7GT8k/+mFHvIZP8jizJSy5xk/S1ki2rDcGT86BarXJdEZP4IXvWwexRk/tJKEy6e4GT+xOpptz6sZP0ikIQijnhk/j3pnfzCRGT81nRXahYMZP9AyCzSxdRk/6y/osMBnGT8PIlxuwlkZP19KSHbESxk/NjvFsNQ9GT/IQBzWADAZP6PexGBWIhk/RZt2f+IUGT/4MF8HsgcZP8IHjWbR+hg/GZmdlkzuGD8CCr8PL+IYP+zmE7yD1hg/6XuH61TLGD9txSBIrMAYPw1s4cqSthg/wqU9sRCtGD/pNTlzLaQYP3MXNbrvmxg//qV4WF2UGD86WoBBe40YP4xkG4NNhxg/JJ9gP9eBGD+VeIKnGn0YP12XiPcYeRg/xhD1ctJ1GD9pIlpiRnMYPyRr5BFzcRg/v6zc0FVwGD/WJCPy6m8YP72Ppc0tcBg/tunPwhhxGD+UAfc7pXIYP5PuurLLdBg/o3letYN3GD/eiA/tw3oYP0KcGyWCfhg/Wm0KU7OCGD9cyZefS4cYP8rHhHA+jBg/sY03c36RGD815R+o/ZYYP0YM1m6tnBg/FUTokn6iGD/S2EpZYagYP42UXY5Frhg/z9J4lBq0GD/UwPNyz7kYP6eylOVSvxg/huhbbJPEGD+MnZhbf8kYP47KN+wEzhg/AKs7TBLSGD9wyEqvldUYPywaRV992Bg/D6bNzLfaGD/WArefM9wYP/wlQcff3Bg/3AUXiqvcGD/az/qVhtsYP9e8Dw9h2Rg/UfKwnivWGD8sVsWB19EYP4PKgJZWzBg/g+qDaZvFGD+EGkxCmb0YPwqK5i5EtBg/1abZDpGpGD8GcTmddZ0YP1Qk3Hnojxg/nbqlMeGAGD+U7OFFWHAYP8OBpTJHXhg/AvYwdKhKGD9kuk+LdzUYP0CdsACxHhg/ti41Z1IGGD+2RDddWuwXP8YOxYzI0Bc/JHbVqp2zFz9Sz3d125QXP0clA7GEdBc/bKFKJJ1SFz/4xd2TKS8XPwZVXLwvChc/ZdnmS7bjFj9vzbXaxLsWP49X4uJjkhY/0Xhst5xnFj8XXot6eTsWPxlDVRMFDhY/r/7MIkvfFT/74WP4V68VPwoQ/4U4fhU/CtWPU/pLFT/i0E5yqxgVPxf7qW9a5BQ/xKD1RxavFD9dgPBY7ngUP7MSK1TyQRQ/Y+RhMTIKFD+LodogvtETPyoe032mmBM/fToRwfteEz9gA6JzziQTP4Xe1SEv6hI/WPGGTi6vEj8BQLZm3HMSP+NFi7VJOBI/uPzAWIb8ET8tdYo1osARPztF+O2shBE/hCzn1rVIET8YZn/uywwRP+ovS9P90BA/uSHqu1mVED/o+2Vv7VkQP9WnLD7GHhA/nWlk9+HHDz/VaHnx81IPP4nmtfzZ3g4/bFoMk6prDj8ICdwOe/kNP85p2qRfiA0/lGlJX2sYDT9YeXQasKkMP8HzbII+PAw/+xr9ESbQCz8Bu8cSdWULP8RhiZ44/Ao/GRtvoXyUCj/QtXXdSy4KP+DGw+6vyQk/R+rvULFmCT9pIyRlVwUJPyq8DnmopQg/iZeQzqlHCD/ZmBikX+sHP2WImz3NkAc/ergX7vQ3Bz9aopMh2OAGP3+5hmd3iwY/4tCbfdI3Bj/Unbxa6OUFPxUmVjq3lQU/6DvGpzxHBT9AjuKJdfoEPw1Iii5erwQ/b7szVvJlBD8mJWg/LR4EP7gwILIJ2AM/yoz0CoKTAz+DjxZGkFADP+SmBQouDwM/dxH3sVTPAj/3JuZX/ZACP01HRN4gVAI/xltA+bcYAj82r543u94BP1G+GgsjpgE//X9N0OduAT+WhRPWATkBPxszb2RpBAE/iC/kwhbRAD95C0o+Ap8APzT4FC4kbgA/jUEU+XQ+AD9aEacZ7Q8AP9mi0UIKxf8+1pSueGts/z7GvOpm7xX/Psvv292Hwf4+4u127yZv/j7DFbHxvh7+PhkLAIBC0P0+F4cDfKSD/T42lGYN2Dj9Ph9lBqHQ7/w+P8pt54Go/D4+ALXS32L8PoEr1pPeHvw++FCHl3Lc+z6H96qCkJv7Pt7aaC4tXPs+bzUApD0e+z5PImUYt+H6Pix2uueOpvo+Gim5kLps+j6PCRawLzT6Pq3u9fvj/Pk+LAGAP83G+T7l9pxW4ZH5PvpF8SkWXvk+PmUfq2Er+T4FKF7Rufn4PmgmbpYUyfg+bfP382eZ+D6PolvhqWr4Pi/N+FHQPPg+6fH0M9EP+D7LoYRvouP3PnuJuuY5uPc+xfjddY2N9z7lIUn0kmP3PqDhzTVAOvc+GYSeDIsR9z5BobZLaen2PsjkvsnQwfY+ElplZLea9j5XrSIEE3T2PtW/Y6DZTfY+VvENRAEo9j5lnlMSgAL2PjuLzUtM3fU+7EjNU1y49T76Fdy1ppP1PgJPWSsib/U+3zcrocVK9T5XuXQ9iCb1PkGmQmVhAvU+zy8jwkje9D5waZpHNrr0PqoSZzgilvQ+2lKLKwVy9D4/pw0R2E30Pl/xZjaUKfQ+gV6TSjMF9D7uwLxhr+DzPmnrdfgCvPM+tKh/9iiX8z4eAxGxHHLzPgu4nezZTPM+dOUW3lwn8z4yOaMrogHzPiknzeym2/I+p+smqmi18j5aW2Vc5Y7yPtO682obaPI+dAcEqglB8j4qQCBYrxnyPuNTQhsM8vE+8mF5/R/K8T5Q7CNp66HxPtF5xyRvefE+1+6OTqxQ8T7Rj3lXpCfxPkc2Rf5Y/vA+9bgeSszU8D5x4yOFAKvwPpSYwjb4gPA+QNwAHrZW8D7whLkrPSzwPuI72XyQAfA+QHpOqWat7z4g7UkuUlfvPrRyHofqAO8+H1YW3jaq7j6TDhF/PlPuPoIfxM0I/O0+hoWIPJ2k7T4qL8NDA03tPh829VlC9ew+tKR+7GGd7D7QmxxZaUXsPu6kKehf7es+Beukx0yV6z6UAQMHNz3rPsbPyJMl5eo++ynvNh+N6j6qqAuTKjXqPjFeOSNO3ek+Azi6OpCF6T5pH0gF9y3pPuRPC4iI1ug+aeMpo0p/6D7nQeMTQyjoPqT3KHd30ec+E3qlTO165z4IkSD6qSTnPqR6MM+yzuY+J20mCQ155j4n2iTXvSPmPnnETV7KzuU+J5n3vTd65T5PSNcTCyblPlfUDoBJ0uQ+7TIQKfh+5D7rJ0U/HCzkPp60bQC72eM+EsynutmH4z7hLxTPfTbjPmmpDbSs5eI+3znp9muV4j7nVDc9wUXiPqDDf0Wy9uE+mV9z50So4T7lb5ATf1rhPkQNONJmDeE+gYo0QgLB4D4vcLKWV3XgPtghrxRtKuA+aXPDH5LA3z43HUjO4y3fPm5MxgDcnN4+lBk/iIcN3j41TA4x83/dPm0PZrgr9Nw+i5EpwT1q3D7x3D7INeLbPmBkcRggXNs++aT/vQjY2j6t2+55+1XaPqggQLUD1tk+jUUidCxY2T4zmTtJgNzYPq8xJkkJY9g+jpw4/tDr1z6F1LNc4HbXPgIhbrc/BNc++BURtfaT1j5OSP9FDCbWPoWE9JqGutU+d2NxHGtR1T66DwFjvurUPrDnZTCEhtQ+RHS3ab8k1D6263kScsXTPo00tUidaNM+JhoPQkEO0z5HLOpJXbbSPjmYiMDvYNI+qjIwG/YN0j4T7krlbL3RPpUZfcJPb9E+NQepcZkj0T7vI9bQQ9rQPt4d8OFHk9A+lXRR0J1O0D6dvQv3PAzQPmsGvs83mM8+weOh5WAczz73Cqhc36TOPv0q3f+bMc4+4/iiSn7CzT7FP5x7bFfNPsepN6hL8Mw+avS50P+MzD5pSqn0ay3MPlbLfCdy0cs+7dB0pfN4yz5cQYLo0CPLPv4qJb3p0co+MvMsVx2Dyj7gjkZmSjfKPvN2RypP7sk+CVImhwmoyT7pkpQYV2TJPm2JLkUVI8k+wJM5USHkyD7LMupwWKfIPje/LdqXbMg+uk711bwzyD7uAwHRpPzHPhB8LGwtx8c+Ylc+jDSTxz7C6D1pmGDHPo7zUp03L8c+FAA0M/H+xj6FNCi0pM/GPrjQoTUyocY+OmF2Znpzxj5egbmbXkbGPoSUPt3AGcY+sELF8YPtxT45vdNqi8HFPtXmQLC7lcU+CnBvC/ppxT7f1zmyLD7FPpYKjtE6EsU+cRi2lwzmxD4nN0o+i7nEPmv6xhOhjMQ+n3LBhDlfxD4+rrEkQTHEPhn+SralAsQ+AVhYM1bTwz5HTRLUQqPDPkhI4xVdcsM+NCiOwZdAwz444qrw5g3DPgCMbBJA2sI+KyCk75mlwj4XbfOt7G/CPontI9IxOcI+Oc6VQWQBwj7SGLxCgMjBPg==",
          "dtype": "f8"
         },
         "yaxis": "y"
        },
        {
         "legendgroup": "New Zealand",
         "marker": {
          "color": "#D8576B"
         },
         "mode": "lines",
         "name": "New Zealand",
         "showlegend": false,
         "type": "scatter",
         "x": [
          7,
          45.948,
          84.896,
          123.844,
          162.792,
          201.74,
          240.688,
          279.636,
          318.584,
          357.532,
          396.48,
          435.428,
          474.376,
          513.3240000000001,
          552.272,
          591.22,
          630.168,
          669.116,
          708.064,
          747.012,
          785.96,
          824.908,
          863.856,
          902.804,
          941.752,
          980.7,
          1019.648,
          1058.596,
          1097.544,
          1136.492,
          1175.44,
          1214.388,
          1253.336,
          1292.284,
          1331.232,
          1370.18,
          1409.128,
          1448.076,
          1487.024,
          1525.972,
          1564.92,
          1603.868,
          1642.816,
          1681.764,
          1720.712,
          1759.66,
          1798.608,
          1837.556,
          1876.504,
          1915.452,
          1954.4,
          1993.348,
          2032.296,
          2071.244,
          2110.192,
          2149.14,
          2188.088,
          2227.036,
          2265.984,
          2304.932,
          2343.88,
          2382.828,
          2421.776,
          2460.724,
          2499.672,
          2538.62,
          2577.568,
          2616.516,
          2655.464,
          2694.412,
          2733.36,
          2772.308,
          2811.256,
          2850.204,
          2889.152,
          2928.1,
          2967.048,
          3005.996,
          3044.944,
          3083.892,
          3122.84,
          3161.788,
          3200.736,
          3239.684,
          3278.632,
          3317.58,
          3356.528,
          3395.476,
          3434.424,
          3473.372,
          3512.32,
          3551.268,
          3590.216,
          3629.164,
          3668.112,
          3707.06,
          3746.008,
          3784.956,
          3823.904,
          3862.852,
          3901.8,
          3940.748,
          3979.696,
          4018.644,
          4057.592,
          4096.54,
          4135.488,
          4174.436,
          4213.384,
          4252.332,
          4291.28,
          4330.228,
          4369.176,
          4408.124,
          4447.072,
          4486.02,
          4524.968,
          4563.916,
          4602.864,
          4641.812,
          4680.76,
          4719.708,
          4758.656,
          4797.604,
          4836.552,
          4875.5,
          4914.448,
          4953.396,
          4992.344,
          5031.292,
          5070.24,
          5109.188,
          5148.136,
          5187.084,
          5226.032,
          5264.98,
          5303.928,
          5342.876,
          5381.824,
          5420.772,
          5459.72,
          5498.668,
          5537.616,
          5576.564,
          5615.512,
          5654.46,
          5693.408,
          5732.356,
          5771.304,
          5810.252,
          5849.2,
          5888.148,
          5927.096,
          5966.044,
          6004.992,
          6043.94,
          6082.888,
          6121.836,
          6160.784,
          6199.732,
          6238.68,
          6277.628,
          6316.576,
          6355.524,
          6394.472,
          6433.42,
          6472.368,
          6511.316,
          6550.264,
          6589.212,
          6628.16,
          6667.108,
          6706.056,
          6745.004,
          6783.952,
          6822.9,
          6861.848,
          6900.796,
          6939.744,
          6978.692,
          7017.64,
          7056.588,
          7095.536,
          7134.484,
          7173.432,
          7212.38,
          7251.328,
          7290.276,
          7329.224,
          7368.172,
          7407.12,
          7446.068,
          7485.016,
          7523.964,
          7562.912,
          7601.86,
          7640.808,
          7679.756,
          7718.704,
          7757.652,
          7796.6,
          7835.548,
          7874.496,
          7913.444,
          7952.392,
          7991.34,
          8030.288,
          8069.236,
          8108.184,
          8147.132,
          8186.08,
          8225.028,
          8263.976,
          8302.924,
          8341.872,
          8380.82,
          8419.768,
          8458.716,
          8497.664,
          8536.612,
          8575.56,
          8614.508,
          8653.456,
          8692.404,
          8731.352,
          8770.3,
          8809.248,
          8848.196,
          8887.144,
          8926.092,
          8965.04,
          9003.988,
          9042.936,
          9081.884,
          9120.832,
          9159.78,
          9198.728,
          9237.676,
          9276.624,
          9315.572,
          9354.52,
          9393.468,
          9432.416,
          9471.364,
          9510.312,
          9549.26,
          9588.208,
          9627.156,
          9666.104,
          9705.052,
          9744,
          9782.948,
          9821.896,
          9860.844,
          9899.792,
          9938.74,
          9977.688,
          10016.636,
          10055.584,
          10094.532,
          10133.48,
          10172.428,
          10211.376,
          10250.324,
          10289.272,
          10328.22,
          10367.168,
          10406.116,
          10445.064,
          10484.012,
          10522.96,
          10561.908,
          10600.856,
          10639.804,
          10678.752,
          10717.7,
          10756.648,
          10795.596,
          10834.544,
          10873.492,
          10912.44,
          10951.388,
          10990.336,
          11029.284,
          11068.232,
          11107.18,
          11146.128,
          11185.076,
          11224.024,
          11262.972,
          11301.92,
          11340.868,
          11379.816,
          11418.764,
          11457.712,
          11496.66,
          11535.608,
          11574.556,
          11613.504,
          11652.452,
          11691.4,
          11730.348,
          11769.296,
          11808.244,
          11847.192,
          11886.14,
          11925.088,
          11964.036,
          12002.984,
          12041.932,
          12080.88,
          12119.828,
          12158.776,
          12197.724,
          12236.672,
          12275.62,
          12314.568,
          12353.516,
          12392.464,
          12431.412,
          12470.36,
          12509.308,
          12548.256,
          12587.204,
          12626.152,
          12665.1,
          12704.048,
          12742.996,
          12781.944,
          12820.892,
          12859.84,
          12898.788,
          12937.736,
          12976.684,
          13015.632,
          13054.58,
          13093.528,
          13132.476,
          13171.424,
          13210.372,
          13249.32,
          13288.268,
          13327.216,
          13366.164,
          13405.112,
          13444.06,
          13483.008,
          13521.956,
          13560.904,
          13599.852,
          13638.8,
          13677.748,
          13716.696,
          13755.644,
          13794.592,
          13833.54,
          13872.488,
          13911.436,
          13950.384,
          13989.332,
          14028.28,
          14067.228,
          14106.176,
          14145.124,
          14184.072,
          14223.02,
          14261.968,
          14300.916,
          14339.864,
          14378.812,
          14417.76,
          14456.708,
          14495.656,
          14534.604,
          14573.552,
          14612.5,
          14651.448,
          14690.396,
          14729.344,
          14768.292,
          14807.24,
          14846.188,
          14885.136,
          14924.084,
          14963.032,
          15001.98,
          15040.928,
          15079.876,
          15118.824,
          15157.772,
          15196.72,
          15235.668,
          15274.616,
          15313.564,
          15352.512,
          15391.46,
          15430.408,
          15469.356,
          15508.304,
          15547.252,
          15586.2,
          15625.148,
          15664.096,
          15703.044,
          15741.992,
          15780.94,
          15819.888,
          15858.836,
          15897.784,
          15936.732,
          15975.68,
          16014.628,
          16053.576,
          16092.524,
          16131.472,
          16170.42,
          16209.368,
          16248.316,
          16287.264,
          16326.212,
          16365.16,
          16404.108,
          16443.056,
          16482.004,
          16520.952,
          16559.9,
          16598.848,
          16637.796,
          16676.744,
          16715.692,
          16754.64,
          16793.588,
          16832.536,
          16871.484,
          16910.432,
          16949.38,
          16988.328,
          17027.276,
          17066.224,
          17105.172,
          17144.12,
          17183.068,
          17222.016,
          17260.964,
          17299.912,
          17338.86,
          17377.808,
          17416.756,
          17455.704,
          17494.652,
          17533.6,
          17572.548,
          17611.496,
          17650.444,
          17689.392,
          17728.34,
          17767.288,
          17806.236,
          17845.184,
          17884.132,
          17923.08,
          17962.028,
          18000.976,
          18039.924,
          18078.872,
          18117.82,
          18156.768,
          18195.716,
          18234.664,
          18273.612,
          18312.56,
          18351.508,
          18390.456,
          18429.404,
          18468.352,
          18507.3,
          18546.248,
          18585.196,
          18624.144,
          18663.092,
          18702.04,
          18740.988,
          18779.936,
          18818.884,
          18857.832,
          18896.78,
          18935.728,
          18974.676,
          19013.624,
          19052.572,
          19091.52,
          19130.468,
          19169.416,
          19208.364,
          19247.312,
          19286.26,
          19325.208,
          19364.156,
          19403.104,
          19442.052
         ],
         "xaxis": "x",
         "y": {
          "bdata": "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",
          "dtype": "f8"
         },
         "yaxis": "y"
        },
        {
         "legendgroup": "USA",
         "marker": {
          "color": "#FB9F3A"
         },
         "mode": "lines",
         "name": "USA",
         "showlegend": false,
         "type": "scatter",
         "x": [
          70,
          104.78999999999999,
          139.57999999999998,
          174.37,
          209.16,
          243.95,
          278.74,
          313.53,
          348.32,
          383.11,
          417.9,
          452.69,
          487.48,
          522.27,
          557.06,
          591.85,
          626.64,
          661.43,
          696.22,
          731.01,
          765.8,
          800.59,
          835.38,
          870.17,
          904.96,
          939.75,
          974.54,
          1009.33,
          1044.12,
          1078.9099999999999,
          1113.7,
          1148.49,
          1183.28,
          1218.07,
          1252.86,
          1287.65,
          1322.44,
          1357.23,
          1392.02,
          1426.81,
          1461.6,
          1496.39,
          1531.18,
          1565.97,
          1600.76,
          1635.55,
          1670.34,
          1705.13,
          1739.92,
          1774.71,
          1809.5,
          1844.29,
          1879.08,
          1913.87,
          1948.66,
          1983.45,
          2018.24,
          2053.0299999999997,
          2087.8199999999997,
          2122.61,
          2157.4,
          2192.19,
          2226.98,
          2261.77,
          2296.56,
          2331.35,
          2366.14,
          2400.93,
          2435.72,
          2470.51,
          2505.3,
          2540.09,
          2574.88,
          2609.67,
          2644.46,
          2679.25,
          2714.04,
          2748.83,
          2783.62,
          2818.41,
          2853.2,
          2887.99,
          2922.78,
          2957.57,
          2992.36,
          3027.15,
          3061.94,
          3096.73,
          3131.52,
          3166.31,
          3201.1,
          3235.89,
          3270.68,
          3305.47,
          3340.26,
          3375.05,
          3409.84,
          3444.63,
          3479.42,
          3514.21,
          3549,
          3583.79,
          3618.58,
          3653.37,
          3688.16,
          3722.95,
          3757.74,
          3792.53,
          3827.32,
          3862.11,
          3896.9,
          3931.69,
          3966.48,
          4001.27,
          4036.06,
          4070.85,
          4105.639999999999,
          4140.43,
          4175.22,
          4210.01,
          4244.8,
          4279.59,
          4314.38,
          4349.17,
          4383.96,
          4418.75,
          4453.54,
          4488.33,
          4523.12,
          4557.91,
          4592.7,
          4627.49,
          4662.28,
          4697.07,
          4731.86,
          4766.65,
          4801.44,
          4836.23,
          4871.02,
          4905.81,
          4940.6,
          4975.39,
          5010.18,
          5044.97,
          5079.76,
          5114.55,
          5149.34,
          5184.13,
          5218.92,
          5253.71,
          5288.5,
          5323.29,
          5358.08,
          5392.87,
          5427.66,
          5462.45,
          5497.24,
          5532.03,
          5566.82,
          5601.61,
          5636.4,
          5671.19,
          5705.98,
          5740.77,
          5775.56,
          5810.35,
          5845.14,
          5879.93,
          5914.72,
          5949.51,
          5984.3,
          6019.09,
          6053.88,
          6088.67,
          6123.46,
          6158.25,
          6193.04,
          6227.83,
          6262.62,
          6297.41,
          6332.2,
          6366.99,
          6401.78,
          6436.57,
          6471.36,
          6506.15,
          6540.94,
          6575.73,
          6610.52,
          6645.31,
          6680.1,
          6714.89,
          6749.68,
          6784.47,
          6819.26,
          6854.05,
          6888.84,
          6923.63,
          6958.42,
          6993.21,
          7028,
          7062.79,
          7097.58,
          7132.37,
          7167.16,
          7201.95,
          7236.74,
          7271.53,
          7306.32,
          7341.11,
          7375.9,
          7410.69,
          7445.48,
          7480.27,
          7515.06,
          7549.85,
          7584.64,
          7619.43,
          7654.22,
          7689.01,
          7723.8,
          7758.59,
          7793.38,
          7828.17,
          7862.96,
          7897.75,
          7932.54,
          7967.33,
          8002.12,
          8036.91,
          8071.7,
          8106.49,
          8141.28,
          8176.07,
          8210.86,
          8245.65,
          8280.44,
          8315.23,
          8350.02,
          8384.81,
          8419.6,
          8454.39,
          8489.18,
          8523.97,
          8558.76,
          8593.55,
          8628.34,
          8663.13,
          8697.92,
          8732.71,
          8767.5,
          8802.29,
          8837.08,
          8871.87,
          8906.66,
          8941.45,
          8976.24,
          9011.03,
          9045.82,
          9080.61,
          9115.4,
          9150.19,
          9184.98,
          9219.77,
          9254.56,
          9289.35,
          9324.14,
          9358.93,
          9393.72,
          9428.51,
          9463.3,
          9498.09,
          9532.88,
          9567.67,
          9602.46,
          9637.25,
          9672.04,
          9706.83,
          9741.62,
          9776.41,
          9811.2,
          9845.99,
          9880.78,
          9915.57,
          9950.36,
          9985.15,
          10019.94,
          10054.73,
          10089.52,
          10124.31,
          10159.1,
          10193.89,
          10228.68,
          10263.47,
          10298.26,
          10333.05,
          10367.84,
          10402.63,
          10437.42,
          10472.21,
          10507,
          10541.79,
          10576.58,
          10611.37,
          10646.16,
          10680.95,
          10715.74,
          10750.53,
          10785.32,
          10820.11,
          10854.9,
          10889.69,
          10924.48,
          10959.27,
          10994.06,
          11028.85,
          11063.64,
          11098.43,
          11133.22,
          11168.01,
          11202.8,
          11237.59,
          11272.38,
          11307.17,
          11341.96,
          11376.75,
          11411.54,
          11446.33,
          11481.12,
          11515.91,
          11550.7,
          11585.49,
          11620.28,
          11655.07,
          11689.86,
          11724.65,
          11759.44,
          11794.23,
          11829.02,
          11863.81,
          11898.6,
          11933.39,
          11968.18,
          12002.97,
          12037.76,
          12072.55,
          12107.34,
          12142.13,
          12176.92,
          12211.71,
          12246.5,
          12281.29,
          12316.08,
          12350.87,
          12385.66,
          12420.45,
          12455.24,
          12490.03,
          12524.82,
          12559.61,
          12594.4,
          12629.19,
          12663.98,
          12698.77,
          12733.56,
          12768.35,
          12803.14,
          12837.93,
          12872.72,
          12907.51,
          12942.3,
          12977.09,
          13011.88,
          13046.67,
          13081.46,
          13116.25,
          13151.04,
          13185.83,
          13220.62,
          13255.41,
          13290.2,
          13324.99,
          13359.78,
          13394.57,
          13429.36,
          13464.15,
          13498.94,
          13533.73,
          13568.52,
          13603.31,
          13638.1,
          13672.89,
          13707.68,
          13742.47,
          13777.26,
          13812.05,
          13846.84,
          13881.63,
          13916.42,
          13951.21,
          13986,
          14020.79,
          14055.58,
          14090.37,
          14125.16,
          14159.95,
          14194.74,
          14229.53,
          14264.32,
          14299.11,
          14333.9,
          14368.69,
          14403.48,
          14438.27,
          14473.06,
          14507.85,
          14542.64,
          14577.43,
          14612.22,
          14647.01,
          14681.8,
          14716.59,
          14751.38,
          14786.17,
          14820.96,
          14855.75,
          14890.54,
          14925.33,
          14960.12,
          14994.91,
          15029.7,
          15064.49,
          15099.28,
          15134.07,
          15168.86,
          15203.65,
          15238.44,
          15273.23,
          15308.02,
          15342.81,
          15377.6,
          15412.39,
          15447.18,
          15481.97,
          15516.76,
          15551.55,
          15586.34,
          15621.13,
          15655.92,
          15690.71,
          15725.5,
          15760.29,
          15795.08,
          15829.87,
          15864.66,
          15899.45,
          15934.24,
          15969.03,
          16003.82,
          16038.61,
          16073.4,
          16108.19,
          16142.98,
          16177.77,
          16212.56,
          16247.35,
          16282.14,
          16316.93,
          16351.72,
          16386.510000000002,
          16421.3,
          16456.09,
          16490.88,
          16525.67,
          16560.46,
          16595.25,
          16630.04,
          16664.83,
          16699.62,
          16734.41,
          16769.2,
          16803.99,
          16838.78,
          16873.57,
          16908.36,
          16943.15,
          16977.94,
          17012.73,
          17047.52,
          17082.31,
          17117.1,
          17151.89,
          17186.68,
          17221.47,
          17256.26,
          17291.05,
          17325.84,
          17360.63,
          17395.42,
          17430.21
         ],
         "xaxis": "x",
         "y": {
          "bdata": "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",
          "dtype": "f8"
         },
         "yaxis": "y"
        },
        {
         "legendgroup": "Canada",
         "marker": {
          "color": "#F0F921"
         },
         "mode": "lines",
         "name": "Canada",
         "showlegend": false,
         "type": "scatter",
         "x": [
          210,
          243.166,
          276.332,
          309.498,
          342.664,
          375.83000000000004,
          408.996,
          442.16200000000003,
          475.328,
          508.494,
          541.6600000000001,
          574.826,
          607.992,
          641.158,
          674.3240000000001,
          707.49,
          740.656,
          773.822,
          806.988,
          840.154,
          873.32,
          906.486,
          939.652,
          972.818,
          1005.984,
          1039.15,
          1072.316,
          1105.482,
          1138.6480000000001,
          1171.8139999999999,
          1204.98,
          1238.146,
          1271.312,
          1304.478,
          1337.644,
          1370.81,
          1403.976,
          1437.142,
          1470.308,
          1503.474,
          1536.64,
          1569.806,
          1602.972,
          1636.138,
          1669.304,
          1702.47,
          1735.636,
          1768.802,
          1801.968,
          1835.134,
          1868.3,
          1901.466,
          1934.632,
          1967.798,
          2000.964,
          2034.13,
          2067.2960000000003,
          2100.462,
          2133.6279999999997,
          2166.794,
          2199.96,
          2233.126,
          2266.292,
          2299.458,
          2332.624,
          2365.79,
          2398.956,
          2432.122,
          2465.288,
          2498.454,
          2531.62,
          2564.786,
          2597.952,
          2631.118,
          2664.284,
          2697.45,
          2730.616,
          2763.782,
          2796.948,
          2830.114,
          2863.28,
          2896.446,
          2929.612,
          2962.778,
          2995.944,
          3029.11,
          3062.276,
          3095.442,
          3128.608,
          3161.774,
          3194.94,
          3228.106,
          3261.272,
          3294.438,
          3327.604,
          3360.77,
          3393.936,
          3427.102,
          3460.268,
          3493.434,
          3526.6,
          3559.766,
          3592.932,
          3626.098,
          3659.264,
          3692.43,
          3725.596,
          3758.762,
          3791.928,
          3825.094,
          3858.26,
          3891.426,
          3924.592,
          3957.758,
          3990.924,
          4024.09,
          4057.256,
          4090.422,
          4123.588,
          4156.754,
          4189.92,
          4223.085999999999,
          4256.252,
          4289.418,
          4322.584,
          4355.75,
          4388.916,
          4422.082,
          4455.248,
          4488.414,
          4521.58,
          4554.746,
          4587.912,
          4621.078,
          4654.244,
          4687.41,
          4720.576,
          4753.742,
          4786.908,
          4820.074,
          4853.24,
          4886.406,
          4919.572,
          4952.738,
          4985.904,
          5019.07,
          5052.236,
          5085.402,
          5118.568,
          5151.734,
          5184.9,
          5218.066,
          5251.232,
          5284.398,
          5317.564,
          5350.73,
          5383.896,
          5417.062,
          5450.228,
          5483.394,
          5516.56,
          5549.726,
          5582.892,
          5616.058,
          5649.224,
          5682.39,
          5715.556,
          5748.722,
          5781.888,
          5815.054,
          5848.22,
          5881.386,
          5914.552,
          5947.718,
          5980.884,
          6014.05,
          6047.216,
          6080.382,
          6113.548,
          6146.714,
          6179.88,
          6213.046,
          6246.212,
          6279.378,
          6312.544,
          6345.71,
          6378.876,
          6412.042,
          6445.208,
          6478.374,
          6511.54,
          6544.706,
          6577.872,
          6611.038,
          6644.204,
          6677.37,
          6710.536,
          6743.702,
          6776.868,
          6810.034,
          6843.2,
          6876.366,
          6909.532,
          6942.698,
          6975.864,
          7009.03,
          7042.196,
          7075.362,
          7108.528,
          7141.694,
          7174.86,
          7208.026,
          7241.192,
          7274.358,
          7307.524,
          7340.69,
          7373.856,
          7407.022,
          7440.188,
          7473.354,
          7506.52,
          7539.686,
          7572.852,
          7606.018,
          7639.184,
          7672.35,
          7705.516,
          7738.682,
          7771.848,
          7805.014,
          7838.18,
          7871.346,
          7904.512,
          7937.678,
          7970.844,
          8004.01,
          8037.176,
          8070.342,
          8103.508,
          8136.674,
          8169.84,
          8203.006000000001,
          8236.171999999999,
          8269.338,
          8302.504,
          8335.67,
          8368.836,
          8402.002,
          8435.168,
          8468.334,
          8501.5,
          8534.666,
          8567.832,
          8600.998,
          8634.164,
          8667.33,
          8700.496,
          8733.662,
          8766.828,
          8799.994,
          8833.16,
          8866.326,
          8899.492,
          8932.658,
          8965.824,
          8998.99,
          9032.156,
          9065.322,
          9098.488,
          9131.654,
          9164.82,
          9197.986,
          9231.152,
          9264.318,
          9297.484,
          9330.65,
          9363.816,
          9396.982,
          9430.148,
          9463.314,
          9496.48,
          9529.646,
          9562.812,
          9595.978,
          9629.144,
          9662.31,
          9695.476,
          9728.642,
          9761.808,
          9794.974,
          9828.14,
          9861.306,
          9894.472,
          9927.638,
          9960.804,
          9993.97,
          10027.136,
          10060.302,
          10093.468,
          10126.634,
          10159.8,
          10192.966,
          10226.132,
          10259.298,
          10292.464,
          10325.63,
          10358.796,
          10391.962,
          10425.128,
          10458.294,
          10491.46,
          10524.626,
          10557.792,
          10590.958,
          10624.124,
          10657.29,
          10690.456,
          10723.622,
          10756.788,
          10789.954,
          10823.12,
          10856.286,
          10889.452,
          10922.618,
          10955.784,
          10988.95,
          11022.116,
          11055.282,
          11088.448,
          11121.614,
          11154.78,
          11187.946,
          11221.112,
          11254.278,
          11287.444,
          11320.61,
          11353.776,
          11386.942,
          11420.108,
          11453.274,
          11486.44,
          11519.606,
          11552.772,
          11585.938,
          11619.104,
          11652.27,
          11685.436,
          11718.602,
          11751.768,
          11784.934,
          11818.1,
          11851.266,
          11884.432,
          11917.598,
          11950.764,
          11983.93,
          12017.096,
          12050.262,
          12083.428,
          12116.594,
          12149.76,
          12182.926,
          12216.092,
          12249.258,
          12282.424,
          12315.59,
          12348.756,
          12381.922,
          12415.088,
          12448.254,
          12481.42,
          12514.586,
          12547.752,
          12580.918,
          12614.084,
          12647.25,
          12680.416,
          12713.582,
          12746.748,
          12779.914,
          12813.08,
          12846.246,
          12879.412,
          12912.578,
          12945.744,
          12978.91,
          13012.076,
          13045.242,
          13078.408,
          13111.574,
          13144.74,
          13177.906,
          13211.072,
          13244.238,
          13277.404,
          13310.57,
          13343.736,
          13376.902,
          13410.068,
          13443.234,
          13476.4,
          13509.566,
          13542.732,
          13575.898,
          13609.064,
          13642.23,
          13675.396,
          13708.562,
          13741.728,
          13774.894,
          13808.06,
          13841.226,
          13874.392,
          13907.558,
          13940.724,
          13973.89,
          14007.056,
          14040.222,
          14073.388,
          14106.554,
          14139.72,
          14172.886,
          14206.052,
          14239.218,
          14272.384,
          14305.55,
          14338.716,
          14371.882,
          14405.048,
          14438.214,
          14471.38,
          14504.546,
          14537.712,
          14570.878,
          14604.044,
          14637.21,
          14670.376,
          14703.542,
          14736.708,
          14769.874,
          14803.04,
          14836.206,
          14869.372,
          14902.538,
          14935.704,
          14968.87,
          15002.036,
          15035.202,
          15068.368,
          15101.534,
          15134.7,
          15167.866,
          15201.032,
          15234.198,
          15267.364,
          15300.53,
          15333.696,
          15366.862,
          15400.028,
          15433.194,
          15466.36,
          15499.526,
          15532.692,
          15565.858,
          15599.024,
          15632.19,
          15665.356,
          15698.522,
          15731.688,
          15764.854,
          15798.02,
          15831.186,
          15864.352,
          15897.518,
          15930.684,
          15963.85,
          15997.016,
          16030.182,
          16063.348,
          16096.514,
          16129.68,
          16162.846,
          16196.012,
          16229.178,
          16262.344,
          16295.51,
          16328.676,
          16361.842,
          16395.008,
          16428.174,
          16461.34,
          16494.506,
          16527.672,
          16560.838,
          16594.004,
          16627.17,
          16660.336,
          16693.502,
          16726.668,
          16759.834
         ],
         "xaxis": "x",
         "y": {
          "bdata": "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",
          "dtype": "f8"
         },
         "yaxis": "y"
        },
        {
         "legendgroup": "UK",
         "marker": {
          "color": "#0D0887",
          "symbol": "line-ns-open"
         },
         "mode": "markers",
         "name": "UK",
         "showlegend": false,
         "type": "scatter",
         "x": {
          "bdata": "AAAAAADItEAAAAAAgLrKQAAAAACAuspAAAAAAABgskAAAAAAAPSQQAAAAAAAdqdAAAAAAABPyEAAAAAAALe6QAAAAAAAuqRAAAAAAAAKtkAAAAAAAEifQAAAAAAAdbJAAAAAAAAsuEAAAAAAAGfJQAAAAAAAWbJAAAAAAAApt0AAAAAAAP6xQAAAAAAAec9AAAAAAACnsEAAAAAAAB+2QAAAAAAA1KFAAAAAAAB2vkAAAAAAAF2/QAAAAAAAuqtAAAAAAACztEAAAAAAAJGyQAAAAAAANsJAAAAAAAB/w0AAAAAAAC/CQAAAAAAAKIJAAAAAAADtsEAAAAAAAEa8QAAAAAAAS7lAAAAAAADPy0AAAAAAwIvSQAAAAAAAirlAAAAAAABptUAAAAAAAIBvQAAAAAAALc1AAAAAAAC9tUAAAAAAAHiqQAAAAAAAzJNAAAAAAAAzsUAAAAAAAK6wQAAAAAAAarpAAAAAAAAgZEAAAAAAANCZQAAAAAAAgLhAAAAAAIBuwUAAAAAAAAClQAAAAAAAcKxAAAAAAAAQmEAAAAAAAECTQAAAAACAV8VAAAAAAIACwEAAAAAAAH2wQAAAAAAAQIpAAAAAAACcwUAAAAAAAH61QAAAAAAAq7ZAAAAAAIAfxUAAAAAAAFKiQAAAAAAARqxAAAAAAADWq0AAAAAAAN27QAAAAAAA8qtAAAAAAIAbxkAAAAAAAPC4QAAAAACAZcxAAAAAAABImEAAAAAAAJSjQAAAAAAAiqlAAAAAAICfwUAAAAAAAKCeQAAAAAAAVJVAAAAAAAA1u0AAAAAAAFyqQAAAAAAAlrZAAAAAAAAYrUAAAAAAANigQAAAAAAANJZAAAAAAIB3xEAAAAAAALG/QAAAAAAAHMVAAAAAAAD6skAAAAAAgHPFQAAAAAAA2sNAAAAAAAA8q0AAAAAAAGqjQAAAAAAAABxAAAAAAACEp0AAAAAAAJLHQAAAAAAAAMxAAAAAAABAWkAAAAAAAIyVQAAAAAAA3KZAAAAAAACgwEAAAAAAAPTAQAAAAAAAm7pAAAAAAADGoUAAAAAAANyWQAAAAAAA9L5AAAAAAIAvwUAAAAAAAJHCQAAAAAAAdqBAAAAAAAAYnUAAAAAAAIitQAAAAACApsFAAAAAAAAMkkAAAAAAAFqnQAAAAAAAvbxAAAAAAADxzUAAAAAAAGbLQAAAAAAAtJJAAAAAAABcmkAAAAAAAIBRQAAAAAAAFqNAAAAAAICHwEAAAAAAAFibQAAAAACAzMJAAAAAAAD3sUAAAAAAgDrAQAAAAAAAO7ZAAAAAAAAsv0AAAAAAAL6qQAAAAAAARLlAAAAAAAA6r0AAAAAAAGK1QAAAAAAAaJ5AAAAAAAB+rEAAAAAAAHGzQAAAAAAALKhAAAAAAACCtEAAAAAAALynQAAAAAAAFbVAAAAAAAAlyEAAAAAAgK3IQAAAAAAAFqNAAAAAAACTvEAAAAAAAFa/QAAAAAAA6MNAAAAAAADku0AAAAAAAI+2QAAAAAAAaIdAAAAAAAB+tUAAAAAAAE+4QAAAAAAAZqtAAAAAAAAmzUAAAAAAgF3AQAAAAAAAcHxAAAAAAACOqEAAAAAAAMyaQAAAAAAAeKpAAAAAAADQckAAAAAAgEDCQAAAAAAAUM1AAAAAAAB6tkAAAAAAAGCiQAAAAAAAAJxAAAAAAIDNx0AAAAAAAPKkQAAAAAAAZMhAAAAAAEBC0kAAAAAAABqiQAAAAAAA08NAAAAAAAAQgUAAAAAAAIajQAAAAACA4MRAAAAAAACItkAAAAAAADCuQAAAAAAAZqtAAAAAAAAImkAAAAAAAAjDQAAAAAAAaI5AAAAAAAAIs0AAAAAAAEy+QAAAAAAAiIZAAAAAAIDGwEA=",
          "dtype": "f8"
         },
         "xaxis": "x",
         "y": [
          "UK",
          "UK",
          "UK",
          "UK",
          "UK",
          "UK",
          "UK",
          "UK",
          "UK",
          "UK",
          "UK",
          "UK",
          "UK",
          "UK",
          "UK",
          "UK",
          "UK",
          "UK",
          "UK",
          "UK",
          "UK",
          "UK",
          "UK",
          "UK",
          "UK",
          "UK",
          "UK",
          "UK",
          "UK",
          "UK",
          "UK",
          "UK",
          "UK",
          "UK",
          "UK",
          "UK",
          "UK",
          "UK",
          "UK",
          "UK",
          "UK",
          "UK",
          "UK",
          "UK",
          "UK",
          "UK",
          "UK",
          "UK",
          "UK",
          "UK",
          "UK",
          "UK",
          "UK",
          "UK",
          "UK",
          "UK",
          "UK",
          "UK",
          "UK",
          "UK",
          "UK",
          "UK",
          "UK",
          "UK",
          "UK",
          "UK",
          "UK",
          "UK",
          "UK",
          "UK",
          "UK",
          "UK",
          "UK",
          "UK",
          "UK",
          "UK",
          "UK",
          "UK",
          "UK",
          "UK",
          "UK",
          "UK",
          "UK",
          "UK",
          "UK",
          "UK",
          "UK",
          "UK",
          "UK",
          "UK",
          "UK",
          "UK",
          "UK",
          "UK",
          "UK",
          "UK",
          "UK",
          "UK",
          "UK",
          "UK",
          "UK",
          "UK",
          "UK",
          "UK",
          "UK",
          "UK",
          "UK",
          "UK",
          "UK",
          "UK",
          "UK",
          "UK",
          "UK",
          "UK",
          "UK",
          "UK",
          "UK",
          "UK",
          "UK",
          "UK",
          "UK",
          "UK",
          "UK",
          "UK",
          "UK",
          "UK",
          "UK",
          "UK",
          "UK",
          "UK",
          "UK",
          "UK",
          "UK",
          "UK",
          "UK",
          "UK",
          "UK",
          "UK",
          "UK",
          "UK",
          "UK",
          "UK",
          "UK",
          "UK",
          "UK",
          "UK",
          "UK",
          "UK",
          "UK",
          "UK",
          "UK",
          "UK",
          "UK",
          "UK",
          "UK",
          "UK",
          "UK",
          "UK",
          "UK",
          "UK",
          "UK",
          "UK",
          "UK",
          "UK",
          "UK",
          "UK",
          "UK",
          "UK",
          "UK",
          "UK",
          "UK",
          "UK",
          "UK",
          "UK",
          "UK",
          "UK",
          "UK",
          "UK"
         ],
         "yaxis": "y2"
        },
        {
         "legendgroup": "India",
         "marker": {
          "color": "#47039F",
          "symbol": "line-ns-open"
         },
         "mode": "markers",
         "name": "India",
         "showlegend": false,
         "type": "scatter",
         "x": {
          "bdata": "AAAAAADYvkAAAAAAAJWxQAAAAAAAALVAAAAAAAAAZUAAAAAAABajQAAAAAAAo7hAAAAAAAAesUAAAAAAAHu0QAAAAAAAOqFAAAAAAADKt0AAAAAAgAfEQAAAAACAHcJAAAAAAAAluEAAAAAAAH2wQAAAAAAA1rRAAAAAAABgwkAAAAAAAEyeQAAAAAAATcVAAAAAAADAfUAAAAAAALC6QAAAAAAAcrFAAAAAAEB200AAAAAAAO+zQAAAAAAA2qNAAAAAAADCqUAAAAAAgLrDQAAAAAAACbFAAAAAAADYp0AAAAAAgBXEQAAAAAAAXJpAAAAAAABZuUAAAAAAAC6kQAAAAAAAu7JAAAAAAAA2uUAAAAAAAIC/QAAAAAAAp7dAAAAAAAAgq0AAAAAAAIaqQAAAAAAAqq9AAAAAAAAclUAAAAAAgB7HQAAAAAAA1KFAAAAAAAAAfEAAAAAAAJ6kQAAAAABALtBAAAAAAAA2uUAAAAAAAK2yQAAAAAAAZKhAAAAAAABrv0AAAAAAANiXQAAAAAAAwKZAAAAAAAB3xUAAAAAAAOi6QAAAAAAA9KBAAAAAAACYskAAAAAAAJGyQAAAAAAAIKtAAAAAAAAgZEAAAAAAACCkQAAAAAAAhJ5AAAAAAACYmUAAAAAAALKmQAAAAAAAnL9AAAAAAAAQmEAAAAAAAGDJQAAAAAAAVqFAAAAAAADutUAAAAAAAPKrQAAAAAAASqtAAAAAAAAwjkAAAAAAANiuQAAAAACAE8hAAAAAAABHs0AAAAAAABe4QAAAAAAAc7ZAAAAAAAAftkAAAAAAgGfBQAAAAAAAYIJAAAAAAADvs0AAAAAAAKOxQAAAAAAAbKZAAAAAAAD4rUAAAAAAgCHBQAAAAAAAUK1AAAAAAABltkAAAAAAAG65QAAAAACAiNVAAAAAAADao0AAAAAAAIOyQAAAAAAAPqdAAAAAAAAQcUAAAAAAABHGQAAAAAAAGrlAAAAAAMDf0kAAAAAAALi4QAAAAAAAcIxAAAAAAABMoEAAAAAAAFXKQAAAAAAAQKNAAAAAAACIjUAAAAAAAPSwQAAAAAAAWKtAAAAAAADmrkAAAAAAAKCwQAAAAACAgspAAAAAAACmuUAAAAAAgF/KQAAAAAAApJ1AAAAAAIDGx0AAAAAAAHijQAAAAAAA2qpAAAAAAAA0nUAAAAAAACyYQAAAAACAn8FAAAAAAADGwUAAAAAAAABVQAAAAAAAO71AAAAAAAB0lEAAAAAAgMzCQAAAAAAAt7pAAAAAAAAWqkAAAAAAgM/KQAAAAAAAHqFAAAAAAABgaUAAAAAAAICIQAAAAAAA8rtAAAAAAABwrEAAAAAAAGy9QAAAAAAA4JVAAAAAAACc0UAAAAAAAMCNQAAAAAAATLdAAAAAAABYlEAAAAAAAFOwQAAAAAAAHLxAAAAAAIBixEAAAAAAAP7PQAAAAAAAqrFAAAAAAAAhskAAAAAAAHbAQAAAAAAAB8VAAAAAAICKwUAAAAAAgCrEQAAAAAAAyqBAAAAAAADElUAAAAAAAOqmQAAAAACANcNAAAAAAABguUAAAAAAAJiSQAAAAAAAuqtAAAAAAAB9x0AAAAAAAP6hQAAAAAAA979AAAAAAAARxkAAAAAAAP6/QAAAAACAQc5AAAAAAIDAxUAAAAAAAJiJQAAAAAAAADxAAAAAAABcs0AAAAAAAFScQAAAAAAABsdAAAAAAADFykAAAAAAAAmxQAAAAAAAxcNAAAAAAIDJwUAAAAAAAIBIQAAAAAAAMJBAAAAAAAD1vEAAAAAAANu/QAAAAAAATqNAAAAAAADQckAAAAAAAHHDQAAAAAAAsJNAAAAAAABQfUAAAAAAAHB8QAAAAAAAgsRAAAAAAACOsUAAAAAAAMCNQAAAAACAy8RAAAAAAIBIwEAAAAAAAPSnQAAAAAAATKBAAAAAAADTs0A=",
          "dtype": "f8"
         },
         "xaxis": "x",
         "y": [
          "India",
          "India",
          "India",
          "India",
          "India",
          "India",
          "India",
          "India",
          "India",
          "India",
          "India",
          "India",
          "India",
          "India",
          "India",
          "India",
          "India",
          "India",
          "India",
          "India",
          "India",
          "India",
          "India",
          "India",
          "India",
          "India",
          "India",
          "India",
          "India",
          "India",
          "India",
          "India",
          "India",
          "India",
          "India",
          "India",
          "India",
          "India",
          "India",
          "India",
          "India",
          "India",
          "India",
          "India",
          "India",
          "India",
          "India",
          "India",
          "India",
          "India",
          "India",
          "India",
          "India",
          "India",
          "India",
          "India",
          "India",
          "India",
          "India",
          "India",
          "India",
          "India",
          "India",
          "India",
          "India",
          "India",
          "India",
          "India",
          "India",
          "India",
          "India",
          "India",
          "India",
          "India",
          "India",
          "India",
          "India",
          "India",
          "India",
          "India",
          "India",
          "India",
          "India",
          "India",
          "India",
          "India",
          "India",
          "India",
          "India",
          "India",
          "India",
          "India",
          "India",
          "India",
          "India",
          "India",
          "India",
          "India",
          "India",
          "India",
          "India",
          "India",
          "India",
          "India",
          "India",
          "India",
          "India",
          "India",
          "India",
          "India",
          "India",
          "India",
          "India",
          "India",
          "India",
          "India",
          "India",
          "India",
          "India",
          "India",
          "India",
          "India",
          "India",
          "India",
          "India",
          "India",
          "India",
          "India",
          "India",
          "India",
          "India",
          "India",
          "India",
          "India",
          "India",
          "India",
          "India",
          "India",
          "India",
          "India",
          "India",
          "India",
          "India",
          "India",
          "India",
          "India",
          "India",
          "India",
          "India",
          "India",
          "India",
          "India",
          "India",
          "India",
          "India",
          "India",
          "India",
          "India",
          "India",
          "India",
          "India",
          "India",
          "India",
          "India",
          "India",
          "India",
          "India",
          "India",
          "India",
          "India",
          "India",
          "India",
          "India",
          "India",
          "India",
          "India",
          "India",
          "India",
          "India",
          "India",
          "India",
          "India",
          "India",
          "India"
         ],
         "yaxis": "y2"
        },
        {
         "legendgroup": "Australia",
         "marker": {
          "color": "#9C179E",
          "symbol": "line-ns-open"
         },
         "mode": "markers",
         "name": "Australia",
         "showlegend": false,
         "type": "scatter",
         "x": {
          "bdata": "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",
          "dtype": "f8"
         },
         "xaxis": "x",
         "y": [
          "Australia",
          "Australia",
          "Australia",
          "Australia",
          "Australia",
          "Australia",
          "Australia",
          "Australia",
          "Australia",
          "Australia",
          "Australia",
          "Australia",
          "Australia",
          "Australia",
          "Australia",
          "Australia",
          "Australia",
          "Australia",
          "Australia",
          "Australia",
          "Australia",
          "Australia",
          "Australia",
          "Australia",
          "Australia",
          "Australia",
          "Australia",
          "Australia",
          "Australia",
          "Australia",
          "Australia",
          "Australia",
          "Australia",
          "Australia",
          "Australia",
          "Australia",
          "Australia",
          "Australia",
          "Australia",
          "Australia",
          "Australia",
          "Australia",
          "Australia",
          "Australia",
          "Australia",
          "Australia",
          "Australia",
          "Australia",
          "Australia",
          "Australia",
          "Australia",
          "Australia",
          "Australia",
          "Australia",
          "Australia",
          "Australia",
          "Australia",
          "Australia",
          "Australia",
          "Australia",
          "Australia",
          "Australia",
          "Australia",
          "Australia",
          "Australia",
          "Australia",
          "Australia",
          "Australia",
          "Australia",
          "Australia",
          "Australia",
          "Australia",
          "Australia",
          "Australia",
          "Australia",
          "Australia",
          "Australia",
          "Australia",
          "Australia",
          "Australia",
          "Australia",
          "Australia",
          "Australia",
          "Australia",
          "Australia",
          "Australia",
          "Australia",
          "Australia",
          "Australia",
          "Australia",
          "Australia",
          "Australia",
          "Australia",
          "Australia",
          "Australia",
          "Australia",
          "Australia",
          "Australia",
          "Australia",
          "Australia",
          "Australia",
          "Australia",
          "Australia",
          "Australia",
          "Australia",
          "Australia",
          "Australia",
          "Australia",
          "Australia",
          "Australia",
          "Australia",
          "Australia",
          "Australia",
          "Australia",
          "Australia",
          "Australia",
          "Australia",
          "Australia",
          "Australia",
          "Australia",
          "Australia",
          "Australia",
          "Australia",
          "Australia",
          "Australia",
          "Australia",
          "Australia",
          "Australia",
          "Australia",
          "Australia",
          "Australia",
          "Australia",
          "Australia",
          "Australia",
          "Australia",
          "Australia",
          "Australia",
          "Australia",
          "Australia",
          "Australia",
          "Australia",
          "Australia",
          "Australia",
          "Australia",
          "Australia",
          "Australia",
          "Australia",
          "Australia",
          "Australia",
          "Australia",
          "Australia",
          "Australia",
          "Australia",
          "Australia",
          "Australia",
          "Australia",
          "Australia",
          "Australia",
          "Australia",
          "Australia",
          "Australia",
          "Australia",
          "Australia",
          "Australia",
          "Australia",
          "Australia",
          "Australia",
          "Australia",
          "Australia",
          "Australia",
          "Australia",
          "Australia",
          "Australia",
          "Australia",
          "Australia",
          "Australia",
          "Australia",
          "Australia",
          "Australia",
          "Australia",
          "Australia",
          "Australia",
          "Australia",
          "Australia",
          "Australia",
          "Australia",
          "Australia",
          "Australia",
          "Australia",
          "Australia",
          "Australia",
          "Australia",
          "Australia",
          "Australia",
          "Australia",
          "Australia",
          "Australia",
          "Australia",
          "Australia",
          "Australia",
          "Australia",
          "Australia",
          "Australia",
          "Australia",
          "Australia"
         ],
         "yaxis": "y2"
        },
        {
         "legendgroup": "New Zealand",
         "marker": {
          "color": "#D8576B",
          "symbol": "line-ns-open"
         },
         "mode": "markers",
         "name": "New Zealand",
         "showlegend": false,
         "type": "scatter",
         "x": {
          "bdata": "AAAAAAAsr0AAAAAAAABlQAAAAACAXcBAAAAAAACKwkAAAAAAAMWzQAAAAAAA6JpAAAAAAABgYkAAAAAAAMirQAAAAAAA4KVAAAAAAAD4jUAAAAAAAIBPQAAAAAAAQb9AAAAAAACASEAAAAAAAIBfQAAAAAAAZJhAAAAAAADWu0AAAAAAAHDFQAAAAAAAjJxAAAAAAIAlwEAAAAAAAFqgQAAAAAAAuI9AAAAAAICNyUAAAAAAAG7CQAAAAAAARrVAAAAAAAAQf0AAAAAAAES5QAAAAAAAVqhAAAAAAAAokkAAAAAAAHCVQAAAAAAAxqhAAAAAAADTs0AAAAAAADC+QAAAAAAAJbFAAAAAAABooEAAAAAAADa5QAAAAAAAksBAAAAAAADHxkAAAAAAAEK9QAAAAAAAtrVAAAAAAADgxUAAAAAAgPDAQAAAAAAAXKpAAAAAAADIi0AAAAAAANO6QAAAAAAACJNAAAAAAAANsEAAAAAAAAXCQAAAAAAAZbZAAAAAAADYsEAAAAAAABitQAAAAAAA98FAAAAAAIAXx0AAAAAAAMG0QAAAAAAAOIVAAAAAAABKpEAAAAAAAFq3QAAAAAAACbFAAAAAAADWtEAAAAAAAEezQAAAAAAAlMNAAAAAAABcqkAAAAAAANuxQAAAAAAA6dFAAAAAAABmu0AAAAAAAMaxQAAAAAAAx71AAAAAAACWxkAAAAAAANSvQAAAAAAAXJpAAAAAAACcr0AAAAAAADm6QAAAAAAAKLlAAAAAAACmokAAAAAAgHXBQAAAAAAAQs1AAAAAAACgl0AAAAAAAOrNQAAAAACA985AAAAAAAAIk0AAAAAAAAmxQAAAAAAAkJRAAAAAAACFtUAAAAAAACmwQAAAAAAAILRAAAAAAABGpUAAAAAAALHBQAAAAAAAaKdAAAAAAABIwUAAAAAAADW0QAAAAAAAlLNAAAAAAACOsUAAAAAAACipQAAAAAAALbZAAAAAAAAcnEAAAAAAAJyRQAAAAAAAkIRAAAAAAABitUAAAAAAALW3QAAAAAAASbZAAAAAAAAkk0AAAAAAACG5QAAAAAAA6b9AAAAAAAAHvEAAAAAAANSYQAAAAAAAsINAAAAAAAAivkAAAAAAABa6QAAAAAAAPLtAAAAAAIDExEAAAAAAABe/QAAAAAAAGrlAAAAAAAC4mEAAAAAAAM2xQAAAAAAAirJAAAAAAADeqUAAAAAAANjAQAAAAAAAwKZAAAAAAEAG00AAAAAAADKzQAAAAACA+sFAAAAAAAA4lUAAAAAAABbKQAAAAAAAbrlAAAAAAABEmUAAAAAAACPFQAAAAAAA8sRAAAAAAAC4mEAAAAAAAICfQAAAAAAApL1AAAAAAADghUAAAAAAAOyyQAAAAAAAP7xAAAAAAACgfkAAAAAAAOiDQAAAAAAABsBAAAAAAABttEAAAAAAAOawQAAAAAAA3sJAAAAAAADVtkAAAAAAAD+8QAAAAAAAABxAAAAAAAAskUAAAAAAAPW8QAAAAAAA1JFAAAAAAAD4rUAAAAAAADB3QAAAAAAAFKBAAAAAAADgtUAAAAAAALioQAAAAAAAHLVAAAAAAAAsr0AAAAAAAC/JQAAAAAAAN8BAAAAAAABUrEAAAAAAALm9QAAAAAAAFcVAAAAAAAC4oUAAAAAAACa2QAAAAAAA9JdAAAAAAIASw0AAAAAAAFKyQAAAAAAAg8lAAAAAAIDNwEAAAAAAADu9QAAAAAAAaqpAAAAAAAC4n0AAAAAAAJ+5QAAAAAAAXKNAAAAAAACAT0AAAAAAgH3NQAAAAAAAMH5AAAAAAACHyEAAAAAAAMa/QA==",
          "dtype": "f8"
         },
         "xaxis": "x",
         "y": [
          "New Zealand",
          "New Zealand",
          "New Zealand",
          "New Zealand",
          "New Zealand",
          "New Zealand",
          "New Zealand",
          "New Zealand",
          "New Zealand",
          "New Zealand",
          "New Zealand",
          "New Zealand",
          "New Zealand",
          "New Zealand",
          "New Zealand",
          "New Zealand",
          "New Zealand",
          "New Zealand",
          "New Zealand",
          "New Zealand",
          "New Zealand",
          "New Zealand",
          "New Zealand",
          "New Zealand",
          "New Zealand",
          "New Zealand",
          "New Zealand",
          "New Zealand",
          "New Zealand",
          "New Zealand",
          "New Zealand",
          "New Zealand",
          "New Zealand",
          "New Zealand",
          "New Zealand",
          "New Zealand",
          "New Zealand",
          "New Zealand",
          "New Zealand",
          "New Zealand",
          "New Zealand",
          "New Zealand",
          "New Zealand",
          "New Zealand",
          "New Zealand",
          "New Zealand",
          "New Zealand",
          "New Zealand",
          "New Zealand",
          "New Zealand",
          "New Zealand",
          "New Zealand",
          "New Zealand",
          "New Zealand",
          "New Zealand",
          "New Zealand",
          "New Zealand",
          "New Zealand",
          "New Zealand",
          "New Zealand",
          "New Zealand",
          "New Zealand",
          "New Zealand",
          "New Zealand",
          "New Zealand",
          "New Zealand",
          "New Zealand",
          "New Zealand",
          "New Zealand",
          "New Zealand",
          "New Zealand",
          "New Zealand",
          "New Zealand",
          "New Zealand",
          "New Zealand",
          "New Zealand",
          "New Zealand",
          "New Zealand",
          "New Zealand",
          "New Zealand",
          "New Zealand",
          "New Zealand",
          "New Zealand",
          "New Zealand",
          "New Zealand",
          "New Zealand",
          "New Zealand",
          "New Zealand",
          "New Zealand",
          "New Zealand",
          "New Zealand",
          "New Zealand",
          "New Zealand",
          "New Zealand",
          "New Zealand",
          "New Zealand",
          "New Zealand",
          "New Zealand",
          "New Zealand",
          "New Zealand",
          "New Zealand",
          "New Zealand",
          "New Zealand",
          "New Zealand",
          "New Zealand",
          "New Zealand",
          "New Zealand",
          "New Zealand",
          "New Zealand",
          "New Zealand",
          "New Zealand",
          "New Zealand",
          "New Zealand",
          "New Zealand",
          "New Zealand",
          "New Zealand",
          "New Zealand",
          "New Zealand",
          "New Zealand",
          "New Zealand",
          "New Zealand",
          "New Zealand",
          "New Zealand",
          "New Zealand",
          "New Zealand",
          "New Zealand",
          "New Zealand",
          "New Zealand",
          "New Zealand",
          "New Zealand",
          "New Zealand",
          "New Zealand",
          "New Zealand",
          "New Zealand",
          "New Zealand",
          "New Zealand",
          "New Zealand",
          "New Zealand",
          "New Zealand",
          "New Zealand",
          "New Zealand",
          "New Zealand",
          "New Zealand",
          "New Zealand",
          "New Zealand",
          "New Zealand",
          "New Zealand",
          "New Zealand",
          "New Zealand",
          "New Zealand",
          "New Zealand",
          "New Zealand",
          "New Zealand",
          "New Zealand",
          "New Zealand",
          "New Zealand",
          "New Zealand",
          "New Zealand",
          "New Zealand",
          "New Zealand",
          "New Zealand",
          "New Zealand",
          "New Zealand",
          "New Zealand",
          "New Zealand",
          "New Zealand",
          "New Zealand",
          "New Zealand",
          "New Zealand",
          "New Zealand",
          "New Zealand",
          "New Zealand",
          "New Zealand"
         ],
         "yaxis": "y2"
        },
        {
         "legendgroup": "USA",
         "marker": {
          "color": "#FB9F3A",
          "symbol": "line-ns-open"
         },
         "mode": "markers",
         "name": "USA",
         "showlegend": false,
         "type": "scatter",
         "x": {
          "bdata": "AAAAAADurEAAAAAAAJKnQAAAAAAAzJNAAAAAAACRskAAAAAAAHKvQAAAAACAt8JAAAAAAABQjUAAAAAAgM7MQAAAAAAAhrpAAAAAAIAEw0AAAAAAAOfMQAAAAACApsFAAAAAAIAMyEAAAAAAAOiTQAAAAAAAq71AAAAAAIDowkAAAAAAAFTMQAAAAACAq8VAAAAAAACwg0AAAAAAAKCQQAAAAACAmcZAAAAAAADAlkAAAAAAADewQAAAAAAAdr5AAAAAAIDp0EAAAAAAAIB4QAAAAAAAIcJAAAAAAIBnwUAAAAAAALHBQAAAAAAAlchAAAAAAIAmxUAAAAAAABBxQAAAAAAA48ZAAAAAAABkr0AAAAAAAICIQAAAAAAA27FAAAAAAIBZwUAAAAAAALCKQAAAAAAAoHdAAAAAAAAxtUAAAAAAAPChQAAAAAAAgFFAAAAAAAA8m0AAAAAAAFikQAAAAAAA27FAAAAAAAB1yUAAAAAAAGfCQAAAAAAAJbFAAAAAAACQpEAAAAAAALi4QAAAAAAAGJZAAAAAAAAivkAAAAAAANm1QAAAAAAAjJVAAAAAAAAMmUAAAAAAADa5QAAAAAAAXqZAAAAAAABHw0AAAAAAANiOQAAAAAAASrtAAAAAAICV0EAAAAAAABqiQAAAAAAAoI5AAAAAAAAKpkAAAAAAAGinQAAAAAAABLtAAAAAAACFtUAAAAAAgLTPQAAAAAAAJKNAAAAAAICoxEAAAAAAAIS3QAAAAAAAIJtAAAAAAAB8uUAAAAAAAJe0QAAAAACAQc5AAAAAAAAeoUAAAAAAACm+QAAAAAAAIJtAAAAAAAAAXEAAAAAAAJLOQAAAAAAA7cdAAAAAAAB8okAAAAAAAKy0QAAAAAAAjJVAAAAAAAAaokAAAAAAAIK7QAAAAAAA4JxAAAAAAAC4n0AAAAAAANy2QAAAAACA7MhAAAAAAACYokAAAAAAABaqQAAAAAAAAbpAAAAAAACnwEAAAAAAADrIQAAAAAAALK9AAAAAAAA+vkAAAAAAAHG6QAAAAAAASIhAAAAAAAAGrkAAAAAAgGTAQAAAAAAA3K1AAAAAAIDdw0AAAAAAABS3QAAAAACA7stAAAAAAAA1y0AAAAAAAIvAQAAAAAAAQFNAAAAAAADyq0AAAAAAAEG/QAAAAAAAx71AAAAAAABtxEAAAAAAACy4QAAAAABABNBAAAAAAADMo0AAAAAAADaiQAAAAAAAlbFAAAAAAAD1tUAAAAAAAC6kQAAAAAAAwrJAAAAAAADQskAAAAAAAIe4QAAAAAAAlLNAAAAAAAAQeEAAAAAAAB6xQAAAAAAArLRAAAAAAACkpkAAAAAAAEO0QAAAAACAeMJAAAAAAAC1t0AAAAAAAPbDQAAAAAAAKJJAAAAAAIBozUAAAAAAAGCyQAAAAACAXsxAAAAAAACfwkAAAAAAAPCfQAAAAAAAuMhAAAAAAAD0sEAAAAAAAIBxQAAAAAAAgH9AAAAAAADAnUAAAAAAAHanQAAAAAAAwHZAAAAAAADyu0AAAAAAADy0QAAAAAAAIItAAAAAAABfu0AAAAAAAHiaQAAAAAAAIJRAAAAAAADQokAAAAAAACCbQAAAAAAA/LxAAAAAAADupUAAAAAAADStQAAAAAAAFJBAAAAAAADGoUAAAAAAQA7RQAAAAACAz8NAAAAAAAAouUAAAAAAAMKiQAAAAAAAo7FAAAAAAADAfUAAAAAAAOypQAAAAAAAIr5AAAAAAIChy0AAAAAAAHagQAAAAAAA2qpAAAAAAADwsUAAAAAAADu2QAAAAAAAqIVAAAAAAAAaokAAAAAAADB+QAAAAAAARrVAAAAAAACQhEAAAAAAAMS8QAAAAACAAsdAAAAAAAAAhUAAAAAAAJ+5QA==",
          "dtype": "f8"
         },
         "xaxis": "x",
         "y": [
          "USA",
          "USA",
          "USA",
          "USA",
          "USA",
          "USA",
          "USA",
          "USA",
          "USA",
          "USA",
          "USA",
          "USA",
          "USA",
          "USA",
          "USA",
          "USA",
          "USA",
          "USA",
          "USA",
          "USA",
          "USA",
          "USA",
          "USA",
          "USA",
          "USA",
          "USA",
          "USA",
          "USA",
          "USA",
          "USA",
          "USA",
          "USA",
          "USA",
          "USA",
          "USA",
          "USA",
          "USA",
          "USA",
          "USA",
          "USA",
          "USA",
          "USA",
          "USA",
          "USA",
          "USA",
          "USA",
          "USA",
          "USA",
          "USA",
          "USA",
          "USA",
          "USA",
          "USA",
          "USA",
          "USA",
          "USA",
          "USA",
          "USA",
          "USA",
          "USA",
          "USA",
          "USA",
          "USA",
          "USA",
          "USA",
          "USA",
          "USA",
          "USA",
          "USA",
          "USA",
          "USA",
          "USA",
          "USA",
          "USA",
          "USA",
          "USA",
          "USA",
          "USA",
          "USA",
          "USA",
          "USA",
          "USA",
          "USA",
          "USA",
          "USA",
          "USA",
          "USA",
          "USA",
          "USA",
          "USA",
          "USA",
          "USA",
          "USA",
          "USA",
          "USA",
          "USA",
          "USA",
          "USA",
          "USA",
          "USA",
          "USA",
          "USA",
          "USA",
          "USA",
          "USA",
          "USA",
          "USA",
          "USA",
          "USA",
          "USA",
          "USA",
          "USA",
          "USA",
          "USA",
          "USA",
          "USA",
          "USA",
          "USA",
          "USA",
          "USA",
          "USA",
          "USA",
          "USA",
          "USA",
          "USA",
          "USA",
          "USA",
          "USA",
          "USA",
          "USA",
          "USA",
          "USA",
          "USA",
          "USA",
          "USA",
          "USA",
          "USA",
          "USA",
          "USA",
          "USA",
          "USA",
          "USA",
          "USA",
          "USA",
          "USA",
          "USA",
          "USA",
          "USA",
          "USA",
          "USA",
          "USA",
          "USA",
          "USA",
          "USA",
          "USA",
          "USA",
          "USA",
          "USA",
          "USA",
          "USA",
          "USA",
          "USA",
          "USA",
          "USA",
          "USA",
          "USA",
          "USA",
          "USA",
          "USA",
          "USA",
          "USA",
          "USA",
          "USA",
          "USA",
          "USA",
          "USA",
          "USA",
          "USA",
          "USA"
         ],
         "yaxis": "y2"
        },
        {
         "legendgroup": "Canada",
         "marker": {
          "color": "#F0F921",
          "symbol": "line-ns-open"
         },
         "mode": "markers",
         "name": "Canada",
         "showlegend": false,
         "type": "scatter",
         "x": {
          "bdata": "AAAAAACIlkAAAAAAAMavQAAAAACAL8FAAAAAAADQmUAAAAAAAOagQAAAAAAArbJAAAAAAACyvUAAAAAAAAGzQAAAAAAAkHtAAAAAAEBm0EAAAAAAAAKoQAAAAAAACINAAAAAAACAr0AAAAAAAPK7QAAAAAAAzqZAAAAAAACqv0AAAAAAgFfFQAAAAAAAhJdAAAAAAADgnEAAAAAAALCKQAAAAAAA3rJAAAAAAAAqrEAAAAAAAFS1QAAAAAAAkqdAAAAAAAAjvEAAAAAAABqpQAAAAAAAiqlAAAAAAABooEAAAAAAAFCWQAAAAAAALqtAAAAAAIAdwkAAAAAAAJ6kQAAAAAAArbJAAAAAAIBDykAAAAAAgPfAQAAAAAAA3qJAAAAAAAC+o0AAAAAAAPuwQAAAAAAAcHxAAAAAAABQnUAAAAAAgADEQAAAAACA5MNAAAAAAAAUoEAAAAAAAEB6QAAAAAAASM9AAAAAAIB3xEAAAAAAAGGwQAAAAAAAuLhAAAAAAAAmvUAAAAAAACDLQAAAAAAAIJRAAAAAAAAIo0AAAAAAgNTAQAAAAACA58tAAAAAAACQq0AAAAAAAM+0QAAAAAAA1L9AAAAAAADyq0AAAAAAAM+7QAAAAAAAqbNAAAAAAABMvkAAAAAAAMikQAAAAAAABsBAAAAAAABAk0AAAAAAgELFQAAAAAAAWJtAAAAAAAAsqEAAAAAAAOCsQAAAAAAAWIRAAAAAAABslkAAAAAAAJXIQAAAAAAAErtAAAAAAACgkEAAAAAAAPrCQAAAAACAgsNAAAAAAABqqkAAAAAAgKLCQAAAAACA8sNAAAAAAACPxkAAAAAAAGTBQAAAAAAAFsNAAAAAAABQvUAAAAAAAFibQAAAAACAXc5AAAAAAABax0AAAAAAANinQAAAAAAAbL1AAAAAAAC6q0AAAAAAAEBzQAAAAAAA4KVAAAAAAADMk0AAAAAAAHClQAAAAAAAo7FAAAAAAADjtkAAAAAAAKCnQAAAAAAA+rJAAAAAAAAMkkAAAAAAACKuQAAAAAAABJtAAAAAAADGuEAAAAAAAD3CQAAAAAAAuIhAAAAAAABOw0AAAAAAAF24QAAAAAAAu7lAAAAAAAAwfkAAAAAAAHSUQAAAAAAAeJpAAAAAAAAJwUAAAAAAgLrKQAAAAAAAo79AAAAAAACWtkAAAAAAAP6hQAAAAAAA1KFAAAAAAAAivkAAAAAAANCJQAAAAAAABrdAAAAAAACUqkAAAAAAALioQAAAAAAAxq9AAAAAAABHw0AAAAAAAAu0QAAAAAAA1JFAAAAAAABGpUAAAAAAADu2QAAAAACAbMVAAAAAAADDsEAAAAAAAEyeQAAAAAAABKtAAAAAAAATskAAAAAAAIBvQAAAAAAAQGpAAAAAAABwlUAAAAAAAIi9QAAAAAAAXbhAAAAAAABHs0AAAAAAAGqqQAAAAACAT9BAAAAAAABavkAAAAAAANe5QAAAAACALspAAAAAAIDVzEAAAAAAAPG2QAAAAACARMhAAAAAAAB/s0AAAAAAAOizQAAAAAAAsr1AAAAAAADaqkAAAAAAADSdQAAAAAAAJKpAAAAAAAAuxEAAAAAAAOyyQAAAAAAAEI9AAAAAAAB2sEAAAAAAAACsQAAAAACAYMhAAAAAAADVtkAAAAAAADS2QAAAAAAAC8RAAAAAAAAks0AAAAAAAPu3QAAAAAAApbtAAAAAAACwo0AAAAAAAMK5QAAAAAAAiIZAAAAAAACckUAAAAAAAHi6QAAAAAAAOKxAAAAAAADft0AAAAAAABylQAAAAAAA/7ZAAAAAAIAawUAAAAAAAKe3QAAAAACAlcBAAAAAAADwgUA=",
          "dtype": "f8"
         },
         "xaxis": "x",
         "y": [
          "Canada",
          "Canada",
          "Canada",
          "Canada",
          "Canada",
          "Canada",
          "Canada",
          "Canada",
          "Canada",
          "Canada",
          "Canada",
          "Canada",
          "Canada",
          "Canada",
          "Canada",
          "Canada",
          "Canada",
          "Canada",
          "Canada",
          "Canada",
          "Canada",
          "Canada",
          "Canada",
          "Canada",
          "Canada",
          "Canada",
          "Canada",
          "Canada",
          "Canada",
          "Canada",
          "Canada",
          "Canada",
          "Canada",
          "Canada",
          "Canada",
          "Canada",
          "Canada",
          "Canada",
          "Canada",
          "Canada",
          "Canada",
          "Canada",
          "Canada",
          "Canada",
          "Canada",
          "Canada",
          "Canada",
          "Canada",
          "Canada",
          "Canada",
          "Canada",
          "Canada",
          "Canada",
          "Canada",
          "Canada",
          "Canada",
          "Canada",
          "Canada",
          "Canada",
          "Canada",
          "Canada",
          "Canada",
          "Canada",
          "Canada",
          "Canada",
          "Canada",
          "Canada",
          "Canada",
          "Canada",
          "Canada",
          "Canada",
          "Canada",
          "Canada",
          "Canada",
          "Canada",
          "Canada",
          "Canada",
          "Canada",
          "Canada",
          "Canada",
          "Canada",
          "Canada",
          "Canada",
          "Canada",
          "Canada",
          "Canada",
          "Canada",
          "Canada",
          "Canada",
          "Canada",
          "Canada",
          "Canada",
          "Canada",
          "Canada",
          "Canada",
          "Canada",
          "Canada",
          "Canada",
          "Canada",
          "Canada",
          "Canada",
          "Canada",
          "Canada",
          "Canada",
          "Canada",
          "Canada",
          "Canada",
          "Canada",
          "Canada",
          "Canada",
          "Canada",
          "Canada",
          "Canada",
          "Canada",
          "Canada",
          "Canada",
          "Canada",
          "Canada",
          "Canada",
          "Canada",
          "Canada",
          "Canada",
          "Canada",
          "Canada",
          "Canada",
          "Canada",
          "Canada",
          "Canada",
          "Canada",
          "Canada",
          "Canada",
          "Canada",
          "Canada",
          "Canada",
          "Canada",
          "Canada",
          "Canada",
          "Canada",
          "Canada",
          "Canada",
          "Canada",
          "Canada",
          "Canada",
          "Canada",
          "Canada",
          "Canada",
          "Canada",
          "Canada",
          "Canada",
          "Canada",
          "Canada",
          "Canada",
          "Canada",
          "Canada",
          "Canada",
          "Canada",
          "Canada",
          "Canada",
          "Canada",
          "Canada",
          "Canada",
          "Canada",
          "Canada",
          "Canada",
          "Canada",
          "Canada",
          "Canada",
          "Canada",
          "Canada",
          "Canada",
          "Canada",
          "Canada",
          "Canada",
          "Canada",
          "Canada"
         ],
         "yaxis": "y2"
        }
       ],
       "layout": {
        "barmode": "overlay",
        "hovermode": "closest",
        "legend": {
         "traceorder": "reversed"
        },
        "template": {
         "data": {
          "bar": [
           {
            "error_x": {
             "color": "#2a3f5f"
            },
            "error_y": {
             "color": "#2a3f5f"
            },
            "marker": {
             "line": {
              "color": "#E5ECF6",
              "width": 0.5
             },
             "pattern": {
              "fillmode": "overlay",
              "size": 10,
              "solidity": 0.2
             }
            },
            "type": "bar"
           }
          ],
          "barpolar": [
           {
            "marker": {
             "line": {
              "color": "#E5ECF6",
              "width": 0.5
             },
             "pattern": {
              "fillmode": "overlay",
              "size": 10,
              "solidity": 0.2
             }
            },
            "type": "barpolar"
           }
          ],
          "carpet": [
           {
            "aaxis": {
             "endlinecolor": "#2a3f5f",
             "gridcolor": "white",
             "linecolor": "white",
             "minorgridcolor": "white",
             "startlinecolor": "#2a3f5f"
            },
            "baxis": {
             "endlinecolor": "#2a3f5f",
             "gridcolor": "white",
             "linecolor": "white",
             "minorgridcolor": "white",
             "startlinecolor": "#2a3f5f"
            },
            "type": "carpet"
           }
          ],
          "choropleth": [
           {
            "colorbar": {
             "outlinewidth": 0,
             "ticks": ""
            },
            "type": "choropleth"
           }
          ],
          "contour": [
           {
            "colorbar": {
             "outlinewidth": 0,
             "ticks": ""
            },
            "colorscale": [
             [
              0,
              "#0d0887"
             ],
             [
              0.1111111111111111,
              "#46039f"
             ],
             [
              0.2222222222222222,
              "#7201a8"
             ],
             [
              0.3333333333333333,
              "#9c179e"
             ],
             [
              0.4444444444444444,
              "#bd3786"
             ],
             [
              0.5555555555555556,
              "#d8576b"
             ],
             [
              0.6666666666666666,
              "#ed7953"
             ],
             [
              0.7777777777777778,
              "#fb9f3a"
             ],
             [
              0.8888888888888888,
              "#fdca26"
             ],
             [
              1,
              "#f0f921"
             ]
            ],
            "type": "contour"
           }
          ],
          "contourcarpet": [
           {
            "colorbar": {
             "outlinewidth": 0,
             "ticks": ""
            },
            "type": "contourcarpet"
           }
          ],
          "heatmap": [
           {
            "colorbar": {
             "outlinewidth": 0,
             "ticks": ""
            },
            "colorscale": [
             [
              0,
              "#0d0887"
             ],
             [
              0.1111111111111111,
              "#46039f"
             ],
             [
              0.2222222222222222,
              "#7201a8"
             ],
             [
              0.3333333333333333,
              "#9c179e"
             ],
             [
              0.4444444444444444,
              "#bd3786"
             ],
             [
              0.5555555555555556,
              "#d8576b"
             ],
             [
              0.6666666666666666,
              "#ed7953"
             ],
             [
              0.7777777777777778,
              "#fb9f3a"
             ],
             [
              0.8888888888888888,
              "#fdca26"
             ],
             [
              1,
              "#f0f921"
             ]
            ],
            "type": "heatmap"
           }
          ],
          "histogram": [
           {
            "marker": {
             "pattern": {
              "fillmode": "overlay",
              "size": 10,
              "solidity": 0.2
             }
            },
            "type": "histogram"
           }
          ],
          "histogram2d": [
           {
            "colorbar": {
             "outlinewidth": 0,
             "ticks": ""
            },
            "colorscale": [
             [
              0,
              "#0d0887"
             ],
             [
              0.1111111111111111,
              "#46039f"
             ],
             [
              0.2222222222222222,
              "#7201a8"
             ],
             [
              0.3333333333333333,
              "#9c179e"
             ],
             [
              0.4444444444444444,
              "#bd3786"
             ],
             [
              0.5555555555555556,
              "#d8576b"
             ],
             [
              0.6666666666666666,
              "#ed7953"
             ],
             [
              0.7777777777777778,
              "#fb9f3a"
             ],
             [
              0.8888888888888888,
              "#fdca26"
             ],
             [
              1,
              "#f0f921"
             ]
            ],
            "type": "histogram2d"
           }
          ],
          "histogram2dcontour": [
           {
            "colorbar": {
             "outlinewidth": 0,
             "ticks": ""
            },
            "colorscale": [
             [
              0,
              "#0d0887"
             ],
             [
              0.1111111111111111,
              "#46039f"
             ],
             [
              0.2222222222222222,
              "#7201a8"
             ],
             [
              0.3333333333333333,
              "#9c179e"
             ],
             [
              0.4444444444444444,
              "#bd3786"
             ],
             [
              0.5555555555555556,
              "#d8576b"
             ],
             [
              0.6666666666666666,
              "#ed7953"
             ],
             [
              0.7777777777777778,
              "#fb9f3a"
             ],
             [
              0.8888888888888888,
              "#fdca26"
             ],
             [
              1,
              "#f0f921"
             ]
            ],
            "type": "histogram2dcontour"
           }
          ],
          "mesh3d": [
           {
            "colorbar": {
             "outlinewidth": 0,
             "ticks": ""
            },
            "type": "mesh3d"
           }
          ],
          "parcoords": [
           {
            "line": {
             "colorbar": {
              "outlinewidth": 0,
              "ticks": ""
             }
            },
            "type": "parcoords"
           }
          ],
          "pie": [
           {
            "automargin": true,
            "type": "pie"
           }
          ],
          "scatter": [
           {
            "fillpattern": {
             "fillmode": "overlay",
             "size": 10,
             "solidity": 0.2
            },
            "type": "scatter"
           }
          ],
          "scatter3d": [
           {
            "line": {
             "colorbar": {
              "outlinewidth": 0,
              "ticks": ""
             }
            },
            "marker": {
             "colorbar": {
              "outlinewidth": 0,
              "ticks": ""
             }
            },
            "type": "scatter3d"
           }
          ],
          "scattercarpet": [
           {
            "marker": {
             "colorbar": {
              "outlinewidth": 0,
              "ticks": ""
             }
            },
            "type": "scattercarpet"
           }
          ],
          "scattergeo": [
           {
            "marker": {
             "colorbar": {
              "outlinewidth": 0,
              "ticks": ""
             }
            },
            "type": "scattergeo"
           }
          ],
          "scattergl": [
           {
            "marker": {
             "colorbar": {
              "outlinewidth": 0,
              "ticks": ""
             }
            },
            "type": "scattergl"
           }
          ],
          "scattermap": [
           {
            "marker": {
             "colorbar": {
              "outlinewidth": 0,
              "ticks": ""
             }
            },
            "type": "scattermap"
           }
          ],
          "scattermapbox": [
           {
            "marker": {
             "colorbar": {
              "outlinewidth": 0,
              "ticks": ""
             }
            },
            "type": "scattermapbox"
           }
          ],
          "scatterpolar": [
           {
            "marker": {
             "colorbar": {
              "outlinewidth": 0,
              "ticks": ""
             }
            },
            "type": "scatterpolar"
           }
          ],
          "scatterpolargl": [
           {
            "marker": {
             "colorbar": {
              "outlinewidth": 0,
              "ticks": ""
             }
            },
            "type": "scatterpolargl"
           }
          ],
          "scatterternary": [
           {
            "marker": {
             "colorbar": {
              "outlinewidth": 0,
              "ticks": ""
             }
            },
            "type": "scatterternary"
           }
          ],
          "surface": [
           {
            "colorbar": {
             "outlinewidth": 0,
             "ticks": ""
            },
            "colorscale": [
             [
              0,
              "#0d0887"
             ],
             [
              0.1111111111111111,
              "#46039f"
             ],
             [
              0.2222222222222222,
              "#7201a8"
             ],
             [
              0.3333333333333333,
              "#9c179e"
             ],
             [
              0.4444444444444444,
              "#bd3786"
             ],
             [
              0.5555555555555556,
              "#d8576b"
             ],
             [
              0.6666666666666666,
              "#ed7953"
             ],
             [
              0.7777777777777778,
              "#fb9f3a"
             ],
             [
              0.8888888888888888,
              "#fdca26"
             ],
             [
              1,
              "#f0f921"
             ]
            ],
            "type": "surface"
           }
          ],
          "table": [
           {
            "cells": {
             "fill": {
              "color": "#EBF0F8"
             },
             "line": {
              "color": "white"
             }
            },
            "header": {
             "fill": {
              "color": "#C8D4E3"
             },
             "line": {
              "color": "white"
             }
            },
            "type": "table"
           }
          ]
         },
         "layout": {
          "annotationdefaults": {
           "arrowcolor": "#2a3f5f",
           "arrowhead": 0,
           "arrowwidth": 1
          },
          "autotypenumbers": "strict",
          "coloraxis": {
           "colorbar": {
            "outlinewidth": 0,
            "ticks": ""
           }
          },
          "colorscale": {
           "diverging": [
            [
             0,
             "#8e0152"
            ],
            [
             0.1,
             "#c51b7d"
            ],
            [
             0.2,
             "#de77ae"
            ],
            [
             0.3,
             "#f1b6da"
            ],
            [
             0.4,
             "#fde0ef"
            ],
            [
             0.5,
             "#f7f7f7"
            ],
            [
             0.6,
             "#e6f5d0"
            ],
            [
             0.7,
             "#b8e186"
            ],
            [
             0.8,
             "#7fbc41"
            ],
            [
             0.9,
             "#4d9221"
            ],
            [
             1,
             "#276419"
            ]
           ],
           "sequential": [
            [
             0,
             "#0d0887"
            ],
            [
             0.1111111111111111,
             "#46039f"
            ],
            [
             0.2222222222222222,
             "#7201a8"
            ],
            [
             0.3333333333333333,
             "#9c179e"
            ],
            [
             0.4444444444444444,
             "#bd3786"
            ],
            [
             0.5555555555555556,
             "#d8576b"
            ],
            [
             0.6666666666666666,
             "#ed7953"
            ],
            [
             0.7777777777777778,
             "#fb9f3a"
            ],
            [
             0.8888888888888888,
             "#fdca26"
            ],
            [
             1,
             "#f0f921"
            ]
           ],
           "sequentialminus": [
            [
             0,
             "#0d0887"
            ],
            [
             0.1111111111111111,
             "#46039f"
            ],
            [
             0.2222222222222222,
             "#7201a8"
            ],
            [
             0.3333333333333333,
             "#9c179e"
            ],
            [
             0.4444444444444444,
             "#bd3786"
            ],
            [
             0.5555555555555556,
             "#d8576b"
            ],
            [
             0.6666666666666666,
             "#ed7953"
            ],
            [
             0.7777777777777778,
             "#fb9f3a"
            ],
            [
             0.8888888888888888,
             "#fdca26"
            ],
            [
             1,
             "#f0f921"
            ]
           ]
          },
          "colorway": [
           "#636efa",
           "#EF553B",
           "#00cc96",
           "#ab63fa",
           "#FFA15A",
           "#19d3f3",
           "#FF6692",
           "#B6E880",
           "#FF97FF",
           "#FECB52"
          ],
          "font": {
           "color": "#2a3f5f"
          },
          "geo": {
           "bgcolor": "white",
           "lakecolor": "white",
           "landcolor": "#E5ECF6",
           "showlakes": true,
           "showland": true,
           "subunitcolor": "white"
          },
          "hoverlabel": {
           "align": "left"
          },
          "hovermode": "closest",
          "mapbox": {
           "style": "light"
          },
          "paper_bgcolor": "white",
          "plot_bgcolor": "#E5ECF6",
          "polar": {
           "angularaxis": {
            "gridcolor": "white",
            "linecolor": "white",
            "ticks": ""
           },
           "bgcolor": "#E5ECF6",
           "radialaxis": {
            "gridcolor": "white",
            "linecolor": "white",
            "ticks": ""
           }
          },
          "scene": {
           "xaxis": {
            "backgroundcolor": "#E5ECF6",
            "gridcolor": "white",
            "gridwidth": 2,
            "linecolor": "white",
            "showbackground": true,
            "ticks": "",
            "zerolinecolor": "white"
           },
           "yaxis": {
            "backgroundcolor": "#E5ECF6",
            "gridcolor": "white",
            "gridwidth": 2,
            "linecolor": "white",
            "showbackground": true,
            "ticks": "",
            "zerolinecolor": "white"
           },
           "zaxis": {
            "backgroundcolor": "#E5ECF6",
            "gridcolor": "white",
            "gridwidth": 2,
            "linecolor": "white",
            "showbackground": true,
            "ticks": "",
            "zerolinecolor": "white"
           }
          },
          "shapedefaults": {
           "line": {
            "color": "#2a3f5f"
           }
          },
          "ternary": {
           "aaxis": {
            "gridcolor": "white",
            "linecolor": "white",
            "ticks": ""
           },
           "baxis": {
            "gridcolor": "white",
            "linecolor": "white",
            "ticks": ""
           },
           "bgcolor": "#E5ECF6",
           "caxis": {
            "gridcolor": "white",
            "linecolor": "white",
            "ticks": ""
           }
          },
          "title": {
           "x": 0.05
          },
          "xaxis": {
           "automargin": true,
           "gridcolor": "white",
           "linecolor": "white",
           "ticks": "",
           "title": {
            "standoff": 15
           },
           "zerolinecolor": "white",
           "zerolinewidth": 2
          },
          "yaxis": {
           "automargin": true,
           "gridcolor": "white",
           "linecolor": "white",
           "ticks": "",
           "title": {
            "standoff": 15
           },
           "zerolinecolor": "white",
           "zerolinewidth": 2
          }
         }
        },
        "title": {
         "text": "Распределение продаж по странам (KDE Plot)"
        },
        "xaxis": {
         "anchor": "y2",
         "domain": [
          0,
          1
         ],
         "title": {
          "text": "Сумма продаж"
         },
         "zeroline": false
        },
        "yaxis": {
         "anchor": "free",
         "domain": [
          0.35,
          1
         ],
         "position": 0,
         "title": {
          "text": "Плотность вероятности"
         }
        },
        "yaxis2": {
         "anchor": "x",
         "domain": [
          0,
          0.25
         ],
         "dtick": 1,
         "showticklabels": false
        }
       }
      }
     },
     "metadata": {},
     "output_type": "display_data"
    }
   ],
   "source": [
    "plasma_6_colors = [\n",
    "    '#0D0887',\n",
    "    '#47039F',\n",
    "    '#9C179E',\n",
    "    '#D8576B',\n",
    "    '#FB9F3A',\n",
    "    '#F0F921'\n",
    "]\n",
    "countries = data['Country'].unique()\n",
    "\n",
    "hist_data = []\n",
    "group_labels = []\n",
    "\n",
    "for country in countries:\n",
    "    hist_data.append(data[data['Country'] == country]['Amount'].values)\n",
    "    group_labels.append(country)\n",
    "    \n",
    "fig3 = ff.create_distplot(hist_data, group_labels, bin_size=1000, colors=plasma_6_colors)\n",
    "\n",
    "fig3.update_layout(\n",
    "    title_text='Распределение продаж по странам (KDE Plot)',\n",
    "    xaxis_title='Сумма продаж',\n",
    "    yaxis_title='Плотность вероятности',\n",
    ")\n",
    "\n",
    "fig3.show()\n",
    "\n",
    "\n",
    "file_path = f\"{path_to_save_images}/{image_name_prefix}_image_3.png\"\n",
    "\n",
    "fig3.write_image(file_path, scale=4)"
   ]
  },
  {
   "cell_type": "markdown",
   "id": "4aa0cbb0",
   "metadata": {
    "execution": {
     "iopub.execute_input": "2025-02-27T09:42:02.145773Z",
     "iopub.status.busy": "2025-02-27T09:42:02.145187Z",
     "iopub.status.idle": "2025-02-27T09:42:02.149850Z",
     "shell.execute_reply": "2025-02-27T09:42:02.149153Z",
     "shell.execute_reply.started": "2025-02-27T09:42:02.145737Z"
    }
   },
   "source": [
    "# Выводы\n",
    "\n",
    "На графике показано распределение продаж в разных ценовых сегментах для шести стран: Канада, США, Новая Зеландия, Австралия, Индия и Великобритания.\n",
    "\n",
    "Великобритания имеет наибольшую плотность продаж в ценовых сегментах 1000-2000 и 3000-4000 долларов, что означает, что эти товары наиболее популярны среди британских покупателей.\n",
    "\n",
    "Индия, в свою очередь, демонстрирует наибольшее количество продаж в ценовом сегменте от 2000 до 3000 долларов.\n",
    "\n",
    "Австралия имеет наиболее широкий ценовой диапазон товаров, с продажами в сегментах от 2500 до 8000 долларов, при этом пик продаж достаточно размазан. Схожая ситуация наблюдается и в Новой Зеландии, но в ее случае продажи смещены в сторону более низких цен.\n",
    "\n",
    "США активно продает товары в диапазоне от 2000 до 3000 долларов, но также имеют продажи в сегменте от 4000 до 7000 долларов. Это похоже на ситуацию в Великобритании, но у США продажи в более высоком ценовом диапазоне.\n",
    "\n",
    "Канада в основном продает товары в нижнем ценовом сегменте.\n",
    "\n",
    "Примечательно, что все страны в основном сосредоточены на продажах товаров в пределах ценового диапазона от 7 до 70000 долларов. После этого объем продаж резко снижается, что свидетельствует о меньшей популярности товаров более высокой стоимости во всех странах."
   ]
  },
  {
   "cell_type": "markdown",
   "id": "ee3f2ac9",
   "metadata": {},
   "source": [
    "##  (4) heatmap plot"
   ]
  },
  {
   "cell_type": "code",
   "execution_count": 15,
   "id": "fa470bd1",
   "metadata": {},
   "outputs": [
    {
     "data": {
      "application/vnd.plotly.v1+json": {
       "config": {
        "plotlyServerURL": "https://plot.ly"
       },
       "data": [
        {
         "colorscale": [
          [
           0,
           "rgb(255,255,217)"
          ],
          [
           0.125,
           "rgb(237,248,177)"
          ],
          [
           0.25,
           "rgb(199,233,180)"
          ],
          [
           0.375,
           "rgb(127,205,187)"
          ],
          [
           0.5,
           "rgb(65,182,196)"
          ],
          [
           0.625,
           "rgb(29,145,192)"
          ],
          [
           0.75,
           "rgb(34,94,168)"
          ],
          [
           0.875,
           "rgb(37,52,148)"
          ],
          [
           1,
           "rgb(8,29,88)"
          ]
         ],
         "type": "heatmap",
         "x": [
          "Australia",
          "Canada",
          "India",
          "New Zealand",
          "UK",
          "USA"
         ],
         "y": [
          "50% Dark Bites",
          "70% Dark Bites",
          "85% Dark Bars",
          "99% Dark & Pure",
          "After Nines",
          "Almond Choco",
          "Baker's Choco Chips",
          "Caramel Stuffed Bars",
          "Choco Coated Almonds",
          "Drinking Coco",
          "Eclairs",
          "Fruit & Nut Bars",
          "Manuka Honey Choco",
          "Milk Bars",
          "Mint Chip Choco",
          "Orange Choco",
          "Organic Choco Syrup",
          "Peanut Butter Cubes",
          "Raspberry Choco",
          "Smooth Sliky Salty",
          "Spicy Special Slims",
          "White Choc"
         ],
         "z": {
          "bdata": "bgyuAtUEqwOXBw0HNwgqBucFpQPrBHcCsAS2AzAG1gbAAkUGRgWTBa8FwwJ0BQAHkANGBVIHJAXnAw4HfggsAhAFcQLeA0cE6QTZA/EELAMhCFYCUgLkB2MG6ASICAQEzgKUCTAFxwGaBE0BBQe8B00EvQT7BQ4EMwU1CMEHegP5BJkE6AMhBrkDCQRiBA0InwXzBd8DxAWyBH4EHQc9Ay0ENwXLCAEENwRABOwF6QnYBOsCxQa3BoAEdQO6AgkGnQYiBYEDoAdgBAUDPwTUBaUFDgfxBLkECwXLAxQDwgRGBdkFLgXfCNICGgVJBygFAgh7BvUHZQOtAmkF5gW9Al0G8wSJB7QE",
          "dtype": "i2",
          "shape": "22, 6"
         }
        }
       ],
       "layout": {
        "template": {
         "data": {
          "bar": [
           {
            "error_x": {
             "color": "#f2f5fa"
            },
            "error_y": {
             "color": "#f2f5fa"
            },
            "marker": {
             "line": {
              "color": "rgb(17,17,17)",
              "width": 0.5
             },
             "pattern": {
              "fillmode": "overlay",
              "size": 10,
              "solidity": 0.2
             }
            },
            "type": "bar"
           }
          ],
          "barpolar": [
           {
            "marker": {
             "line": {
              "color": "rgb(17,17,17)",
              "width": 0.5
             },
             "pattern": {
              "fillmode": "overlay",
              "size": 10,
              "solidity": 0.2
             }
            },
            "type": "barpolar"
           }
          ],
          "carpet": [
           {
            "aaxis": {
             "endlinecolor": "#A2B1C6",
             "gridcolor": "#506784",
             "linecolor": "#506784",
             "minorgridcolor": "#506784",
             "startlinecolor": "#A2B1C6"
            },
            "baxis": {
             "endlinecolor": "#A2B1C6",
             "gridcolor": "#506784",
             "linecolor": "#506784",
             "minorgridcolor": "#506784",
             "startlinecolor": "#A2B1C6"
            },
            "type": "carpet"
           }
          ],
          "choropleth": [
           {
            "colorbar": {
             "outlinewidth": 0,
             "ticks": ""
            },
            "type": "choropleth"
           }
          ],
          "contour": [
           {
            "colorbar": {
             "outlinewidth": 0,
             "ticks": ""
            },
            "colorscale": [
             [
              0,
              "#0d0887"
             ],
             [
              0.1111111111111111,
              "#46039f"
             ],
             [
              0.2222222222222222,
              "#7201a8"
             ],
             [
              0.3333333333333333,
              "#9c179e"
             ],
             [
              0.4444444444444444,
              "#bd3786"
             ],
             [
              0.5555555555555556,
              "#d8576b"
             ],
             [
              0.6666666666666666,
              "#ed7953"
             ],
             [
              0.7777777777777778,
              "#fb9f3a"
             ],
             [
              0.8888888888888888,
              "#fdca26"
             ],
             [
              1,
              "#f0f921"
             ]
            ],
            "type": "contour"
           }
          ],
          "contourcarpet": [
           {
            "colorbar": {
             "outlinewidth": 0,
             "ticks": ""
            },
            "type": "contourcarpet"
           }
          ],
          "heatmap": [
           {
            "colorbar": {
             "outlinewidth": 0,
             "ticks": ""
            },
            "colorscale": [
             [
              0,
              "#0d0887"
             ],
             [
              0.1111111111111111,
              "#46039f"
             ],
             [
              0.2222222222222222,
              "#7201a8"
             ],
             [
              0.3333333333333333,
              "#9c179e"
             ],
             [
              0.4444444444444444,
              "#bd3786"
             ],
             [
              0.5555555555555556,
              "#d8576b"
             ],
             [
              0.6666666666666666,
              "#ed7953"
             ],
             [
              0.7777777777777778,
              "#fb9f3a"
             ],
             [
              0.8888888888888888,
              "#fdca26"
             ],
             [
              1,
              "#f0f921"
             ]
            ],
            "type": "heatmap"
           }
          ],
          "histogram": [
           {
            "marker": {
             "pattern": {
              "fillmode": "overlay",
              "size": 10,
              "solidity": 0.2
             }
            },
            "type": "histogram"
           }
          ],
          "histogram2d": [
           {
            "colorbar": {
             "outlinewidth": 0,
             "ticks": ""
            },
            "colorscale": [
             [
              0,
              "#0d0887"
             ],
             [
              0.1111111111111111,
              "#46039f"
             ],
             [
              0.2222222222222222,
              "#7201a8"
             ],
             [
              0.3333333333333333,
              "#9c179e"
             ],
             [
              0.4444444444444444,
              "#bd3786"
             ],
             [
              0.5555555555555556,
              "#d8576b"
             ],
             [
              0.6666666666666666,
              "#ed7953"
             ],
             [
              0.7777777777777778,
              "#fb9f3a"
             ],
             [
              0.8888888888888888,
              "#fdca26"
             ],
             [
              1,
              "#f0f921"
             ]
            ],
            "type": "histogram2d"
           }
          ],
          "histogram2dcontour": [
           {
            "colorbar": {
             "outlinewidth": 0,
             "ticks": ""
            },
            "colorscale": [
             [
              0,
              "#0d0887"
             ],
             [
              0.1111111111111111,
              "#46039f"
             ],
             [
              0.2222222222222222,
              "#7201a8"
             ],
             [
              0.3333333333333333,
              "#9c179e"
             ],
             [
              0.4444444444444444,
              "#bd3786"
             ],
             [
              0.5555555555555556,
              "#d8576b"
             ],
             [
              0.6666666666666666,
              "#ed7953"
             ],
             [
              0.7777777777777778,
              "#fb9f3a"
             ],
             [
              0.8888888888888888,
              "#fdca26"
             ],
             [
              1,
              "#f0f921"
             ]
            ],
            "type": "histogram2dcontour"
           }
          ],
          "mesh3d": [
           {
            "colorbar": {
             "outlinewidth": 0,
             "ticks": ""
            },
            "type": "mesh3d"
           }
          ],
          "parcoords": [
           {
            "line": {
             "colorbar": {
              "outlinewidth": 0,
              "ticks": ""
             }
            },
            "type": "parcoords"
           }
          ],
          "pie": [
           {
            "automargin": true,
            "type": "pie"
           }
          ],
          "scatter": [
           {
            "marker": {
             "line": {
              "color": "#283442"
             }
            },
            "type": "scatter"
           }
          ],
          "scatter3d": [
           {
            "line": {
             "colorbar": {
              "outlinewidth": 0,
              "ticks": ""
             }
            },
            "marker": {
             "colorbar": {
              "outlinewidth": 0,
              "ticks": ""
             }
            },
            "type": "scatter3d"
           }
          ],
          "scattercarpet": [
           {
            "marker": {
             "colorbar": {
              "outlinewidth": 0,
              "ticks": ""
             }
            },
            "type": "scattercarpet"
           }
          ],
          "scattergeo": [
           {
            "marker": {
             "colorbar": {
              "outlinewidth": 0,
              "ticks": ""
             }
            },
            "type": "scattergeo"
           }
          ],
          "scattergl": [
           {
            "marker": {
             "line": {
              "color": "#283442"
             }
            },
            "type": "scattergl"
           }
          ],
          "scattermap": [
           {
            "marker": {
             "colorbar": {
              "outlinewidth": 0,
              "ticks": ""
             }
            },
            "type": "scattermap"
           }
          ],
          "scattermapbox": [
           {
            "marker": {
             "colorbar": {
              "outlinewidth": 0,
              "ticks": ""
             }
            },
            "type": "scattermapbox"
           }
          ],
          "scatterpolar": [
           {
            "marker": {
             "colorbar": {
              "outlinewidth": 0,
              "ticks": ""
             }
            },
            "type": "scatterpolar"
           }
          ],
          "scatterpolargl": [
           {
            "marker": {
             "colorbar": {
              "outlinewidth": 0,
              "ticks": ""
             }
            },
            "type": "scatterpolargl"
           }
          ],
          "scatterternary": [
           {
            "marker": {
             "colorbar": {
              "outlinewidth": 0,
              "ticks": ""
             }
            },
            "type": "scatterternary"
           }
          ],
          "surface": [
           {
            "colorbar": {
             "outlinewidth": 0,
             "ticks": ""
            },
            "colorscale": [
             [
              0,
              "#0d0887"
             ],
             [
              0.1111111111111111,
              "#46039f"
             ],
             [
              0.2222222222222222,
              "#7201a8"
             ],
             [
              0.3333333333333333,
              "#9c179e"
             ],
             [
              0.4444444444444444,
              "#bd3786"
             ],
             [
              0.5555555555555556,
              "#d8576b"
             ],
             [
              0.6666666666666666,
              "#ed7953"
             ],
             [
              0.7777777777777778,
              "#fb9f3a"
             ],
             [
              0.8888888888888888,
              "#fdca26"
             ],
             [
              1,
              "#f0f921"
             ]
            ],
            "type": "surface"
           }
          ],
          "table": [
           {
            "cells": {
             "fill": {
              "color": "#506784"
             },
             "line": {
              "color": "rgb(17,17,17)"
             }
            },
            "header": {
             "fill": {
              "color": "#2a3f5f"
             },
             "line": {
              "color": "rgb(17,17,17)"
             }
            },
            "type": "table"
           }
          ]
         },
         "layout": {
          "annotationdefaults": {
           "arrowcolor": "#f2f5fa",
           "arrowhead": 0,
           "arrowwidth": 1
          },
          "autotypenumbers": "strict",
          "coloraxis": {
           "colorbar": {
            "outlinewidth": 0,
            "ticks": ""
           }
          },
          "colorscale": {
           "diverging": [
            [
             0,
             "#8e0152"
            ],
            [
             0.1,
             "#c51b7d"
            ],
            [
             0.2,
             "#de77ae"
            ],
            [
             0.3,
             "#f1b6da"
            ],
            [
             0.4,
             "#fde0ef"
            ],
            [
             0.5,
             "#f7f7f7"
            ],
            [
             0.6,
             "#e6f5d0"
            ],
            [
             0.7,
             "#b8e186"
            ],
            [
             0.8,
             "#7fbc41"
            ],
            [
             0.9,
             "#4d9221"
            ],
            [
             1,
             "#276419"
            ]
           ],
           "sequential": [
            [
             0,
             "#0d0887"
            ],
            [
             0.1111111111111111,
             "#46039f"
            ],
            [
             0.2222222222222222,
             "#7201a8"
            ],
            [
             0.3333333333333333,
             "#9c179e"
            ],
            [
             0.4444444444444444,
             "#bd3786"
            ],
            [
             0.5555555555555556,
             "#d8576b"
            ],
            [
             0.6666666666666666,
             "#ed7953"
            ],
            [
             0.7777777777777778,
             "#fb9f3a"
            ],
            [
             0.8888888888888888,
             "#fdca26"
            ],
            [
             1,
             "#f0f921"
            ]
           ],
           "sequentialminus": [
            [
             0,
             "#0d0887"
            ],
            [
             0.1111111111111111,
             "#46039f"
            ],
            [
             0.2222222222222222,
             "#7201a8"
            ],
            [
             0.3333333333333333,
             "#9c179e"
            ],
            [
             0.4444444444444444,
             "#bd3786"
            ],
            [
             0.5555555555555556,
             "#d8576b"
            ],
            [
             0.6666666666666666,
             "#ed7953"
            ],
            [
             0.7777777777777778,
             "#fb9f3a"
            ],
            [
             0.8888888888888888,
             "#fdca26"
            ],
            [
             1,
             "#f0f921"
            ]
           ]
          },
          "colorway": [
           "#636efa",
           "#EF553B",
           "#00cc96",
           "#ab63fa",
           "#FFA15A",
           "#19d3f3",
           "#FF6692",
           "#B6E880",
           "#FF97FF",
           "#FECB52"
          ],
          "font": {
           "color": "#f2f5fa"
          },
          "geo": {
           "bgcolor": "rgb(17,17,17)",
           "lakecolor": "rgb(17,17,17)",
           "landcolor": "rgb(17,17,17)",
           "showlakes": true,
           "showland": true,
           "subunitcolor": "#506784"
          },
          "hoverlabel": {
           "align": "left"
          },
          "hovermode": "closest",
          "mapbox": {
           "style": "dark"
          },
          "paper_bgcolor": "rgb(17,17,17)",
          "plot_bgcolor": "rgb(17,17,17)",
          "polar": {
           "angularaxis": {
            "gridcolor": "#506784",
            "linecolor": "#506784",
            "ticks": ""
           },
           "bgcolor": "rgb(17,17,17)",
           "radialaxis": {
            "gridcolor": "#506784",
            "linecolor": "#506784",
            "ticks": ""
           }
          },
          "scene": {
           "xaxis": {
            "backgroundcolor": "rgb(17,17,17)",
            "gridcolor": "#506784",
            "gridwidth": 2,
            "linecolor": "#506784",
            "showbackground": true,
            "ticks": "",
            "zerolinecolor": "#C8D4E3"
           },
           "yaxis": {
            "backgroundcolor": "rgb(17,17,17)",
            "gridcolor": "#506784",
            "gridwidth": 2,
            "linecolor": "#506784",
            "showbackground": true,
            "ticks": "",
            "zerolinecolor": "#C8D4E3"
           },
           "zaxis": {
            "backgroundcolor": "rgb(17,17,17)",
            "gridcolor": "#506784",
            "gridwidth": 2,
            "linecolor": "#506784",
            "showbackground": true,
            "ticks": "",
            "zerolinecolor": "#C8D4E3"
           }
          },
          "shapedefaults": {
           "line": {
            "color": "#f2f5fa"
           }
          },
          "sliderdefaults": {
           "bgcolor": "#C8D4E3",
           "bordercolor": "rgb(17,17,17)",
           "borderwidth": 1,
           "tickwidth": 0
          },
          "ternary": {
           "aaxis": {
            "gridcolor": "#506784",
            "linecolor": "#506784",
            "ticks": ""
           },
           "baxis": {
            "gridcolor": "#506784",
            "linecolor": "#506784",
            "ticks": ""
           },
           "bgcolor": "rgb(17,17,17)",
           "caxis": {
            "gridcolor": "#506784",
            "linecolor": "#506784",
            "ticks": ""
           }
          },
          "title": {
           "x": 0.05
          },
          "updatemenudefaults": {
           "bgcolor": "#506784",
           "borderwidth": 0
          },
          "xaxis": {
           "automargin": true,
           "gridcolor": "#283442",
           "linecolor": "#506784",
           "ticks": "",
           "title": {
            "standoff": 15
           },
           "zerolinecolor": "#283442",
           "zerolinewidth": 2
          },
          "yaxis": {
           "automargin": true,
           "gridcolor": "#283442",
           "linecolor": "#506784",
           "ticks": "",
           "title": {
            "standoff": 15
           },
           "zerolinecolor": "#283442",
           "zerolinewidth": 2
          }
         }
        },
        "title": {
         "text": "Тепловая карта отправленных коробок по продуктам и странам"
        },
        "xaxis": {
         "title": {
          "text": "Страна"
         }
        },
        "yaxis": {
         "title": {
          "text": "Продукт"
         }
        }
       }
      }
     },
     "metadata": {},
     "output_type": "display_data"
    }
   ],
   "source": [
    "# сводная таблица: индексы - продукты, столбцы - страны, значения - количество отправленных коробок\n",
    "pivot_df = data.pivot_table(values='Boxes Shipped', index='Product', columns='Country', aggfunc='sum', fill_value=0)\n",
    "\n",
    "# Строим тепловую карту\n",
    "fig4 = go.Figure(data=go.Heatmap(\n",
    "    z=pivot_df.values,\n",
    "    x=pivot_df.columns,\n",
    "    y=pivot_df.index,\n",
    "    colorscale=\"YlGnBu\"\n",
    "))\n",
    "\n",
    "fig4.update_layout(\n",
    "    title=\"Тепловая карта отправленных коробок по продуктам и странам\",\n",
    "    xaxis_title=\"Страна\",\n",
    "    yaxis_title=\"Продукт\",\n",
    "    template=\"plotly_dark\"\n",
    ")\n",
    "\n",
    "fig4.show()\n",
    "\n",
    "file_path = f\"{path_to_save_images}/{image_name_prefix}_image_4.png\"\n",
    "\n",
    "fig4.write_image(file_path, scale=4)"
   ]
  },
  {
   "cell_type": "markdown",
   "id": "df9ebbd0",
   "metadata": {},
   "source": [
    "# Выводы\n",
    "\n",
    "По heat map видно, что Австралия больше всего продает продукцию \"50% Dark Bites\", а Канада - \"Choco Coated Almonds\"\n",
    "\n",
    "В Индии же более популярен - \"Spicy Special Slims\" (Spicy - логично:), а в Новой Зеландии - \"Mint Chip Choco\"\n",
    "\n",
    "Великобритания больше всего продает коробок \"Milk Bars\", а США - \"Fruit & Nut Bars\"\n",
    "\n",
    "И вообще абсолютным лидером по продажам коробок одного типа шоколода выступает Австралия"
   ]
  },
  {
   "cell_type": "markdown",
   "id": "77e6b68f",
   "metadata": {},
   "source": [
    "##  (5) plot  на ваш выбор"
   ]
  },
  {
   "cell_type": "code",
   "execution_count": 16,
   "id": "76d83434",
   "metadata": {},
   "outputs": [
    {
     "data": {
      "application/vnd.plotly.v1+json": {
       "config": {
        "plotlyServerURL": "https://plot.ly"
       },
       "data": [
        {
         "domain": {
          "x": [
           0,
           1
          ],
          "y": [
           0,
           1
          ]
         },
         "hovertemplate": "Country=%{label}<br>Amount=%{value}<extra></extra>",
         "labels": [
          "Australia",
          "Canada",
          "India",
          "New Zealand",
          "UK",
          "USA"
         ],
         "legendgroup": "",
         "marker": {
          "colors": [
           "#c6e2ff",
           "#ffb3b3",
           "#ffcc99",
           "#d6e1ff",
           "#f0e68c",
           "#e2f0cb"
          ],
          "line": {
           "color": "black",
           "width": 2
          }
         },
         "name": "",
         "pull": [
          0.1,
          0.1,
          0.1,
          0.1,
          0.1,
          0.1
         ],
         "showlegend": true,
         "textfont": {
          "color": "gray",
          "size": 20
         },
         "textinfo": "percent+label",
         "type": "pie",
         "values": {
          "bdata": "AAAAANdaMUEAAAAApmItQQAAAABQ6i9BAAAAACQBLUEAAAAAkAwwQQAAAACqmC9B",
          "dtype": "f8"
         }
        }
       ],
       "layout": {
        "font": {
         "color": "white",
         "family": "Roboto, sans-serif"
        },
        "height": 800,
        "legend": {
         "font": {
          "color": "white",
          "size": 18
         },
         "title": {
          "font": {
           "size": 20
          }
         },
         "tracegroupgap": 0
        },
        "paper_bgcolor": "black",
        "plot_bgcolor": "rgba(0, 0, 0, 0)",
        "template": {
         "data": {
          "bar": [
           {
            "error_x": {
             "color": "#f2f5fa"
            },
            "error_y": {
             "color": "#f2f5fa"
            },
            "marker": {
             "line": {
              "color": "rgb(17,17,17)",
              "width": 0.5
             },
             "pattern": {
              "fillmode": "overlay",
              "size": 10,
              "solidity": 0.2
             }
            },
            "type": "bar"
           }
          ],
          "barpolar": [
           {
            "marker": {
             "line": {
              "color": "rgb(17,17,17)",
              "width": 0.5
             },
             "pattern": {
              "fillmode": "overlay",
              "size": 10,
              "solidity": 0.2
             }
            },
            "type": "barpolar"
           }
          ],
          "carpet": [
           {
            "aaxis": {
             "endlinecolor": "#A2B1C6",
             "gridcolor": "#506784",
             "linecolor": "#506784",
             "minorgridcolor": "#506784",
             "startlinecolor": "#A2B1C6"
            },
            "baxis": {
             "endlinecolor": "#A2B1C6",
             "gridcolor": "#506784",
             "linecolor": "#506784",
             "minorgridcolor": "#506784",
             "startlinecolor": "#A2B1C6"
            },
            "type": "carpet"
           }
          ],
          "choropleth": [
           {
            "colorbar": {
             "outlinewidth": 0,
             "ticks": ""
            },
            "type": "choropleth"
           }
          ],
          "contour": [
           {
            "colorbar": {
             "outlinewidth": 0,
             "ticks": ""
            },
            "colorscale": [
             [
              0,
              "#0d0887"
             ],
             [
              0.1111111111111111,
              "#46039f"
             ],
             [
              0.2222222222222222,
              "#7201a8"
             ],
             [
              0.3333333333333333,
              "#9c179e"
             ],
             [
              0.4444444444444444,
              "#bd3786"
             ],
             [
              0.5555555555555556,
              "#d8576b"
             ],
             [
              0.6666666666666666,
              "#ed7953"
             ],
             [
              0.7777777777777778,
              "#fb9f3a"
             ],
             [
              0.8888888888888888,
              "#fdca26"
             ],
             [
              1,
              "#f0f921"
             ]
            ],
            "type": "contour"
           }
          ],
          "contourcarpet": [
           {
            "colorbar": {
             "outlinewidth": 0,
             "ticks": ""
            },
            "type": "contourcarpet"
           }
          ],
          "heatmap": [
           {
            "colorbar": {
             "outlinewidth": 0,
             "ticks": ""
            },
            "colorscale": [
             [
              0,
              "#0d0887"
             ],
             [
              0.1111111111111111,
              "#46039f"
             ],
             [
              0.2222222222222222,
              "#7201a8"
             ],
             [
              0.3333333333333333,
              "#9c179e"
             ],
             [
              0.4444444444444444,
              "#bd3786"
             ],
             [
              0.5555555555555556,
              "#d8576b"
             ],
             [
              0.6666666666666666,
              "#ed7953"
             ],
             [
              0.7777777777777778,
              "#fb9f3a"
             ],
             [
              0.8888888888888888,
              "#fdca26"
             ],
             [
              1,
              "#f0f921"
             ]
            ],
            "type": "heatmap"
           }
          ],
          "histogram": [
           {
            "marker": {
             "pattern": {
              "fillmode": "overlay",
              "size": 10,
              "solidity": 0.2
             }
            },
            "type": "histogram"
           }
          ],
          "histogram2d": [
           {
            "colorbar": {
             "outlinewidth": 0,
             "ticks": ""
            },
            "colorscale": [
             [
              0,
              "#0d0887"
             ],
             [
              0.1111111111111111,
              "#46039f"
             ],
             [
              0.2222222222222222,
              "#7201a8"
             ],
             [
              0.3333333333333333,
              "#9c179e"
             ],
             [
              0.4444444444444444,
              "#bd3786"
             ],
             [
              0.5555555555555556,
              "#d8576b"
             ],
             [
              0.6666666666666666,
              "#ed7953"
             ],
             [
              0.7777777777777778,
              "#fb9f3a"
             ],
             [
              0.8888888888888888,
              "#fdca26"
             ],
             [
              1,
              "#f0f921"
             ]
            ],
            "type": "histogram2d"
           }
          ],
          "histogram2dcontour": [
           {
            "colorbar": {
             "outlinewidth": 0,
             "ticks": ""
            },
            "colorscale": [
             [
              0,
              "#0d0887"
             ],
             [
              0.1111111111111111,
              "#46039f"
             ],
             [
              0.2222222222222222,
              "#7201a8"
             ],
             [
              0.3333333333333333,
              "#9c179e"
             ],
             [
              0.4444444444444444,
              "#bd3786"
             ],
             [
              0.5555555555555556,
              "#d8576b"
             ],
             [
              0.6666666666666666,
              "#ed7953"
             ],
             [
              0.7777777777777778,
              "#fb9f3a"
             ],
             [
              0.8888888888888888,
              "#fdca26"
             ],
             [
              1,
              "#f0f921"
             ]
            ],
            "type": "histogram2dcontour"
           }
          ],
          "mesh3d": [
           {
            "colorbar": {
             "outlinewidth": 0,
             "ticks": ""
            },
            "type": "mesh3d"
           }
          ],
          "parcoords": [
           {
            "line": {
             "colorbar": {
              "outlinewidth": 0,
              "ticks": ""
             }
            },
            "type": "parcoords"
           }
          ],
          "pie": [
           {
            "automargin": true,
            "type": "pie"
           }
          ],
          "scatter": [
           {
            "marker": {
             "line": {
              "color": "#283442"
             }
            },
            "type": "scatter"
           }
          ],
          "scatter3d": [
           {
            "line": {
             "colorbar": {
              "outlinewidth": 0,
              "ticks": ""
             }
            },
            "marker": {
             "colorbar": {
              "outlinewidth": 0,
              "ticks": ""
             }
            },
            "type": "scatter3d"
           }
          ],
          "scattercarpet": [
           {
            "marker": {
             "colorbar": {
              "outlinewidth": 0,
              "ticks": ""
             }
            },
            "type": "scattercarpet"
           }
          ],
          "scattergeo": [
           {
            "marker": {
             "colorbar": {
              "outlinewidth": 0,
              "ticks": ""
             }
            },
            "type": "scattergeo"
           }
          ],
          "scattergl": [
           {
            "marker": {
             "line": {
              "color": "#283442"
             }
            },
            "type": "scattergl"
           }
          ],
          "scattermap": [
           {
            "marker": {
             "colorbar": {
              "outlinewidth": 0,
              "ticks": ""
             }
            },
            "type": "scattermap"
           }
          ],
          "scattermapbox": [
           {
            "marker": {
             "colorbar": {
              "outlinewidth": 0,
              "ticks": ""
             }
            },
            "type": "scattermapbox"
           }
          ],
          "scatterpolar": [
           {
            "marker": {
             "colorbar": {
              "outlinewidth": 0,
              "ticks": ""
             }
            },
            "type": "scatterpolar"
           }
          ],
          "scatterpolargl": [
           {
            "marker": {
             "colorbar": {
              "outlinewidth": 0,
              "ticks": ""
             }
            },
            "type": "scatterpolargl"
           }
          ],
          "scatterternary": [
           {
            "marker": {
             "colorbar": {
              "outlinewidth": 0,
              "ticks": ""
             }
            },
            "type": "scatterternary"
           }
          ],
          "surface": [
           {
            "colorbar": {
             "outlinewidth": 0,
             "ticks": ""
            },
            "colorscale": [
             [
              0,
              "#0d0887"
             ],
             [
              0.1111111111111111,
              "#46039f"
             ],
             [
              0.2222222222222222,
              "#7201a8"
             ],
             [
              0.3333333333333333,
              "#9c179e"
             ],
             [
              0.4444444444444444,
              "#bd3786"
             ],
             [
              0.5555555555555556,
              "#d8576b"
             ],
             [
              0.6666666666666666,
              "#ed7953"
             ],
             [
              0.7777777777777778,
              "#fb9f3a"
             ],
             [
              0.8888888888888888,
              "#fdca26"
             ],
             [
              1,
              "#f0f921"
             ]
            ],
            "type": "surface"
           }
          ],
          "table": [
           {
            "cells": {
             "fill": {
              "color": "#506784"
             },
             "line": {
              "color": "rgb(17,17,17)"
             }
            },
            "header": {
             "fill": {
              "color": "#2a3f5f"
             },
             "line": {
              "color": "rgb(17,17,17)"
             }
            },
            "type": "table"
           }
          ]
         },
         "layout": {
          "annotationdefaults": {
           "arrowcolor": "#f2f5fa",
           "arrowhead": 0,
           "arrowwidth": 1
          },
          "autotypenumbers": "strict",
          "coloraxis": {
           "colorbar": {
            "outlinewidth": 0,
            "ticks": ""
           }
          },
          "colorscale": {
           "diverging": [
            [
             0,
             "#8e0152"
            ],
            [
             0.1,
             "#c51b7d"
            ],
            [
             0.2,
             "#de77ae"
            ],
            [
             0.3,
             "#f1b6da"
            ],
            [
             0.4,
             "#fde0ef"
            ],
            [
             0.5,
             "#f7f7f7"
            ],
            [
             0.6,
             "#e6f5d0"
            ],
            [
             0.7,
             "#b8e186"
            ],
            [
             0.8,
             "#7fbc41"
            ],
            [
             0.9,
             "#4d9221"
            ],
            [
             1,
             "#276419"
            ]
           ],
           "sequential": [
            [
             0,
             "#0d0887"
            ],
            [
             0.1111111111111111,
             "#46039f"
            ],
            [
             0.2222222222222222,
             "#7201a8"
            ],
            [
             0.3333333333333333,
             "#9c179e"
            ],
            [
             0.4444444444444444,
             "#bd3786"
            ],
            [
             0.5555555555555556,
             "#d8576b"
            ],
            [
             0.6666666666666666,
             "#ed7953"
            ],
            [
             0.7777777777777778,
             "#fb9f3a"
            ],
            [
             0.8888888888888888,
             "#fdca26"
            ],
            [
             1,
             "#f0f921"
            ]
           ],
           "sequentialminus": [
            [
             0,
             "#0d0887"
            ],
            [
             0.1111111111111111,
             "#46039f"
            ],
            [
             0.2222222222222222,
             "#7201a8"
            ],
            [
             0.3333333333333333,
             "#9c179e"
            ],
            [
             0.4444444444444444,
             "#bd3786"
            ],
            [
             0.5555555555555556,
             "#d8576b"
            ],
            [
             0.6666666666666666,
             "#ed7953"
            ],
            [
             0.7777777777777778,
             "#fb9f3a"
            ],
            [
             0.8888888888888888,
             "#fdca26"
            ],
            [
             1,
             "#f0f921"
            ]
           ]
          },
          "colorway": [
           "#636efa",
           "#EF553B",
           "#00cc96",
           "#ab63fa",
           "#FFA15A",
           "#19d3f3",
           "#FF6692",
           "#B6E880",
           "#FF97FF",
           "#FECB52"
          ],
          "font": {
           "color": "#f2f5fa"
          },
          "geo": {
           "bgcolor": "rgb(17,17,17)",
           "lakecolor": "rgb(17,17,17)",
           "landcolor": "rgb(17,17,17)",
           "showlakes": true,
           "showland": true,
           "subunitcolor": "#506784"
          },
          "hoverlabel": {
           "align": "left"
          },
          "hovermode": "closest",
          "mapbox": {
           "style": "dark"
          },
          "paper_bgcolor": "rgb(17,17,17)",
          "plot_bgcolor": "rgb(17,17,17)",
          "polar": {
           "angularaxis": {
            "gridcolor": "#506784",
            "linecolor": "#506784",
            "ticks": ""
           },
           "bgcolor": "rgb(17,17,17)",
           "radialaxis": {
            "gridcolor": "#506784",
            "linecolor": "#506784",
            "ticks": ""
           }
          },
          "scene": {
           "xaxis": {
            "backgroundcolor": "rgb(17,17,17)",
            "gridcolor": "#506784",
            "gridwidth": 2,
            "linecolor": "#506784",
            "showbackground": true,
            "ticks": "",
            "zerolinecolor": "#C8D4E3"
           },
           "yaxis": {
            "backgroundcolor": "rgb(17,17,17)",
            "gridcolor": "#506784",
            "gridwidth": 2,
            "linecolor": "#506784",
            "showbackground": true,
            "ticks": "",
            "zerolinecolor": "#C8D4E3"
           },
           "zaxis": {
            "backgroundcolor": "rgb(17,17,17)",
            "gridcolor": "#506784",
            "gridwidth": 2,
            "linecolor": "#506784",
            "showbackground": true,
            "ticks": "",
            "zerolinecolor": "#C8D4E3"
           }
          },
          "shapedefaults": {
           "line": {
            "color": "#f2f5fa"
           }
          },
          "sliderdefaults": {
           "bgcolor": "#C8D4E3",
           "bordercolor": "rgb(17,17,17)",
           "borderwidth": 1,
           "tickwidth": 0
          },
          "ternary": {
           "aaxis": {
            "gridcolor": "#506784",
            "linecolor": "#506784",
            "ticks": ""
           },
           "baxis": {
            "gridcolor": "#506784",
            "linecolor": "#506784",
            "ticks": ""
           },
           "bgcolor": "rgb(17,17,17)",
           "caxis": {
            "gridcolor": "#506784",
            "linecolor": "#506784",
            "ticks": ""
           }
          },
          "title": {
           "x": 0.05
          },
          "updatemenudefaults": {
           "bgcolor": "#506784",
           "borderwidth": 0
          },
          "xaxis": {
           "automargin": true,
           "gridcolor": "#283442",
           "linecolor": "#506784",
           "ticks": "",
           "title": {
            "standoff": 15
           },
           "zerolinecolor": "#283442",
           "zerolinewidth": 2
          },
          "yaxis": {
           "automargin": true,
           "gridcolor": "#283442",
           "linecolor": "#506784",
           "ticks": "",
           "title": {
            "standoff": 15
           },
           "zerolinecolor": "#283442",
           "zerolinewidth": 2
          }
         }
        },
        "title": {
         "font": {
          "color": "white",
          "family": "Roboto, sans-serif",
          "size": 24
         },
         "text": "Продажи по каждой стране",
         "x": 0.44
        },
        "width": 800
       }
      }
     },
     "metadata": {},
     "output_type": "display_data"
    }
   ],
   "source": [
    "import plotly.express as px\n",
    "\n",
    "country_sales = data.groupby('Country')['Amount'].sum().reset_index()\n",
    "\n",
    "pastel_colors = ['#c6e2ff', '#ffb3b3', '#ffcc99', '#d6e1ff', '#f0e68c', '#e2f0cb']\n",
    "\n",
    "fig = px.pie(country_sales, values='Amount', names='Country', title='Продажи по каждой стране', \n",
    "             template='plotly_dark')\n",
    "\n",
    "fig.update_traces(\n",
    "    marker=dict(line=dict(color='black', width=2), colors=pastel_colors),\n",
    "    textinfo='percent+label', \n",
    "    pull=[0.1, 0.1, 0.1, 0.1, 0.1, 0.1], \n",
    "    textfont=dict(size=20, color='gray')\n",
    ")\n",
    "\n",
    "fig.update_layout(\n",
    "    paper_bgcolor='black',\n",
    "    plot_bgcolor='rgba(0, 0, 0, 0)',\n",
    "    font=dict(color='white', family='Roboto, sans-serif'),\n",
    "    title_font=dict(size=24, color='white', family='Roboto, sans-serif'),\n",
    "    title_x=0.44,\n",
    "    width=800,\n",
    "    height=800,\n",
    "    legend=dict(\n",
    "        font=dict(size=18, color='white'),\n",
    "        title=dict(font=dict(size=20))\n",
    "    )\n",
    ")\n",
    "\n",
    "fig.show()\n",
    "\n",
    "file_path = f\"{path_to_save_images}/{image_name_prefix}_image_5.png\"\n",
    "\n",
    "fig.write_image(file_path, scale=4)"
   ]
  },
  {
   "cell_type": "markdown",
   "id": "77708355",
   "metadata": {
    "execution": {
     "iopub.execute_input": "2025-02-27T09:42:02.145773Z",
     "iopub.status.busy": "2025-02-27T09:42:02.145187Z",
     "iopub.status.idle": "2025-02-27T09:42:02.149850Z",
     "shell.execute_reply": "2025-02-27T09:42:02.149153Z",
     "shell.execute_reply.started": "2025-02-27T09:42:02.145737Z"
    }
   },
   "source": [
    "# Вывод\n",
    "\n",
    "Итак, как было показано на Line plot, а также можно было предположить из heat map - Австралия - страна лидер по продажам сладостей."
   ]
  },
  {
   "cell_type": "markdown",
   "id": "f9f107a8",
   "metadata": {},
   "source": [
    "# Итоговый вывод по всему датасету (по всему EDA)\n",
    "\n",
    "На основе проведенного анализа данных можно сделать следующие выводы. Австралия занимает лидирующую позицию по продажам шоколадок, в частности, шоколадок бренда N, который представлен в 6 странах: Австралия, Канада, Великобритания, США, Индия и Новая Зеландия. Австралия демонстрирует наибольший рост выручки за период с 2 января 2022 года по 30 августа 2022 года. При этом продажи охватывают широкий диапазон ценовых сегментов, что видно на графике KDE.\n",
    "\n",
    "Наибольшие проблемы с продажами наблюдаются в Новой Зеландии. Несмотря на то, что она также продает шоколадки в широком ценовом диапазоне (как и Австралия), это распределение смещено в область более низких ценовых сегментов, что ограничивает общие выручки. Кроме того, Новая Зеландия показывает один из самых низких темпов роста продаж, что также характерно для США."
   ]
  },
  {
   "cell_type": "code",
   "execution_count": 17,
   "id": "ba03f0d7",
   "metadata": {},
   "outputs": [
    {
     "name": "stdout",
     "output_type": "stream",
     "text": [
      "well done!\n"
     ]
    }
   ],
   "source": [
    "print('well done!')"
   ]
  }
 ],
 "metadata": {
  "kernelspec": {
   "display_name": "venv",
   "language": "python",
   "name": "python3"
  },
  "language_info": {
   "codemirror_mode": {
    "name": "ipython",
    "version": 3
   },
   "file_extension": ".py",
   "mimetype": "text/x-python",
   "name": "python",
   "nbconvert_exporter": "python",
   "pygments_lexer": "ipython3",
   "version": "3.12.2"
  }
 },
 "nbformat": 4,
 "nbformat_minor": 5
}
