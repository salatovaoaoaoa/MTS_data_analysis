{
 "cells": [
  {
   "cell_type": "code",
   "execution_count": 191,
   "metadata": {},
   "outputs": [],
   "source": [
    "import pandas as pd\n",
    "import random\n",
    "from datetime import datetime, timedelta\n",
    "from scipy import stats\n",
    "from scipy.stats import ttest_ind\n",
    "from scipy.stats import mannwhitneyu\n",
    "from scipy.stats import chi2_contingency\n",
    "from itertools import combinations\n",
    "import seaborn as sns\n",
    "import matplotlib.pyplot as plt"
   ]
  },
  {
   "cell_type": "markdown",
   "metadata": {},
   "source": [
    "## На платформе Kaggle или на Github найдите достаточно большой датасет с логами пользования сервисов (просмотры Youtube или стриминговых сервисов, такси/каршеринг или что угодно, где есть много юзеров и история их взаимодействия с каким-нибудь сервисом). В случае, если такого датасета нет - сгенерируйте самостоятельно (например, как на лекции было показано распределение по просмотру в Кион)."
   ]
  },
  {
   "cell_type": "markdown",
   "metadata": {},
   "source": [
    "# Подготовка данных"
   ]
  },
  {
   "cell_type": "markdown",
   "metadata": {},
   "source": [
    "Набор данных включает в себя такую ​​информацию, как \n",
    "\n",
    "* тип подписки пользователя (Basic, Standard или Premium)\n",
    "* ежемесячный доход, полученный от его подписки\n",
    "* дата присоединения к Netflix (Join Date)\n",
    "* дата последнего платежа (Last Payment Date)\n",
    "* страна, в которой он находится\n",
    "* Возраст\n",
    "* Пол\n",
    "* тип устройства (например, Smart TV, мобильный телефон, настольный компьютер, планшет)\n",
    "* Продолжительность подписки (я так поняла у всех стандартная 1 месяц)"
   ]
  },
  {
   "cell_type": "code",
   "execution_count": 71,
   "metadata": {},
   "outputs": [
    {
     "data": {
      "text/html": [
       "<div>\n",
       "<style scoped>\n",
       "    .dataframe tbody tr th:only-of-type {\n",
       "        vertical-align: middle;\n",
       "    }\n",
       "\n",
       "    .dataframe tbody tr th {\n",
       "        vertical-align: top;\n",
       "    }\n",
       "\n",
       "    .dataframe thead th {\n",
       "        text-align: right;\n",
       "    }\n",
       "</style>\n",
       "<table border=\"1\" class=\"dataframe\">\n",
       "  <thead>\n",
       "    <tr style=\"text-align: right;\">\n",
       "      <th></th>\n",
       "      <th>User ID</th>\n",
       "      <th>Subscription Type</th>\n",
       "      <th>Monthly Revenue</th>\n",
       "      <th>Join Date</th>\n",
       "      <th>Last Payment Date</th>\n",
       "      <th>Country</th>\n",
       "      <th>Age</th>\n",
       "      <th>Gender</th>\n",
       "      <th>Device</th>\n",
       "      <th>Plan Duration</th>\n",
       "    </tr>\n",
       "  </thead>\n",
       "  <tbody>\n",
       "    <tr>\n",
       "      <th>0</th>\n",
       "      <td>1</td>\n",
       "      <td>Basic</td>\n",
       "      <td>10</td>\n",
       "      <td>15-01-22</td>\n",
       "      <td>10-06-23</td>\n",
       "      <td>United States</td>\n",
       "      <td>28</td>\n",
       "      <td>Male</td>\n",
       "      <td>Smartphone</td>\n",
       "      <td>1 Month</td>\n",
       "    </tr>\n",
       "    <tr>\n",
       "      <th>1</th>\n",
       "      <td>2</td>\n",
       "      <td>Premium</td>\n",
       "      <td>15</td>\n",
       "      <td>05-09-21</td>\n",
       "      <td>22-06-23</td>\n",
       "      <td>Canada</td>\n",
       "      <td>35</td>\n",
       "      <td>Female</td>\n",
       "      <td>Tablet</td>\n",
       "      <td>1 Month</td>\n",
       "    </tr>\n",
       "    <tr>\n",
       "      <th>2</th>\n",
       "      <td>3</td>\n",
       "      <td>Standard</td>\n",
       "      <td>12</td>\n",
       "      <td>28-02-23</td>\n",
       "      <td>27-06-23</td>\n",
       "      <td>United Kingdom</td>\n",
       "      <td>42</td>\n",
       "      <td>Male</td>\n",
       "      <td>Smart TV</td>\n",
       "      <td>1 Month</td>\n",
       "    </tr>\n",
       "    <tr>\n",
       "      <th>3</th>\n",
       "      <td>4</td>\n",
       "      <td>Standard</td>\n",
       "      <td>12</td>\n",
       "      <td>10-07-22</td>\n",
       "      <td>26-06-23</td>\n",
       "      <td>Australia</td>\n",
       "      <td>51</td>\n",
       "      <td>Female</td>\n",
       "      <td>Laptop</td>\n",
       "      <td>1 Month</td>\n",
       "    </tr>\n",
       "    <tr>\n",
       "      <th>4</th>\n",
       "      <td>5</td>\n",
       "      <td>Basic</td>\n",
       "      <td>10</td>\n",
       "      <td>01-05-23</td>\n",
       "      <td>28-06-23</td>\n",
       "      <td>Germany</td>\n",
       "      <td>33</td>\n",
       "      <td>Male</td>\n",
       "      <td>Smartphone</td>\n",
       "      <td>1 Month</td>\n",
       "    </tr>\n",
       "    <tr>\n",
       "      <th>...</th>\n",
       "      <td>...</td>\n",
       "      <td>...</td>\n",
       "      <td>...</td>\n",
       "      <td>...</td>\n",
       "      <td>...</td>\n",
       "      <td>...</td>\n",
       "      <td>...</td>\n",
       "      <td>...</td>\n",
       "      <td>...</td>\n",
       "      <td>...</td>\n",
       "    </tr>\n",
       "    <tr>\n",
       "      <th>2495</th>\n",
       "      <td>2496</td>\n",
       "      <td>Premium</td>\n",
       "      <td>14</td>\n",
       "      <td>25-07-22</td>\n",
       "      <td>12-07-23</td>\n",
       "      <td>Spain</td>\n",
       "      <td>28</td>\n",
       "      <td>Female</td>\n",
       "      <td>Smart TV</td>\n",
       "      <td>1 Month</td>\n",
       "    </tr>\n",
       "    <tr>\n",
       "      <th>2496</th>\n",
       "      <td>2497</td>\n",
       "      <td>Basic</td>\n",
       "      <td>15</td>\n",
       "      <td>04-08-22</td>\n",
       "      <td>14-07-23</td>\n",
       "      <td>Spain</td>\n",
       "      <td>33</td>\n",
       "      <td>Female</td>\n",
       "      <td>Smart TV</td>\n",
       "      <td>1 Month</td>\n",
       "    </tr>\n",
       "    <tr>\n",
       "      <th>2497</th>\n",
       "      <td>2498</td>\n",
       "      <td>Standard</td>\n",
       "      <td>12</td>\n",
       "      <td>09-08-22</td>\n",
       "      <td>15-07-23</td>\n",
       "      <td>United States</td>\n",
       "      <td>38</td>\n",
       "      <td>Male</td>\n",
       "      <td>Laptop</td>\n",
       "      <td>1 Month</td>\n",
       "    </tr>\n",
       "    <tr>\n",
       "      <th>2498</th>\n",
       "      <td>2499</td>\n",
       "      <td>Standard</td>\n",
       "      <td>13</td>\n",
       "      <td>12-08-22</td>\n",
       "      <td>12-07-23</td>\n",
       "      <td>Canada</td>\n",
       "      <td>48</td>\n",
       "      <td>Female</td>\n",
       "      <td>Tablet</td>\n",
       "      <td>1 Month</td>\n",
       "    </tr>\n",
       "    <tr>\n",
       "      <th>2499</th>\n",
       "      <td>2500</td>\n",
       "      <td>Basic</td>\n",
       "      <td>15</td>\n",
       "      <td>13-08-22</td>\n",
       "      <td>12-07-23</td>\n",
       "      <td>United States</td>\n",
       "      <td>35</td>\n",
       "      <td>Female</td>\n",
       "      <td>Smart TV</td>\n",
       "      <td>1 Month</td>\n",
       "    </tr>\n",
       "  </tbody>\n",
       "</table>\n",
       "<p>2500 rows × 10 columns</p>\n",
       "</div>"
      ],
      "text/plain": [
       "      User ID Subscription Type  Monthly Revenue Join Date Last Payment Date  \\\n",
       "0           1             Basic               10  15-01-22          10-06-23   \n",
       "1           2           Premium               15  05-09-21          22-06-23   \n",
       "2           3          Standard               12  28-02-23          27-06-23   \n",
       "3           4          Standard               12  10-07-22          26-06-23   \n",
       "4           5             Basic               10  01-05-23          28-06-23   \n",
       "...       ...               ...              ...       ...               ...   \n",
       "2495     2496           Premium               14  25-07-22          12-07-23   \n",
       "2496     2497             Basic               15  04-08-22          14-07-23   \n",
       "2497     2498          Standard               12  09-08-22          15-07-23   \n",
       "2498     2499          Standard               13  12-08-22          12-07-23   \n",
       "2499     2500             Basic               15  13-08-22          12-07-23   \n",
       "\n",
       "             Country  Age  Gender      Device Plan Duration  \n",
       "0      United States   28    Male  Smartphone       1 Month  \n",
       "1             Canada   35  Female      Tablet       1 Month  \n",
       "2     United Kingdom   42    Male    Smart TV       1 Month  \n",
       "3          Australia   51  Female      Laptop       1 Month  \n",
       "4            Germany   33    Male  Smartphone       1 Month  \n",
       "...              ...  ...     ...         ...           ...  \n",
       "2495           Spain   28  Female    Smart TV       1 Month  \n",
       "2496           Spain   33  Female    Smart TV       1 Month  \n",
       "2497   United States   38    Male      Laptop       1 Month  \n",
       "2498          Canada   48  Female      Tablet       1 Month  \n",
       "2499   United States   35  Female    Smart TV       1 Month  \n",
       "\n",
       "[2500 rows x 10 columns]"
      ]
     },
     "execution_count": 71,
     "metadata": {},
     "output_type": "execute_result"
    }
   ],
   "source": [
    "df = pd.read_csv(\"/Users/tatianasalamatova/reps/MTS_data_analysis/stats_04/Netflix_Userbase.csv\", sep = \",\")\n",
    "df"
   ]
  },
  {
   "cell_type": "markdown",
   "metadata": {},
   "source": [
    "*Генерирую случайных пользователей, чтобы сделать датасет размером 100к уникальных пользователей*"
   ]
  },
  {
   "cell_type": "code",
   "execution_count": 72,
   "metadata": {},
   "outputs": [],
   "source": [
    "# Сначала получу уникальные возможные значения в каждом столбце:\n",
    "Subscription_Type = df['Subscription Type'].unique()\n",
    "Monthly_Revenue = df['Monthly Revenue'].unique()\n",
    "Country = df['Country'].unique()\n",
    "Age_max = max(df['Age'])\n",
    "Age_min = min(df['Age'])\n",
    "Device = df['Device'].unique()\n",
    "max_user_id = max(df['User ID'])\n",
    "\n",
    "# Join Date - буду генерировать случайно в диапазоне с 21 по 23 год\n",
    "# Last Payment Date\t- буду генерировать случайно в течение 23 года с июня по июль\n",
    "# Age - буду генерировать случайно от макс до мин\n",
    "# Gender - очевидно, что случайно\n",
    "# Plan duration - у всех один = 1 month"
   ]
  },
  {
   "cell_type": "markdown",
   "metadata": {},
   "source": [
    "Генерирую случайную дату в заданном диапазоне, которая возвращает случайную дату в заданном интервале между двумя датами."
   ]
  },
  {
   "cell_type": "code",
   "execution_count": 73,
   "metadata": {},
   "outputs": [],
   "source": [
    "def random_date(start, end):\n",
    "    return start + timedelta(seconds=random.randint(0, int((end - start).total_seconds())))"
   ]
  },
  {
   "cell_type": "markdown",
   "metadata": {},
   "source": [
    "Генерирую пользователя:"
   ]
  },
  {
   "cell_type": "code",
   "execution_count": 74,
   "metadata": {},
   "outputs": [],
   "source": [
    "def generate_user(user_id):\n",
    "    join_date = random_date(datetime(2021, 1, 1), datetime(2023, 12, 31))  # буду генерировать случайно в диапазоне с 21 по 23 год\n",
    "    last_payment_date = random_date(datetime(2023, 6, 1), datetime(2023, 7, 31))  # буду генерировать случайно в течение 23 года  с июня по июль\n",
    "    age = random.randint(Age_min, Age_max)  # буду генерировать случайно от макс до мин\n",
    "    gender = random.choice(['Male', 'Female'])  # случайный пол\n",
    "    \n",
    "    return {\n",
    "        'User ID': user_id,\n",
    "        'Subscription Type': random.choice(Subscription_Type),\n",
    "        'Monthly Revenue': random.choice(Monthly_Revenue),\n",
    "        'Join Date': join_date.strftime('%d-%m-%y'),\n",
    "        'Last Payment Date': last_payment_date.strftime('%d-%m-%y'),\n",
    "        'Country': random.choice(Country),\n",
    "        'Age': age,\n",
    "        'Gender': gender,\n",
    "        'Device': random.choice(Device),\n",
    "        'Plan Duration': '1 Month'  # У всех один и тот же план\n",
    "    }"
   ]
  },
  {
   "cell_type": "code",
   "execution_count": 75,
   "metadata": {},
   "outputs": [],
   "source": [
    "new_users = [generate_user(i) for i in range(max_user_id + 1, max_user_id + 100000)]\n",
    "new_users_df = pd.DataFrame(new_users)"
   ]
  },
  {
   "cell_type": "markdown",
   "metadata": {},
   "source": [
    "Присоединяю таблицу к имеющейся:"
   ]
  },
  {
   "cell_type": "code",
   "execution_count": 76,
   "metadata": {},
   "outputs": [
    {
     "data": {
      "text/html": [
       "<div>\n",
       "<style scoped>\n",
       "    .dataframe tbody tr th:only-of-type {\n",
       "        vertical-align: middle;\n",
       "    }\n",
       "\n",
       "    .dataframe tbody tr th {\n",
       "        vertical-align: top;\n",
       "    }\n",
       "\n",
       "    .dataframe thead th {\n",
       "        text-align: right;\n",
       "    }\n",
       "</style>\n",
       "<table border=\"1\" class=\"dataframe\">\n",
       "  <thead>\n",
       "    <tr style=\"text-align: right;\">\n",
       "      <th></th>\n",
       "      <th>User ID</th>\n",
       "      <th>Subscription Type</th>\n",
       "      <th>Monthly Revenue</th>\n",
       "      <th>Join Date</th>\n",
       "      <th>Last Payment Date</th>\n",
       "      <th>Country</th>\n",
       "      <th>Age</th>\n",
       "      <th>Gender</th>\n",
       "      <th>Device</th>\n",
       "      <th>Plan Duration</th>\n",
       "    </tr>\n",
       "  </thead>\n",
       "  <tbody>\n",
       "    <tr>\n",
       "      <th>0</th>\n",
       "      <td>1</td>\n",
       "      <td>Basic</td>\n",
       "      <td>10</td>\n",
       "      <td>15-01-22</td>\n",
       "      <td>10-06-23</td>\n",
       "      <td>United States</td>\n",
       "      <td>28</td>\n",
       "      <td>Male</td>\n",
       "      <td>Smartphone</td>\n",
       "      <td>1 Month</td>\n",
       "    </tr>\n",
       "    <tr>\n",
       "      <th>1</th>\n",
       "      <td>2</td>\n",
       "      <td>Premium</td>\n",
       "      <td>15</td>\n",
       "      <td>05-09-21</td>\n",
       "      <td>22-06-23</td>\n",
       "      <td>Canada</td>\n",
       "      <td>35</td>\n",
       "      <td>Female</td>\n",
       "      <td>Tablet</td>\n",
       "      <td>1 Month</td>\n",
       "    </tr>\n",
       "    <tr>\n",
       "      <th>2</th>\n",
       "      <td>3</td>\n",
       "      <td>Standard</td>\n",
       "      <td>12</td>\n",
       "      <td>28-02-23</td>\n",
       "      <td>27-06-23</td>\n",
       "      <td>United Kingdom</td>\n",
       "      <td>42</td>\n",
       "      <td>Male</td>\n",
       "      <td>Smart TV</td>\n",
       "      <td>1 Month</td>\n",
       "    </tr>\n",
       "    <tr>\n",
       "      <th>3</th>\n",
       "      <td>4</td>\n",
       "      <td>Standard</td>\n",
       "      <td>12</td>\n",
       "      <td>10-07-22</td>\n",
       "      <td>26-06-23</td>\n",
       "      <td>Australia</td>\n",
       "      <td>51</td>\n",
       "      <td>Female</td>\n",
       "      <td>Laptop</td>\n",
       "      <td>1 Month</td>\n",
       "    </tr>\n",
       "    <tr>\n",
       "      <th>4</th>\n",
       "      <td>5</td>\n",
       "      <td>Basic</td>\n",
       "      <td>10</td>\n",
       "      <td>01-05-23</td>\n",
       "      <td>28-06-23</td>\n",
       "      <td>Germany</td>\n",
       "      <td>33</td>\n",
       "      <td>Male</td>\n",
       "      <td>Smartphone</td>\n",
       "      <td>1 Month</td>\n",
       "    </tr>\n",
       "    <tr>\n",
       "      <th>5</th>\n",
       "      <td>6</td>\n",
       "      <td>Premium</td>\n",
       "      <td>15</td>\n",
       "      <td>18-03-22</td>\n",
       "      <td>27-06-23</td>\n",
       "      <td>France</td>\n",
       "      <td>29</td>\n",
       "      <td>Female</td>\n",
       "      <td>Smart TV</td>\n",
       "      <td>1 Month</td>\n",
       "    </tr>\n",
       "    <tr>\n",
       "      <th>6</th>\n",
       "      <td>7</td>\n",
       "      <td>Standard</td>\n",
       "      <td>12</td>\n",
       "      <td>09-12-21</td>\n",
       "      <td>25-06-23</td>\n",
       "      <td>Brazil</td>\n",
       "      <td>46</td>\n",
       "      <td>Male</td>\n",
       "      <td>Tablet</td>\n",
       "      <td>1 Month</td>\n",
       "    </tr>\n",
       "    <tr>\n",
       "      <th>7</th>\n",
       "      <td>8</td>\n",
       "      <td>Basic</td>\n",
       "      <td>10</td>\n",
       "      <td>02-04-23</td>\n",
       "      <td>24-06-23</td>\n",
       "      <td>Mexico</td>\n",
       "      <td>39</td>\n",
       "      <td>Female</td>\n",
       "      <td>Laptop</td>\n",
       "      <td>1 Month</td>\n",
       "    </tr>\n",
       "    <tr>\n",
       "      <th>8</th>\n",
       "      <td>9</td>\n",
       "      <td>Standard</td>\n",
       "      <td>12</td>\n",
       "      <td>20-10-22</td>\n",
       "      <td>23-06-23</td>\n",
       "      <td>Spain</td>\n",
       "      <td>37</td>\n",
       "      <td>Male</td>\n",
       "      <td>Smartphone</td>\n",
       "      <td>1 Month</td>\n",
       "    </tr>\n",
       "    <tr>\n",
       "      <th>9</th>\n",
       "      <td>10</td>\n",
       "      <td>Premium</td>\n",
       "      <td>15</td>\n",
       "      <td>07-01-23</td>\n",
       "      <td>22-06-23</td>\n",
       "      <td>Italy</td>\n",
       "      <td>44</td>\n",
       "      <td>Female</td>\n",
       "      <td>Smart TV</td>\n",
       "      <td>1 Month</td>\n",
       "    </tr>\n",
       "  </tbody>\n",
       "</table>\n",
       "</div>"
      ],
      "text/plain": [
       "   User ID Subscription Type  Monthly Revenue Join Date Last Payment Date  \\\n",
       "0        1             Basic               10  15-01-22          10-06-23   \n",
       "1        2           Premium               15  05-09-21          22-06-23   \n",
       "2        3          Standard               12  28-02-23          27-06-23   \n",
       "3        4          Standard               12  10-07-22          26-06-23   \n",
       "4        5             Basic               10  01-05-23          28-06-23   \n",
       "5        6           Premium               15  18-03-22          27-06-23   \n",
       "6        7          Standard               12  09-12-21          25-06-23   \n",
       "7        8             Basic               10  02-04-23          24-06-23   \n",
       "8        9          Standard               12  20-10-22          23-06-23   \n",
       "9       10           Premium               15  07-01-23          22-06-23   \n",
       "\n",
       "          Country  Age  Gender      Device Plan Duration  \n",
       "0   United States   28    Male  Smartphone       1 Month  \n",
       "1          Canada   35  Female      Tablet       1 Month  \n",
       "2  United Kingdom   42    Male    Smart TV       1 Month  \n",
       "3       Australia   51  Female      Laptop       1 Month  \n",
       "4         Germany   33    Male  Smartphone       1 Month  \n",
       "5          France   29  Female    Smart TV       1 Month  \n",
       "6          Brazil   46    Male      Tablet       1 Month  \n",
       "7          Mexico   39  Female      Laptop       1 Month  \n",
       "8           Spain   37    Male  Smartphone       1 Month  \n",
       "9           Italy   44  Female    Smart TV       1 Month  "
      ]
     },
     "execution_count": 76,
     "metadata": {},
     "output_type": "execute_result"
    }
   ],
   "source": [
    "df_analysis = pd.concat([df, new_users_df], ignore_index=True)\n",
    "df_analysis.head(10)"
   ]
  },
  {
   "cell_type": "markdown",
   "metadata": {},
   "source": [
    "## Разбейте на сегменты вашу аудиторию и примените для нескольких (примерно 3-4 метрики) метрик тесты Стьюдента, Манна-Уитни, Фишера (Фишера для нескольких сегментов). Проинтерпретируйте результаты, сделайте первые выводы."
   ]
  },
  {
   "cell_type": "markdown",
   "metadata": {},
   "source": [
    "Сегментирую по типу устройства: ['Smartphone', 'Tablet', 'Smart TV', 'Laptop'], получу 4 группы"
   ]
  },
  {
   "cell_type": "markdown",
   "metadata": {},
   "source": [
    "Выберу метрики: \n",
    "\n",
    "* Monthly Revenue (с какого типа устройства пользователи приносят бОльший доход?)\n",
    "* Subscription Type (на каком устройстве какой тип подписки?)\n",
    "* Age (одинаков ли средний возраст для разных устройств?)"
   ]
  },
  {
   "cell_type": "markdown",
   "metadata": {},
   "source": [
    "**Тест Стьюдента: проверю, есть ли статзначимые различия в средних значениях для каждого сегмента по попарному сравнению каждой из метрик?**"
   ]
  },
  {
   "cell_type": "markdown",
   "metadata": {},
   "source": [
    "Мне нужно проводить тесты Стьюдента, но чтобы не растить ошибку второго рода (из - за проведения попраных сравнений), выберу 4 сегмента (это аргументация почему я взяла по типу устройства). Тогда вероятность ошибки второго рода = $1 - 0.95^4 = 18.5 \\% $. При установленом уровене значимости (α), который обычно равен 0.05"
   ]
  },
  {
   "cell_type": "markdown",
   "metadata": {},
   "source": [
    "Цель: Проверить, отличаются ли средние значения между двумя группами. У меня всего, получается, 6 попарных сравнений. Буду сравнивать так: \n",
    "\n",
    "1) Smartphone vs Tablet\n",
    "2) Smartphone vs Smart TV\n",
    "3) Smartphone vs Laptop\n",
    "4) Tablet vs Smart TV\n",
    "5) Tablet vs Laptop\n",
    "6) Smart TV vs Laptop"
   ]
  },
  {
   "cell_type": "markdown",
   "metadata": {},
   "source": [
    "### Сравнение №1 - для метрики Monthly Revenue (с какого типа устройства пользователи приносят бОльший доход?)"
   ]
  },
  {
   "cell_type": "markdown",
   "metadata": {},
   "source": [
    "Нулевая гипотеза (H0): Средние значения для метрики, указывающей на доход, который приносят пользователи в двух группах одинаковые.\n",
    "\n",
    "Альтернативная гипотеза (H1): Средние значения в двух группах различаются."
   ]
  },
  {
   "cell_type": "markdown",
   "metadata": {},
   "source": [
    "Если p-value < 0.05 => разница статистически значимая, и нулевая гипотеза отвергается\n",
    "\n",
    "Если p-value больше или равно 0.05 => не отвергаем нулевую гипотезу"
   ]
  },
  {
   "cell_type": "code",
   "execution_count": 99,
   "metadata": {},
   "outputs": [],
   "source": [
    "def ttest_check(data1, data2, name1 = 'n', name2 = 'n', type = 'по доходу'):\n",
    "    t_stat, p_value = ttest_ind(data1, data2)\n",
    "    if p_value < 0.05:\n",
    "        print(f\"Гипотезу о равенстве средних {type} для {name1} vs {name2} ОТВЕРГАЕМ: T-stat = {t_stat}, P-value = {p_value}\")\n",
    "    else:\n",
    "        print(f\"Гипотезу о равенстве средних {type} для {name1} vs {name2} НЕ ОТВЕРГАЕМ: T-stat = {t_stat}, P-value = {p_value}\")"
   ]
  },
  {
   "cell_type": "code",
   "execution_count": 100,
   "metadata": {},
   "outputs": [
    {
     "name": "stdout",
     "output_type": "stream",
     "text": [
      "Гипотезу о равенстве средних по доходу для Smartphone vs Tablet НЕ ОТВЕРГАЕМ: T-stat = -1.2315630431166475, P-value = 0.2181179671441775\n",
      "Гипотезу о равенстве средних по доходу для Smartphone vs Smart TV НЕ ОТВЕРГАЕМ: T-stat = -1.0876484088592229, P-value = 0.2767554581265842\n",
      "Гипотезу о равенстве средних по доходу для Smartphone vs Laptop НЕ ОТВЕРГАЕМ: T-stat = -1.7704017615356162, P-value = 0.07666619575476752\n",
      "Гипотезу о равенстве средних по доходу для Tablet vs Smart TV НЕ ОТВЕРГАЕМ: T-stat = 0.14057702270880984, P-value = 0.8882046522573307\n",
      "Гипотезу о равенстве средних по доходу для Tablet vs Laptop НЕ ОТВЕРГАЕМ: T-stat = -0.5436485446938459, P-value = 0.5866857160358281\n",
      "Гипотезу о равенстве средних по доходу для Smart TV vs Laptop НЕ ОТВЕРГАЕМ: T-stat = -0.682221197073875, P-value = 0.49510219727144655\n"
     ]
    }
   ],
   "source": [
    "# Сегрегация по типу устройства для MR\n",
    "smartphone_revenue = df_analysis[df_analysis['Device'] == 'Smartphone']['Monthly Revenue']\n",
    "tablet_revenue = df_analysis[df_analysis['Device'] == 'Tablet']['Monthly Revenue']\n",
    "smart_tv_revenue = df_analysis[df_analysis['Device'] == 'Smart TV']['Monthly Revenue']\n",
    "laptop_revenue = df_analysis[df_analysis['Device'] == 'Laptop']['Monthly Revenue']\n",
    "\n",
    "# Попарные сравнения:\n",
    "# Smartphone vs Tablet\n",
    "ttest_check(smartphone_revenue, tablet_revenue, name1 = 'Smartphone', name2 = 'Tablet', type = 'по доходу')\n",
    "\n",
    "# Smartphone vs Smart TV\n",
    "ttest_check(smartphone_revenue, smart_tv_revenue, name1 = 'Smartphone', name2 = 'Smart TV', type = 'по доходу')\n",
    "\n",
    "# Smartphone vs Laptop\n",
    "ttest_check(smartphone_revenue, laptop_revenue, name1 = 'Smartphone', name2 = 'Laptop', type = 'по доходу')\n",
    "\n",
    "# Tablet vs Smart TV\n",
    "ttest_check(tablet_revenue, smart_tv_revenue, name1 = 'Tablet', name2 = 'Smart TV', type = 'по доходу')\n",
    "\n",
    "# Tablet vs Laptop\n",
    "ttest_check(tablet_revenue, laptop_revenue, name1 = 'Tablet', name2 = 'Laptop', type = 'по доходу')\n",
    "\n",
    "# Smart TV vs Laptop\n",
    "ttest_check(smart_tv_revenue, laptop_revenue, name1 = 'Smart TV', name2 = 'Laptop', type = 'по доходу')\n"
   ]
  },
  {
   "cell_type": "markdown",
   "metadata": {},
   "source": [
    "Итак, на основании полученных данных, можно сделать вывод, что нулевая гипотеза ни в одном из случаев не была отвергнута. $=>$ статистически значимых различий в среднем доходе между пользователями смартфонов, планшетов, Smart TV и ноутбуков нет. На основании данных можно заключить, что тип устройства, используемого пользователями, не оказывает существенного влияния на средний доход, который они приносят компании. Это может быть связано с тем, что пользователи всех устройств оформляют схожие подписки, вне зависимости от устройства, которое они используют."
   ]
  },
  {
   "cell_type": "markdown",
   "metadata": {},
   "source": [
    "### Сравнение №2 - для метрики Subscription Type (на каком устройстве какой тип подписки?)\n",
    "\n",
    "Для этого переведу подписки в баллы, чтобы было удобенее сравнивать. Пусть Basic = 1, Standard = 2, Premium = 3\n",
    "\n",
    "Нулевая гипотеза (H0): Средний балл подписки одинаков для двух типов устройств.\n",
    "\n",
    "Альтернативная гипотеза (H1): Средний \"балл подписки\" различается для двух типов устройств."
   ]
  },
  {
   "cell_type": "code",
   "execution_count": null,
   "metadata": {},
   "outputs": [
    {
     "name": "stdout",
     "output_type": "stream",
     "text": [
      "Гипотезу о равенстве средних баллов подписки для Smartphone vs Tablet ОТВЕРГАЕМ: T-stat = -2.196820487347239, P-value = 0.028037700697121824\n",
      "Гипотезу о равенстве средних баллов подписки для Smartphone vs Smart TV НЕ ОТВЕРГАЕМ: T-stat = -1.1520348628734, P-value = 0.24931211284305752\n",
      "Гипотезу о равенстве средних баллов подписки для Smartphone vs Laptop НЕ ОТВЕРГАЕМ: T-stat = -0.7402085096483305, P-value = 0.45917688463229644\n",
      "Гипотезу о равенстве средних баллов подписки для Tablet vs Smart TV НЕ ОТВЕРГАЕМ: T-stat = 1.0355886150383866, P-value = 0.3003989795965851\n",
      "Гипотезу о равенстве средних баллов подписки для Tablet vs Laptop НЕ ОТВЕРГАЕМ: T-stat = 1.4390985430504715, P-value = 0.15012872236446353\n",
      "Гипотезу о равенстве средних баллов подписки для Smart TV vs Laptop НЕ ОТВЕРГАЕМ: T-stat = 0.40574118902766004, P-value = 0.6849344800216208\n"
     ]
    }
   ],
   "source": [
    "# дам каждому типу подписки балл (сделаю доп столбец)\n",
    "df_analysis['Subscription Score'] = df_analysis['Subscription Type'].map({'Basic': 1, 'Standard': 2, 'Premium': 3})\n",
    "\n",
    "smartphone_sub = df_analysis[df_analysis['Device'] == 'Smartphone']['Subscription Score']\n",
    "tablet_sub = df_analysis[df_analysis['Device'] == 'Tablet']['Subscription Score']\n",
    "smart_tv_sub = df_analysis[df_analysis['Device'] == 'Smart TV']['Subscription Score']\n",
    "laptop_sub = df_analysis[df_analysis['Device'] == 'Laptop']['Subscription Score']\n",
    "\n",
    "# Попарные сравнения:\n",
    "# Smartphone vs Tablet\n",
    "ttest_check(smartphone_sub, tablet_sub, name1 = 'Smartphone', name2 = 'Tablet', type = 'баллов подписки')\n",
    "\n",
    "# Smartphone vs Smart TV\n",
    "ttest_check(smartphone_sub, smart_tv_sub, name1 = 'Smartphone', name2 = 'Smart TV', type = 'баллов подписки')\n",
    "\n",
    "# Smartphone vs Laptop\n",
    "ttest_check(smartphone_sub, laptop_sub, name1 = 'Smartphone', name2 = 'Laptop', type = 'баллов подписки')\n",
    "\n",
    "# Tablet vs Smart TV\n",
    "ttest_check(tablet_sub, smart_tv_sub, name1 = 'Tablet', name2 = 'Smart TV', type = 'баллов подписки')\n",
    "\n",
    "# Tablet vs Laptop\n",
    "ttest_check(tablet_sub, laptop_sub, name1 = 'Tablet', name2 = 'Laptop', type = 'баллов подписки')\n",
    "\n",
    "# Smart TV vs Laptop\n",
    "ttest_check(smart_tv_sub, laptop_sub, name1 = 'Smart TV', name2 = 'Laptop', type = 'баллов подписки')\n"
   ]
  },
  {
   "cell_type": "markdown",
   "metadata": {},
   "source": [
    "Итак, единственное статистически значимое различие в средних баллах подписки наблюдается между пользователями смартфонов и планшетов. У пользователей смартфонов уровень подписки оказывается ниже, чем у пользователей планшетов, что подтверждается значением T-stat = -2.20 и P-value = 0.028. Для остальных пар устройств различия в средних баллах подписки не достигают статистической значимости на уровне 0.05.\n",
    "\n",
    "Однако, вероятно, имеет место ошибка II рода, так как различия в подписках наблюдаются, а по уровню дохода значимых различий не выявлено. Это может указывать на наличие корреляции между доходом и уровнем подписки, которую тест Стьюдента для среднего дохода не смог зафиксировать\n",
    "\n",
    "Пострю boxplot для этого"
   ]
  },
  {
   "cell_type": "code",
   "execution_count": 96,
   "metadata": {},
   "outputs": [
    {
     "data": {
      "image/png": "[encoded data removed]",
      "text/plain": [
       "<Figure size 1000x600 with 1 Axes>"
      ]
     },
     "metadata": {},
     "output_type": "display_data"
    }
   ],
   "source": [
    "plt.figure(figsize=(10, 6))\n",
    "sns.boxplot(\n",
    "    data=df_analysis,\n",
    "    x=\"Device\",\n",
    "    y=\"Monthly Revenue\",\n",
    "    hue=\"Device\",\n",
    "    palette=\"Set3\",\n",
    "    dodge=False\n",
    ")\n",
    "plt.title(\"Boxplot: Monthly Revenue от Device\", fontsize=14)\n",
    "plt.xlabel(\"Device\", fontsize=12)\n",
    "plt.ylabel(\"Monthly Revenue\", fontsize=12)\n",
    "plt.grid(visible=True, linestyle='--', alpha=0.7)\n",
    "plt.tight_layout()\n",
    "plt.show()"
   ]
  },
  {
   "cell_type": "markdown",
   "metadata": {},
   "source": [
    "Отсюда видно, что серая горизонтальная линия (которая обозначает медиану дохода) для категории Smartphone находится ниже, чем для других устройств, это указывает на то, что пользователи смартфонов в среднем приносят дохода меньше по сравнению с пользователями других устройств. Что коррелирует с подпиской. Следовательно, мы совершили ошибку II рода в тесте Стьюдента для метрики Monthly Revenue"
   ]
  },
  {
   "cell_type": "markdown",
   "metadata": {},
   "source": [
    "### Сравнение №3 - для метрики Age (одинаков ли средний возраст пользователей для разных типов устройств?)\n",
    "\n",
    "Нулевая гипотеза (H0): Средний возраст пользователей для всех типов устройств одинаков\n",
    "\n",
    "Альтернативная гипотеза (H1): Средний возраст пользователей для разных типов устройств отличается"
   ]
  },
  {
   "cell_type": "code",
   "execution_count": 97,
   "metadata": {},
   "outputs": [
    {
     "name": "stdout",
     "output_type": "stream",
     "text": [
      "Гипотезу о равенстве средних возрастов для Smartphone vs Tablet НЕ ОТВЕРГАЕМ: T-stat = -1.2022511945943066, P-value = 0.22927173810025514\n",
      "Гипотезу о равенстве средних возрастов для Smartphone vs Smart TV ОТВЕРГАЕМ: T-stat = -2.014356654869004, P-value = 0.043977307374081016\n",
      "Гипотезу о равенстве средних возрастов для Smartphone vs Laptop ОТВЕРГАЕМ: T-stat = -2.5415779545145596, P-value = 0.011038260853527871\n",
      "Гипотезу о равенстве средних возрастов для Tablet vs Smart TV НЕ ОТВЕРГАЕМ: T-stat = -0.8152174511050093, P-value = 0.41495162927937723\n",
      "Гипотезу о равенстве средних возрастов для Tablet vs Laptop НЕ ОТВЕРГАЕМ: T-stat = -1.3476639297922544, P-value = 0.17777246583329878\n",
      "Гипотезу о равенстве средних возрастов для Smart TV vs Laptop НЕ ОТВЕРГАЕМ: T-stat = -0.5346466426217451, P-value = 0.59289655918294\n"
     ]
    }
   ],
   "source": [
    "smartphone_age = df_analysis[df_analysis['Device'] == 'Smartphone']['Age']\n",
    "tablet_age = df_analysis[df_analysis['Device'] == 'Tablet']['Age']\n",
    "smart_tv_age = df_analysis[df_analysis['Device'] == 'Smart TV']['Age']\n",
    "laptop_age = df_analysis[df_analysis['Device'] == 'Laptop']['Age']\n",
    "\n",
    "# Попарные сравнения:\n",
    "# Smartphone vs Tablet\n",
    "ttest_check(smartphone_age, tablet_age, name1 = 'Smartphone', name2 = 'Tablet', type = 'возрастов')\n",
    "\n",
    "# Smartphone vs Smart TV\n",
    "ttest_check(smartphone_age, smart_tv_age, name1 = 'Smartphone', name2 = 'Smart TV', type = 'возрастов')\n",
    "\n",
    "# Smartphone vs Laptop\n",
    "ttest_check(smartphone_age, laptop_age, name1 = 'Smartphone', name2 = 'Laptop', type = 'возрастов')\n",
    "\n",
    "# Tablet vs Smart TV\n",
    "ttest_check(tablet_age, smart_tv_age, name1 = 'Tablet', name2 = 'Smart TV', type = 'возрастов')\n",
    "\n",
    "# Tablet vs Laptop\n",
    "ttest_check(tablet_age, laptop_age, name1 = 'Tablet', name2 = 'Laptop', type = 'возрастов')\n",
    "\n",
    "# Smart TV vs Laptop\n",
    "ttest_check(smart_tv_age, laptop_age, name1 = 'Smart TV', name2 = 'Laptop', type = 'возрастов')"
   ]
  },
  {
   "cell_type": "markdown",
   "metadata": {},
   "source": [
    "Итак, результаты анализа показывают, что средний возраст пользователей отличается в зависимости от используемого устройства. Статистически значимые различия выявлены между пользователями смартфонов и Smart TV (T-stat = -2.01), а также между пользователями смартфонов и ноутбуков (T-stat = -2.54). В обоих случаях пользователи смартфонов оказались младше, чем пользователи Smart TV и ноутбуков. Для остальных пар устройств различий в среднем возрасте не обнаружено, что говорит о том, что эти группы пользователей имеют схожие возрастные характеристики. Данные выводы могут свидетельствовать о том, что смартфоны чаще используются молодыми людьми, тогда как Smart TV и ноутбуки более популярны среди старших возрастных групп. "
   ]
  },
  {
   "cell_type": "markdown",
   "metadata": {},
   "source": [
    "**Тест Манна-Уитни: проверю, есть ли статзначимые различия в распределениях выборок для каждого сегмента по попарному сравнению каждой из метрик?**"
   ]
  },
  {
   "cell_type": "markdown",
   "metadata": {},
   "source": [
    "H_0: Распределения для двух групп одинаковы.\n",
    "\n",
    "H_1: Распределения для двух групп различаются (распределения одинаковые, но одно распределение смещено относительно другого).\n"
   ]
  },
  {
   "cell_type": "markdown",
   "metadata": {},
   "source": [
    "### Сравнение №1 - для метрики Monthly Revenue (для какого типа устройства какое распределение по доходу?)"
   ]
  },
  {
   "cell_type": "code",
   "execution_count": 102,
   "metadata": {},
   "outputs": [],
   "source": [
    "def mannwhitneyu_check(data1, data2, name1 = 'n', name2 = 'n', type = 'по доходу'):\n",
    "    t_stat, p_value = mannwhitneyu(data1, data2)\n",
    "    if p_value < 0.05:\n",
    "        print(f\"Гипотезу о равенстве распределений {type} для {name1} vs {name2} ОТВЕРГАЕМ: T-stat = {t_stat}, P-value = {p_value}\")\n",
    "    else:\n",
    "        print(f\"Гипотезу о равенстве распределений {type} для {name1} vs {name2} НЕ ОТВЕРГАЕМ: T-stat = {t_stat}, P-value = {p_value}\")"
   ]
  },
  {
   "cell_type": "code",
   "execution_count": 105,
   "metadata": {},
   "outputs": [
    {
     "name": "stdout",
     "output_type": "stream",
     "text": [
      "Гипотезу о равенстве распределений по доходу для Smartphone vs Tablet НЕ ОТВЕРГАЕМ: T-stat = 330646778.5, P-value = 0.21745429223645973\n",
      "Гипотезу о равенстве распределений по доходу для Smartphone vs Smart TV НЕ ОТВЕРГАЕМ: T-stat = 327590796.0, P-value = 0.2765412042428872\n",
      "Гипотезу о равенстве распределений по доходу для Smartphone vs Laptop НЕ ОТВЕРГАЕМ: T-stat = 323698475.0, P-value = 0.07684760237241087\n",
      "Гипотезу о равенстве распределений по доходу для Tablet vs Smart TV НЕ ОТВЕРГАЕМ: T-stat = 330226480.5, P-value = 0.8878089305773061\n",
      "Гипотезу о равенстве распределений по доходу для Tablet vs Laptop НЕ ОТВЕРГАЕМ: T-stat = 326305853.0, P-value = 0.5854630242176775\n",
      "Гипотезу о равенстве распределений по доходу для Smart TV vs Laptop НЕ ОТВЕРГАЕМ: T-stat = 322831017.0, P-value = 0.49472067668183695\n"
     ]
    }
   ],
   "source": [
    "# Попарные сравнения:\n",
    "# Smartphone vs Tablet\n",
    "mannwhitneyu_check(smartphone_revenue, tablet_revenue, name1 = 'Smartphone', name2 = 'Tablet', type = 'по доходу')\n",
    "\n",
    "# Smartphone vs Smart TV\n",
    "mannwhitneyu_check(smartphone_revenue, smart_tv_revenue, name1 = 'Smartphone', name2 = 'Smart TV', type = 'по доходу')\n",
    "\n",
    "# Smartphone vs Laptop\n",
    "mannwhitneyu_check(smartphone_revenue, laptop_revenue, name1 = 'Smartphone', name2 = 'Laptop', type = 'по доходу')\n",
    "\n",
    "# Tablet vs Smart TV\n",
    "mannwhitneyu_check(tablet_revenue, smart_tv_revenue, name1 = 'Tablet', name2 = 'Smart TV', type = 'по доходу')\n",
    "\n",
    "# Tablet vs Laptop\n",
    "mannwhitneyu_check(tablet_revenue, laptop_revenue, name1 = 'Tablet', name2 = 'Laptop', type = 'по доходу')\n",
    "\n",
    "# Smart TV vs Laptop\n",
    "mannwhitneyu_check(smart_tv_revenue, laptop_revenue, name1 = 'Smart TV', name2 = 'Laptop', type = 'по доходу')\n"
   ]
  },
  {
   "cell_type": "markdown",
   "metadata": {},
   "source": [
    "### Сравнение №2 - для метрики Subscription Type"
   ]
  },
  {
   "cell_type": "code",
   "execution_count": 107,
   "metadata": {},
   "outputs": [
    {
     "name": "stdout",
     "output_type": "stream",
     "text": [
      "Гипотезу о равенстве распределений баллов подписки для Smartphone vs Tablet ОТВЕРГАЕМ: T-stat = 329200739.0, P-value = 0.028045846823114094\n",
      "Гипотезу о равенстве распределений баллов подписки для Smartphone vs Smart TV НЕ ОТВЕРГАЕМ: T-stat = 327570781.0, P-value = 0.24988371662105446\n",
      "Гипотезу о равенстве распределений баллов подписки для Smartphone vs Laptop НЕ ОТВЕРГАЕМ: T-stat = 325451450.0, P-value = 0.46188508871103784\n",
      "Гипотезу о равенстве распределений баллов подписки для Tablet vs Smart TV НЕ ОТВЕРГАЕМ: T-stat = 331629404.0, P-value = 0.3017339686593714\n",
      "Гипотезу о равенстве распределений баллов подписки для Tablet vs Laptop НЕ ОТВЕРГАЕМ: T-stat = 329464627.0, P-value = 0.15119496714620922\n",
      "Гипотезу о равенстве распределений баллов подписки для Smart TV vs Laptop НЕ ОТВЕРГАЕМ: T-stat = 324581756.0, P-value = 0.6847722374566488\n"
     ]
    }
   ],
   "source": [
    "# Попарные сравнения:\n",
    "# Smartphone vs Tablet\n",
    "mannwhitneyu_check(smartphone_sub, tablet_sub, name1 = 'Smartphone', name2 = 'Tablet', type = 'баллов подписки')\n",
    "\n",
    "# Smartphone vs Smart TV\n",
    "mannwhitneyu_check(smartphone_sub, smart_tv_sub, name1 = 'Smartphone', name2 = 'Smart TV', type = 'баллов подписки')\n",
    "\n",
    "# Smartphone vs Laptop\n",
    "mannwhitneyu_check(smartphone_sub, laptop_sub, name1 = 'Smartphone', name2 = 'Laptop', type = 'баллов подписки')\n",
    "\n",
    "# Tablet vs Smart TV\n",
    "mannwhitneyu_check(tablet_sub, smart_tv_sub, name1 = 'Tablet', name2 = 'Smart TV', type = 'баллов подписки')\n",
    "\n",
    "# Tablet vs Laptop\n",
    "mannwhitneyu_check(tablet_sub, laptop_sub, name1 = 'Tablet', name2 = 'Laptop', type = 'баллов подписки')\n",
    "\n",
    "# Smart TV vs Laptop\n",
    "mannwhitneyu_check(smart_tv_sub, laptop_sub, name1 = 'Smart TV', name2 = 'Laptop', type = 'баллов подписки')\n"
   ]
  },
  {
   "cell_type": "markdown",
   "metadata": {},
   "source": [
    "### Сравнение №3 - для метрики Age (одинаков ли средний возраст пользователей для разных типов устройств?)"
   ]
  },
  {
   "cell_type": "code",
   "execution_count": 109,
   "metadata": {},
   "outputs": [
    {
     "name": "stdout",
     "output_type": "stream",
     "text": [
      "Гипотезу о равенстве распределений возрастов для Smartphone vs Tablet НЕ ОТВЕРГАЕМ: T-stat = 330670516.5, P-value = 0.22900393901618954\n",
      "Гипотезу о равенстве распределений возрастов для Smartphone vs Smart TV ОТВЕРГАЕМ: T-stat = 326002401.5, P-value = 0.04332443113626383\n",
      "Гипотезу о равенстве распределений возрастов для Smartphone vs Laptop ОТВЕРГАЕМ: T-stat = 322395630.5, P-value = 0.01149062898837868\n",
      "Гипотезу о равенстве распределений возрастов для Tablet vs Smart TV НЕ ОТВЕРГАЕМ: T-stat = 328627747.0, P-value = 0.4164889066337196\n",
      "Гипотезу о равенстве распределений возрастов для Tablet vs Laptop НЕ ОТВЕРГАЕМ: T-stat = 324960758.0, P-value = 0.1789379419403413\n",
      "Гипотезу о равенстве распределений возрастов для Smart TV vs Laptop НЕ ОТВЕРГАЕМ: T-stat = 323050939.0, P-value = 0.5884965626112851\n"
     ]
    }
   ],
   "source": [
    "# Попарные сравнения:\n",
    "# Smartphone vs Tablet\n",
    "mannwhitneyu_check(smartphone_age, tablet_age, name1 = 'Smartphone', name2 = 'Tablet', type = 'возрастов')\n",
    "\n",
    "# Smartphone vs Smart TV\n",
    "mannwhitneyu_check(smartphone_age, smart_tv_age, name1 = 'Smartphone', name2 = 'Smart TV', type = 'возрастов')\n",
    "\n",
    "# Smartphone vs Laptop\n",
    "mannwhitneyu_check(smartphone_age, laptop_age, name1 = 'Smartphone', name2 = 'Laptop', type = 'возрастов')\n",
    "\n",
    "# Tablet vs Smart TV\n",
    "mannwhitneyu_check(tablet_age, smart_tv_age, name1 = 'Tablet', name2 = 'Smart TV', type = 'возрастов')\n",
    "\n",
    "# Tablet vs Laptop\n",
    "mannwhitneyu_check(tablet_age, laptop_age, name1 = 'Tablet', name2 = 'Laptop', type = 'возрастов')\n",
    "\n",
    "# Smart TV vs Laptop\n",
    "mannwhitneyu_check(smart_tv_age, laptop_age, name1 = 'Smart TV', name2 = 'Laptop', type = 'возрастов')"
   ]
  },
  {
   "cell_type": "markdown",
   "metadata": {},
   "source": [
    "## Результаты теста Манна-Уитни полностью коррелируют с результатами теста Стьюдента $=>$ выводы остаются аналогичными"
   ]
  },
  {
   "cell_type": "markdown",
   "metadata": {},
   "source": [
    "# Тест Фишера для нескольких сегментов"
   ]
  },
  {
   "cell_type": "markdown",
   "metadata": {},
   "source": [
    "Для теста Фишера для нескольких сегментов нужно сделать таблицы сопряженности (будет новая таблица для каждой метрики)"
   ]
  },
  {
   "cell_type": "markdown",
   "metadata": {},
   "source": [
    "Поскольку Monthly Revenue и Age - числовые переменные, сделаю их категориальными:"
   ]
  },
  {
   "cell_type": "code",
   "execution_count": 132,
   "metadata": {},
   "outputs": [],
   "source": [
    "# Доход\n",
    "df_analysis['Revenue Group'] = pd.cut(df_analysis['Monthly Revenue'], bins=[9, 12, 14, 15], labels=['Low', 'Medium', 'High'])\n",
    "contingency_table_revenue = pd.crosstab(df_analysis['Device'], df_analysis['Revenue Group'])\n",
    "\n",
    "# Возраст\n",
    "def age_group(age):\n",
    "    if age <= 30:\n",
    "        return '18-30'\n",
    "    elif age <= 50:\n",
    "        return '31-50'\n",
    "    else:\n",
    "        return '>50'\n",
    "\n",
    "df_analysis['Age Group'] = df_analysis['Age'].apply(age_group)\n",
    "\n",
    "contingency_table_age = pd.crosstab(df_analysis['Device'], df_analysis['Age Group'])\n",
    "\n",
    "# Тип подписки (Score)\n",
    "\n",
    "contingency_table_subscription_score = pd.crosstab(df_analysis['Device'], df_analysis['Subscription Score'])"
   ]
  },
  {
   "cell_type": "code",
   "execution_count": 113,
   "metadata": {},
   "outputs": [
    {
     "data": {
      "text/html": [
       "<div>\n",
       "<style scoped>\n",
       "    .dataframe tbody tr th:only-of-type {\n",
       "        vertical-align: middle;\n",
       "    }\n",
       "\n",
       "    .dataframe tbody tr th {\n",
       "        vertical-align: top;\n",
       "    }\n",
       "\n",
       "    .dataframe thead th {\n",
       "        text-align: right;\n",
       "    }\n",
       "</style>\n",
       "<table border=\"1\" class=\"dataframe\">\n",
       "  <thead>\n",
       "    <tr style=\"text-align: right;\">\n",
       "      <th>Revenue Group</th>\n",
       "      <th>Low</th>\n",
       "      <th>Medium</th>\n",
       "      <th>High</th>\n",
       "    </tr>\n",
       "    <tr>\n",
       "      <th>Device</th>\n",
       "      <th></th>\n",
       "      <th></th>\n",
       "      <th></th>\n",
       "    </tr>\n",
       "  </thead>\n",
       "  <tbody>\n",
       "    <tr>\n",
       "      <th>Laptop</th>\n",
       "      <td>12531</td>\n",
       "      <td>8661</td>\n",
       "      <td>4154</td>\n",
       "    </tr>\n",
       "    <tr>\n",
       "      <th>Smart TV</th>\n",
       "      <td>12765</td>\n",
       "      <td>8540</td>\n",
       "      <td>4257</td>\n",
       "    </tr>\n",
       "    <tr>\n",
       "      <th>Smartphone</th>\n",
       "      <td>12980</td>\n",
       "      <td>8584</td>\n",
       "      <td>4208</td>\n",
       "    </tr>\n",
       "    <tr>\n",
       "      <th>Tablet</th>\n",
       "      <td>12904</td>\n",
       "      <td>8614</td>\n",
       "      <td>4301</td>\n",
       "    </tr>\n",
       "  </tbody>\n",
       "</table>\n",
       "</div>"
      ],
      "text/plain": [
       "Revenue Group    Low  Medium  High\n",
       "Device                            \n",
       "Laptop         12531    8661  4154\n",
       "Smart TV       12765    8540  4257\n",
       "Smartphone     12980    8584  4208\n",
       "Tablet         12904    8614  4301"
      ]
     },
     "execution_count": 113,
     "metadata": {},
     "output_type": "execute_result"
    }
   ],
   "source": [
    "contingency_table_revenue"
   ]
  },
  {
   "cell_type": "code",
   "execution_count": 115,
   "metadata": {},
   "outputs": [
    {
     "data": {
      "text/html": [
       "<div>\n",
       "<style scoped>\n",
       "    .dataframe tbody tr th:only-of-type {\n",
       "        vertical-align: middle;\n",
       "    }\n",
       "\n",
       "    .dataframe tbody tr th {\n",
       "        vertical-align: top;\n",
       "    }\n",
       "\n",
       "    .dataframe thead th {\n",
       "        text-align: right;\n",
       "    }\n",
       "</style>\n",
       "<table border=\"1\" class=\"dataframe\">\n",
       "  <thead>\n",
       "    <tr style=\"text-align: right;\">\n",
       "      <th>Age Group</th>\n",
       "      <th>18-30</th>\n",
       "      <th>31-50</th>\n",
       "      <th>&gt;50</th>\n",
       "    </tr>\n",
       "    <tr>\n",
       "      <th>Device</th>\n",
       "      <th></th>\n",
       "      <th></th>\n",
       "      <th></th>\n",
       "    </tr>\n",
       "  </thead>\n",
       "  <tbody>\n",
       "    <tr>\n",
       "      <th>Laptop</th>\n",
       "      <td>4731</td>\n",
       "      <td>19620</td>\n",
       "      <td>995</td>\n",
       "    </tr>\n",
       "    <tr>\n",
       "      <th>Smart TV</th>\n",
       "      <td>4760</td>\n",
       "      <td>19793</td>\n",
       "      <td>1009</td>\n",
       "    </tr>\n",
       "    <tr>\n",
       "      <th>Smartphone</th>\n",
       "      <td>5126</td>\n",
       "      <td>19633</td>\n",
       "      <td>1013</td>\n",
       "    </tr>\n",
       "    <tr>\n",
       "      <th>Tablet</th>\n",
       "      <td>4961</td>\n",
       "      <td>19875</td>\n",
       "      <td>983</td>\n",
       "    </tr>\n",
       "  </tbody>\n",
       "</table>\n",
       "</div>"
      ],
      "text/plain": [
       "Age Group   18-30  31-50   >50\n",
       "Device                        \n",
       "Laptop       4731  19620   995\n",
       "Smart TV     4760  19793  1009\n",
       "Smartphone   5126  19633  1013\n",
       "Tablet       4961  19875   983"
      ]
     },
     "execution_count": 115,
     "metadata": {},
     "output_type": "execute_result"
    }
   ],
   "source": [
    "contingency_table_age"
   ]
  },
  {
   "cell_type": "code",
   "execution_count": 116,
   "metadata": {},
   "outputs": [
    {
     "data": {
      "text/html": [
       "<div>\n",
       "<style scoped>\n",
       "    .dataframe tbody tr th:only-of-type {\n",
       "        vertical-align: middle;\n",
       "    }\n",
       "\n",
       "    .dataframe tbody tr th {\n",
       "        vertical-align: top;\n",
       "    }\n",
       "\n",
       "    .dataframe thead th {\n",
       "        text-align: right;\n",
       "    }\n",
       "</style>\n",
       "<table border=\"1\" class=\"dataframe\">\n",
       "  <thead>\n",
       "    <tr style=\"text-align: right;\">\n",
       "      <th>Subscription Score</th>\n",
       "      <th>1</th>\n",
       "      <th>2</th>\n",
       "      <th>3</th>\n",
       "    </tr>\n",
       "    <tr>\n",
       "      <th>Device</th>\n",
       "      <th></th>\n",
       "      <th></th>\n",
       "      <th></th>\n",
       "    </tr>\n",
       "  </thead>\n",
       "  <tbody>\n",
       "    <tr>\n",
       "      <th>Laptop</th>\n",
       "      <td>8582</td>\n",
       "      <td>8230</td>\n",
       "      <td>8534</td>\n",
       "    </tr>\n",
       "    <tr>\n",
       "      <th>Smart TV</th>\n",
       "      <td>8553</td>\n",
       "      <td>8429</td>\n",
       "      <td>8580</td>\n",
       "    </tr>\n",
       "    <tr>\n",
       "      <th>Smartphone</th>\n",
       "      <td>8675</td>\n",
       "      <td>8609</td>\n",
       "      <td>8488</td>\n",
       "    </tr>\n",
       "    <tr>\n",
       "      <th>Tablet</th>\n",
       "      <td>8469</td>\n",
       "      <td>8661</td>\n",
       "      <td>8689</td>\n",
       "    </tr>\n",
       "  </tbody>\n",
       "</table>\n",
       "</div>"
      ],
      "text/plain": [
       "Subscription Score     1     2     3\n",
       "Device                              \n",
       "Laptop              8582  8230  8534\n",
       "Smart TV            8553  8429  8580\n",
       "Smartphone          8675  8609  8488\n",
       "Tablet              8469  8661  8689"
      ]
     },
     "execution_count": 116,
     "metadata": {},
     "output_type": "execute_result"
    }
   ],
   "source": [
    "contingency_table_subscription_score"
   ]
  },
  {
   "cell_type": "code",
   "execution_count": 112,
   "metadata": {},
   "outputs": [
    {
     "data": {
      "text/html": [
       "<div>\n",
       "<style scoped>\n",
       "    .dataframe tbody tr th:only-of-type {\n",
       "        vertical-align: middle;\n",
       "    }\n",
       "\n",
       "    .dataframe tbody tr th {\n",
       "        vertical-align: top;\n",
       "    }\n",
       "\n",
       "    .dataframe thead th {\n",
       "        text-align: right;\n",
       "    }\n",
       "</style>\n",
       "<table border=\"1\" class=\"dataframe\">\n",
       "  <thead>\n",
       "    <tr style=\"text-align: right;\">\n",
       "      <th></th>\n",
       "      <th>User ID</th>\n",
       "      <th>Subscription Type</th>\n",
       "      <th>Monthly Revenue</th>\n",
       "      <th>Join Date</th>\n",
       "      <th>Last Payment Date</th>\n",
       "      <th>Country</th>\n",
       "      <th>Age</th>\n",
       "      <th>Gender</th>\n",
       "      <th>Device</th>\n",
       "      <th>Plan Duration</th>\n",
       "      <th>Subscription Score</th>\n",
       "      <th>Revenue Group</th>\n",
       "      <th>Age Group</th>\n",
       "    </tr>\n",
       "  </thead>\n",
       "  <tbody>\n",
       "    <tr>\n",
       "      <th>0</th>\n",
       "      <td>1</td>\n",
       "      <td>Basic</td>\n",
       "      <td>10</td>\n",
       "      <td>15-01-22</td>\n",
       "      <td>10-06-23</td>\n",
       "      <td>United States</td>\n",
       "      <td>28</td>\n",
       "      <td>Male</td>\n",
       "      <td>Smartphone</td>\n",
       "      <td>1 Month</td>\n",
       "      <td>1</td>\n",
       "      <td>Low</td>\n",
       "      <td>18-30</td>\n",
       "    </tr>\n",
       "    <tr>\n",
       "      <th>1</th>\n",
       "      <td>2</td>\n",
       "      <td>Premium</td>\n",
       "      <td>15</td>\n",
       "      <td>05-09-21</td>\n",
       "      <td>22-06-23</td>\n",
       "      <td>Canada</td>\n",
       "      <td>35</td>\n",
       "      <td>Female</td>\n",
       "      <td>Tablet</td>\n",
       "      <td>1 Month</td>\n",
       "      <td>3</td>\n",
       "      <td>High</td>\n",
       "      <td>31-50</td>\n",
       "    </tr>\n",
       "    <tr>\n",
       "      <th>2</th>\n",
       "      <td>3</td>\n",
       "      <td>Standard</td>\n",
       "      <td>12</td>\n",
       "      <td>28-02-23</td>\n",
       "      <td>27-06-23</td>\n",
       "      <td>United Kingdom</td>\n",
       "      <td>42</td>\n",
       "      <td>Male</td>\n",
       "      <td>Smart TV</td>\n",
       "      <td>1 Month</td>\n",
       "      <td>2</td>\n",
       "      <td>Low</td>\n",
       "      <td>31-50</td>\n",
       "    </tr>\n",
       "    <tr>\n",
       "      <th>3</th>\n",
       "      <td>4</td>\n",
       "      <td>Standard</td>\n",
       "      <td>12</td>\n",
       "      <td>10-07-22</td>\n",
       "      <td>26-06-23</td>\n",
       "      <td>Australia</td>\n",
       "      <td>51</td>\n",
       "      <td>Female</td>\n",
       "      <td>Laptop</td>\n",
       "      <td>1 Month</td>\n",
       "      <td>2</td>\n",
       "      <td>Low</td>\n",
       "      <td>&gt;50</td>\n",
       "    </tr>\n",
       "    <tr>\n",
       "      <th>4</th>\n",
       "      <td>5</td>\n",
       "      <td>Basic</td>\n",
       "      <td>10</td>\n",
       "      <td>01-05-23</td>\n",
       "      <td>28-06-23</td>\n",
       "      <td>Germany</td>\n",
       "      <td>33</td>\n",
       "      <td>Male</td>\n",
       "      <td>Smartphone</td>\n",
       "      <td>1 Month</td>\n",
       "      <td>1</td>\n",
       "      <td>Low</td>\n",
       "      <td>31-50</td>\n",
       "    </tr>\n",
       "    <tr>\n",
       "      <th>...</th>\n",
       "      <td>...</td>\n",
       "      <td>...</td>\n",
       "      <td>...</td>\n",
       "      <td>...</td>\n",
       "      <td>...</td>\n",
       "      <td>...</td>\n",
       "      <td>...</td>\n",
       "      <td>...</td>\n",
       "      <td>...</td>\n",
       "      <td>...</td>\n",
       "      <td>...</td>\n",
       "      <td>...</td>\n",
       "      <td>...</td>\n",
       "    </tr>\n",
       "    <tr>\n",
       "      <th>102494</th>\n",
       "      <td>102495</td>\n",
       "      <td>Standard</td>\n",
       "      <td>14</td>\n",
       "      <td>01-07-22</td>\n",
       "      <td>23-07-23</td>\n",
       "      <td>Canada</td>\n",
       "      <td>48</td>\n",
       "      <td>Female</td>\n",
       "      <td>Smart TV</td>\n",
       "      <td>1 Month</td>\n",
       "      <td>2</td>\n",
       "      <td>Medium</td>\n",
       "      <td>31-50</td>\n",
       "    </tr>\n",
       "    <tr>\n",
       "      <th>102495</th>\n",
       "      <td>102496</td>\n",
       "      <td>Premium</td>\n",
       "      <td>12</td>\n",
       "      <td>09-10-23</td>\n",
       "      <td>28-07-23</td>\n",
       "      <td>Germany</td>\n",
       "      <td>37</td>\n",
       "      <td>Male</td>\n",
       "      <td>Smartphone</td>\n",
       "      <td>1 Month</td>\n",
       "      <td>3</td>\n",
       "      <td>Low</td>\n",
       "      <td>31-50</td>\n",
       "    </tr>\n",
       "    <tr>\n",
       "      <th>102496</th>\n",
       "      <td>102497</td>\n",
       "      <td>Standard</td>\n",
       "      <td>11</td>\n",
       "      <td>09-04-23</td>\n",
       "      <td>26-07-23</td>\n",
       "      <td>Italy</td>\n",
       "      <td>51</td>\n",
       "      <td>Male</td>\n",
       "      <td>Tablet</td>\n",
       "      <td>1 Month</td>\n",
       "      <td>2</td>\n",
       "      <td>Low</td>\n",
       "      <td>&gt;50</td>\n",
       "    </tr>\n",
       "    <tr>\n",
       "      <th>102497</th>\n",
       "      <td>102498</td>\n",
       "      <td>Standard</td>\n",
       "      <td>14</td>\n",
       "      <td>02-07-22</td>\n",
       "      <td>16-06-23</td>\n",
       "      <td>United States</td>\n",
       "      <td>28</td>\n",
       "      <td>Female</td>\n",
       "      <td>Smart TV</td>\n",
       "      <td>1 Month</td>\n",
       "      <td>2</td>\n",
       "      <td>Medium</td>\n",
       "      <td>18-30</td>\n",
       "    </tr>\n",
       "    <tr>\n",
       "      <th>102498</th>\n",
       "      <td>102499</td>\n",
       "      <td>Standard</td>\n",
       "      <td>15</td>\n",
       "      <td>18-06-23</td>\n",
       "      <td>29-07-23</td>\n",
       "      <td>United States</td>\n",
       "      <td>28</td>\n",
       "      <td>Male</td>\n",
       "      <td>Laptop</td>\n",
       "      <td>1 Month</td>\n",
       "      <td>2</td>\n",
       "      <td>High</td>\n",
       "      <td>18-30</td>\n",
       "    </tr>\n",
       "  </tbody>\n",
       "</table>\n",
       "<p>102499 rows × 13 columns</p>\n",
       "</div>"
      ],
      "text/plain": [
       "        User ID Subscription Type  Monthly Revenue Join Date  \\\n",
       "0             1             Basic               10  15-01-22   \n",
       "1             2           Premium               15  05-09-21   \n",
       "2             3          Standard               12  28-02-23   \n",
       "3             4          Standard               12  10-07-22   \n",
       "4             5             Basic               10  01-05-23   \n",
       "...         ...               ...              ...       ...   \n",
       "102494   102495          Standard               14  01-07-22   \n",
       "102495   102496           Premium               12  09-10-23   \n",
       "102496   102497          Standard               11  09-04-23   \n",
       "102497   102498          Standard               14  02-07-22   \n",
       "102498   102499          Standard               15  18-06-23   \n",
       "\n",
       "       Last Payment Date         Country  Age  Gender      Device  \\\n",
       "0               10-06-23   United States   28    Male  Smartphone   \n",
       "1               22-06-23          Canada   35  Female      Tablet   \n",
       "2               27-06-23  United Kingdom   42    Male    Smart TV   \n",
       "3               26-06-23       Australia   51  Female      Laptop   \n",
       "4               28-06-23         Germany   33    Male  Smartphone   \n",
       "...                  ...             ...  ...     ...         ...   \n",
       "102494          23-07-23          Canada   48  Female    Smart TV   \n",
       "102495          28-07-23         Germany   37    Male  Smartphone   \n",
       "102496          26-07-23           Italy   51    Male      Tablet   \n",
       "102497          16-06-23   United States   28  Female    Smart TV   \n",
       "102498          29-07-23   United States   28    Male      Laptop   \n",
       "\n",
       "       Plan Duration  Subscription Score Revenue Group Age Group  \n",
       "0            1 Month                   1           Low     18-30  \n",
       "1            1 Month                   3          High     31-50  \n",
       "2            1 Month                   2           Low     31-50  \n",
       "3            1 Month                   2           Low       >50  \n",
       "4            1 Month                   1           Low     31-50  \n",
       "...              ...                 ...           ...       ...  \n",
       "102494       1 Month                   2        Medium     31-50  \n",
       "102495       1 Month                   3           Low     31-50  \n",
       "102496       1 Month                   2           Low       >50  \n",
       "102497       1 Month                   2        Medium     18-30  \n",
       "102498       1 Month                   2          High     18-30  \n",
       "\n",
       "[102499 rows x 13 columns]"
      ]
     },
     "execution_count": 112,
     "metadata": {},
     "output_type": "execute_result"
    }
   ],
   "source": [
    "df_analysis"
   ]
  },
  {
   "cell_type": "code",
   "execution_count": 120,
   "metadata": {},
   "outputs": [],
   "source": [
    "def many_fisher(table, metrics = 'уровнем дохода'):\n",
    "    chi2_stat, p_value, _, _ = chi2_contingency(table)\n",
    "    if p_value < 0.05:\n",
    "        print(f\"Хотя бы в одном месте в таблице есть статистически значимая зависимость между типом устройства и {metrics}, P-value = {p_value}\")\n",
    "    else:\n",
    "        print(f\"Гипотеза о независимости не отвергается, что означает, что {metrics} не зависит от типа устройства, P-value = {p_value}\")"
   ]
  },
  {
   "cell_type": "code",
   "execution_count": 183,
   "metadata": {},
   "outputs": [
    {
     "name": "stdout",
     "output_type": "stream",
     "text": [
      "Гипотеза о независимости не отвергается, что означает, что уровень дохода не зависит от типа устройства, P-value = 0.28582461438730766\n",
      "Хотя бы в одном месте в таблице есть статистически значимая зависимость между типом устройства и типом подписки, P-value = 0.04131283392507345\n",
      "Хотя бы в одном месте в таблице есть статистически значимая зависимость между типом устройства и возрастной группой, P-value = 0.005300471261375393\n"
     ]
    }
   ],
   "source": [
    "# для дохода\n",
    "many_fisher(contingency_table_revenue, metrics = 'уровень дохода')\n",
    "\n",
    "# для типа подписки\n",
    "many_fisher(contingency_table_subscription_score, metrics = 'типом подписки')\n",
    "\n",
    "# для возраста\n",
    "many_fisher(contingency_table_age, metrics = 'возрастной группой')"
   ]
  },
  {
   "cell_type": "markdown",
   "metadata": {},
   "source": [
    "Результаты теста Фишера также согласуются с попраными тестами Фишера и Манна-Уитни"
   ]
  },
  {
   "cell_type": "markdown",
   "metadata": {},
   "source": [
    "# Для >=3 сегментов сделайте попарные сравнения через тест Стьюдента и тест Фишера. Проверьте соотносятся ли результаты."
   ]
  },
  {
   "cell_type": "markdown",
   "metadata": {},
   "source": [
    "Я так понимаю, просто добавлю здесь сравнение таблиц Фишера 2 на n (кол - во вариантов в метрике) с уже имеющимся тестом Стьюдента. Для удобства перетащу (скопирую) блок кода для Стьюдента сюда еще раз.\n",
    "\n",
    "Сделаю таблицы сопряженности для всех 6ти пар типов устройств: \n",
    "* Smartphone vs Tablet\n",
    "* Smartphone vs Smart TV\n",
    "* Smartphone vs Laptop\n",
    "* Smartphone vs Laptop\n",
    "* Tablet vs Laptop\n",
    "* Smart TV vs Laptop"
   ]
  },
  {
   "cell_type": "markdown",
   "metadata": {},
   "source": [
    "**Попарный тест Фишера по доходу**"
   ]
  },
  {
   "cell_type": "code",
   "execution_count": 184,
   "metadata": {},
   "outputs": [],
   "source": [
    "def two_fisher(table, dev1 = 'Tab', dev2 = 'Lap', metrics = 'Уровень дохода'):\n",
    "    chi2_stat, p_value, _, _ = chi2_contingency(table)\n",
    "    if p_value < 0.05:\n",
    "        print(f\"Есть статистически значимая зависимость между {metrics} от {dev1} и {dev2}, P-value = {p_value:.5f}, χ² = {chi2_stat:.2f}\")\n",
    "    else:\n",
    "        print(f\"Не была обнаружена статистически значимая зависимость между {metrics} и типами устройств {dev1} и {dev2}. P-value = {p_value:.5f}, χ² = {chi2_stat:.2f}.\")"
   ]
  },
  {
   "cell_type": "code",
   "execution_count": 185,
   "metadata": {},
   "outputs": [
    {
     "name": "stdout",
     "output_type": "stream",
     "text": [
      "Не была обнаружена статистически значимая зависимость между уровнем дохода и типами устройств Smartphone и Tablet. P-value = 0.53550, χ² = 1.25.\n",
      "Не была обнаружена статистически значимая зависимость между уровнем дохода и типами устройств Smartphone и Smart TV. P-value = 0.51347, χ² = 1.33.\n",
      "Не была обнаружена статистически значимая зависимость между уровнем дохода и типами устройств Smartphone и Laptop. P-value = 0.08025, χ² = 5.05.\n",
      "Не была обнаружена статистически значимая зависимость между уровнем дохода и типами устройств Tablet и Smart TV. P-value = 0.99369, χ² = 0.01.\n",
      "Не была обнаружена статистически значимая зависимость между уровнем дохода и типами устройств Tablet и Laptop. P-value = 0.15098, χ² = 3.78.\n",
      "Не была обнаружена статистически значимая зависимость между уровнем дохода и типами устройств Smart TV и Laptop. P-value = 0.18631, χ² = 3.36.\n"
     ]
    }
   ],
   "source": [
    "devices = ['Smartphone', 'Tablet', 'Smart TV', 'Laptop']\n",
    "device_pairs = list(combinations(devices, 2))\n",
    "\n",
    "for device1, device2 in device_pairs:\n",
    "    cross_df = df_analysis[df_analysis['Device'].isin([device1, device2])]\n",
    "    contingency_table = pd.crosstab(cross_df['Device'], cross_df['Revenue Group'])\n",
    "    two_fisher(contingency_table, dev1 = device1, dev2 = device2, metrics = 'уровнем дохода')"
   ]
  },
  {
   "cell_type": "markdown",
   "metadata": {},
   "source": [
    "**попарый Стьюдент по доходу**"
   ]
  },
  {
   "cell_type": "code",
   "execution_count": 186,
   "metadata": {},
   "outputs": [
    {
     "name": "stdout",
     "output_type": "stream",
     "text": [
      "Гипотезу о равенстве средних по доходу для Smartphone vs Tablet НЕ ОТВЕРГАЕМ: T-stat = -1.2315630431166475, P-value = 0.2181179671441775\n",
      "Гипотезу о равенстве средних по доходу для Smartphone vs Smart TV НЕ ОТВЕРГАЕМ: T-stat = -1.0876484088592229, P-value = 0.2767554581265842\n",
      "Гипотезу о равенстве средних по доходу для Smartphone vs Laptop НЕ ОТВЕРГАЕМ: T-stat = -1.7704017615356162, P-value = 0.07666619575476752\n",
      "Гипотезу о равенстве средних по доходу для Tablet vs Smart TV НЕ ОТВЕРГАЕМ: T-stat = 0.14057702270880984, P-value = 0.8882046522573307\n",
      "Гипотезу о равенстве средних по доходу для Tablet vs Laptop НЕ ОТВЕРГАЕМ: T-stat = -0.5436485446938459, P-value = 0.5866857160358281\n",
      "Гипотезу о равенстве средних по доходу для Smart TV vs Laptop НЕ ОТВЕРГАЕМ: T-stat = -0.682221197073875, P-value = 0.49510219727144655\n"
     ]
    }
   ],
   "source": [
    "# Попарные сравнения:\n",
    "# Smartphone vs Tablet\n",
    "ttest_check(smartphone_revenue, tablet_revenue, name1 = 'Smartphone', name2 = 'Tablet', type = 'по доходу')\n",
    "\n",
    "# Smartphone vs Smart TV\n",
    "ttest_check(smartphone_revenue, smart_tv_revenue, name1 = 'Smartphone', name2 = 'Smart TV', type = 'по доходу')\n",
    "\n",
    "# Smartphone vs Laptop\n",
    "ttest_check(smartphone_revenue, laptop_revenue, name1 = 'Smartphone', name2 = 'Laptop', type = 'по доходу')\n",
    "\n",
    "# Tablet vs Smart TV\n",
    "ttest_check(tablet_revenue, smart_tv_revenue, name1 = 'Tablet', name2 = 'Smart TV', type = 'по доходу')\n",
    "\n",
    "# Tablet vs Laptop\n",
    "ttest_check(tablet_revenue, laptop_revenue, name1 = 'Tablet', name2 = 'Laptop', type = 'по доходу')\n",
    "\n",
    "# Smart TV vs Laptop\n",
    "ttest_check(smart_tv_revenue, laptop_revenue, name1 = 'Smart TV', name2 = 'Laptop', type = 'по доходу')"
   ]
  },
  {
   "cell_type": "markdown",
   "metadata": {},
   "source": [
    "Итак, в результате сравнения, результаты попарного теста Стьюдента и теста Фишера оказались одинаковыми, что вызывает интерес. На box-графике выше мы явно видели, что средний доход пользователей смартфонов ниже, чем у пользователей других устройств. Обычно тест Фишера, который менее чувствителен к ошибкам второго рода, должен был бы уловить этот эффект. Однако, вероятно, его отсутствие можно объяснить малой дисперсией в данных, так как диапазон значений в столбце \"Monthly Revenue\" ограничен значениями от 10 до 15, что снижает вероятность выявления статистически значимой зависимости."
   ]
  },
  {
   "cell_type": "markdown",
   "metadata": {},
   "source": [
    "**Попарный тест Фишера по подписке**"
   ]
  },
  {
   "cell_type": "code",
   "execution_count": null,
   "metadata": {},
   "outputs": [
    {
     "name": "stdout",
     "output_type": "stream",
     "text": [
      "Не была обнаружена статистически значимая зависимость между баллами подписки и типами устройств Smartphone и Tablet. P-value = 0.08454, χ² = 4.94.\n",
      "Не была обнаружена статистически значимая зависимость между баллами подписки и типами устройств Smartphone и Smart TV. P-value = 0.30083, χ² = 2.40.\n",
      "Не была обнаружена статистически значимая зависимость между баллами подписки и типами устройств Smartphone и Laptop. P-value = 0.06063, χ² = 5.61.\n",
      "Не была обнаружена статистически значимая зависимость между баллами подписки и типами устройств Tablet и Smart TV. P-value = 0.22689, χ² = 2.97.\n",
      "Есть статистически значимая зависимость между баллами подписки от Tablet и Laptop, P-value = 0.01247, χ² = 8.77\n",
      "Не была обнаружена статистически значимая зависимость между баллами подписки и типами устройств Smart TV и Laptop. P-value = 0.44188, χ² = 1.63.\n"
     ]
    }
   ],
   "source": [
    "for device1, device2 in device_pairs:\n",
    "    cross_df = df_analysis[df_analysis['Device'].isin([device1, device2])]\n",
    "    contingency_table = pd.crosstab(cross_df['Device'], cross_df['Subscription Score'])\n",
    "    two_fisher(contingency_table, dev1 = device1, dev2 = device2, metrics = 'баллами подписки')"
   ]
  },
  {
   "cell_type": "markdown",
   "metadata": {},
   "source": [
    "**попарый Стьюдент по подписке**"
   ]
  },
  {
   "cell_type": "code",
   "execution_count": 188,
   "metadata": {},
   "outputs": [
    {
     "name": "stdout",
     "output_type": "stream",
     "text": [
      "Гипотезу о равенстве средних баллов подписки для Smartphone vs Tablet ОТВЕРГАЕМ: T-stat = -2.196820487347239, P-value = 0.028037700697121824\n",
      "Гипотезу о равенстве средних баллов подписки для Smartphone vs Smart TV НЕ ОТВЕРГАЕМ: T-stat = -1.1520348628734, P-value = 0.24931211284305752\n",
      "Гипотезу о равенстве средних баллов подписки для Smartphone vs Laptop НЕ ОТВЕРГАЕМ: T-stat = -0.7402085096483305, P-value = 0.45917688463229644\n",
      "Гипотезу о равенстве средних баллов подписки для Tablet vs Smart TV НЕ ОТВЕРГАЕМ: T-stat = 1.0355886150383866, P-value = 0.3003989795965851\n",
      "Гипотезу о равенстве средних баллов подписки для Tablet vs Laptop НЕ ОТВЕРГАЕМ: T-stat = 1.4390985430504715, P-value = 0.15012872236446353\n",
      "Гипотезу о равенстве средних баллов подписки для Smart TV vs Laptop НЕ ОТВЕРГАЕМ: T-stat = 0.40574118902766004, P-value = 0.6849344800216208\n"
     ]
    }
   ],
   "source": [
    "# Попарные сравнения:\n",
    "# Smartphone vs Tablet\n",
    "ttest_check(smartphone_sub, tablet_sub, name1 = 'Smartphone', name2 = 'Tablet', type = 'баллов подписки')\n",
    "\n",
    "# Smartphone vs Smart TV\n",
    "ttest_check(smartphone_sub, smart_tv_sub, name1 = 'Smartphone', name2 = 'Smart TV', type = 'баллов подписки')\n",
    "\n",
    "# Smartphone vs Laptop\n",
    "ttest_check(smartphone_sub, laptop_sub, name1 = 'Smartphone', name2 = 'Laptop', type = 'баллов подписки')\n",
    "\n",
    "# Tablet vs Smart TV\n",
    "ttest_check(tablet_sub, smart_tv_sub, name1 = 'Tablet', name2 = 'Smart TV', type = 'баллов подписки')\n",
    "\n",
    "# Tablet vs Laptop\n",
    "ttest_check(tablet_sub, laptop_sub, name1 = 'Tablet', name2 = 'Laptop', type = 'баллов подписки')\n",
    "\n",
    "# Smart TV vs Laptop\n",
    "ttest_check(smart_tv_sub, laptop_sub, name1 = 'Smart TV', name2 = 'Laptop', type = 'баллов подписки')"
   ]
  },
  {
   "cell_type": "markdown",
   "metadata": {},
   "source": [
    "Интересно, что многокомпонентный тест Фишера выявил статистически значимые различия хотя бы в одном месте. Я ожидала, что это будет между Smartphone и Tablet, как в попарном тесте Стьюдента. Однако попарный тест Фишера зафиксировал статистически значимые различия между Tablet и Laptop. Я думаю такие разные результаты могут быть связаны с тем, что тест Стьюдента оценивает различия в средних значениях между двумя группами и чувствителен к выборке с большими дисперсиями. В то время как попарный тест Фишера анализирует статистическую зависимость и может быть менее чувствителен к выбросам и колебаниям в средних значениях, обращая больше внимания на распределение данных и частоты в разных категориях.\n",
    "\n",
    "Наверное, различия в выборках между Tablet и Laptop — это результат более выраженной дисперсии или другого распределения значений дохода, что не так явно проявляется в среднем значении, но становится заметным при анализе частот, который и используется в тесте Фишера."
   ]
  },
  {
   "cell_type": "markdown",
   "metadata": {},
   "source": [
    "**Попарный тест Фишера по возрасту**"
   ]
  },
  {
   "cell_type": "code",
   "execution_count": 190,
   "metadata": {},
   "outputs": [
    {
     "name": "stdout",
     "output_type": "stream",
     "text": [
      "Не была обнаружена статистически значимая зависимость между возрастом и типами устройств Smartphone и Tablet. P-value = 0.10079, χ² = 4.59.\n",
      "Есть статистически значимая зависимость между возрастом от Smartphone и Smart TV, P-value = 0.00126, χ² = 13.35\n",
      "Есть статистически значимая зависимость между возрастом от Smartphone и Laptop, P-value = 0.00198, χ² = 12.45\n",
      "Не была обнаружена статистически значимая зависимость между возрастом и типами устройств Tablet и Smart TV. P-value = 0.18456, χ² = 3.38.\n",
      "Не была обнаружена статистически значимая зависимость между возрастом и типами устройств Tablet и Laptop. P-value = 0.24600, χ² = 2.80.\n",
      "Не была обнаружена статистически значимая зависимость между возрастом и типами устройств Smart TV и Laptop. P-value = 0.98545, χ² = 0.03.\n"
     ]
    }
   ],
   "source": [
    "for device1, device2 in device_pairs:\n",
    "    cross_df = df_analysis[df_analysis['Device'].isin([device1, device2])]\n",
    "    contingency_table = pd.crosstab(cross_df['Device'], cross_df['Age Group'])\n",
    "    two_fisher(contingency_table, dev1 = device1, dev2 = device2, metrics = 'возрастом')"
   ]
  },
  {
   "cell_type": "markdown",
   "metadata": {},
   "source": [
    "**попарый Стьюдент по возрасту**"
   ]
  },
  {
   "cell_type": "code",
   "execution_count": 124,
   "metadata": {},
   "outputs": [
    {
     "name": "stdout",
     "output_type": "stream",
     "text": [
      "Гипотезу о равенстве средних возрастов для Smartphone vs Tablet НЕ ОТВЕРГАЕМ: T-stat = -1.2022511945943066, P-value = 0.22927173810025514\n",
      "Гипотезу о равенстве средних возрастов для Smartphone vs Smart TV ОТВЕРГАЕМ: T-stat = -2.014356654869004, P-value = 0.043977307374081016\n",
      "Гипотезу о равенстве средних возрастов для Smartphone vs Laptop ОТВЕРГАЕМ: T-stat = -2.5415779545145596, P-value = 0.011038260853527871\n",
      "Гипотезу о равенстве средних возрастов для Tablet vs Smart TV НЕ ОТВЕРГАЕМ: T-stat = -0.8152174511050093, P-value = 0.41495162927937723\n",
      "Гипотезу о равенстве средних возрастов для Tablet vs Laptop НЕ ОТВЕРГАЕМ: T-stat = -1.3476639297922544, P-value = 0.17777246583329878\n",
      "Гипотезу о равенстве средних возрастов для Smart TV vs Laptop НЕ ОТВЕРГАЕМ: T-stat = -0.5346466426217451, P-value = 0.59289655918294\n"
     ]
    }
   ],
   "source": [
    "# Попарные сравнения:\n",
    "# Smartphone vs Tablet\n",
    "ttest_check(smartphone_age, tablet_age, name1 = 'Smartphone', name2 = 'Tablet', type = 'возрастов')\n",
    "\n",
    "# Smartphone vs Smart TV\n",
    "ttest_check(smartphone_age, smart_tv_age, name1 = 'Smartphone', name2 = 'Smart TV', type = 'возрастов')\n",
    "\n",
    "# Smartphone vs Laptop\n",
    "ttest_check(smartphone_age, laptop_age, name1 = 'Smartphone', name2 = 'Laptop', type = 'возрастов')\n",
    "\n",
    "# Tablet vs Smart TV\n",
    "ttest_check(tablet_age, smart_tv_age, name1 = 'Tablet', name2 = 'Smart TV', type = 'возрастов')\n",
    "\n",
    "# Tablet vs Laptop\n",
    "ttest_check(tablet_age, laptop_age, name1 = 'Tablet', name2 = 'Laptop', type = 'возрастов')\n",
    "\n",
    "# Smart TV vs Laptop\n",
    "ttest_check(smart_tv_age, laptop_age, name1 = 'Smart TV', name2 = 'Laptop', type = 'возрастов')"
   ]
  },
  {
   "cell_type": "markdown",
   "metadata": {},
   "source": [
    "Для анализа влияния возраста, по данным видим, что попарные тесты Стьюдента и тесты Фишера дали одинаковые результаты, несмотря на то, что в этих тестах я использовала разные подходы. В тесте Стьюдента возраст рассматривался как непрерывная переменная, а в тесте Фишера возраст был заранее разделен на 3 категории (\"18-30\", \"31-50\", \">50\"). Это связано с тем, во - первых, что возраст, разделившись на группы имеет сильные различия между ними. Во - вторых, у нас довольно выраженная разница между возрастными группами, поэтому оба теста (как Стьюдента, так и Фишера) обнаружили те же статистически значимые различия. Например, если различие в среднем возрасте между устройствами (как пример Smartphone и Smart TV) велико, это легко будет обнаружено как при анализе непрерывных данных (Стьюдент), так и при категориальном анализе (Фишер). В - третьих, у нас большой набор данных (в каждой группе довольно большое количество наблюдений)."
   ]
  },
  {
   "cell_type": "markdown",
   "metadata": {},
   "source": [
    "# Постройте точный и эфронов доверительные интервал для выбранных метрик (revenue, subscription, age). Проверьте соответствуют ли эти доверительные интервалы  результатам теста Стьюдента."
   ]
  },
  {
   "cell_type": "code",
   "execution_count": 193,
   "metadata": {},
   "outputs": [
    {
     "name": "stdout",
     "output_type": "stream",
     "text": [
      "Доверительный интервал для Monthly Revenue: (np.float64(12.49221488840069), np.float64(12.51306321187346))\n",
      "Доверительный интервал для Subscription Score: (np.float64(1.9951097839044725), np.float64(2.0051243647213677))\n",
      "Доверительный интервал для Age: (np.float64(38.48821179724431), np.float64(38.57997423383892))\n"
     ]
    }
   ],
   "source": [
    "import numpy as np\n",
    "import pandas as pd\n",
    "from scipy import stats\n",
    "\n",
    "\n",
    "# 1. Расчет точных доверительных интервалов\n",
    "def compute_confidence_intervals(data, confidence=0.95):\n",
    "    # Для нормального распределения\n",
    "    mean = np.mean(data)\n",
    "    std_err = stats.sem(data)  # Стандартная ошибка\n",
    "    interval = stats.t.interval(confidence, len(data)-1, loc=mean, scale=std_err)\n",
    "    \n",
    "    return interval\n",
    "\n",
    "# Применим для метрик\n",
    "revenue_ci = compute_confidence_intervals(df_analysis['Monthly Revenue'].dropna())\n",
    "subscription_ci = compute_confidence_intervals(df_analysis['Subscription Score'].dropna())\n",
    "age_ci = compute_confidence_intervals(df_analysis['Age'].dropna())\n",
    "\n",
    "print(f\"Доверительный интервал для Monthly Revenue: {revenue_ci}\")\n",
    "print(f\"Доверительный интервал для Subscription Score: {subscription_ci}\")\n",
    "print(f\"Доверительный интервал для Age: {age_ci}\")\n"
   ]
  },
  {
   "cell_type": "markdown",
   "metadata": {},
   "source": [
    "Возможные причины и шаги для проверки гипотез:\n",
    "Различия в доходах могут быть не линейно связаны с подписками.\n",
    "\n",
    "Уровень подписки может быть более чувствителен к социальным факторам, привычкам или доступности устройства, чем напрямую к доходу. Проверьте, есть ли дополнительные переменные, которые могли бы объяснить выбор подписки.\n",
    "Низкая мощность теста.\n",
    "\n",
    "Если выборки небольшие или имеют высокую дисперсию, тест Стьюдента может быть недостаточно мощным. Проверьте размер выборки и распределение доходов для каждой категории устройства.\n",
    "Проблема с предположением о нормальности.\n",
    "\n",
    "Тест Стьюдента предполагает нормальное распределение доходов. Если это не так, тест может быть некорректным. Проверьте распределение доходов (например, с помощью гистограммы или теста Шапиро-Уилка).\n",
    "Используйте непараметрические методы.\n",
    "\n",
    "Если распределение доходов сильно отклоняется от нормального, попробуйте непараметрические тесты, такие как тест Манна-Уитни или Краскала-Уоллиса.\n",
    "Корреляция между доходом и типом подписки.\n",
    "\n",
    "Проверьте корреляцию между доходом и уровнем подписки. Для этого можно использовать коэффициенты корреляции (например, Спирмена, если данные не нормальны).\n",
    "Проверьте кросс-факторы.\n",
    "\n",
    "Выполните анализ ANOVA или множественную линейную регрессию, чтобы проверить взаимодействие дохода, устройства и уровня подписки. Это может выявить скрытые связи.\n",
    "\n",
    "Рекомендуемый подход:\n",
    "Визуализация данных. Постройте графики:\n",
    "\n",
    "Boxplot доходов по устройствам.\n",
    "Scatterplot дохода против уровня подписки с категоризацией по устройствам.\n",
    "Повторный тест для дохода.\n",
    "\n",
    "Рассмотрите увеличение размера выборки, если это возможно.\n",
    "Попробуйте тест Краскала-Уоллиса для всех категорий или Манна-Уитни для парных сравнений.\n",
    "Множественный анализ.\n",
    "\n",
    "Проверьте регрессию, где:\n",
    "Зависимая переменная: уровень подписки.\n",
    "Независимые переменные: доход, тип устройства.\n",
    "Учет поправки на множественное тестирование.\n",
    "\n",
    "Если вы тестировали много гипотез, используйте поправки (например, Бонферрони или Holm) для снижения риска ошибок I и II рода.\n",
    "Это должно помочь выявить связь между доходами, устройствами и типом подписки, если она действительно существует."
   ]
  }
 ],
 "metadata": {
  "kernelspec": {
   "display_name": "venv",
   "language": "python",
   "name": "python3"
  },
  "language_info": {
   "codemirror_mode": {
    "name": "ipython",
    "version": 3
   },
   "file_extension": ".py",
   "mimetype": "text/x-python",
   "name": "python",
   "nbconvert_exporter": "python",
   "pygments_lexer": "ipython3",
   "version": "3.12.2"
  }
 },
 "nbformat": 4,
 "nbformat_minor": 2
}
