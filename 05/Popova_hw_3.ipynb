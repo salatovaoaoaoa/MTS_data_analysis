{
  "cells": [
    {
      "cell_type": "markdown",
      "metadata": {
        "id": "ive9kZsYsugz"
      },
      "source": [
        "Уважаемые студенты!\n",
        "\n",
        "Задачи выполняются с помощью стандартных библиотек питона без установки сторонних библиотек. Все задачи направлены на проверку усвоения пройденного материала. Вспомните как работать с библиотекой Pandas.\n",
        "\n",
        "Желаем удачи!"
      ]
    },
    {
      "cell_type": "code",
      "execution_count": 73,
      "metadata": {},
      "outputs": [],
      "source": [
        "import pandas as pd"
      ]
    },
    {
      "cell_type": "markdown",
      "metadata": {
        "id": "trn8NQkq0Dl-"
      },
      "source": [
        "**Задача №1**. **Создание и базовый анализ DataFrame:**\n",
        "\n",
        "- Создайте DataFrame из словаря, где ключи — имена столбцов, а значения — списки данных.\n",
        "- Выполните базовый анализ данных с помощью методов head(), info(), describe() и shape.\n"
      ]
    },
    {
      "cell_type": "code",
      "execution_count": 74,
      "metadata": {
        "id": "ctA20rpC35L6"
      },
      "outputs": [],
      "source": [
        "data = {\n",
        "    'Имя': ['Анна', 'Борис', 'Виктор', 'Галина', 'Дмитрий'],\n",
        "    'Возраст': [23, 30, 35, 29, 40],\n",
        "    'Город': ['Москва', 'Санкт-Петербург', 'Новосибирск', 'Екатеринбург', 'Казань']\n",
        "}\n",
        "\n",
        "df = pd.DataFrame(data)"
      ]
    },
    {
      "cell_type": "markdown",
      "metadata": {},
      "source": [
        "Метод head() - в pandas используется для отображения первых строк DataFrame или Series. Этот метод удобен для быстрого просмотра содержимого таблицы или ряда данных. \n",
        "\n",
        "Имеет параметр n (необязательный, по умолчанию 5): Количество строк, которые нужно отобразить. Если параметр не указан, возвращаются первые 5 строк."
      ]
    },
    {
      "cell_type": "markdown",
      "metadata": {},
      "source": [
        "Если количество строк в DataFrame меньше n, то метод head() вернет все доступные строки."
      ]
    },
    {
      "cell_type": "code",
      "execution_count": 75,
      "metadata": {},
      "outputs": [
        {
          "data": {
            "text/html": [
              "<div>\n",
              "<style scoped>\n",
              "    .dataframe tbody tr th:only-of-type {\n",
              "        vertical-align: middle;\n",
              "    }\n",
              "\n",
              "    .dataframe tbody tr th {\n",
              "        vertical-align: top;\n",
              "    }\n",
              "\n",
              "    .dataframe thead th {\n",
              "        text-align: right;\n",
              "    }\n",
              "</style>\n",
              "<table border=\"1\" class=\"dataframe\">\n",
              "  <thead>\n",
              "    <tr style=\"text-align: right;\">\n",
              "      <th></th>\n",
              "      <th>Имя</th>\n",
              "      <th>Возраст</th>\n",
              "      <th>Город</th>\n",
              "    </tr>\n",
              "  </thead>\n",
              "  <tbody>\n",
              "    <tr>\n",
              "      <th>0</th>\n",
              "      <td>Анна</td>\n",
              "      <td>23</td>\n",
              "      <td>Москва</td>\n",
              "    </tr>\n",
              "    <tr>\n",
              "      <th>1</th>\n",
              "      <td>Борис</td>\n",
              "      <td>30</td>\n",
              "      <td>Санкт-Петербург</td>\n",
              "    </tr>\n",
              "    <tr>\n",
              "      <th>2</th>\n",
              "      <td>Виктор</td>\n",
              "      <td>35</td>\n",
              "      <td>Новосибирск</td>\n",
              "    </tr>\n",
              "    <tr>\n",
              "      <th>3</th>\n",
              "      <td>Галина</td>\n",
              "      <td>29</td>\n",
              "      <td>Екатеринбург</td>\n",
              "    </tr>\n",
              "    <tr>\n",
              "      <th>4</th>\n",
              "      <td>Дмитрий</td>\n",
              "      <td>40</td>\n",
              "      <td>Казань</td>\n",
              "    </tr>\n",
              "  </tbody>\n",
              "</table>\n",
              "</div>"
            ],
            "text/plain": [
              "       Имя  Возраст            Город\n",
              "0     Анна       23           Москва\n",
              "1    Борис       30  Санкт-Петербург\n",
              "2   Виктор       35      Новосибирск\n",
              "3   Галина       29     Екатеринбург\n",
              "4  Дмитрий       40           Казань"
            ]
          },
          "execution_count": 75,
          "metadata": {},
          "output_type": "execute_result"
        }
      ],
      "source": [
        "df.head(10)"
      ]
    },
    {
      "cell_type": "markdown",
      "metadata": {},
      "source": [
        "Метод info() - используется для получения краткой информации о DataFrame. Он помогает быстро понять структуру данных, типы столбцов, количество ненулевых значений и объем занимаемой памяти.\n",
        "\n",
        "Метод выводит:\n",
        "\n",
        "1) Количество записей (строк) в DataFrame.\n",
        "2) Список столбцов с указанием их типов данных (например, int64, float64, object).\n",
        "3) Количество ненулевых значений в каждом столбце.\n",
        "4) Информацию о памяти (если указано).\n",
        "\n",
        "**Параметры:**\n",
        "\n",
        "* verbose (bool, по умолчанию None):\n",
        "\n",
        "    Если True, показывает полную информацию обо всех столбцах.\n",
        "\n",
        "    Если False, отображает краткую информацию (например, только количество столбцов и их названия).\n",
        "\n",
        "    По умолчанию вывод зависит от размера DataFrame.\n",
        "\n",
        "* memory_usage (bool или str, по умолчанию None):\n",
        "\n",
        "    Если True, показывает объем памяти, занимаемый DataFrame.\n",
        "\n",
        "    Если False, информация о памяти не отображается.\n",
        "\n",
        "    Если указать строку 'deep', оценка памяти будет более точной (учитываются объекты, строки и т. д.).\n",
        "\n",
        "* show_counts (bool, по умолчанию None):\n",
        "\n",
        "    Если True, показывает количество ненулевых значений для каждого столбца.\n",
        "\n",
        "    Если False, эта информация скрыта.\n",
        "\n",
        "* buf (WriteBuffer[str], по умолчанию sys.stdout):\n",
        "\n",
        "    Указывает, куда будет направлен вывод.\n",
        "\n",
        "    По умолчанию выводится в консоль.\n",
        "\n",
        "    Можно передать открытый файл или объект, который поддерживает запись (write()), чтобы сохранить информацию в файл или другой поток.\n",
        "\n",
        "* max_cols (int или None, по умолчанию None):\n",
        "\n",
        "    Определяет максимальное количество столбцов, отображаемых в выводе.\n",
        "\n",
        "    Если столбцов больше, чем max_cols, информация об их типах и пропущенных значениях будет скрыта.\n",
        "    \n",
        "    None: Используется значение по умолчанию, которое зависит от ширины экрана (например, 100 столбцов)."
      ]
    },
    {
      "cell_type": "code",
      "execution_count": 76,
      "metadata": {},
      "outputs": [
        {
          "name": "stdout",
          "output_type": "stream",
          "text": [
            "<class 'pandas.core.frame.DataFrame'>\n",
            "RangeIndex: 5 entries, 0 to 4\n",
            "Data columns (total 3 columns):\n",
            " #   Column   Non-Null Count  Dtype \n",
            "---  ------   --------------  ----- \n",
            " 0   Имя      5 non-null      object\n",
            " 1   Возраст  5 non-null      int64 \n",
            " 2   Город    5 non-null      object\n",
            "dtypes: int64(1), object(2)\n",
            "memory usage: 988.0 bytes\n"
          ]
        }
      ],
      "source": [
        "df.info(verbose = True, show_counts = True, memory_usage = \"deep\")"
      ]
    },
    {
      "cell_type": "markdown",
      "metadata": {},
      "source": [
        "Метод describe() - используется для вычисления различных статистик (например, среднего, медианы, стандартного отклонения) для столбцов DataFrame или Series. Он помогает быстро получить общее представление о данных.\n",
        "\n",
        "Что вычисляет describe()?\n",
        "\n",
        " *Для числовых столбцов (int, float):*\n",
        "\n",
        "1) count: Количество ненулевых значений.\n",
        "2) mean: Среднее значение.\n",
        "3) std: Стандартное отклонение.\n",
        "4) min: Минимальное значение.\n",
        "5) 25%, 50%, 75%: Процентили (по умолчанию).\n",
        "6) max: Максимальное значение.\n",
        "\n",
        "*Для строковых/категориальных столбцов:*\n",
        "\n",
        "1) count: Количество ненулевых значений.\n",
        "2) unique: Количество уникальных значений.\n",
        "3) top: Наиболее часто встречающееся значение.\n",
        "4) freq: Частота наиболее часто встречающегося значения.\n",
        "\n",
        "* percentiles (list[float] | None, по умолчанию [0.25, 0.5, 0.75]):\n",
        "\n",
        "    Определяет, какие квантильные значения должны быть вычислены.\n",
        "\n",
        "    Значения должны быть заданы в диапазоне от 0 до 1.\n",
        "\n",
        "    Если параметр равен None, используются квантильные значения по умолчанию: 25%, 50% (медиана) и 75%.\n",
        "\n",
        "* include (list[Dtype] | 'all' | None, по умолчанию None):\n",
        "\n",
        "    Указывает, какие типы данных нужно включить в расчет:\n",
        "\n",
        "    'all': Включает все столбцы, независимо от их типа.\n",
        "\n",
        "    Список типов данных (например, [np.number, 'object']) позволяет указать, какие типы включить.\n",
        "\n",
        "    None: По умолчанию обрабатываются только числовые столбцы (number).\n",
        "\n",
        "* exclude (list[Dtype] | None, по умолчанию None):\n",
        "\n",
        "    Исключает определенные типы данных из расчета.\n",
        "\n",
        "    Полезно, если нужно исключить, например, строковые или категориальные столбцы.\n"
      ]
    },
    {
      "cell_type": "code",
      "execution_count": 77,
      "metadata": {},
      "outputs": [
        {
          "data": {
            "text/html": [
              "<div>\n",
              "<style scoped>\n",
              "    .dataframe tbody tr th:only-of-type {\n",
              "        vertical-align: middle;\n",
              "    }\n",
              "\n",
              "    .dataframe tbody tr th {\n",
              "        vertical-align: top;\n",
              "    }\n",
              "\n",
              "    .dataframe thead th {\n",
              "        text-align: right;\n",
              "    }\n",
              "</style>\n",
              "<table border=\"1\" class=\"dataframe\">\n",
              "  <thead>\n",
              "    <tr style=\"text-align: right;\">\n",
              "      <th></th>\n",
              "      <th>Имя</th>\n",
              "      <th>Возраст</th>\n",
              "      <th>Город</th>\n",
              "    </tr>\n",
              "  </thead>\n",
              "  <tbody>\n",
              "    <tr>\n",
              "      <th>count</th>\n",
              "      <td>5</td>\n",
              "      <td>5.000000</td>\n",
              "      <td>5</td>\n",
              "    </tr>\n",
              "    <tr>\n",
              "      <th>unique</th>\n",
              "      <td>5</td>\n",
              "      <td>NaN</td>\n",
              "      <td>5</td>\n",
              "    </tr>\n",
              "    <tr>\n",
              "      <th>top</th>\n",
              "      <td>Анна</td>\n",
              "      <td>NaN</td>\n",
              "      <td>Москва</td>\n",
              "    </tr>\n",
              "    <tr>\n",
              "      <th>freq</th>\n",
              "      <td>1</td>\n",
              "      <td>NaN</td>\n",
              "      <td>1</td>\n",
              "    </tr>\n",
              "    <tr>\n",
              "      <th>mean</th>\n",
              "      <td>NaN</td>\n",
              "      <td>31.400000</td>\n",
              "      <td>NaN</td>\n",
              "    </tr>\n",
              "    <tr>\n",
              "      <th>std</th>\n",
              "      <td>NaN</td>\n",
              "      <td>6.426508</td>\n",
              "      <td>NaN</td>\n",
              "    </tr>\n",
              "    <tr>\n",
              "      <th>min</th>\n",
              "      <td>NaN</td>\n",
              "      <td>23.000000</td>\n",
              "      <td>NaN</td>\n",
              "    </tr>\n",
              "    <tr>\n",
              "      <th>25%</th>\n",
              "      <td>NaN</td>\n",
              "      <td>29.000000</td>\n",
              "      <td>NaN</td>\n",
              "    </tr>\n",
              "    <tr>\n",
              "      <th>50%</th>\n",
              "      <td>NaN</td>\n",
              "      <td>30.000000</td>\n",
              "      <td>NaN</td>\n",
              "    </tr>\n",
              "    <tr>\n",
              "      <th>75%</th>\n",
              "      <td>NaN</td>\n",
              "      <td>35.000000</td>\n",
              "      <td>NaN</td>\n",
              "    </tr>\n",
              "    <tr>\n",
              "      <th>max</th>\n",
              "      <td>NaN</td>\n",
              "      <td>40.000000</td>\n",
              "      <td>NaN</td>\n",
              "    </tr>\n",
              "  </tbody>\n",
              "</table>\n",
              "</div>"
            ],
            "text/plain": [
              "         Имя    Возраст   Город\n",
              "count      5   5.000000       5\n",
              "unique     5        NaN       5\n",
              "top     Анна        NaN  Москва\n",
              "freq       1        NaN       1\n",
              "mean     NaN  31.400000     NaN\n",
              "std      NaN   6.426508     NaN\n",
              "min      NaN  23.000000     NaN\n",
              "25%      NaN  29.000000     NaN\n",
              "50%      NaN  30.000000     NaN\n",
              "75%      NaN  35.000000     NaN\n",
              "max      NaN  40.000000     NaN"
            ]
          },
          "execution_count": 77,
          "metadata": {},
          "output_type": "execute_result"
        }
      ],
      "source": [
        "df.describe(include = 'all')"
      ]
    },
    {
      "cell_type": "markdown",
      "metadata": {},
      "source": [
        "shape - атрибут объекта DataFrame или Series. Он возвращает кортеж, содержащий количество строк и столбцов в DataFrame (или только количество строк для Series)."
      ]
    },
    {
      "cell_type": "code",
      "execution_count": 78,
      "metadata": {},
      "outputs": [
        {
          "data": {
            "text/plain": [
              "(5, 3)"
            ]
          },
          "execution_count": 78,
          "metadata": {},
          "output_type": "execute_result"
        }
      ],
      "source": [
        "df.shape"
      ]
    },
    {
      "cell_type": "markdown",
      "metadata": {
        "id": "9KbBnRVC4_ug"
      },
      "source": [
        "**Задача №2**. **Работа с индексами и фильтрация:**\n",
        "\n",
        "- Отфильтруйте строки, основываясь на значениях в одном или нескольких столбцах.\n"
      ]
    },
    {
      "cell_type": "code",
      "execution_count": 79,
      "metadata": {
        "id": "MGzLCTNc5gao"
      },
      "outputs": [],
      "source": [
        "data = {\n",
        "    'Имя': ['Анна', 'Борис', 'Виктор', 'Галина', 'Дмитрий'],\n",
        "    'Возраст': [23, 30, 35, 29, 40],\n",
        "    'Город': ['Москва', 'Санкт-Петербург', 'Новосибирск', 'Екатеринбург', 'Казань']\n",
        "}\n",
        "\n",
        "df1 = pd.DataFrame(data)\n"
      ]
    },
    {
      "cell_type": "code",
      "execution_count": 80,
      "metadata": {},
      "outputs": [
        {
          "name": "stdout",
          "output_type": "stream",
          "text": [
            "Отфильтрованный датасет по имени \n",
            "       Имя  Возраст        Город\n",
            "0    Анна       23       Москва\n",
            "2  Виктор       35  Новосибирск\n",
            "Отфильтрованный датасет по возрасту \n",
            "        Имя  Возраст            Город\n",
            "1    Борис       30  Санкт-Петербург\n",
            "2   Виктор       35      Новосибирск\n",
            "4  Дмитрий       40           Казань\n",
            "Отфильтрованный датасет по городу \n",
            "      Имя  Возраст            Город\n",
            "1  Борис       30  Санкт-Петербург\n",
            "Отфильтрованный датасет по имени и по возрасту \n",
            "       Имя  Возраст        Город\n",
            "2  Виктор       35  Новосибирск\n",
            "Отфильтрованный датасет по имени или по городу \n",
            "       Имя  Возраст            Город\n",
            "0    Анна       23           Москва\n",
            "1   Борис       30  Санкт-Петербург\n",
            "2  Виктор       35      Новосибирск\n",
            "Отфильтрованный датасет по возрасту и по городу \n",
            "        Имя  Возраст        Город\n",
            "2   Виктор       35  Новосибирск\n",
            "4  Дмитрий       40       Казань\n",
            "Отфильтрованный датасет по возрасту и по городу и по имени \n",
            "       Имя  Возраст        Город\n",
            "2  Виктор       35  Новосибирск\n"
          ]
        }
      ],
      "source": [
        "# сначала отсортирую только по имени\n",
        "df1_filter_name = df1[df1[\"Имя\"].isin(['Анна', 'Виктор'])]\n",
        "print(f'Отфильтрованный датасет по имени \\n {df1_filter_name}')\n",
        "\n",
        "# только по возрасту\n",
        "df1_filter_age = df1[df1[\"Возраст\"] >= 30]\n",
        "print(f'Отфильтрованный датасет по возрасту \\n {df1_filter_age}')\n",
        "\n",
        "# только по городу\n",
        "df1_filter_city = df1[df1[\"Город\"] == 'Санкт-Петербург']\n",
        "print(f'Отфильтрованный датасет по городу \\n {df1_filter_city}')\n",
        "\n",
        "# по имени и по возрасту\n",
        "df1_filter_name_age = df1[(df1[\"Имя\"].isin(['Анна', 'Виктор']))\n",
        "                          & (df1[\"Возраст\"] > 23)]\n",
        "print(f'Отфильтрованный датасет по имени и по возрасту \\n {df1_filter_name_age}')\n",
        "\n",
        "# по имени или по городу\n",
        "\n",
        "df1_filter_name_city = df1[(df1[\"Имя\"].isin(['Анна', 'Виктор']))\n",
        "                           | (df1[\"Город\"].isin(['Санкт-Петербург', 'Москва']))]\n",
        "print(f'Отфильтрованный датасет по имени или по городу \\n {df1_filter_name_city}')\n",
        "\n",
        "# по возрасту и по городу\n",
        "\n",
        "df1_filter_age_city = df1[(df1[\"Возраст\"] > 23)\n",
        "                          & (df1[\"Город\"].isin(['Новосибирск', 'Москва', 'Казань']))]\n",
        "print(f'Отфильтрованный датасет по возрасту и по городу \\n {df1_filter_age_city}')\n",
        "\n",
        "# по всем трем\n",
        "df1_filter_age_city_name = df1[(df1[\"Возраст\"] >= 30)\n",
        "                               & (df1[\"Город\"].isin(['Новосибирск', 'Санкт-Петербург']))\n",
        "                               & (df1[\"Имя\"] == \"Виктор\")]\n",
        "print(f'Отфильтрованный датасет по возрасту и по городу и по имени \\n {df1_filter_age_city_name}')\n"
      ]
    },
    {
      "cell_type": "markdown",
      "metadata": {
        "id": "_AmVFE8K5yWj"
      },
      "source": [
        "**Задача №3**. **Обработка отсутствующих данных:**\n",
        "\n",
        "  - Заполните отсутствующие значения методом fillna(), используя среднее значение по столбцу.\n",
        "  - Удалите строки с отсутствующими значениями методом dropna().\n"
      ]
    },
    {
      "cell_type": "markdown",
      "metadata": {},
      "source": [
        "**Заполните отсутствующие значения методом fillna(), используя среднее значение по столбцу.**"
      ]
    },
    {
      "cell_type": "code",
      "execution_count": 103,
      "metadata": {
        "id": "dedDwRAw6F8M"
      },
      "outputs": [
        {
          "data": {
            "text/html": [
              "<div>\n",
              "<style scoped>\n",
              "    .dataframe tbody tr th:only-of-type {\n",
              "        vertical-align: middle;\n",
              "    }\n",
              "\n",
              "    .dataframe tbody tr th {\n",
              "        vertical-align: top;\n",
              "    }\n",
              "\n",
              "    .dataframe thead th {\n",
              "        text-align: right;\n",
              "    }\n",
              "</style>\n",
              "<table border=\"1\" class=\"dataframe\">\n",
              "  <thead>\n",
              "    <tr style=\"text-align: right;\">\n",
              "      <th></th>\n",
              "      <th>Имя</th>\n",
              "      <th>Возраст</th>\n",
              "      <th>Город</th>\n",
              "    </tr>\n",
              "  </thead>\n",
              "  <tbody>\n",
              "    <tr>\n",
              "      <th>count</th>\n",
              "      <td>5</td>\n",
              "      <td>3.0</td>\n",
              "      <td>4</td>\n",
              "    </tr>\n",
              "    <tr>\n",
              "      <th>unique</th>\n",
              "      <td>5</td>\n",
              "      <td>NaN</td>\n",
              "      <td>4</td>\n",
              "    </tr>\n",
              "    <tr>\n",
              "      <th>top</th>\n",
              "      <td>Анна</td>\n",
              "      <td>NaN</td>\n",
              "      <td>Москва</td>\n",
              "    </tr>\n",
              "    <tr>\n",
              "      <th>freq</th>\n",
              "      <td>1</td>\n",
              "      <td>NaN</td>\n",
              "      <td>1</td>\n",
              "    </tr>\n",
              "    <tr>\n",
              "      <th>mean</th>\n",
              "      <td>NaN</td>\n",
              "      <td>29.0</td>\n",
              "      <td>NaN</td>\n",
              "    </tr>\n",
              "    <tr>\n",
              "      <th>std</th>\n",
              "      <td>NaN</td>\n",
              "      <td>6.0</td>\n",
              "      <td>NaN</td>\n",
              "    </tr>\n",
              "    <tr>\n",
              "      <th>min</th>\n",
              "      <td>NaN</td>\n",
              "      <td>23.0</td>\n",
              "      <td>NaN</td>\n",
              "    </tr>\n",
              "    <tr>\n",
              "      <th>25%</th>\n",
              "      <td>NaN</td>\n",
              "      <td>26.0</td>\n",
              "      <td>NaN</td>\n",
              "    </tr>\n",
              "    <tr>\n",
              "      <th>50%</th>\n",
              "      <td>NaN</td>\n",
              "      <td>29.0</td>\n",
              "      <td>NaN</td>\n",
              "    </tr>\n",
              "    <tr>\n",
              "      <th>75%</th>\n",
              "      <td>NaN</td>\n",
              "      <td>32.0</td>\n",
              "      <td>NaN</td>\n",
              "    </tr>\n",
              "    <tr>\n",
              "      <th>max</th>\n",
              "      <td>NaN</td>\n",
              "      <td>35.0</td>\n",
              "      <td>NaN</td>\n",
              "    </tr>\n",
              "  </tbody>\n",
              "</table>\n",
              "</div>"
            ],
            "text/plain": [
              "         Имя  Возраст   Город\n",
              "count      5      3.0       4\n",
              "unique     5      NaN       4\n",
              "top     Анна      NaN  Москва\n",
              "freq       1      NaN       1\n",
              "mean     NaN     29.0     NaN\n",
              "std      NaN      6.0     NaN\n",
              "min      NaN     23.0     NaN\n",
              "25%      NaN     26.0     NaN\n",
              "50%      NaN     29.0     NaN\n",
              "75%      NaN     32.0     NaN\n",
              "max      NaN     35.0     NaN"
            ]
          },
          "execution_count": 103,
          "metadata": {},
          "output_type": "execute_result"
        }
      ],
      "source": [
        "import numpy as np\n",
        "\n",
        "data = {\n",
        "    'Имя': ['Анна', 'Борис', 'Виктор', 'Галина', 'Дмитрий'],\n",
        "    'Возраст': [23, np.nan, 35, 29, np.nan],\n",
        "    'Город': ['Москва', 'Санкт-Петербург', 'Новосибирск', None, 'Казань']\n",
        "}\n",
        "\n",
        "df2 = pd.DataFrame(data)\n",
        "df2.describe(include = 'all')"
      ]
    },
    {
      "cell_type": "code",
      "execution_count": 104,
      "metadata": {},
      "outputs": [
        {
          "data": {
            "text/html": [
              "<div>\n",
              "<style scoped>\n",
              "    .dataframe tbody tr th:only-of-type {\n",
              "        vertical-align: middle;\n",
              "    }\n",
              "\n",
              "    .dataframe tbody tr th {\n",
              "        vertical-align: top;\n",
              "    }\n",
              "\n",
              "    .dataframe thead th {\n",
              "        text-align: right;\n",
              "    }\n",
              "</style>\n",
              "<table border=\"1\" class=\"dataframe\">\n",
              "  <thead>\n",
              "    <tr style=\"text-align: right;\">\n",
              "      <th></th>\n",
              "      <th>Имя</th>\n",
              "      <th>Возраст</th>\n",
              "      <th>Город</th>\n",
              "    </tr>\n",
              "  </thead>\n",
              "  <tbody>\n",
              "    <tr>\n",
              "      <th>0</th>\n",
              "      <td>Анна</td>\n",
              "      <td>23</td>\n",
              "      <td>Москва</td>\n",
              "    </tr>\n",
              "    <tr>\n",
              "      <th>1</th>\n",
              "      <td>Борис</td>\n",
              "      <td>29</td>\n",
              "      <td>Санкт-Петербург</td>\n",
              "    </tr>\n",
              "    <tr>\n",
              "      <th>2</th>\n",
              "      <td>Виктор</td>\n",
              "      <td>35</td>\n",
              "      <td>Новосибирск</td>\n",
              "    </tr>\n",
              "    <tr>\n",
              "      <th>3</th>\n",
              "      <td>Галина</td>\n",
              "      <td>29</td>\n",
              "      <td>None</td>\n",
              "    </tr>\n",
              "    <tr>\n",
              "      <th>4</th>\n",
              "      <td>Дмитрий</td>\n",
              "      <td>29</td>\n",
              "      <td>Казань</td>\n",
              "    </tr>\n",
              "  </tbody>\n",
              "</table>\n",
              "</div>"
            ],
            "text/plain": [
              "       Имя  Возраст            Город\n",
              "0     Анна       23           Москва\n",
              "1    Борис       29  Санкт-Петербург\n",
              "2   Виктор       35      Новосибирск\n",
              "3   Галина       29             None\n",
              "4  Дмитрий       29           Казань"
            ]
          },
          "execution_count": 104,
          "metadata": {},
          "output_type": "execute_result"
        }
      ],
      "source": [
        "# для Возраста\n",
        "df2_age_nan = df2.fillna(value={'Возраст': df2['Возраст'].mean()}, inplace=False)\n",
        "df2_age_nan['Возраст'] = df2_age_nan['Возраст'].astype(int)\n",
        "df2_age_nan"
      ]
    },
    {
      "cell_type": "code",
      "execution_count": 105,
      "metadata": {},
      "outputs": [
        {
          "data": {
            "text/plain": [
              "0             Казань\n",
              "1             Москва\n",
              "2        Новосибирск\n",
              "3    Санкт-Петербург\n",
              "Name: Город, dtype: object"
            ]
          },
          "execution_count": 105,
          "metadata": {},
          "output_type": "execute_result"
        }
      ],
      "source": [
        "df2_age_nan['Город'].mode()\n",
        "\n",
        "# он возвращает Казань, потому что в столбце 'Город' все значения уникальны,поэтому pandas рассматривает все города\n",
        "# как уникальные значения. возможно, тут идет как стековое хранение, он положил Казань последнюю, и достал ее первую??"
      ]
    },
    {
      "cell_type": "code",
      "execution_count": 106,
      "metadata": {},
      "outputs": [
        {
          "data": {
            "text/html": [
              "<div>\n",
              "<style scoped>\n",
              "    .dataframe tbody tr th:only-of-type {\n",
              "        vertical-align: middle;\n",
              "    }\n",
              "\n",
              "    .dataframe tbody tr th {\n",
              "        vertical-align: top;\n",
              "    }\n",
              "\n",
              "    .dataframe thead th {\n",
              "        text-align: right;\n",
              "    }\n",
              "</style>\n",
              "<table border=\"1\" class=\"dataframe\">\n",
              "  <thead>\n",
              "    <tr style=\"text-align: right;\">\n",
              "      <th></th>\n",
              "      <th>Имя</th>\n",
              "      <th>Возраст</th>\n",
              "      <th>Город</th>\n",
              "    </tr>\n",
              "  </thead>\n",
              "  <tbody>\n",
              "    <tr>\n",
              "      <th>0</th>\n",
              "      <td>Анна</td>\n",
              "      <td>23</td>\n",
              "      <td>Москва</td>\n",
              "    </tr>\n",
              "    <tr>\n",
              "      <th>1</th>\n",
              "      <td>Борис</td>\n",
              "      <td>29</td>\n",
              "      <td>Санкт-Петербург</td>\n",
              "    </tr>\n",
              "    <tr>\n",
              "      <th>2</th>\n",
              "      <td>Виктор</td>\n",
              "      <td>35</td>\n",
              "      <td>Новосибирск</td>\n",
              "    </tr>\n",
              "    <tr>\n",
              "      <th>3</th>\n",
              "      <td>Галина</td>\n",
              "      <td>29</td>\n",
              "      <td>Казань</td>\n",
              "    </tr>\n",
              "    <tr>\n",
              "      <th>4</th>\n",
              "      <td>Дмитрий</td>\n",
              "      <td>29</td>\n",
              "      <td>Казань</td>\n",
              "    </tr>\n",
              "  </tbody>\n",
              "</table>\n",
              "</div>"
            ],
            "text/plain": [
              "       Имя  Возраст            Город\n",
              "0     Анна       23           Москва\n",
              "1    Борис       29  Санкт-Петербург\n",
              "2   Виктор       35      Новосибирск\n",
              "3   Галина       29           Казань\n",
              "4  Дмитрий       29           Казань"
            ]
          },
          "execution_count": 106,
          "metadata": {},
          "output_type": "execute_result"
        }
      ],
      "source": [
        "# Для города. Поскольку все города уникальны, возьму по mode - самое первое значение\n",
        "\n",
        "df2_age_nan.fillna(value={'Город': df2_age_nan['Город'].mode()[0]}, inplace=True)\n",
        "df2_age_nan"
      ]
    },
    {
      "cell_type": "markdown",
      "metadata": {},
      "source": [
        "**Удалите строки с отсутствующими значениями методом dropna().**"
      ]
    },
    {
      "cell_type": "code",
      "execution_count": 97,
      "metadata": {},
      "outputs": [
        {
          "data": {
            "text/html": [
              "<div>\n",
              "<style scoped>\n",
              "    .dataframe tbody tr th:only-of-type {\n",
              "        vertical-align: middle;\n",
              "    }\n",
              "\n",
              "    .dataframe tbody tr th {\n",
              "        vertical-align: top;\n",
              "    }\n",
              "\n",
              "    .dataframe thead th {\n",
              "        text-align: right;\n",
              "    }\n",
              "</style>\n",
              "<table border=\"1\" class=\"dataframe\">\n",
              "  <thead>\n",
              "    <tr style=\"text-align: right;\">\n",
              "      <th></th>\n",
              "      <th>Имя</th>\n",
              "      <th>Возраст</th>\n",
              "      <th>Город</th>\n",
              "    </tr>\n",
              "  </thead>\n",
              "  <tbody>\n",
              "    <tr>\n",
              "      <th>0</th>\n",
              "      <td>Анна</td>\n",
              "      <td>23.0</td>\n",
              "      <td>Москва</td>\n",
              "    </tr>\n",
              "    <tr>\n",
              "      <th>1</th>\n",
              "      <td>Борис</td>\n",
              "      <td>NaN</td>\n",
              "      <td>Санкт-Петербург</td>\n",
              "    </tr>\n",
              "    <tr>\n",
              "      <th>2</th>\n",
              "      <td>Виктор</td>\n",
              "      <td>35.0</td>\n",
              "      <td>Новосибирск</td>\n",
              "    </tr>\n",
              "    <tr>\n",
              "      <th>3</th>\n",
              "      <td>Галина</td>\n",
              "      <td>29.0</td>\n",
              "      <td>None</td>\n",
              "    </tr>\n",
              "    <tr>\n",
              "      <th>4</th>\n",
              "      <td>Дмитрий</td>\n",
              "      <td>NaN</td>\n",
              "      <td>Казань</td>\n",
              "    </tr>\n",
              "  </tbody>\n",
              "</table>\n",
              "</div>"
            ],
            "text/plain": [
              "       Имя  Возраст            Город\n",
              "0     Анна     23.0           Москва\n",
              "1    Борис      NaN  Санкт-Петербург\n",
              "2   Виктор     35.0      Новосибирск\n",
              "3   Галина     29.0             None\n",
              "4  Дмитрий      NaN           Казань"
            ]
          },
          "execution_count": 97,
          "metadata": {},
          "output_type": "execute_result"
        }
      ],
      "source": [
        "df2"
      ]
    },
    {
      "cell_type": "code",
      "execution_count": 143,
      "metadata": {},
      "outputs": [
        {
          "data": {
            "text/html": [
              "<div>\n",
              "<style scoped>\n",
              "    .dataframe tbody tr th:only-of-type {\n",
              "        vertical-align: middle;\n",
              "    }\n",
              "\n",
              "    .dataframe tbody tr th {\n",
              "        vertical-align: top;\n",
              "    }\n",
              "\n",
              "    .dataframe thead th {\n",
              "        text-align: right;\n",
              "    }\n",
              "</style>\n",
              "<table border=\"1\" class=\"dataframe\">\n",
              "  <thead>\n",
              "    <tr style=\"text-align: right;\">\n",
              "      <th></th>\n",
              "      <th>Имя</th>\n",
              "      <th>Возраст</th>\n",
              "      <th>Город</th>\n",
              "    </tr>\n",
              "  </thead>\n",
              "  <tbody>\n",
              "    <tr>\n",
              "      <th>0</th>\n",
              "      <td>Анна</td>\n",
              "      <td>23</td>\n",
              "      <td>Москва</td>\n",
              "    </tr>\n",
              "    <tr>\n",
              "      <th>2</th>\n",
              "      <td>Виктор</td>\n",
              "      <td>35</td>\n",
              "      <td>Новосибирск</td>\n",
              "    </tr>\n",
              "  </tbody>\n",
              "</table>\n",
              "</div>"
            ],
            "text/plain": [
              "      Имя  Возраст        Город\n",
              "0    Анна       23       Москва\n",
              "2  Виктор       35  Новосибирск"
            ]
          },
          "execution_count": 143,
          "metadata": {},
          "output_type": "execute_result"
        }
      ],
      "source": [
        "df2_drop = df2.dropna()\n",
        "\n",
        "# df2_drop = df2.dropna(subset=['Возраст', 'Город'])\n",
        "# через параметр subset можно указать конкретные столбцы, которые нужно почистить\n",
        "\n",
        "df2_drop = df2_drop.assign(Возраст=df2_drop['Возраст'].astype(int))\n",
        "df2_drop"
      ]
    },
    {
      "cell_type": "markdown",
      "metadata": {
        "id": "wMwOIGdf6Yv0"
      },
      "source": [
        "**Задача №4**. **Группировка и агрегирование данных:**\n",
        "   - Создайте DataFrame из словаря и выполните его группировку по определённым категориям.\n",
        "   - Используйте методы groupby() и agg() для получения суммарных и средних значений по группе."
      ]
    },
    {
      "cell_type": "code",
      "execution_count": 146,
      "metadata": {
        "id": "LwPocVme6q2e"
      },
      "outputs": [
        {
          "data": {
            "text/html": [
              "<div>\n",
              "<style scoped>\n",
              "    .dataframe tbody tr th:only-of-type {\n",
              "        vertical-align: middle;\n",
              "    }\n",
              "\n",
              "    .dataframe tbody tr th {\n",
              "        vertical-align: top;\n",
              "    }\n",
              "\n",
              "    .dataframe thead th {\n",
              "        text-align: right;\n",
              "    }\n",
              "</style>\n",
              "<table border=\"1\" class=\"dataframe\">\n",
              "  <thead>\n",
              "    <tr style=\"text-align: right;\">\n",
              "      <th></th>\n",
              "      <th>Группа</th>\n",
              "      <th>Значение</th>\n",
              "    </tr>\n",
              "  </thead>\n",
              "  <tbody>\n",
              "    <tr>\n",
              "      <th>0</th>\n",
              "      <td>A</td>\n",
              "      <td>10</td>\n",
              "    </tr>\n",
              "    <tr>\n",
              "      <th>1</th>\n",
              "      <td>B</td>\n",
              "      <td>20</td>\n",
              "    </tr>\n",
              "    <tr>\n",
              "      <th>2</th>\n",
              "      <td>A</td>\n",
              "      <td>15</td>\n",
              "    </tr>\n",
              "    <tr>\n",
              "      <th>3</th>\n",
              "      <td>B</td>\n",
              "      <td>25</td>\n",
              "    </tr>\n",
              "    <tr>\n",
              "      <th>4</th>\n",
              "      <td>A</td>\n",
              "      <td>40</td>\n",
              "    </tr>\n",
              "  </tbody>\n",
              "</table>\n",
              "</div>"
            ],
            "text/plain": [
              "  Группа  Значение\n",
              "0      A        10\n",
              "1      B        20\n",
              "2      A        15\n",
              "3      B        25\n",
              "4      A        40"
            ]
          },
          "execution_count": 146,
          "metadata": {},
          "output_type": "execute_result"
        }
      ],
      "source": [
        "data = {\n",
        "    'Группа': ['A', 'B', 'A', 'B', 'A'],\n",
        "    'Значение': [10, 20, 15, 25, 40]\n",
        "}\n",
        "\n",
        "df3 = pd.DataFrame(data)\n",
        "df3"
      ]
    },
    {
      "cell_type": "code",
      "execution_count": 158,
      "metadata": {},
      "outputs": [
        {
          "data": {
            "text/html": [
              "<div>\n",
              "<style scoped>\n",
              "    .dataframe tbody tr th:only-of-type {\n",
              "        vertical-align: middle;\n",
              "    }\n",
              "\n",
              "    .dataframe tbody tr th {\n",
              "        vertical-align: top;\n",
              "    }\n",
              "\n",
              "    .dataframe thead th {\n",
              "        text-align: right;\n",
              "    }\n",
              "</style>\n",
              "<table border=\"1\" class=\"dataframe\">\n",
              "  <thead>\n",
              "    <tr style=\"text-align: right;\">\n",
              "      <th></th>\n",
              "      <th>Сумма</th>\n",
              "      <th>Среднее</th>\n",
              "    </tr>\n",
              "    <tr>\n",
              "      <th>Группа</th>\n",
              "      <th></th>\n",
              "      <th></th>\n",
              "    </tr>\n",
              "  </thead>\n",
              "  <tbody>\n",
              "    <tr>\n",
              "      <th>A</th>\n",
              "      <td>65</td>\n",
              "      <td>21.67</td>\n",
              "    </tr>\n",
              "    <tr>\n",
              "      <th>B</th>\n",
              "      <td>45</td>\n",
              "      <td>22.50</td>\n",
              "    </tr>\n",
              "  </tbody>\n",
              "</table>\n",
              "</div>"
            ],
            "text/plain": [
              "        Сумма  Среднее\n",
              "Группа                \n",
              "A          65    21.67\n",
              "B          45    22.50"
            ]
          },
          "execution_count": 158,
          "metadata": {},
          "output_type": "execute_result"
        }
      ],
      "source": [
        "group_sum_mean = df3.groupby('Группа').agg(\n",
        "    Сумма=('Значение', 'sum'),\n",
        "    Среднее=('Значение', 'mean')\n",
        ")\n",
        "\n",
        "group_sum_mean['Среднее'] = group_sum_mean['Среднее'].round(2)\n",
        "group_sum_mean"
      ]
    },
    {
      "cell_type": "markdown",
      "metadata": {
        "id": "Z9Ashfeo7XDD"
      },
      "source": [
        "**Задача №5**. **Объединение и слияние DataFrame:**\n",
        "   - Создайте два DataFrame из словарей.\n",
        "   - Примените методы merge() и concat(), чтобы объединить эти DataFrame разными способами."
      ]
    },
    {
      "cell_type": "code",
      "execution_count": 159,
      "metadata": {
        "id": "qLx5Srwp7sca"
      },
      "outputs": [
        {
          "name": "stdout",
          "output_type": "stream",
          "text": [
            "     Имя  Возраст\n",
            "0   Анна       23\n",
            "1  Борис       30\n",
            "      Имя  Возраст\n",
            "0  Виктор       35\n",
            "1  Галина       29\n"
          ]
        }
      ],
      "source": [
        "data1 = {\n",
        "    'Имя': ['Анна', 'Борис'],\n",
        "    'Возраст': [23, 30]\n",
        "}\n",
        "\n",
        "data2 = {\n",
        "    'Имя': ['Виктор', 'Галина'],\n",
        "    'Возраст': [35, 29]\n",
        "}\n",
        "\n",
        "df4_1 = pd.DataFrame(data1)\n",
        "print(df4_1)\n",
        "df4_2 = pd.DataFrame(data2)\n",
        "print(df4_2)"
      ]
    },
    {
      "cell_type": "markdown",
      "metadata": {},
      "source": [
        "- merge() используется для соединения по ключевым столбцам (аналогично SQL-операции JOIN)\n",
        "- concat() используется для объединения по строкам (оси 0) или по столбцам (оси 1)"
      ]
    },
    {
      "cell_type": "code",
      "execution_count": 172,
      "metadata": {},
      "outputs": [
        {
          "data": {
            "text/html": [
              "<div>\n",
              "<style scoped>\n",
              "    .dataframe tbody tr th:only-of-type {\n",
              "        vertical-align: middle;\n",
              "    }\n",
              "\n",
              "    .dataframe tbody tr th {\n",
              "        vertical-align: top;\n",
              "    }\n",
              "\n",
              "    .dataframe thead th {\n",
              "        text-align: right;\n",
              "    }\n",
              "</style>\n",
              "<table border=\"1\" class=\"dataframe\">\n",
              "  <thead>\n",
              "    <tr style=\"text-align: right;\">\n",
              "      <th></th>\n",
              "      <th>Имя</th>\n",
              "      <th>Возраст</th>\n",
              "    </tr>\n",
              "  </thead>\n",
              "  <tbody>\n",
              "    <tr>\n",
              "      <th>0</th>\n",
              "      <td>Анна</td>\n",
              "      <td>23</td>\n",
              "    </tr>\n",
              "    <tr>\n",
              "      <th>1</th>\n",
              "      <td>Борис</td>\n",
              "      <td>30</td>\n",
              "    </tr>\n",
              "    <tr>\n",
              "      <th>2</th>\n",
              "      <td>Виктор</td>\n",
              "      <td>35</td>\n",
              "    </tr>\n",
              "    <tr>\n",
              "      <th>3</th>\n",
              "      <td>Галина</td>\n",
              "      <td>29</td>\n",
              "    </tr>\n",
              "  </tbody>\n",
              "</table>\n",
              "</div>"
            ],
            "text/plain": [
              "      Имя  Возраст\n",
              "0    Анна       23\n",
              "1   Борис       30\n",
              "2  Виктор       35\n",
              "3  Галина       29"
            ]
          },
          "execution_count": 172,
          "metadata": {},
          "output_type": "execute_result"
        }
      ],
      "source": [
        "by_concat = pd.concat([df4_1, df4_2], axis=0, ignore_index=True)\n",
        "by_concat"
      ]
    },
    {
      "cell_type": "code",
      "execution_count": 171,
      "metadata": {},
      "outputs": [
        {
          "data": {
            "text/html": [
              "<div>\n",
              "<style scoped>\n",
              "    .dataframe tbody tr th:only-of-type {\n",
              "        vertical-align: middle;\n",
              "    }\n",
              "\n",
              "    .dataframe tbody tr th {\n",
              "        vertical-align: top;\n",
              "    }\n",
              "\n",
              "    .dataframe thead th {\n",
              "        text-align: right;\n",
              "    }\n",
              "</style>\n",
              "<table border=\"1\" class=\"dataframe\">\n",
              "  <thead>\n",
              "    <tr style=\"text-align: right;\">\n",
              "      <th></th>\n",
              "      <th>Имя</th>\n",
              "      <th>Возраст</th>\n",
              "    </tr>\n",
              "  </thead>\n",
              "  <tbody>\n",
              "    <tr>\n",
              "      <th>0</th>\n",
              "      <td>Анна</td>\n",
              "      <td>23</td>\n",
              "    </tr>\n",
              "    <tr>\n",
              "      <th>1</th>\n",
              "      <td>Борис</td>\n",
              "      <td>30</td>\n",
              "    </tr>\n",
              "    <tr>\n",
              "      <th>2</th>\n",
              "      <td>Виктор</td>\n",
              "      <td>35</td>\n",
              "    </tr>\n",
              "    <tr>\n",
              "      <th>3</th>\n",
              "      <td>Галина</td>\n",
              "      <td>29</td>\n",
              "    </tr>\n",
              "  </tbody>\n",
              "</table>\n",
              "</div>"
            ],
            "text/plain": [
              "      Имя  Возраст\n",
              "0    Анна       23\n",
              "1   Борис       30\n",
              "2  Виктор       35\n",
              "3  Галина       29"
            ]
          },
          "execution_count": 171,
          "metadata": {},
          "output_type": "execute_result"
        }
      ],
      "source": [
        "by_merge = pd.merge(left = df4_1, right=df4_2, how='outer')\n",
        "by_merge"
      ]
    },
    {
      "cell_type": "markdown",
      "metadata": {
        "id": "Mgbb4RhI8DIq"
      },
      "source": [
        "**Задача №6**. **Применение функций к данным:**\n",
        "  - Создайте DataFrame из словаря и используйте метод apply() для преобразования данных в колонке \"Возраст\" (например, умножьте все значения на 2)."
      ]
    },
    {
      "cell_type": "code",
      "execution_count": 182,
      "metadata": {
        "id": "bfdw4sGB8VkX"
      },
      "outputs": [
        {
          "data": {
            "text/html": [
              "<div>\n",
              "<style scoped>\n",
              "    .dataframe tbody tr th:only-of-type {\n",
              "        vertical-align: middle;\n",
              "    }\n",
              "\n",
              "    .dataframe tbody tr th {\n",
              "        vertical-align: top;\n",
              "    }\n",
              "\n",
              "    .dataframe thead th {\n",
              "        text-align: right;\n",
              "    }\n",
              "</style>\n",
              "<table border=\"1\" class=\"dataframe\">\n",
              "  <thead>\n",
              "    <tr style=\"text-align: right;\">\n",
              "      <th></th>\n",
              "      <th>Имя</th>\n",
              "      <th>Возраст</th>\n",
              "    </tr>\n",
              "  </thead>\n",
              "  <tbody>\n",
              "    <tr>\n",
              "      <th>0</th>\n",
              "      <td>Анна</td>\n",
              "      <td>23</td>\n",
              "    </tr>\n",
              "    <tr>\n",
              "      <th>1</th>\n",
              "      <td>Борис</td>\n",
              "      <td>30</td>\n",
              "    </tr>\n",
              "    <tr>\n",
              "      <th>2</th>\n",
              "      <td>Виктор</td>\n",
              "      <td>35</td>\n",
              "    </tr>\n",
              "  </tbody>\n",
              "</table>\n",
              "</div>"
            ],
            "text/plain": [
              "      Имя  Возраст\n",
              "0    Анна       23\n",
              "1   Борис       30\n",
              "2  Виктор       35"
            ]
          },
          "execution_count": 182,
          "metadata": {},
          "output_type": "execute_result"
        }
      ],
      "source": [
        "data = {\n",
        "    'Имя': ['Анна', 'Борис', 'Виктор'],\n",
        "    'Возраст': [23, 30, 35]\n",
        "}\n",
        "\n",
        "df6 = pd.DataFrame(data)\n",
        "df6"
      ]
    },
    {
      "cell_type": "code",
      "execution_count": null,
      "metadata": {},
      "outputs": [],
      "source": [
        "df6['Возраст'] = df6['Возраст'].apply(lambda x: x * 3)"
      ]
    },
    {
      "cell_type": "code",
      "execution_count": 184,
      "metadata": {},
      "outputs": [
        {
          "data": {
            "text/html": [
              "<div>\n",
              "<style scoped>\n",
              "    .dataframe tbody tr th:only-of-type {\n",
              "        vertical-align: middle;\n",
              "    }\n",
              "\n",
              "    .dataframe tbody tr th {\n",
              "        vertical-align: top;\n",
              "    }\n",
              "\n",
              "    .dataframe thead th {\n",
              "        text-align: right;\n",
              "    }\n",
              "</style>\n",
              "<table border=\"1\" class=\"dataframe\">\n",
              "  <thead>\n",
              "    <tr style=\"text-align: right;\">\n",
              "      <th></th>\n",
              "      <th>Имя</th>\n",
              "      <th>Возраст</th>\n",
              "    </tr>\n",
              "  </thead>\n",
              "  <tbody>\n",
              "    <tr>\n",
              "      <th>0</th>\n",
              "      <td>Анна</td>\n",
              "      <td>69</td>\n",
              "    </tr>\n",
              "    <tr>\n",
              "      <th>1</th>\n",
              "      <td>Борис</td>\n",
              "      <td>90</td>\n",
              "    </tr>\n",
              "    <tr>\n",
              "      <th>2</th>\n",
              "      <td>Виктор</td>\n",
              "      <td>105</td>\n",
              "    </tr>\n",
              "  </tbody>\n",
              "</table>\n",
              "</div>"
            ],
            "text/plain": [
              "      Имя  Возраст\n",
              "0    Анна       69\n",
              "1   Борис       90\n",
              "2  Виктор      105"
            ]
          },
          "execution_count": 184,
          "metadata": {},
          "output_type": "execute_result"
        }
      ],
      "source": [
        "df6"
      ]
    },
    {
      "cell_type": "markdown",
      "metadata": {
        "id": "iRD3YL7T8ua-"
      },
      "source": [
        "**Задача №7**. **Временные ряды и данные по дате и времени:**\n",
        "  - Создайте DataFrame с временными данными, используя pd.date_range().\n",
        "  - Выполните операции ресемплирования (resample()) для агрегирования данных на основе временных интервалов."
      ]
    },
    {
      "cell_type": "code",
      "execution_count": 194,
      "metadata": {
        "id": "c-OtAlC99NzU"
      },
      "outputs": [
        {
          "data": {
            "text/html": [
              "<div>\n",
              "<style scoped>\n",
              "    .dataframe tbody tr th:only-of-type {\n",
              "        vertical-align: middle;\n",
              "    }\n",
              "\n",
              "    .dataframe tbody tr th {\n",
              "        vertical-align: top;\n",
              "    }\n",
              "\n",
              "    .dataframe thead th {\n",
              "        text-align: right;\n",
              "    }\n",
              "</style>\n",
              "<table border=\"1\" class=\"dataframe\">\n",
              "  <thead>\n",
              "    <tr style=\"text-align: right;\">\n",
              "      <th></th>\n",
              "      <th>Значение</th>\n",
              "    </tr>\n",
              "    <tr>\n",
              "      <th>Дата</th>\n",
              "      <th></th>\n",
              "    </tr>\n",
              "  </thead>\n",
              "  <tbody>\n",
              "    <tr>\n",
              "      <th>2024-01-01</th>\n",
              "      <td>100</td>\n",
              "    </tr>\n",
              "    <tr>\n",
              "      <th>2024-02-01</th>\n",
              "      <td>150</td>\n",
              "    </tr>\n",
              "    <tr>\n",
              "      <th>2024-03-01</th>\n",
              "      <td>200</td>\n",
              "    </tr>\n",
              "    <tr>\n",
              "      <th>2024-04-01</th>\n",
              "      <td>250</td>\n",
              "    </tr>\n",
              "    <tr>\n",
              "      <th>2024-05-01</th>\n",
              "      <td>300</td>\n",
              "    </tr>\n",
              "  </tbody>\n",
              "</table>\n",
              "</div>"
            ],
            "text/plain": [
              "            Значение\n",
              "Дата                \n",
              "2024-01-01       100\n",
              "2024-02-01       150\n",
              "2024-03-01       200\n",
              "2024-04-01       250\n",
              "2024-05-01       300"
            ]
          },
          "execution_count": 194,
          "metadata": {},
          "output_type": "execute_result"
        }
      ],
      "source": [
        "import pandas as pd\n",
        "\n",
        "date_range = pd.date_range('2024-01-01', '2024-05-01', freq='MS')\n",
        "data = {\n",
        "    'Дата': date_range,\n",
        "    'Значение': [100, 150, 200, 250, 300]\n",
        "}\n",
        "\n",
        "df6 = pd.DataFrame(data)\n",
        "df6.set_index('Дата', inplace=True)\n",
        "df6"
      ]
    },
    {
      "cell_type": "code",
      "execution_count": 199,
      "metadata": {},
      "outputs": [
        {
          "name": "stdout",
          "output_type": "stream",
          "text": [
            "\n",
            "ресемплируем по месяцам:\n",
            "            Значение\n",
            "Дата                \n",
            "2024-01-31       100\n",
            "2024-02-29       150\n",
            "2024-03-31       200\n",
            "2024-04-30       250\n",
            "2024-05-31       300\n"
          ]
        }
      ],
      "source": [
        "# по месяцу\n",
        "df_resampled_monthly = df6.resample('ME').sum()\n",
        "print(\"\\nресемплируем по месяцам:\")\n",
        "print(df_resampled_monthly)"
      ]
    },
    {
      "cell_type": "code",
      "execution_count": 201,
      "metadata": {},
      "outputs": [
        {
          "name": "stdout",
          "output_type": "stream",
          "text": [
            "\n",
            "ресемплируем по кварталам:\n",
            "            Значение\n",
            "Дата                \n",
            "2024-03-31       450\n",
            "2024-06-30       550\n"
          ]
        }
      ],
      "source": [
        "# по кварталу\n",
        "df_resampled_quart = df6.resample('QE').sum()\n",
        "print(\"\\nресемплируем по кварталам:\")\n",
        "print(df_resampled_quart)"
      ]
    },
    {
      "cell_type": "code",
      "execution_count": 203,
      "metadata": {},
      "outputs": [
        {
          "name": "stdout",
          "output_type": "stream",
          "text": [
            "\n",
            "ресемплируем по годам:\n",
            "            Значение\n",
            "Дата                \n",
            "2024-12-31      1000\n"
          ]
        }
      ],
      "source": [
        "# по годам\n",
        "df_resampled_year = df6.resample('YE').sum()\n",
        "print(\"\\nресемплируем по годам:\")\n",
        "print(df_resampled_year)"
      ]
    },
    {
      "cell_type": "markdown",
      "metadata": {
        "id": "LXN5g3Rs9c5z"
      },
      "source": [
        "**Задача №8**. **Визуализация данных с помощью Pandas**\n",
        "  - Создайте DataFrame из словаря\n",
        "  - Постройте диаграмму для вашего DataFrame используя matplotlib.pyplot."
      ]
    },
    {
      "cell_type": "code",
      "execution_count": 223,
      "metadata": {
        "id": "l-ozrlsB90Cf"
      },
      "outputs": [
        {
          "data": {
            "image/png": "[encoded data removed]",
            "text/plain": [
              "<Figure size 640x480 with 1 Axes>"
            ]
          },
          "metadata": {},
          "output_type": "display_data"
        }
      ],
      "source": [
        "import matplotlib.pyplot as plt\n",
        "\n",
        "data = {\n",
        "    'Имя': ['Анна', 'Борис', 'Виктор', 'Галина', 'Дмитрий'],\n",
        "    'Возраст': [23, 30, 35, 29, 40]\n",
        "}\n",
        "\n",
        "df7 = pd.DataFrame(data)\n",
        "\n",
        "df.plot(x = 'Имя', y='Возраст', kind='bar', color=plt.cm.plasma(np.linspace(0, 1, len(df))))\n",
        "plt.xticks(rotation=45)\n",
        "plt.title('Возраст для каждого имени')\n",
        "plt.legend().set_visible(False)"
      ]
    }
  ],
  "metadata": {
    "colab": {
      "provenance": []
    },
    "kernelspec": {
      "display_name": "venv",
      "language": "python",
      "name": "python3"
    },
    "language_info": {
      "codemirror_mode": {
        "name": "ipython",
        "version": 3
      },
      "file_extension": ".py",
      "mimetype": "text/x-python",
      "name": "python",
      "nbconvert_exporter": "python",
      "pygments_lexer": "ipython3",
      "version": "3.12.2"
    }
  },
  "nbformat": 4,
  "nbformat_minor": 0
}
