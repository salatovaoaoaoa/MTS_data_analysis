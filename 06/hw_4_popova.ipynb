{
  "cells": [
    {
      "cell_type": "markdown",
      "metadata": {
        "id": "ive9kZsYsugz"
      },
      "source": [
        "Уважаемые студенты!\n",
        "\n",
        "Задачи выполняются с помощью стандартных библиотек питона без установки сторонних библиотек. Все задачи направлены на проверку усвоения пройденного материала. Вспомните как работать с библиотекой numpy.\n",
        "\n",
        "Желаем удачи!"
      ]
    },
    {
      "cell_type": "markdown",
      "metadata": {
        "id": "trn8NQkq0Dl-"
      },
      "source": [
        "**Задача №1**. **Написать формулу которая находит ближайшее значение к переменной x из значений в массиве X:**\n",
        "\n",
        "- Подсказка 1: np.abs, argmin, flat\n",
        "- Подсказка 2: Для значений:\n",
        "> X = np.array([0.24114313, 0.61842813, 0.58509702, 0.73381884, 0.72278527, 0.40846187, 0.36924466, 0.82095236, 0.48059102, 0.29990759])\n",
        ">\n",
        "> x = 0.5\n",
        "> Правильный ответ будет: 0.48059102\n"
      ]
    },
    {
      "cell_type": "code",
      "execution_count": 1,
      "metadata": {},
      "outputs": [],
      "source": [
        "import numpy as np"
      ]
    },
    {
      "cell_type": "code",
      "execution_count": 6,
      "metadata": {
        "id": "ctA20rpC35L6"
      },
      "outputs": [
        {
          "name": "stdout",
          "output_type": "stream",
          "text": [
            "0.58509702\n"
          ]
        }
      ],
      "source": [
        "test_array = np.array([0.24114313, 0.61842813, 0.58509702, 0.73381884, 0.72278527, 0.40846187, 0.36924466, 0.82095236, 0.48059102, 0.29990759])\n",
        "x = 0.6\n",
        "\n",
        "answ = test_array[np.abs(test_array - x).argmin()]\n",
        "print(answ)"
      ]
    },
    {
      "cell_type": "markdown",
      "metadata": {
        "id": "9KbBnRVC4_ug"
      },
      "source": [
        "**Задача №2**. **Какой из следующих массивов является двумерным (2D) массивом?**\n",
        "\n",
        "1. 56\n",
        "2. [[4,6,7], [8,6,8]]\n",
        "3. [4, 6, 7]\n"
      ]
    },
    {
      "cell_type": "code",
      "execution_count": null,
      "metadata": {
        "id": "MGzLCTNc5gao"
      },
      "outputs": [],
      "source": [
        "# Ответ: 2 ([[4,6,7], [8,6,8]])"
      ]
    },
    {
      "cell_type": "markdown",
      "metadata": {
        "id": "_AmVFE8K5yWj"
      },
      "source": [
        "**Задача №3**. **Как правильно сделать print числа 7 из массива:**\n",
        "\n",
        "arr = np.array([[1,2,3,4,5], [6,7,8,9,10]])\n",
        "\n",
        "    1. print(arr[7,2])\n",
        "    2. print(arr[2,0])\n",
        "    3. print(arr[1,1])\n"
      ]
    },
    {
      "cell_type": "code",
      "execution_count": 8,
      "metadata": {},
      "outputs": [
        {
          "name": "stdout",
          "output_type": "stream",
          "text": [
            "7\n"
          ]
        }
      ],
      "source": [
        "arr = np.array([[1,2,3,4,5], [6,7,8,9,10]])\n",
        "print(arr[1,1])"
      ]
    },
    {
      "cell_type": "code",
      "execution_count": null,
      "metadata": {
        "id": "dedDwRAw6F8M"
      },
      "outputs": [],
      "source": [
        "# Ответ: 3 (print(arr[1,1]))"
      ]
    },
    {
      "cell_type": "markdown",
      "metadata": {
        "id": "wMwOIGdf6Yv0"
      },
      "source": [
        "**Задача №4**. **Как правильно сделать массив [3, 4, 5, 6] из массива:**\n",
        "\n",
        "arr = np.array([1,2,3,4,5,6,7,8,9])\n",
        "\n",
        "    1. print(arr[2:6])\n",
        "    2. print(arr[2:5])\n",
        "    3. print(arr[3:6])\n",
        "    4. print(arr[1:6])"
      ]
    },
    {
      "cell_type": "code",
      "execution_count": 7,
      "metadata": {},
      "outputs": [
        {
          "name": "stdout",
          "output_type": "stream",
          "text": [
            "[3 4 5 6]\n"
          ]
        }
      ],
      "source": [
        "arr = np.array([1,2,3,4,5,6,7,8,9])\n",
        "\n",
        "print(arr[2:6])"
      ]
    },
    {
      "cell_type": "code",
      "execution_count": null,
      "metadata": {
        "id": "LwPocVme6q2e"
      },
      "outputs": [],
      "source": [
        "# Ответ: 1 (print(arr[2:6]))"
      ]
    },
    {
      "cell_type": "markdown",
      "metadata": {
        "id": "Z9Ashfeo7XDD"
      },
      "source": [
        "**Задача №5**. **Какое выражение выведет каждый второй элемент из массива:**\n",
        "\n",
        "arr = np.array([1,2,3,4,5,6,7])\n",
        "\n",
        "    1. print(arr[1:3:5:7])\n",
        "    2. print(arr[::2])\n",
        "    3. print(arr(0: step=2))"
      ]
    },
    {
      "cell_type": "code",
      "execution_count": 12,
      "metadata": {},
      "outputs": [
        {
          "name": "stdout",
          "output_type": "stream",
          "text": [
            "[1 3 5 7]\n"
          ]
        }
      ],
      "source": [
        "arr = np.array([1,2,3,4,5,6,7])\n",
        "print(arr[::2])"
      ]
    },
    {
      "cell_type": "code",
      "execution_count": null,
      "metadata": {
        "id": "qLx5Srwp7sca"
      },
      "outputs": [],
      "source": [
        "# Ответ: 2 (print(arr[::2]))"
      ]
    },
    {
      "cell_type": "markdown",
      "metadata": {
        "id": "Mgbb4RhI8DIq"
      },
      "source": [
        "**Задача №6**. **Как правильно сделать массив индексов всех элементов, имеющих значение 4 из массива ниже:**\n",
        "\n",
        "arr = np.array([1,4,3,4,5,4,4])\n",
        "\n",
        "    1. arr.where(4)\n",
        "    2. np.where(arr==4)\n",
        "    3. arr.search(4)"
      ]
    },
    {
      "cell_type": "code",
      "execution_count": 16,
      "metadata": {},
      "outputs": [
        {
          "name": "stdout",
          "output_type": "stream",
          "text": [
            "(array([1, 3, 5, 6]),)\n"
          ]
        }
      ],
      "source": [
        "arr = np.array([1,4,3,4,5,4,4])\n",
        "print(np.where(arr==4))"
      ]
    },
    {
      "cell_type": "code",
      "execution_count": null,
      "metadata": {
        "id": "bfdw4sGB8VkX"
      },
      "outputs": [],
      "source": [
        "# Ответ: 2 (np.where(arr == 4))"
      ]
    },
    {
      "cell_type": "markdown",
      "metadata": {
        "id": "iRD3YL7T8ua-"
      },
      "source": [
        "**Задача №7**. **Написать формулу которая создает матрицу (двумерный массив) 3x3 со значениями от 0 до 8**"
      ]
    },
    {
      "cell_type": "code",
      "execution_count": 18,
      "metadata": {
        "id": "c-OtAlC99NzU"
      },
      "outputs": [
        {
          "name": "stdout",
          "output_type": "stream",
          "text": [
            "[[0 1 2]\n",
            " [3 4 5]\n",
            " [6 7 8]]\n"
          ]
        }
      ],
      "source": [
        "answ = np.arange(9).reshape(3, 3)\n",
        "print(answ)"
      ]
    },
    {
      "cell_type": "markdown",
      "metadata": {
        "id": "LXN5g3Rs9c5z"
      },
      "source": [
        "**Задача №8**. **Используя формулы numpy создать матрицу m с 1 внутри и 0 на границах**\n",
        "\n",
        "Подсказка 1: np.zeros\n",
        "\n",
        "Подсказка 2: матрица будет такая:\n",
        "\n",
        "array([[0., 0., 0., 0., 0.],\n",
        "       [0., 1., 1., 1., 0.],\n",
        "       [0., 1., 1., 1., 0.],\n",
        "       [0., 1., 1., 1., 0.],\n",
        "       [0., 0., 0., 0., 0.]])"
      ]
    },
    {
      "cell_type": "code",
      "execution_count": 25,
      "metadata": {
        "id": "l-ozrlsB90Cf"
      },
      "outputs": [
        {
          "name": "stdout",
          "output_type": "stream",
          "text": [
            "[[0. 0. 0. 0. 0.]\n",
            " [0. 1. 1. 1. 0.]\n",
            " [0. 1. 1. 1. 0.]\n",
            " [0. 1. 1. 1. 0.]\n",
            " [0. 0. 0. 0. 0.]]\n"
          ]
        }
      ],
      "source": [
        "m = np.zeros((5, 5))\n",
        "m[1:-1, 1:-1] = 1\n",
        "print(m)"
      ]
    },
    {
      "cell_type": "markdown",
      "metadata": {
        "id": "dTCNq8ZiCYzg"
      },
      "source": [
        "**Задача №9**. **Создайте вектор размером 10 со значениями в диапазоне от 0 до 1, 0 и 1 не должны быт в этом векторе.**\n",
        "\n",
        "Подсказка: np.linspace"
      ]
    },
    {
      "cell_type": "code",
      "execution_count": 32,
      "metadata": {
        "id": "g04nb6jaCYzh"
      },
      "outputs": [
        {
          "name": "stdout",
          "output_type": "stream",
          "text": [
            "[0.09090909 0.18181818 0.27272727 0.36363636 0.45454545 0.54545455\n",
            " 0.63636364 0.72727273 0.81818182 0.90909091]\n"
          ]
        }
      ],
      "source": [
        "vec = np.linspace(0, 1, 12)[1:-1]\n",
        "print(vec)"
      ]
    },
    {
      "cell_type": "markdown",
      "metadata": {
        "id": "NNsdjzHjChcN"
      },
      "source": [
        "**Задача №10**. **Что выведет код:**\n",
        "\n",
        "a = np.array([[[1,2,3],[4,5,6]]])\n",
        "\n",
        "print(a.ndim)\n",
        "\n",
        "1. 1\n",
        "2. (1,3)\n",
        "3. 3\n",
        "4. (3,1)"
      ]
    },
    {
      "cell_type": "code",
      "execution_count": 33,
      "metadata": {
        "id": "ANo5Nip5ChcO"
      },
      "outputs": [
        {
          "name": "stdout",
          "output_type": "stream",
          "text": [
            "3\n"
          ]
        }
      ],
      "source": [
        "a = np.array([[[1,2,3],[4,5,6]]])\n",
        "print(a.ndim)"
      ]
    },
    {
      "cell_type": "code",
      "execution_count": null,
      "metadata": {},
      "outputs": [],
      "source": [
        "# Ответ: 3, так как у нас массив, в котором один элемент (массив), а внутри этого массива еще два элемента (массива)"
      ]
    },
    {
      "cell_type": "markdown",
      "metadata": {
        "id": "9qo6Vo7sChqO"
      },
      "source": [
        "**Задача №11**. **Что из перечисленного является правильным способом транспонирования матрицы A?**\n",
        "\n",
        "    1. Trans(A)\n",
        "    2. Transpose(A)\n",
        "    3. A.T\n",
        "    4. A.Transpose\n"
      ]
    },
    {
      "cell_type": "code",
      "execution_count": 43,
      "metadata": {
        "id": "2WoP2DziChqP"
      },
      "outputs": [
        {
          "data": {
            "text/plain": [
              "array([[0, 3, 6],\n",
              "       [1, 4, 7],\n",
              "       [2, 5, 8]])"
            ]
          },
          "execution_count": 43,
          "metadata": {},
          "output_type": "execute_result"
        }
      ],
      "source": [
        "mart = np.arange(9).reshape(3, 3)\n",
        "mart.T"
      ]
    },
    {
      "cell_type": "code",
      "execution_count": null,
      "metadata": {},
      "outputs": [],
      "source": [
        "# Ответ: 3"
      ]
    },
    {
      "cell_type": "markdown",
      "metadata": {
        "id": "OX1Xr0cdCiXv"
      },
      "source": [
        "**Задача №12**. **Что выведет print в коде:**\n",
        "\n",
        "a = np.array([1,2,3,4,5])\n",
        "\n",
        "b = np.arange(0,10,2) ([0 2 4 6 8])\n",
        "\n",
        "c = a + b\n",
        "\n",
        "print (c[4])\n"
      ]
    },
    {
      "cell_type": "code",
      "execution_count": null,
      "metadata": {
        "id": "kPwlx-sxCiXw"
      },
      "outputs": [],
      "source": [
        "# Сначала два массива сложаться поэлементно\n",
        "# а потом берем 4ый элемент массива (начиная отсчет с 0)\n",
        "# Ответ: 13"
      ]
    },
    {
      "cell_type": "code",
      "execution_count": 47,
      "metadata": {},
      "outputs": [
        {
          "name": "stdout",
          "output_type": "stream",
          "text": [
            "[0 2 4 6 8]\n",
            "[ 1  4  7 10 13]\n",
            "13\n"
          ]
        }
      ],
      "source": [
        "a = np.array([1,2,3,4,5])\n",
        "\n",
        "b = np.arange(0,10,2)\n",
        "\n",
        "c = a + b\n",
        "\n",
        "print(b)\n",
        "print(c)\n",
        "\n",
        "print (c[4])"
      ]
    }
  ],
  "metadata": {
    "colab": {
      "provenance": []
    },
    "kernelspec": {
      "display_name": "venv",
      "language": "python",
      "name": "python3"
    },
    "language_info": {
      "codemirror_mode": {
        "name": "ipython",
        "version": 3
      },
      "file_extension": ".py",
      "mimetype": "text/x-python",
      "name": "python",
      "nbconvert_exporter": "python",
      "pygments_lexer": "ipython3",
      "version": "3.12.2"
    }
  },
  "nbformat": 4,
  "nbformat_minor": 0
}
