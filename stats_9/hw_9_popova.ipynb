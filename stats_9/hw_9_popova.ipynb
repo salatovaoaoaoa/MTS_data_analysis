{
 "cells": [
  {
   "cell_type": "markdown",
   "metadata": {},
   "source": [
    "Для решения задачи с помощью scipy.optimize можно использовать специальную функцию для решения задач по линейному программированию - **linprog**\n",
    "\n",
    "1. коэфициенты для вектора L (уже приведенного к каноническому виду для минимизации): -2, -3, 0, 1, 0, 0 - это будет целевая функция *c*\n",
    "2. Матрица коэффициентов ограничений (A): [[2, -1, 0, -2, 1, 0]\n",
    "                                          [3, 2, 1, -3, 0, 0]\n",
    "                                          [-1, 3, 0, 4, 0, 1]]\n",
    "\n",
    "3. Вектор правых частей ограничений (свободные члены) (b): [16, 18, 24]\n",
    "\n",
    "Тогда задача сводится к минимизации $c \\cdot x$\n",
    "\n",
    "При $x \\geq 0$ и $A \\cdot x \\leq b$"
   ]
  },
  {
   "cell_type": "code",
   "execution_count": 6,
   "metadata": {},
   "outputs": [
    {
     "name": "stdout",
     "output_type": "stream",
     "text": [
      "Оптимальный базис: [ 0.54545455  8.18181818  0.          0.         23.09090909  0.        ]\n",
      "L: -25.636363636363637\n"
     ]
    }
   ],
   "source": [
    "from scipy.optimize import linprog\n",
    "\n",
    "c = [-2, -3, 0, 1, 0, 0]\n",
    "\n",
    "A = [\n",
    "    [2, -1, 0, -2, 1, 0],\n",
    "    [3, 2, 1, -3, 0, 0],\n",
    "    [-1, 3, 0, 4, 0, 1]\n",
    "]\n",
    "\n",
    "b = [16, 18, 24]\n",
    "\n",
    "answ = linprog(c, A_eq=A, b_eq=b, bounds=[(0, None)] * 6, method='highs')\n",
    "\n",
    "print(\"Оптимальный базис:\", answ.x)\n",
    "print(\"L:\", answ.fun)\n"
   ]
  }
 ],
 "metadata": {
  "kernelspec": {
   "display_name": "venv",
   "language": "python",
   "name": "python3"
  },
  "language_info": {
   "codemirror_mode": {
    "name": "ipython",
    "version": 3
   },
   "file_extension": ".py",
   "mimetype": "text/x-python",
   "name": "python",
   "nbconvert_exporter": "python",
   "pygments_lexer": "ipython3",
   "version": "3.12.6"
  }
 },
 "nbformat": 4,
 "nbformat_minor": 2
}
