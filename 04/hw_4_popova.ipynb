{
  "cells": [
    {
      "cell_type": "markdown",
      "id": "54a3462b-220c-465f-bed2-98f4a7cd0b51",
      "metadata": {
        "id": "54a3462b-220c-465f-bed2-98f4a7cd0b51"
      },
      "source": [
        "## Домашняя работа № 2"
      ]
    },
    {
      "cell_type": "markdown",
      "id": "956576ca-1ebf-4c63-b834-55d05fb77cc5",
      "metadata": {
        "id": "956576ca-1ebf-4c63-b834-55d05fb77cc5"
      },
      "source": [
        "#### Здравствуйте, студенты!\n",
        "Перед вами второе задание курса по Python, направленное на практическое освоение работы с классами и исключениями.\n",
        "Задания предлагаемого блока выполняются последовательно.<br>\n",
        "Чаще всего, для выполнения следующего задания необходимо скопировать код предыдущего и дополнить новыми блоками, но не всегда. Ориентируйтесь сами по логике кода и описанию.<br>\n",
        "\n",
        "Желаем удачи и продуктивного времяпрепровождения!"
      ]
    },
    {
      "cell_type": "markdown",
      "id": "c54de27c",
      "metadata": {},
      "source": [
        "Импорт необходимых библиотек/методов"
      ]
    },
    {
      "cell_type": "code",
      "execution_count": 68,
      "id": "d6ee174b",
      "metadata": {},
      "outputs": [],
      "source": [
        "from abc import ABC, abstractmethod\n",
        "from typing import Callable"
      ]
    },
    {
      "cell_type": "markdown",
      "id": "981dde5e-01cc-4379-a939-28d0708e997c",
      "metadata": {
        "id": "981dde5e-01cc-4379-a939-28d0708e997c"
      },
      "source": [
        "### Задание № 1.\n",
        "\n",
        "Создайте абстрактный класс Figure и объявите у него два абстрактных метода calculate_perimeter, и calculate_area\n",
        "Реализацию методов оставьте пустой."
      ]
    },
    {
      "cell_type": "code",
      "execution_count": 69,
      "id": "5e26949a-03e5-4660-bdef-7931f583a748",
      "metadata": {
        "id": "5e26949a-03e5-4660-bdef-7931f583a748"
      },
      "outputs": [],
      "source": [
        "class Figure(ABC):\n",
        "    @abstractmethod # определяю набор методов которые должны быть во всех наследниках переопределены и реализованы\n",
        "    def calculate_perimeter(self):\n",
        "        ...\n",
        "    \n",
        "    @abstractmethod\n",
        "    def calculate_area(self):\n",
        "        ..."
      ]
    },
    {
      "cell_type": "markdown",
      "id": "4a8b09f7-4dd0-42fb-9e0a-15c0c7f6ff04",
      "metadata": {
        "id": "4a8b09f7-4dd0-42fb-9e0a-15c0c7f6ff04"
      },
      "source": [
        "### Задание № 2.\n",
        "Наследуясь от абстрактного класса Figure создайте классы Rectangle и Tringle со своими инициализаторами. Реализуйте у них абстрактные методы."
      ]
    },
    {
      "cell_type": "code",
      "execution_count": 70,
      "id": "2a2f990f-6f27-4a98-9e39-baf4c02c3dc5",
      "metadata": {
        "id": "2a2f990f-6f27-4a98-9e39-baf4c02c3dc5"
      },
      "outputs": [],
      "source": [
        "class Rectangle(Figure):\n",
        "    \n",
        "    def __init__(self, a, b):\n",
        "        self.a = a\n",
        "        self.b = b\n",
        "\n",
        "    def calculate_perimeter(self):\n",
        "        return 2 * self.a + 2 * self.b\n",
        "    \n",
        "    def calculate_area(self):\n",
        "        return self.a * self.b"
      ]
    },
    {
      "cell_type": "code",
      "execution_count": 71,
      "id": "f830368f-0739-4842-af0d-ac2878bc9b88",
      "metadata": {
        "id": "f830368f-0739-4842-af0d-ac2878bc9b88"
      },
      "outputs": [],
      "source": [
        "class Tringle(Figure):\n",
        "    \n",
        "    def __init__(self, f, s, t):\n",
        "        self.f = f\n",
        "        self.s = s\n",
        "        self.t = t\n",
        "        \n",
        "    def calculate_perimeter(self):\n",
        "        return self.f + self.s + self.t\n",
        "        \n",
        "    def calculate_area(self):\n",
        "        perim = self.calculate_perimeter() / 2\n",
        "        return pow(perim * (perim - self.f) * (perim - self.s) * (perim - self.t), 0.5)"
      ]
    },
    {
      "cell_type": "markdown",
      "id": "d6f61241-de50-42e2-ab53-813150667bd5",
      "metadata": {
        "id": "d6f61241-de50-42e2-ab53-813150667bd5"
      },
      "source": [
        "### Задание № 3.\n",
        "Для класса Rectangle реализуйте метод, позволяющий выводить на печать информацию о конкретном прямоугольнике в формате: Прямоугольник со сторонами <а> и <б> где а и б - длины сторон конкретного прямоугольника.\n",
        "\n",
        "Подобная информация должна выводиться в консоль и при обращении к конкретному прямоугольнику в интерпретаторе.\n",
        "\n",
        "INPUT:<br>\n",
        "rectangle_1 = Rectangle(a=2, b=6)<br>\n",
        "rectangle<br>\n",
        "print(rectangle)\n",
        "\n",
        "OUTPUT:<br>\n",
        "\"Прямоугольник со сторонами 2 и 6\"<br>\n",
        "Прямоугольник со сторонами 2 и 6"
      ]
    },
    {
      "cell_type": "code",
      "execution_count": 72,
      "id": "f79b604c-2285-4ce0-b058-ba8ce945339d",
      "metadata": {
        "id": "f79b604c-2285-4ce0-b058-ba8ce945339d"
      },
      "outputs": [],
      "source": [
        "class Rectangle(Figure):\n",
        "    \n",
        "    def __init__(self, a, b):\n",
        "        self.a = a\n",
        "        self.b = b\n",
        "\n",
        "    def calculate_perimeter(self):\n",
        "        return 2 * self.a + 2 * self.b\n",
        "    \n",
        "    def calculate_area(self):\n",
        "        return self.a * self.b\n",
        "    \n",
        "    def __str__(self) -> str:\n",
        "        return f\"Прямоугольник со сторонами {self.a} и {self.b}\"\n",
        "    \n",
        "    def __repr__(self) -> str:\n",
        "        return self.__str__()"
      ]
    },
    {
      "cell_type": "code",
      "execution_count": 73,
      "id": "71eac59d",
      "metadata": {},
      "outputs": [
        {
          "name": "stdout",
          "output_type": "stream",
          "text": [
            "Прямоугольник со сторонами 2 и 6\n"
          ]
        }
      ],
      "source": [
        "rectangle_1 = Rectangle(a=2, b=6)\n",
        "# rectangle_1\n",
        "print(rectangle_1)"
      ]
    },
    {
      "cell_type": "markdown",
      "id": "ee434d35-429d-493a-af48-fea29c046534",
      "metadata": {
        "id": "ee434d35-429d-493a-af48-fea29c046534"
      },
      "source": [
        "### Задание № 4.\n",
        "Для класса Rectangle реализуйте методы сравнения прямоугольников по их площадям.\n",
        "Сравнение должно поддерживать знаки: равенство, больше, меньше, меньше или равно, больше или равно.\n",
        "\n",
        "<i>Подумайте, сколько и каких методов нужно обязательно реализовать?</i>"
      ]
    },
    {
      "cell_type": "code",
      "execution_count": 74,
      "id": "7d662b33-5a2f-449c-8160-3d0ca3d7f51f",
      "metadata": {
        "id": "7d662b33-5a2f-449c-8160-3d0ca3d7f51f"
      },
      "outputs": [],
      "source": [
        "class Rectangle(Figure):\n",
        "    \n",
        "    def __init__(self, a, b):\n",
        "        self.a = a\n",
        "        self.b = b\n",
        "\n",
        "    def calculate_perimeter(self):\n",
        "        return 2 * self.a + 2 * self.b\n",
        "    \n",
        "    def calculate_area(self):\n",
        "        return self.a * self.b\n",
        "    \n",
        "    def __str__(self) -> str:\n",
        "        return f\"Прямоугольник со сторонами {self.a} и {self.b}\"\n",
        "    \n",
        "    def __repr__(self) -> str:\n",
        "        return self.__str__()\n",
        "    \n",
        "    def _compare_area(self, other, operation):\n",
        "        if isinstance(other, Rectangle):\n",
        "            return operation(self.calculate_area(), other.calculate_area())\n",
        "        else:\n",
        "            raise TypeError(f\"Нельзя сравнить Rectangle с {type(other).__name__}\")\n",
        "    \n",
        "    def __eq__(self, other) -> bool:\n",
        "        return self._compare_area(other, lambda area1, area2: area1 == area2)\n",
        "    \n",
        "    def __gt__(self, other) -> bool:\n",
        "        return self._compare_area(other, lambda area1, area2: area1 > area2)\n",
        "    \n",
        "    def __ge__(self, other) -> bool:\n",
        "        return self._compare_area(other, lambda area1, area2: area1 >= area2)\n",
        "    \n",
        "    def __lt__(self, other) -> bool:\n",
        "        return self._compare_area(other, lambda area1, area2: area1 < area2)\n",
        "    \n",
        "    def __le__(self, other) -> bool:\n",
        "        return self._compare_area(other, lambda area1, area2: area1 <= area2)"
      ]
    },
    {
      "cell_type": "code",
      "execution_count": 75,
      "id": "f25ace87",
      "metadata": {},
      "outputs": [
        {
          "name": "stdout",
          "output_type": "stream",
          "text": [
            "True\n",
            "False\n",
            "True\n",
            "False\n",
            "True\n"
          ]
        }
      ],
      "source": [
        "rectangle_1 = Rectangle(2, 3)\n",
        "rectangle_2 = Rectangle(3, 2)\n",
        "rectangle_3 = Rectangle(4, 1)\n",
        "\n",
        "print(rectangle_1 == rectangle_2)\n",
        "print(rectangle_1 < rectangle_3)\n",
        "print(rectangle_1 > rectangle_3)\n",
        "print(rectangle_1 <= rectangle_3)\n",
        "print(rectangle_1 >= rectangle_3)"
      ]
    },
    {
      "cell_type": "markdown",
      "id": "61300a49-868c-448f-8d00-c8ec3aa50e2e",
      "metadata": {
        "id": "61300a49-868c-448f-8d00-c8ec3aa50e2e"
      },
      "source": [
        "### Задание № 5.\n",
        "Для класса Rectangle добавьте метод сложения.\n",
        "В результате сложения должен возвращаться новый экземпляр класса Rectangle с длинами сторон a + a, b + b родительских прямоугольников.\n",
        "\n",
        "INPUT:<br>\n",
        "rectangle_1 = Rectangle(a=2, b=6)<br>\n",
        "rectangle_2 = Rectangle(a=1, b=3)<br>\n",
        "rectangle_3 = rectangle_1 + rectangle_2<br>\n",
        "rectangle_3.a<br>\n",
        "rectangle_3.b\n",
        "\n",
        "OUTPUT:<br>\n",
        "3<br>\n",
        "9"
      ]
    },
    {
      "cell_type": "code",
      "execution_count": 76,
      "id": "5261ac2f-9f62-43c8-afe6-ceb776a0af90",
      "metadata": {
        "id": "5261ac2f-9f62-43c8-afe6-ceb776a0af90"
      },
      "outputs": [],
      "source": [
        "class Rectangle(Figure):\n",
        "    \n",
        "    def __init__(self, a, b):\n",
        "        self.a = a\n",
        "        self.b = b\n",
        "\n",
        "    def calculate_perimeter(self):\n",
        "        return 2 * self.a + 2 * self.b\n",
        "    \n",
        "    def calculate_area(self):\n",
        "        return self.a * self.b\n",
        "    \n",
        "    # print\n",
        "    def __str__(self) -> str:\n",
        "        return f\"Прямоугольник со сторонами {self.a} и {self.b}\"\n",
        "    \n",
        "    def __repr__(self) -> str:\n",
        "        return self.__str__()\n",
        "    \n",
        "    # операторы сравнения\n",
        "    def compare_area(self, other, operation):\n",
        "        if isinstance(other, Rectangle):\n",
        "            return operation(self.calculate_area(), other.calculate_area())\n",
        "        else:\n",
        "            raise TypeError(f\"Нельзя сравнить Rectangle с {type(other).__name__}\")\n",
        "    \n",
        "    def __eq__(self, other) -> bool:\n",
        "        return self.compare_area(other, lambda area1, area2: area1 == area2)\n",
        "    \n",
        "    def __gt__(self, other) -> bool:\n",
        "        return self.compare_area(other, lambda area1, area2: area1 > area2)\n",
        "    \n",
        "    def __ge__(self, other) -> bool:\n",
        "        return self.compare_area(other, lambda area1, area2: area1 >= area2)\n",
        "    \n",
        "    def __lt__(self, other) -> bool:\n",
        "        return self.compare_area(other, lambda area1, area2: area1 < area2)\n",
        "    \n",
        "    def __le__(self, other) -> bool:\n",
        "        return self.compare_area(other, lambda area1, area2: area1 <= area2)\n",
        "    \n",
        "    # оператор сложения\n",
        "    \n",
        "    def _math_operation(self, other, operation: Callable):\n",
        "        if isinstance(other, Rectangle):\n",
        "            res_a, res_b = operation(self.a, other.a), operation(self.b, other.b)\n",
        "            return Rectangle(res_a, res_b)\n",
        "        else:\n",
        "            raise TypeError(f\"Операция не поддерживается для Rectangle и {type(other).__name__}\")\n",
        "    \n",
        "    def __add__(self, other) -> float:\n",
        "        return self._math_operation(other, lambda x, y: x + y)"
      ]
    },
    {
      "cell_type": "code",
      "execution_count": 77,
      "id": "864d1644",
      "metadata": {},
      "outputs": [
        {
          "name": "stdout",
          "output_type": "stream",
          "text": [
            "3\n",
            "9\n"
          ]
        }
      ],
      "source": [
        "rectangle_1 = Rectangle(a=2, b=6)\n",
        "rectangle_2 = Rectangle(a=1, b=3)\n",
        "rectangle_3 = rectangle_1 + rectangle_2\n",
        "print(rectangle_3.a)\n",
        "print(rectangle_3.b)"
      ]
    },
    {
      "cell_type": "markdown",
      "id": "80154754-3c7e-4eac-b48f-0c411dc8179e",
      "metadata": {
        "id": "80154754-3c7e-4eac-b48f-0c411dc8179e"
      },
      "source": [
        "### Задание № 6.\n",
        "Для класса Rectangle добавьте метод вычитания.\n",
        "В результате вычитания должен возвращаться новвый экземпляр класса Rectangle с длинами сторон a - a, b - b родительских прямоугольников.\n",
        "\n",
        "<i>Обратите внимание! Если одна из длин сторон оказывается отрицательной или равна 0 - должно вызываться исключение ValueError с сообщением об ошибке: Длины сторон прямоугольника должны быть положительными!</i>\n",
        "\n",
        "INPUT:<br>\n",
        "rectangle_1 = Rectangle(a=2, b=6)<br>\n",
        "rectangle_2 = Rectangle(a=1, b=3)<br>\n",
        "rectangle_3 = rectangle_1 - rectangle_2<br>\n",
        "rectangle_3.a<br>\n",
        "rectangle_3.b\n",
        "\n",
        "OUTPUT:<br>\n",
        "1<br>\n",
        "3\n",
        "\n",
        "INPUT:<br>\n",
        "rectangle_1 = Rectangle(a=2, b=6)<br>\n",
        "rectangle_2 = Rectangle(a=3, b=5)<br>\n",
        "rectangle_3 = rectangle_1 - rectangle_2<br>\n",
        "\n",
        "OUTPUT:<br>\n",
        "ValueError: Длины сторон прямоугольника должны быть положительными!"
      ]
    },
    {
      "cell_type": "code",
      "execution_count": 78,
      "id": "29b628fe-bb57-496e-813d-d5ee90186060",
      "metadata": {
        "id": "29b628fe-bb57-496e-813d-d5ee90186060"
      },
      "outputs": [],
      "source": [
        "class Rectangle(Figure):\n",
        "    \n",
        "    def __init__(self, a, b):\n",
        "        self.a = a\n",
        "        self.b = b\n",
        "\n",
        "    def calculate_perimeter(self):\n",
        "        return 2 * self.a + 2 * self.b\n",
        "    \n",
        "    def calculate_area(self):\n",
        "        return self.a * self.b\n",
        "    \n",
        "    # print\n",
        "    def __str__(self) -> str:\n",
        "        return f\"Прямоугольник со сторонами {self.a} и {self.b}\"\n",
        "    \n",
        "    def __repr__(self) -> str:\n",
        "        return self.__str__()\n",
        "    \n",
        "    # операторы сравнения\n",
        "    def compare_area(self, other, operation):\n",
        "        if isinstance(other, Rectangle):\n",
        "            return operation(self.calculate_area(), other.calculate_area())\n",
        "        else:\n",
        "            raise TypeError(f\"Нельзя сравнить Rectangle с {type(other).__name__}\")\n",
        "    \n",
        "    def __eq__(self, other) -> bool:\n",
        "        return self.compare_area(other, lambda area1, area2: area1 == area2)\n",
        "    \n",
        "    def __gt__(self, other) -> bool:\n",
        "        return self.compare_area(other, lambda area1, area2: area1 > area2)\n",
        "    \n",
        "    def __ge__(self, other) -> bool:\n",
        "        return self.compare_area(other, lambda area1, area2: area1 >= area2)\n",
        "    \n",
        "    def __lt__(self, other) -> bool:\n",
        "        return self.compare_area(other, lambda area1, area2: area1 < area2)\n",
        "    \n",
        "    def __le__(self, other) -> bool:\n",
        "        return self.compare_area(other, lambda area1, area2: area1 <= area2)\n",
        "    \n",
        "    # оператор сложения\n",
        "    \n",
        "    def _math_operation(self, other, operation: Callable):\n",
        "        if isinstance(other, Rectangle):\n",
        "            res_a, res_b = operation(self.a, other.a), operation(self.b, other.b)\n",
        "            if res_a <= 0 or res_b <= 0:\n",
        "                raise ValueError('Длины сторон прямоугольника должны быть положительными!')\n",
        "            return Rectangle(res_a, res_b)\n",
        "        else:\n",
        "            raise TypeError(f\"Операция не поддерживается для Rectangle и {type(other).__name__}\")\n",
        "    \n",
        "    def __add__(self, other) -> float:\n",
        "        return self._math_operation(other, lambda x, y: x + y)\n",
        "    \n",
        "    # оператор вычитания\n",
        "    \n",
        "    def __sub__(self, other) -> float:\n",
        "        return self._math_operation(other, lambda x, y: x - y)"
      ]
    },
    {
      "cell_type": "code",
      "execution_count": 79,
      "id": "1af0b8cd",
      "metadata": {},
      "outputs": [
        {
          "name": "stdout",
          "output_type": "stream",
          "text": [
            "1\n",
            "3\n"
          ]
        }
      ],
      "source": [
        "rectangle_1 = Rectangle(a=2, b=6)\n",
        "rectangle_2 = Rectangle(a=1, b=3)\n",
        "rectangle_3 = rectangle_1 - rectangle_2\n",
        "print(rectangle_3.a)\n",
        "print(rectangle_3.b)\n",
        "\n",
        "# 1\n",
        "# 3\n",
        "\n",
        "# rectangle_1 = Rectangle(a=2, b=6)\n",
        "# rectangle_2 = Rectangle(a=3, b=5)\n",
        "# rectangle_3 = rectangle_1 - rectangle_2\n",
        "\n",
        "# ValueError: Длины сторон прямоугольника должны быть положительными!"
      ]
    },
    {
      "cell_type": "markdown",
      "id": "6fbf7658-9e97-4766-bb9d-42de7e0ea491",
      "metadata": {
        "id": "6fbf7658-9e97-4766-bb9d-42de7e0ea491"
      },
      "source": [
        "### Задание № 7.\n",
        "Создайте собственный класс исключения, возвращающий сообщение об ошибке: Длины сторон прямоугольника должны быть положительными!\n",
        "И замените вызов исключения в классе Rectangle на самописный."
      ]
    },
    {
      "cell_type": "code",
      "execution_count": 80,
      "id": "ccc27fe1-45a7-4877-9f02-efc07852354e",
      "metadata": {
        "id": "ccc27fe1-45a7-4877-9f02-efc07852354e"
      },
      "outputs": [],
      "source": [
        "class RectangleException(Exception):\n",
        "    \n",
        "    def __init__(self):\n",
        "        super().__init__(\"Длины сторон прямоугольника должны быть положительными!\")"
      ]
    },
    {
      "cell_type": "code",
      "execution_count": 81,
      "id": "f9118ac2",
      "metadata": {},
      "outputs": [],
      "source": [
        "class Rectangle(Figure):\n",
        "    \n",
        "    def __init__(self, a, b):\n",
        "        self.a = a\n",
        "        self.b = b\n",
        "\n",
        "    def calculate_perimeter(self):\n",
        "        return 2 * self.a + 2 * self.b\n",
        "    \n",
        "    def calculate_area(self):\n",
        "        return self.a * self.b\n",
        "    \n",
        "    # print\n",
        "    def __str__(self) -> str:\n",
        "        return f\"Прямоугольник со сторонами {self.a} и {self.b}\"\n",
        "    \n",
        "    def __repr__(self) -> str:\n",
        "        return self.__str__()\n",
        "    \n",
        "    # операторы сравнения\n",
        "    def compare_area(self, other, operation):\n",
        "        if isinstance(other, Rectangle):\n",
        "            return operation(self.calculate_area(), other.calculate_area())\n",
        "        else:\n",
        "            raise TypeError(f\"Нельзя сравнить Rectangle с {type(other).__name__}\")\n",
        "    \n",
        "    def __eq__(self, other) -> bool:\n",
        "        return self.compare_area(other, lambda area1, area2: area1 == area2)\n",
        "    \n",
        "    def __gt__(self, other) -> bool:\n",
        "        return self.compare_area(other, lambda area1, area2: area1 > area2)\n",
        "    \n",
        "    def __ge__(self, other) -> bool:\n",
        "        return self.compare_area(other, lambda area1, area2: area1 >= area2)\n",
        "    \n",
        "    def __lt__(self, other) -> bool:\n",
        "        return self.compare_area(other, lambda area1, area2: area1 < area2)\n",
        "    \n",
        "    def __le__(self, other) -> bool:\n",
        "        return self.compare_area(other, lambda area1, area2: area1 <= area2)\n",
        "    \n",
        "    # оператор сложения\n",
        "    \n",
        "    def _math_operation(self, other, operation: Callable):\n",
        "        if isinstance(other, Rectangle):\n",
        "            res_a, res_b = operation(self.a, other.a), operation(self.b, other.b)\n",
        "            if res_a <= 0 or res_b <= 0:\n",
        "                raise RectangleException()\n",
        "            return Rectangle(res_a, res_b)\n",
        "        else:\n",
        "            raise TypeError(f\"Операция не поддерживается для Rectangle и {type(other).__name__}\")\n",
        "    \n",
        "    def __add__(self, other) -> float:\n",
        "        return self._math_operation(other, lambda x, y: x + y)\n",
        "    \n",
        "    # оператор вычитания\n",
        "    \n",
        "    def __sub__(self, other) -> float:\n",
        "        return self._math_operation(other, lambda x, y: x - y)"
      ]
    },
    {
      "cell_type": "code",
      "execution_count": 82,
      "id": "3199c4bb",
      "metadata": {},
      "outputs": [
        {
          "name": "stdout",
          "output_type": "stream",
          "text": [
            "1\n",
            "3\n"
          ]
        }
      ],
      "source": [
        "rectangle_1 = Rectangle(a=2, b=6)\n",
        "rectangle_2 = Rectangle(a=1, b=3)\n",
        "rectangle_3 = rectangle_1 - rectangle_2\n",
        "print(rectangle_3.a)\n",
        "print(rectangle_3.b)\n",
        "\n",
        "# 1\n",
        "# 3\n",
        "\n",
        "# rectangle_1 = Rectangle(a=2, b=6)\n",
        "# rectangle_2 = Rectangle(a=3, b=5)\n",
        "# rectangle_3 = rectangle_1 - rectangle_2\n",
        "\n",
        "# ValueError: Длины сторон прямоугольника должны быть положительными!"
      ]
    },
    {
      "cell_type": "markdown",
      "id": "f4f5bc97-1062-474e-af26-68d2fbd54b5a",
      "metadata": {
        "id": "f4f5bc97-1062-474e-af26-68d2fbd54b5a"
      },
      "source": [
        "### Задание № 8.\n",
        "Проведем рефакторинг кода и добавим валидацию с вызовом исключения в инициализатор класса в случае, если кто-то пытается создать прямоугольник с 0 или отрицательным значекнием стороны.\n",
        "\n",
        "INPUT:<br>\n",
        "wrong_rectangle = Rectangle(a=0, b=8) <br>\n",
        "wrong_rectangle_2 = Rectangle(a=-5, b=5) <br>\n",
        "\n",
        "OUTPUT: <br>\n",
        "<ИмяВашейОшибки>: Длины сторон прямоугольника должны быть положительными! <br>\n",
        "<ИмяВашейОшибки>: Длины сторон прямоугольника должны быть положительными!"
      ]
    },
    {
      "cell_type": "code",
      "execution_count": 83,
      "id": "46e1b8b9",
      "metadata": {},
      "outputs": [],
      "source": [
        "class Rectangle(Figure):\n",
        "    \n",
        "    def __init__(self, a, b):\n",
        "        \n",
        "        if a <= 0 or b <= 0:\n",
        "            raise RectangleException()\n",
        "\n",
        "        self.a = a\n",
        "        self.b = b\n",
        "\n",
        "    def calculate_perimeter(self):\n",
        "        return 2 * self.a + 2 * self.b\n",
        "    \n",
        "    def calculate_area(self):\n",
        "        return self.a * self.b\n",
        "    \n",
        "    # print\n",
        "    def __str__(self) -> str:\n",
        "        return f\"Прямоугольник со сторонами {self.a} и {self.b}\"\n",
        "    \n",
        "    def __repr__(self) -> str:\n",
        "        return self.__str__()\n",
        "    \n",
        "    # операторы сравнения\n",
        "    def compare_area(self, other, operation):\n",
        "        if isinstance(other, self.__class__):\n",
        "            return operation(self.calculate_area(), other.calculate_area())\n",
        "        else:\n",
        "            raise TypeError(f\"Нельзя сравнить {self.__class__} с {type(other).__name__}\")\n",
        "    \n",
        "    def __eq__(self, other) -> bool:\n",
        "        return self.compare_area(other, lambda area1, area2: area1 == area2)\n",
        "    \n",
        "    def __gt__(self, other) -> bool:\n",
        "        return self.compare_area(other, lambda area1, area2: area1 > area2)\n",
        "    \n",
        "    def __ge__(self, other) -> bool:\n",
        "        return self.compare_area(other, lambda area1, area2: area1 >= area2)\n",
        "    \n",
        "    def __lt__(self, other) -> bool:\n",
        "        return self.compare_area(other, lambda area1, area2: area1 < area2)\n",
        "    \n",
        "    def __le__(self, other) -> bool:\n",
        "        return self.compare_area(other, lambda area1, area2: area1 <= area2)\n",
        "    \n",
        "    # оператор сложения\n",
        "    \n",
        "    def _math_operation(self, other, operation: Callable):\n",
        "        if not isinstance(other, Rectangle):\n",
        "            raise TypeError(f\"Операция не поддерживается для Rectangle и {type(other).__name__}\")\n",
        "\n",
        "        res_a, res_b = operation(self.a, other.a), operation(self.b, other.b)\n",
        "        if res_a <= 0 or res_b <= 0:\n",
        "            raise RectangleException()\n",
        "        return Rectangle(res_a, res_b)\n",
        "\n",
        "    def __add__(self, other) -> float:\n",
        "        return self._math_operation(other, lambda x, y: x + y)\n",
        "    \n",
        "    # оператор вычитания\n",
        "    \n",
        "    def __sub__(self, other) -> float:\n",
        "        return self._math_operation(other, lambda x, y: x - y)"
      ]
    },
    {
      "cell_type": "code",
      "execution_count": 84,
      "id": "626dad8d",
      "metadata": {},
      "outputs": [],
      "source": [
        "# wrong_rectangle = Rectangle(a=0, b=8)\n",
        "# wrong_rectangle_2 = Rectangle(a=-5, b=5)"
      ]
    },
    {
      "cell_type": "markdown",
      "id": "4ececa98-f495-4753-ad1f-7c997acf153a",
      "metadata": {
        "id": "4ececa98-f495-4753-ad1f-7c997acf153a"
      },
      "source": [
        "### Задание № 9.\n",
        "Создайте класс Square(Квадрат), унаследовав его от класса прямоугольник.\n",
        "\n",
        "Класс должен принимать длину только одной стороны,\n",
        "\n",
        "Убедитесь, что все унаследованные методы работают корректно.\n",
        "\n",
        "При необходимости проведите рефакторинг методов, используя ключевое слово super()"
      ]
    },
    {
      "cell_type": "code",
      "execution_count": 85,
      "id": "b52c7095",
      "metadata": {},
      "outputs": [],
      "source": [
        "class SquareException(Exception):\n",
        "    \n",
        "    def __init__(self):\n",
        "        super().__init__(\"Длина стороны квадрата должна быть положительной!\")"
      ]
    },
    {
      "cell_type": "code",
      "execution_count": 86,
      "id": "45f20fd4-4e65-4261-babb-a9495dd1f06b",
      "metadata": {
        "id": "45f20fd4-4e65-4261-babb-a9495dd1f06b"
      },
      "outputs": [],
      "source": [
        "class Square(Rectangle):\n",
        "    \n",
        "    def __init__(self, sq):\n",
        "        if sq <= 0:\n",
        "            raise SquareException()\n",
        "\n",
        "        super().__init__(sq, sq)\n",
        "        \n",
        "    def __str__(self) -> str:\n",
        "        return f\"Квадрат со стороной {self.a}\"\n",
        "\n",
        "    def _math_operation(self, other, operation: Callable):\n",
        "        if not isinstance(other, Square):\n",
        "            raise TypeError(f\"Операция не поддерживается для Square и {type(other).__name__}\")\n",
        "\n",
        "        res_a = operation(self.a, other.a)\n",
        "        if res_a <= 0:\n",
        "            raise SquareException()\n",
        "\n",
        "        return Square(res_a)\n",
        "\n"
      ]
    },
    {
      "cell_type": "code",
      "execution_count": 87,
      "id": "bb812bf7",
      "metadata": {},
      "outputs": [
        {
          "data": {
            "text/plain": [
              "True"
            ]
          },
          "execution_count": 87,
          "metadata": {},
          "output_type": "execute_result"
        }
      ],
      "source": [
        "__a = Square(2)\n",
        "__b = Square(2)\n",
        "__a == __b"
      ]
    },
    {
      "cell_type": "code",
      "execution_count": 88,
      "id": "41ee4d2a",
      "metadata": {},
      "outputs": [
        {
          "data": {
            "text/plain": [
              "Квадрат со стороной 10"
            ]
          },
          "execution_count": 88,
          "metadata": {},
          "output_type": "execute_result"
        }
      ],
      "source": [
        "square_1 = Square(sq=10)\n",
        "square_1\n",
        "# print(square_1)"
      ]
    },
    {
      "cell_type": "code",
      "execution_count": 89,
      "id": "20f091eb",
      "metadata": {},
      "outputs": [
        {
          "name": "stdout",
          "output_type": "stream",
          "text": [
            "True\n",
            "True\n",
            "True\n",
            "True\n",
            "False\n"
          ]
        }
      ],
      "source": [
        "square_1 = Square(2)\n",
        "square_1_1 = Square(2)\n",
        "square_2 = Square(4)\n",
        "square_3 = Square(5)\n",
        "\n",
        "print(square_1 == square_1_1)\n",
        "print(square_1 < square_2)\n",
        "print(square_3 > square_2)\n",
        "print(square_1 <= square_1_1)\n",
        "print(square_2 >= square_3)"
      ]
    },
    {
      "cell_type": "code",
      "execution_count": 90,
      "id": "eab69114",
      "metadata": {},
      "outputs": [
        {
          "name": "stdout",
          "output_type": "stream",
          "text": [
            "5\n",
            "5\n"
          ]
        }
      ],
      "source": [
        "sq_1 = Square(2)\n",
        "sq_2 = Square(3)\n",
        "sq_3 = sq_1 + sq_2\n",
        "print(sq_3.a)\n",
        "print(sq_3.b)"
      ]
    },
    {
      "cell_type": "code",
      "execution_count": 91,
      "id": "05f93406",
      "metadata": {},
      "outputs": [],
      "source": [
        "# squa_1 = Square(5)\n",
        "# squa_2 = Square(2)\n",
        "# squa_3 = squa_1 - squa_2\n",
        "# print(squa_3.a)\n",
        "# print(squa_3.b)\n",
        "\n",
        "# 3\n",
        "# 3\n",
        "\n",
        "# squa_1 = Square(5)\n",
        "# squa_2 = Square(2)\n",
        "# squa_3 = squa_2 - squa_1\n",
        "# print(squa_3.a)\n",
        "# print(squa_3.b)\n",
        "\n",
        "# Error: Длины сторон квадрата должны быть положительными!"
      ]
    },
    {
      "cell_type": "code",
      "execution_count": 92,
      "id": "711cf22f",
      "metadata": {},
      "outputs": [],
      "source": [
        "# wrong_square = Square(sq=-1)"
      ]
    },
    {
      "cell_type": "markdown",
      "id": "0d1d9b3a-9e4d-445d-8126-280c4f201b8e",
      "metadata": {
        "id": "0d1d9b3a-9e4d-445d-8126-280c4f201b8e"
      },
      "source": [
        "### Задание № 10.\n",
        "Придумайте, как можно сделать так, чтобы площадь и периметр Прямоугольника вычислялись только один раз, а при последующих вызовах метода - возвращался полученный ранее результат? Реализуйте свою задумку."
      ]
    },
    {
      "cell_type": "code",
      "execution_count": 93,
      "id": "14fd2e6c",
      "metadata": {},
      "outputs": [],
      "source": [
        "class Rectangle(Figure):\n",
        "    \n",
        "    def __init__(self, a, b):\n",
        "        \n",
        "        if a <= 0 or b <= 0:\n",
        "            raise RectangleException()\n",
        "\n",
        "        self.a = a\n",
        "        self.b = b\n",
        "        \n",
        "        self._cached_calculate_area = None\n",
        "        self._cached_calculate_perimeter = None\n",
        "\n",
        "    def calculate_perimeter(self):\n",
        "        if self._cached_calculate_perimeter is None:\n",
        "            self._cached_calculate_perimeter = 2 * self.a + 2 * self.b\n",
        "        return self._cached_calculate_perimeter\n",
        "    \n",
        "    def calculate_area(self):\n",
        "        if self._cached_calculate_area is None:\n",
        "            self._cached_calculate_area = self.a * self.b\n",
        "        return self._cached_calculate_area\n",
        "    \n",
        "    # print\n",
        "    def __str__(self) -> str:\n",
        "        return f\"Прямоугольник со сторонами {self.a} и {self.b}\"\n",
        "    \n",
        "    def __repr__(self) -> str:\n",
        "        return self.__str__()\n",
        "    \n",
        "    # операторы сравнения\n",
        "    def compare_area(self, other, operation):\n",
        "        if isinstance(other, self.__class__):\n",
        "            return operation(self.calculate_area(), other.calculate_area())\n",
        "        else:\n",
        "            raise TypeError(f\"Нельзя сравнить {self.__class__} с {type(other).__name__}\")\n",
        "    \n",
        "    def __eq__(self, other) -> bool:\n",
        "        return self.compare_area(other, lambda area1, area2: area1 == area2)\n",
        "    \n",
        "    def __gt__(self, other) -> bool:\n",
        "        return self.compare_area(other, lambda area1, area2: area1 > area2)\n",
        "    \n",
        "    def __ge__(self, other) -> bool:\n",
        "        return self.compare_area(other, lambda area1, area2: area1 >= area2)\n",
        "    \n",
        "    def __lt__(self, other) -> bool:\n",
        "        return self.compare_area(other, lambda area1, area2: area1 < area2)\n",
        "    \n",
        "    def __le__(self, other) -> bool:\n",
        "        return self.compare_area(other, lambda area1, area2: area1 <= area2)\n",
        "    \n",
        "    # оператор сложения\n",
        "    \n",
        "    def _math_operation(self, other, operation: Callable):\n",
        "        if not isinstance(other, Rectangle):\n",
        "            raise TypeError(f\"Операция не поддерживается для Rectangle и {type(other).__name__}\")\n",
        "\n",
        "        res_a, res_b = operation(self.a, other.a), operation(self.b, other.b)\n",
        "        if res_a <= 0 or res_b <= 0:\n",
        "            raise RectangleException()\n",
        "        return Rectangle(res_a, res_b)\n",
        "\n",
        "    def __add__(self, other) -> float:\n",
        "        return self._math_operation(other, lambda x, y: x + y)\n",
        "    \n",
        "    # оператор вычитания\n",
        "    \n",
        "    def __sub__(self, other) -> float:\n",
        "        return self._math_operation(other, lambda x, y: x - y)"
      ]
    },
    {
      "cell_type": "markdown",
      "id": "1de17772-04ca-4ec4-b950-335f909577d4",
      "metadata": {
        "id": "1de17772-04ca-4ec4-b950-335f909577d4"
      },
      "source": [
        "### Задание № 11.\n",
        "Защитите параметры длин сторон от прямого изменения через точку.\n",
        "\n",
        "INPUT:<br>\n",
        "rectangle = Rectangle(a=2, b=6)<br>\n",
        "rectangle.a # 2<br>\n",
        "rectangle.a = 5<br>\n",
        "\n",
        "OUTPUT:<br>\n",
        "AttributeError: property 'a' of 'Rectangle' object has no setter"
      ]
    },
    {
      "cell_type": "code",
      "execution_count": 94,
      "id": "39966e88-1231-44bd-8646-049fa4757770",
      "metadata": {
        "id": "39966e88-1231-44bd-8646-049fa4757770"
      },
      "outputs": [],
      "source": [
        "class Rectangle(Figure):\n",
        "    \n",
        "    def __init__(self, a, b):\n",
        "        \n",
        "        if a <= 0 or b <= 0:\n",
        "            raise RectangleException()\n",
        "\n",
        "        self.__a = a\n",
        "        self.__b = b\n",
        "        \n",
        "        self._cached_calculate_area = None\n",
        "        self._cached_calculate_perimeter = None\n",
        "\n",
        "    @property\n",
        "    def a(self):\n",
        "        return self.__a\n",
        "    \n",
        "    @property\n",
        "    def b(self):\n",
        "        return self.__b\n",
        "\n",
        "    def calculate_perimeter(self):\n",
        "        if self._cached_calculate_perimeter is None:\n",
        "            self._cached_calculate_perimeter = 2 * self.__a + 2 * self.__b\n",
        "        return self._cached_calculate_perimeter\n",
        "    \n",
        "    def calculate_area(self):\n",
        "        if self._cached_calculate_area is None:\n",
        "            self._cached_calculate_area = self.__a * self.__b\n",
        "        return self._cached_calculate_area\n",
        "    \n",
        "    # print\n",
        "    def __str__(self) -> str:\n",
        "        return f\"Прямоугольник со сторонами {self.__a} и {self.__b}\"\n",
        "    \n",
        "    def __repr__(self) -> str:\n",
        "        return self.__str__()\n",
        "    \n",
        "    # операторы сравнения\n",
        "    def compare_area(self, other, operation):\n",
        "        if isinstance(other, self.__class__):\n",
        "            return operation(self.calculate_area(), other.calculate_area())\n",
        "        else:\n",
        "            raise TypeError(f\"Нельзя сравнить {self.__class__} с {type(other).__name__}\")\n",
        "    \n",
        "    def __eq__(self, other) -> bool:\n",
        "        return self.compare_area(other, lambda area1, area2: area1 == area2)\n",
        "    \n",
        "    def __gt__(self, other) -> bool:\n",
        "        return self.compare_area(other, lambda area1, area2: area1 > area2)\n",
        "    \n",
        "    def __ge__(self, other) -> bool:\n",
        "        return self.compare_area(other, lambda area1, area2: area1 >= area2)\n",
        "    \n",
        "    def __lt__(self, other) -> bool:\n",
        "        return self.compare_area(other, lambda area1, area2: area1 < area2)\n",
        "    \n",
        "    def __le__(self, other) -> bool:\n",
        "        return self.compare_area(other, lambda area1, area2: area1 <= area2)\n",
        "    \n",
        "    # оператор сложения\n",
        "    \n",
        "    def _math_operation(self, other, operation: Callable):\n",
        "        if not isinstance(other, Rectangle):\n",
        "            raise TypeError(f\"Операция не поддерживается для Rectangle и {type(other).__name__}\")\n",
        "\n",
        "        res_a, res_b = operation(self.__a, other.__a), operation(self.__b, other.__b)\n",
        "        if res_a <= 0 or res_b <= 0:\n",
        "            raise RectangleException()\n",
        "        return Rectangle(res_a, res_b)\n",
        "\n",
        "    def __add__(self, other) -> float:\n",
        "        return self._math_operation(other, lambda x, y: x + y)\n",
        "    \n",
        "    # оператор вычитания\n",
        "    \n",
        "    def __sub__(self, other) -> float:\n",
        "        return self._math_operation(other, lambda x, y: x - y)"
      ]
    },
    {
      "cell_type": "code",
      "execution_count": 95,
      "id": "87dcbb26",
      "metadata": {},
      "outputs": [],
      "source": [
        "rectangle = Rectangle(a=2, b=6)\n",
        "\n",
        "# rectangle.a = 5\n",
        "# rectangle\n",
        "\n",
        "# OUTPUT:\n",
        "# AttributeError: property 'a' of 'Rectangle' object has no setter"
      ]
    }
  ],
  "metadata": {
    "colab": {
      "provenance": []
    },
    "kernelspec": {
      "display_name": "venv",
      "language": "python",
      "name": "python3"
    },
    "language_info": {
      "codemirror_mode": {
        "name": "ipython",
        "version": 3
      },
      "file_extension": ".py",
      "mimetype": "text/x-python",
      "name": "python",
      "nbconvert_exporter": "python",
      "pygments_lexer": "ipython3",
      "version": "3.12.2"
    }
  },
  "nbformat": 4,
  "nbformat_minor": 5
}
