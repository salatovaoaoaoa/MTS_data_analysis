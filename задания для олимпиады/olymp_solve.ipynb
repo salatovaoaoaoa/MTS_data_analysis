{
 "cells": [
  {
   "cell_type": "code",
   "execution_count": 54,
   "metadata": {},
   "outputs": [],
   "source": [
    "import pandas as pd\n",
    "from scipy.stats import ks_2samp\n",
    "from scipy.stats import kstest\n",
    "import matplotlib.pyplot as plt\n",
    "import seaborn as sns\n",
    "from scipy.stats import chi2_contingency"
   ]
  },
  {
   "cell_type": "code",
   "execution_count": 55,
   "metadata": {},
   "outputs": [],
   "source": [
    "df = pd.read_csv('/Users/tatianasalamatova/reps/MTS_data_analysis/opymp/human_stats.csv',sep = ';')\n",
    "df['age_years'] = df['age'] // 365"
   ]
  },
  {
   "cell_type": "code",
   "execution_count": 56,
   "metadata": {},
   "outputs": [
    {
     "data": {
      "text/html": [
       "<div>\n",
       "<style scoped>\n",
       "    .dataframe tbody tr th:only-of-type {\n",
       "        vertical-align: middle;\n",
       "    }\n",
       "\n",
       "    .dataframe tbody tr th {\n",
       "        vertical-align: top;\n",
       "    }\n",
       "\n",
       "    .dataframe thead th {\n",
       "        text-align: right;\n",
       "    }\n",
       "</style>\n",
       "<table border=\"1\" class=\"dataframe\">\n",
       "  <thead>\n",
       "    <tr style=\"text-align: right;\">\n",
       "      <th></th>\n",
       "      <th>id</th>\n",
       "      <th>age</th>\n",
       "      <th>gender</th>\n",
       "      <th>height</th>\n",
       "      <th>weight</th>\n",
       "      <th>ap_hi</th>\n",
       "      <th>ap_lo</th>\n",
       "      <th>cholesterol</th>\n",
       "      <th>gluc</th>\n",
       "      <th>smoke</th>\n",
       "      <th>alco</th>\n",
       "      <th>active</th>\n",
       "      <th>cardio</th>\n",
       "      <th>age_years</th>\n",
       "    </tr>\n",
       "  </thead>\n",
       "  <tbody>\n",
       "    <tr>\n",
       "      <th>0</th>\n",
       "      <td>0</td>\n",
       "      <td>18393</td>\n",
       "      <td>2</td>\n",
       "      <td>168</td>\n",
       "      <td>62.0</td>\n",
       "      <td>110</td>\n",
       "      <td>80</td>\n",
       "      <td>1</td>\n",
       "      <td>1</td>\n",
       "      <td>0</td>\n",
       "      <td>0</td>\n",
       "      <td>1</td>\n",
       "      <td>0</td>\n",
       "      <td>50</td>\n",
       "    </tr>\n",
       "    <tr>\n",
       "      <th>1</th>\n",
       "      <td>1</td>\n",
       "      <td>20228</td>\n",
       "      <td>1</td>\n",
       "      <td>156</td>\n",
       "      <td>85.0</td>\n",
       "      <td>140</td>\n",
       "      <td>90</td>\n",
       "      <td>3</td>\n",
       "      <td>1</td>\n",
       "      <td>0</td>\n",
       "      <td>0</td>\n",
       "      <td>1</td>\n",
       "      <td>1</td>\n",
       "      <td>55</td>\n",
       "    </tr>\n",
       "    <tr>\n",
       "      <th>2</th>\n",
       "      <td>2</td>\n",
       "      <td>18857</td>\n",
       "      <td>1</td>\n",
       "      <td>165</td>\n",
       "      <td>64.0</td>\n",
       "      <td>130</td>\n",
       "      <td>70</td>\n",
       "      <td>3</td>\n",
       "      <td>1</td>\n",
       "      <td>0</td>\n",
       "      <td>0</td>\n",
       "      <td>0</td>\n",
       "      <td>1</td>\n",
       "      <td>51</td>\n",
       "    </tr>\n",
       "    <tr>\n",
       "      <th>3</th>\n",
       "      <td>3</td>\n",
       "      <td>17623</td>\n",
       "      <td>2</td>\n",
       "      <td>169</td>\n",
       "      <td>82.0</td>\n",
       "      <td>150</td>\n",
       "      <td>100</td>\n",
       "      <td>1</td>\n",
       "      <td>1</td>\n",
       "      <td>0</td>\n",
       "      <td>0</td>\n",
       "      <td>1</td>\n",
       "      <td>1</td>\n",
       "      <td>48</td>\n",
       "    </tr>\n",
       "    <tr>\n",
       "      <th>4</th>\n",
       "      <td>4</td>\n",
       "      <td>17474</td>\n",
       "      <td>1</td>\n",
       "      <td>156</td>\n",
       "      <td>56.0</td>\n",
       "      <td>100</td>\n",
       "      <td>60</td>\n",
       "      <td>1</td>\n",
       "      <td>1</td>\n",
       "      <td>0</td>\n",
       "      <td>0</td>\n",
       "      <td>0</td>\n",
       "      <td>0</td>\n",
       "      <td>47</td>\n",
       "    </tr>\n",
       "    <tr>\n",
       "      <th>...</th>\n",
       "      <td>...</td>\n",
       "      <td>...</td>\n",
       "      <td>...</td>\n",
       "      <td>...</td>\n",
       "      <td>...</td>\n",
       "      <td>...</td>\n",
       "      <td>...</td>\n",
       "      <td>...</td>\n",
       "      <td>...</td>\n",
       "      <td>...</td>\n",
       "      <td>...</td>\n",
       "      <td>...</td>\n",
       "      <td>...</td>\n",
       "      <td>...</td>\n",
       "    </tr>\n",
       "    <tr>\n",
       "      <th>69995</th>\n",
       "      <td>99993</td>\n",
       "      <td>19240</td>\n",
       "      <td>2</td>\n",
       "      <td>168</td>\n",
       "      <td>76.0</td>\n",
       "      <td>120</td>\n",
       "      <td>80</td>\n",
       "      <td>1</td>\n",
       "      <td>1</td>\n",
       "      <td>1</td>\n",
       "      <td>0</td>\n",
       "      <td>1</td>\n",
       "      <td>0</td>\n",
       "      <td>52</td>\n",
       "    </tr>\n",
       "    <tr>\n",
       "      <th>69996</th>\n",
       "      <td>99995</td>\n",
       "      <td>22601</td>\n",
       "      <td>1</td>\n",
       "      <td>158</td>\n",
       "      <td>126.0</td>\n",
       "      <td>140</td>\n",
       "      <td>90</td>\n",
       "      <td>2</td>\n",
       "      <td>2</td>\n",
       "      <td>0</td>\n",
       "      <td>0</td>\n",
       "      <td>1</td>\n",
       "      <td>1</td>\n",
       "      <td>61</td>\n",
       "    </tr>\n",
       "    <tr>\n",
       "      <th>69997</th>\n",
       "      <td>99996</td>\n",
       "      <td>19066</td>\n",
       "      <td>2</td>\n",
       "      <td>183</td>\n",
       "      <td>105.0</td>\n",
       "      <td>180</td>\n",
       "      <td>90</td>\n",
       "      <td>3</td>\n",
       "      <td>1</td>\n",
       "      <td>0</td>\n",
       "      <td>1</td>\n",
       "      <td>0</td>\n",
       "      <td>1</td>\n",
       "      <td>52</td>\n",
       "    </tr>\n",
       "    <tr>\n",
       "      <th>69998</th>\n",
       "      <td>99998</td>\n",
       "      <td>22431</td>\n",
       "      <td>1</td>\n",
       "      <td>163</td>\n",
       "      <td>72.0</td>\n",
       "      <td>135</td>\n",
       "      <td>80</td>\n",
       "      <td>1</td>\n",
       "      <td>2</td>\n",
       "      <td>0</td>\n",
       "      <td>0</td>\n",
       "      <td>0</td>\n",
       "      <td>1</td>\n",
       "      <td>61</td>\n",
       "    </tr>\n",
       "    <tr>\n",
       "      <th>69999</th>\n",
       "      <td>99999</td>\n",
       "      <td>20540</td>\n",
       "      <td>1</td>\n",
       "      <td>170</td>\n",
       "      <td>72.0</td>\n",
       "      <td>120</td>\n",
       "      <td>80</td>\n",
       "      <td>2</td>\n",
       "      <td>1</td>\n",
       "      <td>0</td>\n",
       "      <td>0</td>\n",
       "      <td>1</td>\n",
       "      <td>0</td>\n",
       "      <td>56</td>\n",
       "    </tr>\n",
       "  </tbody>\n",
       "</table>\n",
       "<p>70000 rows × 14 columns</p>\n",
       "</div>"
      ],
      "text/plain": [
       "          id    age  gender  height  weight  ap_hi  ap_lo  cholesterol  gluc  \\\n",
       "0          0  18393       2     168    62.0    110     80            1     1   \n",
       "1          1  20228       1     156    85.0    140     90            3     1   \n",
       "2          2  18857       1     165    64.0    130     70            3     1   \n",
       "3          3  17623       2     169    82.0    150    100            1     1   \n",
       "4          4  17474       1     156    56.0    100     60            1     1   \n",
       "...      ...    ...     ...     ...     ...    ...    ...          ...   ...   \n",
       "69995  99993  19240       2     168    76.0    120     80            1     1   \n",
       "69996  99995  22601       1     158   126.0    140     90            2     2   \n",
       "69997  99996  19066       2     183   105.0    180     90            3     1   \n",
       "69998  99998  22431       1     163    72.0    135     80            1     2   \n",
       "69999  99999  20540       1     170    72.0    120     80            2     1   \n",
       "\n",
       "       smoke  alco  active  cardio  age_years  \n",
       "0          0     0       1       0         50  \n",
       "1          0     0       1       1         55  \n",
       "2          0     0       0       1         51  \n",
       "3          0     0       1       1         48  \n",
       "4          0     0       0       0         47  \n",
       "...      ...   ...     ...     ...        ...  \n",
       "69995      1     0       1       0         52  \n",
       "69996      0     0       1       1         61  \n",
       "69997      0     1       0       1         52  \n",
       "69998      0     0       0       1         61  \n",
       "69999      0     0       1       0         56  \n",
       "\n",
       "[70000 rows x 14 columns]"
      ]
     },
     "execution_count": 56,
     "metadata": {},
     "output_type": "execute_result"
    }
   ],
   "source": [
    "df"
   ]
  },
  {
   "cell_type": "markdown",
   "metadata": {},
   "source": [
    "# Вопрос №1"
   ]
  },
  {
   "cell_type": "markdown",
   "metadata": {},
   "source": [
    "На основе результатов теста Колмогорова-Смирнова проверьте нормальность распределения возрастов для двух групп: людей с заболеваниями сердца и без заболеваний сердца. Какой вывод можно сделать на основе полученных данных?\n",
    "\n",
    "__Варианты ответов__:\n",
    "* Распределения возрастов для обеих групп нормальные.\n",
    "* Распределения возрастов для обеих групп не нормальные. (ВЕРНЫЙ)\n",
    "* Распределение возраста для группы с заболеваниями сердца нормальное, а для группы без заболеваний сердца — ненормальное.\n",
    "* Распределение возраста для группы с заболеваниями сердца ненормальное, а для группы без заболеваний сердца — нормальное."
   ]
  },
  {
   "cell_type": "code",
   "execution_count": 57,
   "metadata": {},
   "outputs": [
    {
     "name": "stdout",
     "output_type": "stream",
     "text": [
      "Для группы с заболеваниями сердца: статистика = 0.0708, p-значение = 0.0000\n",
      "Для группы без заболеваний сердца: статистика = 0.0594, p-значение = 0.0000\n"
     ]
    }
   ],
   "source": [
    "group_with_cardio = df[df['cardio'] == 1]['age']\n",
    "group_without_cardio = df[df['cardio'] == 0]['age']\n",
    "\n",
    "# Проверка нормальности распределения для каждой группы с помощью критерия Колмогорова-Смиронова\n",
    "stat_with_cardio, p_value_with_cardio = kstest(group_with_cardio, 'norm', args=(group_with_cardio.mean(), group_with_cardio.std()))\n",
    "stat_without_cardio, p_value_without_cardio = kstest(group_without_cardio, 'norm', args=(group_without_cardio.mean(), group_without_cardio.std()))\n",
    "\n",
    "# Выводим результаты\n",
    "print(f\"Для группы с заболеваниями сердца: статистика = {stat_with_cardio:.4f}, p-значение = {p_value_with_cardio:.4f}\")\n",
    "print(f\"Для группы без заболеваний сердца: статистика = {stat_without_cardio:.4f}, p-значение = {p_value_without_cardio:.4f}\")"
   ]
  },
  {
   "cell_type": "markdown",
   "metadata": {},
   "source": [
    "Как показывают результаты теста, распределения возраста для обеих групп не являются нормальными."
   ]
  },
  {
   "cell_type": "markdown",
   "metadata": {},
   "source": [
    "# Вопрос №2 \n",
    "\n",
    "На основе данных о возрасте людей с заболеваниями сердца и без заболеваний сердца, проведите проверку гипотезы о равенстве распределений возрастов в этих группах с использованием непараметрического критерия Колмогорова-Смирнова. Какой вывод можно сделать на основе полученных результатов?\n",
    "\n",
    "__Варианты ответов__:\n",
    "\n",
    "* Гипотеза о равенстве распределений отвергается, возрастные распределения различаются. (ВЕРНЫЙ)\n",
    "* Гипотеза о равенстве распределений не отвергается, возрастные распределения одинаковы.\n",
    "* Не удается определить различия в распределении возрастов между группами с использованием критерия Колмогорова-Смирнова."
   ]
  },
  {
   "cell_type": "code",
   "execution_count": 58,
   "metadata": {},
   "outputs": [
    {
     "name": "stdout",
     "output_type": "stream",
     "text": [
      "KS-Statistic: 0.19536468175985688\n",
      "P-value: 0.0\n",
      "Гипотеза о равенстве распределений отвергается\n"
     ]
    }
   ],
   "source": [
    "# Применим критерий Колмогорова-Смирнова для проверки равенства распределений\n",
    "ks_stat, p_value = ks_2samp(group_with_cardio, group_without_cardio)\n",
    "\n",
    "print(f\"KS-Statistic: {ks_stat}\")\n",
    "print(f\"P-value: {p_value}\")\n",
    "\n",
    "# Проверка гипотезы\n",
    "if p_value < 0.05:\n",
    "    print(\"Гипотеза о равенстве распределений отвергается\")\n",
    "else:\n",
    "    print(\"Гипотеза о равенстве распределений не отвергается\")"
   ]
  },
  {
   "cell_type": "markdown",
   "metadata": {},
   "source": [
    "Это график просто для проверяющих"
   ]
  },
  {
   "cell_type": "code",
   "execution_count": 59,
   "metadata": {},
   "outputs": [
    {
     "data": {
      "image/png": "[encoded data removed]",
      "text/plain": [
       "<Figure size 1000x600 with 1 Axes>"
      ]
     },
     "metadata": {},
     "output_type": "display_data"
    }
   ],
   "source": [
    "plt.figure(figsize=(10, 6))\n",
    "\n",
    "sns.histplot(group_with_cardio, color='blue', kde=True, stat=\"density\", label=\"Cardio 0\", alpha=0.6, bins=30)\n",
    "sns.histplot(group_without_cardio, color='red', kde=True, stat=\"density\", label=\"Cardio 1\", alpha=0.6, bins=30)\n",
    "\n",
    "plt.title('Распределение возраста для групп cardio 0 и cardio 1')\n",
    "plt.xlabel('Возраст')\n",
    "plt.ylabel('Плотность вероятности')\n",
    "plt.legend()\n",
    "\n",
    "plt.show()"
   ]
  },
  {
   "cell_type": "markdown",
   "metadata": {},
   "source": [
    "# Вопрос №3\n",
    "\n",
    "Найдите среднее количество полных лет у людей, имеющих заболевания сердца, и у людей, не имеющих заболеваний сердца. Високосный год не учитывайте. Ответ запишите через пробел: среднее количество полных лет у людей с заболеваниями сердца и среднее количество полных лет у людей без заболеваний сердца.\n",
    "\n",
    "Ответ: 54 51"
   ]
  },
  {
   "cell_type": "code",
   "execution_count": 60,
   "metadata": {},
   "outputs": [
    {
     "name": "stdout",
     "output_type": "stream",
     "text": [
      "Среднее значение для людей с кардио round(group_years_with_cardio.mean())=54\n",
      "Среднее значение для людей БЕЗ кардио round(group_years_without_cardio.mean())=51\n"
     ]
    }
   ],
   "source": [
    "group_years_with_cardio = df[df['cardio'] == 1]['age_years']\n",
    "group_years_without_cardio = df[df['cardio'] == 0]['age_years']\n",
    "\n",
    "print(f'Среднее значение для людей с кардио {round(group_years_with_cardio.mean())=}')\n",
    "print(f'Среднее значение для людей БЕЗ кардио {round(group_years_without_cardio.mean())=}')"
   ]
  },
  {
   "cell_type": "markdown",
   "metadata": {},
   "source": [
    "# Проверяется вручуную"
   ]
  },
  {
   "cell_type": "markdown",
   "metadata": {},
   "source": [
    "# Вопрос №4\n",
    "\n",
    "Задание:\n",
    "\n",
    "На основе предоставленных данных сформулируйте и проверьте гипотезы о частоте употребления алкоголя и сигарет среди мужчин и женщин.\n",
    "\n",
    "В ответе укажите:\n",
    "\n",
    "1) Нулевую и альтернативную гипотезы для каждой переменной (алкоголь и курение)\n",
    "2) Код на Python для выполнения анализа\n",
    "3) Укажите, какой непараметрический критерий для проверки гипотез был использован\n",
    "4) Укажите, отверглась ли нулевая гипотеза или нет\n",
    "\n",
    "# Примерный ответ:\n",
    "\n",
    "1) Нулевую и альтернативную гипотезы\n",
    "\n",
    "$H_0$: Мужчины и женщины одинаково часто употребляют алкоголь и курят, т.е. частота потребления алкоголя и курения не зависит от пола\n",
    "\n",
    "$H_1$: Частота потребления алкоголя и курения зависит от пола\n",
    "\n",
    "3) Какой непараметричесеий критерий для проверки гипотез вы использовали?\n",
    "Критерий: chi^2 (Криетрий Пирсона)\n",
    "\n",
    "4) Отверглась или не отверглась нулевая гипотеза?\n",
    "\n",
    "Отвергаем нулевую гипотезу."
   ]
  },
  {
   "cell_type": "markdown",
   "metadata": {},
   "source": [
    "# 2 Код на python"
   ]
  },
  {
   "cell_type": "code",
   "execution_count": null,
   "metadata": {},
   "outputs": [
    {
     "name": "stdout",
     "output_type": "stream",
     "text": [
      "P-value для гипотезы по курению: 0.0\n",
      "Статистика для гипотезы по курению: 8000.974644365797\n",
      "P-value для гипотезы по алкоголю: 0.0\n",
      "Статистика для гипотезы по алкоголю: 2044.4771551228887\n"
     ]
    }
   ],
   "source": [
    "# таблицы сопряженности для проверки гипотезы по курению и алкоголю\n",
    "contingency_smoke = pd.crosstab(df['gender'], df['smoke'])\n",
    "contingency_alco = pd.crosstab(df['gender'], df['alco'])\n",
    "\n",
    "# Проверка гипотезы для курения\n",
    "chi2_smoke, p_smoke, dof_smoke, expected_smoke = chi2_contingency(contingency_smoke)\n",
    "\n",
    "# Проверка гипотезы для алкоголя\n",
    "chi2_alco, p_alco, dof_alco, expected_alco = chi2_contingency(contingency_alco)\n",
    "\n",
    "print(f'P-value для гипотезы по курению: {p_smoke}')\n",
    "print(f'Статистика для гипотезы по курению: {chi2_smoke}')\n",
    "print(f'P-value для гипотезы по алкоголю: {p_alco}')\n",
    "print(f'Статистика для гипотезы по алкоголю: {chi2_alco}')\n"
   ]
  },
  {
   "cell_type": "markdown",
   "metadata": {},
   "source": [
    "# Вопрос №5\n",
    "\n",
    "Используя предоставленные данные, определите, кто больше курит и кто больше пьет: мужчины или женщины. Укажите свой ответ в формате: \"пол;пол\""
   ]
  },
  {
   "cell_type": "markdown",
   "metadata": {},
   "source": [
    "Ответ: мужчины;мужчины"
   ]
  }
 ],
 "metadata": {
  "kernelspec": {
   "display_name": "venv",
   "language": "python",
   "name": "python3"
  },
  "language_info": {
   "codemirror_mode": {
    "name": "ipython",
    "version": 3
   },
   "file_extension": ".py",
   "mimetype": "text/x-python",
   "name": "python",
   "nbconvert_exporter": "python",
   "pygments_lexer": "ipython3",
   "version": "3.12.2"
  }
 },
 "nbformat": 4,
 "nbformat_minor": 2
}
